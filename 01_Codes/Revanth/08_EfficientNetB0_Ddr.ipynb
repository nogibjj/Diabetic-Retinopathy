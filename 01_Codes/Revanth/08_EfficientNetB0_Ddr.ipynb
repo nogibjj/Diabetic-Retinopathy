{
 "cells": [
  {
   "cell_type": "markdown",
   "metadata": {},
   "source": [
    "# EfficientNet-B0"
   ]
  },
  {
   "cell_type": "markdown",
   "metadata": {},
   "source": [
    "To see the performance of the model if we used natural sampling of the test dataset."
   ]
  },
  {
   "cell_type": "markdown",
   "metadata": {},
   "source": [
    "## Setup"
   ]
  },
  {
   "cell_type": "code",
   "execution_count": 1,
   "metadata": {},
   "outputs": [
    {
     "data": {
      "text/html": [
       "<script>Jupyter.notebook.kernel.restart()</script>"
      ]
     },
     "metadata": {},
     "output_type": "display_data"
    }
   ],
   "source": [
    "from IPython.display import display_html\n",
    "\n",
    "\n",
    "def restart_kernel():\n",
    "    display_html(\"<script>Jupyter.notebook.kernel.restart()</script>\", raw=True)\n",
    "\n",
    "\n",
    "restart_kernel()"
   ]
  },
  {
   "cell_type": "markdown",
   "metadata": {},
   "source": [
    "### Packages and Libraries"
   ]
  },
  {
   "cell_type": "code",
   "execution_count": 2,
   "metadata": {},
   "outputs": [
    {
     "name": "stderr",
     "output_type": "stream",
     "text": [
      "2024-04-21 18:09:14.501467: I tensorflow/core/platform/cpu_feature_guard.cc:193] This TensorFlow binary is optimized with oneAPI Deep Neural Network Library (oneDNN) to use the following CPU instructions in performance-critical operations:  AVX2 FMA\n",
      "To enable them in other operations, rebuild TensorFlow with the appropriate compiler flags.\n",
      "2024-04-21 18:09:14.655905: E tensorflow/stream_executor/cuda/cuda_blas.cc:2981] Unable to register cuBLAS factory: Attempting to register factory for plugin cuBLAS when one has already been registered\n",
      "2024-04-21 18:09:15.495025: W tensorflow/stream_executor/platform/default/dso_loader.cc:64] Could not load dynamic library 'libnvinfer.so.7'; dlerror: libnvinfer.so.7: cannot open shared object file: No such file or directory\n",
      "2024-04-21 18:09:15.495166: W tensorflow/stream_executor/platform/default/dso_loader.cc:64] Could not load dynamic library 'libnvinfer_plugin.so.7'; dlerror: libnvinfer_plugin.so.7: cannot open shared object file: No such file or directory\n",
      "2024-04-21 18:09:15.495187: W tensorflow/compiler/tf2tensorrt/utils/py_utils.cc:38] TF-TRT Warning: Cannot dlopen some TensorRT libraries. If you would like to use Nvidia GPU with TensorRT, please make sure the missing libraries mentioned above are installed properly.\n"
     ]
    }
   ],
   "source": [
    "# Basic imports\n",
    "import os\n",
    "import time\n",
    "import sys\n",
    "from IPython.display import clear_output\n",
    "import random\n",
    "import numpy as np\n",
    "\n",
    "import pandas as pd\n",
    "import math\n",
    "\n",
    "\n",
    "# Tensorflow and Keras\n",
    "import tensorflow as tf\n",
    "from tensorflow.keras import models, layers\n",
    "from tensorflow.keras.callbacks import EarlyStopping, ModelCheckpoint\n",
    "from tensorflow.keras.models import Sequential\n",
    "from tensorflow.keras.optimizers import SGD\n",
    "from tensorflow.keras.preprocessing.image import ImageDataGenerator\n",
    "from tensorflow.keras.callbacks import LearningRateScheduler\n",
    "\n",
    "# Image processing and viewing\n",
    "from PIL import Image\n",
    "import cv2\n",
    "from skimage import exposure\n",
    "from scipy.ndimage import gaussian_filter\n",
    "import matplotlib.pyplot as plt\n",
    "\n",
    "# Sklearn\n",
    "from sklearn.model_selection import train_test_split\n",
    "from sklearn.utils.class_weight import compute_class_weight\n",
    "\n",
    "import torch"
   ]
  },
  {
   "cell_type": "markdown",
   "metadata": {},
   "source": [
    "### Configurations"
   ]
  },
  {
   "cell_type": "markdown",
   "metadata": {},
   "source": [
    "### Static Configs\n",
    "Don't have to be changed for each run"
   ]
  },
  {
   "cell_type": "code",
   "execution_count": 3,
   "metadata": {},
   "outputs": [],
   "source": [
    "# Set seeds to ensure reproducibility\n",
    "np.random.seed(42)\n",
    "random.seed(42)\n",
    "tf.random.set_seed(42)\n",
    "\n",
    "torch.manual_seed(42)\n",
    "if torch.cuda.is_available():\n",
    "    torch.cuda.manual_seed(42)\n",
    "    torch.cuda.manual_seed_all(42)  # For multi-GPU setups"
   ]
  },
  {
   "cell_type": "code",
   "execution_count": 4,
   "metadata": {},
   "outputs": [
    {
     "name": "stdout",
     "output_type": "stream",
     "text": [
      "Num GPUs Available: Physical GPUs= 1  | Logical GPUs= 1\n"
     ]
    },
    {
     "name": "stderr",
     "output_type": "stream",
     "text": [
      "2024-04-21 18:09:19.027600: I tensorflow/core/platform/cpu_feature_guard.cc:193] This TensorFlow binary is optimized with oneAPI Deep Neural Network Library (oneDNN) to use the following CPU instructions in performance-critical operations:  AVX2 FMA\n",
      "To enable them in other operations, rebuild TensorFlow with the appropriate compiler flags.\n",
      "2024-04-21 18:09:19.315305: I tensorflow/core/common_runtime/gpu/gpu_device.cc:1616] Created device /job:localhost/replica:0/task:0/device:GPU:0 with 14485 MB memory:  -> device: 0, name: Tesla V100-PCIE-16GB, pci bus id: 0001:00:00.0, compute capability: 7.0\n"
     ]
    }
   ],
   "source": [
    "# Configure GPU memory growth\n",
    "gpus = tf.config.experimental.list_physical_devices(\"GPU\")\n",
    "if gpus:\n",
    "    try:\n",
    "        # Set memory growth before initializing GPUs\n",
    "        for gpu in gpus:\n",
    "            tf.config.experimental.set_memory_growth(gpu, True)\n",
    "        logical_gpus = tf.config.experimental.list_logical_devices(\"GPU\")\n",
    "        print(\n",
    "            \"Num GPUs Available: Physical GPUs=\",\n",
    "            len(gpus),\n",
    "            \" | Logical GPUs=\",\n",
    "            len(logical_gpus),\n",
    "        )\n",
    "    except RuntimeError as e:\n",
    "        # Handle potential errors here\n",
    "        print(e)"
   ]
  },
  {
   "cell_type": "markdown",
   "metadata": {},
   "source": [
    "### Dynamic Configs\n",
    "Change these for each run based on the experiment"
   ]
  },
  {
   "cell_type": "code",
   "execution_count": 5,
   "metadata": {},
   "outputs": [],
   "source": [
    "# Set paths\n",
    "base_data_path = \"../../aws_s3/Ddr/\"  # <-- Add path to the numpy files here\n",
    "output_path = \"output/\"  # <-- Add path to the output folder here"
   ]
  },
  {
   "cell_type": "code",
   "execution_count": 6,
   "metadata": {},
   "outputs": [],
   "source": [
    "# Cross Testing\n",
    "\n",
    "# Decide if we are evaluating only 1 dataset or cross testing with other dataset as well\n",
    "cross_testing = False\n",
    "\n",
    "cross_data_path = \"../../aws_s3/Idrid_224_Raw/\"  # <-- Add path to the numpy files here"
   ]
  },
  {
   "cell_type": "code",
   "execution_count": 7,
   "metadata": {},
   "outputs": [],
   "source": [
    "# Pre-processing steps\n",
    "# Choose if you want to perform each of the following pre-processing steps\n",
    "preprocess_IENR = True\n",
    "preprocess_Crop = True\n",
    "preprocess_CN = True"
   ]
  },
  {
   "cell_type": "code",
   "execution_count": 8,
   "metadata": {},
   "outputs": [],
   "source": [
    "# Augmentation config\n",
    "\n",
    "# decide whether to apply augmentation or not\n",
    "apply_augmentation = False\n",
    "\n",
    "# decide whether to apply brightness augmentation or not\n",
    "aug_br_flag = 1  # 1 = Augment Brightness, anything else = No Brightness Augmentation"
   ]
  },
  {
   "cell_type": "code",
   "execution_count": 9,
   "metadata": {},
   "outputs": [],
   "source": [
    "# decide if we want to do validation or only Train-Test\n",
    "validation_flag = False"
   ]
  },
  {
   "cell_type": "code",
   "execution_count": 10,
   "metadata": {},
   "outputs": [],
   "source": [
    "# Decide if we want to remake the train-test split for the train data and use whole of the cross data\n",
    "reshufle_flag = False"
   ]
  },
  {
   "cell_type": "markdown",
   "metadata": {},
   "source": [
    "## Functions"
   ]
  },
  {
   "cell_type": "code",
   "execution_count": 11,
   "metadata": {},
   "outputs": [],
   "source": [
    "# To display a progress bar\n",
    "def update_progress(progress):\n",
    "    # progress is a float between 0 and 1\n",
    "\n",
    "    bar_length = 20\n",
    "    if isinstance(progress, int):\n",
    "        progress = float(progress)\n",
    "    if not isinstance(progress, float):\n",
    "        progress = 0\n",
    "    if progress < 0:\n",
    "        progress = 0\n",
    "    if progress >= 1:\n",
    "        progress = 1\n",
    "\n",
    "    block = int(round(bar_length * progress))\n",
    "    clear_output(wait=True)\n",
    "    text = \"Progress: [{0}] {1:.1f}%\".format(\n",
    "        \"#\" * block + \"-\" * (bar_length - block), progress * 100\n",
    "    )\n",
    "    print(text)"
   ]
  },
  {
   "cell_type": "code",
   "execution_count": 12,
   "metadata": {},
   "outputs": [],
   "source": [
    "def resize_image(img, desired_size=(224, 224)):\n",
    "    # resizing the image\n",
    "    new_img = img.resize(desired_size)\n",
    "    return new_img"
   ]
  },
  {
   "cell_type": "code",
   "execution_count": 13,
   "metadata": {},
   "outputs": [],
   "source": [
    "# luminosity and noise removal function\n",
    "def luminosity_image(image_path, desired_size=(224, 224)):\n",
    "    # Load the image\n",
    "    image = cv2.imread(image_path)\n",
    "\n",
    "    # Convert to LAB color space\n",
    "    lab = cv2.cvtColor(image, cv2.COLOR_BGR2LAB)\n",
    "    l, a, b = cv2.split(lab)\n",
    "\n",
    "    # Apply CLAHE to L channel\n",
    "    clahe = cv2.createCLAHE(clipLimit=5.0, tileGridSize=(8, 8))\n",
    "    l_eq = clahe.apply(l)\n",
    "\n",
    "    # Merge back LAB channels\n",
    "    lab_eq = cv2.merge((l_eq, a, b))\n",
    "    enhanced_image = cv2.cvtColor(lab_eq, cv2.COLOR_LAB2BGR)\n",
    "\n",
    "    # Image noise removal using Gaussian filter\n",
    "    filtered_image = cv2.GaussianBlur(enhanced_image, (5, 5), 0)\n",
    "\n",
    "    # Convert to PIL image\n",
    "    filtered_image = Image.fromarray(filtered_image)\n",
    "\n",
    "    # Resize the image\n",
    "    filtered_image = filtered_image.resize(desired_size)\n",
    "\n",
    "    # # Save the preprocessed image\n",
    "    # image_name = os.path.basename(image_path)\n",
    "    # output_path = os.path.join(output_dir, image_name)\n",
    "    # cv2.imwrite(output_path, filtered_image)\n",
    "\n",
    "    # converting to numpy array\n",
    "    filtered_image = np.array(filtered_image)\n",
    "\n",
    "    return filtered_image"
   ]
  },
  {
   "cell_type": "code",
   "execution_count": 14,
   "metadata": {},
   "outputs": [],
   "source": [
    "# modified original function to directly take in a numpy array\n",
    "def crop_image(img_np, threshold=15, resize_flag=False, desired_size=(224, 224)):\n",
    "    # img_np = np.array(img)\n",
    "    assert img_np.shape == (224, 224, 3)\n",
    "    x_dim = img_np.shape[0]\n",
    "    y_dim = img_np.shape[1]\n",
    "    pixel_sums = img_np.sum(axis=2)\n",
    "    x_arr = pixel_sums.sum(axis=1)\n",
    "    y_arr = pixel_sums.sum(axis=0)\n",
    "    x_start = np.where(x_arr > threshold * y_dim)[0][0]\n",
    "    x_end = np.where(x_arr > threshold * y_dim)[0][-1]\n",
    "    y_start = np.where(y_arr > threshold * x_dim)[0][0]\n",
    "    y_end = np.where(y_arr > threshold * x_dim)[0][-1]\n",
    "    new_img = img_np[x_start:x_end, y_start:y_end]\n",
    "    new_img = Image.fromarray(new_img)\n",
    "    if resize_flag:\n",
    "        new_img = new_img.resize(desired_size)\n",
    "    # convert to numpy\n",
    "    new_img = np.array(new_img)\n",
    "    return new_img"
   ]
  },
  {
   "cell_type": "code",
   "execution_count": 15,
   "metadata": {},
   "outputs": [],
   "source": [
    "# modified original function to directly take in a numpy array\n",
    "def normalize_image(img_np):\n",
    "    # Convert image to numpy array\n",
    "    # img_np = np.array(img)\n",
    "    assert img_np.shape == (224, 224, 3)\n",
    "    # Calculate mean and standard deviation (std) channel-wise\n",
    "    mean_channels = np.mean(img_np, axis=(0, 1))\n",
    "    std_channels = np.std(img_np, axis=(0, 1))\n",
    "\n",
    "    # Normalize each channel separately\n",
    "    normalized_image = np.zeros_like(img_np, dtype=np.float32)\n",
    "    for channel in range(img_np.shape[2]):\n",
    "        normalized_image[:, :, channel] = (\n",
    "            img_np[:, :, channel] - mean_channels[channel]\n",
    "        ) / std_channels[channel]\n",
    "\n",
    "    # Scale values to be within [0, 255]\n",
    "    normalized_image = (\n",
    "        (normalized_image - np.min(normalized_image))\n",
    "        / (np.max(normalized_image) - np.min(normalized_image))\n",
    "        * 255\n",
    "    )\n",
    "\n",
    "    # Clip and return the normalized image\n",
    "    normalized_image = np.clip(normalized_image, 0, 255)\n",
    "    return normalized_image.astype(np.uint8)"
   ]
  },
  {
   "cell_type": "code",
   "execution_count": 16,
   "metadata": {},
   "outputs": [],
   "source": [
    "## Augemntation Helper Fucntions\n",
    "## image is an np array of the image\n",
    "def rotate_image(image, angle):\n",
    "    height, width = image.shape[:2]\n",
    "    rotation_matrix = cv2.getRotationMatrix2D((width / 2, height / 2), angle, 1)\n",
    "    rotated_image = cv2.warpAffine(image, rotation_matrix, (width, height))\n",
    "    return rotated_image\n",
    "\n",
    "\n",
    "def flip_image(image):\n",
    "    flip_variations = [\n",
    "        (False, False),  # No flip\n",
    "        (True, False),  # Horizontal flip\n",
    "        (False, True),  # Vertical flip\n",
    "        (True, True),  # Both flips\n",
    "    ]\n",
    "\n",
    "    random.shuffle(flip_variations)\n",
    "    augmented_images = []\n",
    "\n",
    "    for flip_horizontal, flip_vertical in flip_variations[:4]:\n",
    "        if flip_horizontal and flip_vertical:\n",
    "            augmented_images.append(cv2.flip(image, -1))  # horizontal and vertical\n",
    "        elif flip_horizontal:\n",
    "            augmented_images.append(cv2.flip(image, 1))  # horizontal\n",
    "        elif flip_vertical:\n",
    "            augmented_images.append(cv2.flip(image, 0))  # vertical\n",
    "        else:\n",
    "            augmented_images.append(image)  # No flip\n",
    "\n",
    "    return augmented_images\n",
    "\n",
    "\n",
    "def shear_image(image, shear_range):\n",
    "    height, width = image.shape[:2]\n",
    "    shear_value = random.uniform(-shear_range, shear_range)\n",
    "\n",
    "    if shear_value < 0:\n",
    "        shear_matrix = np.array([[1, -shear_value, 0], [0, 1, 0]])\n",
    "    else:\n",
    "        shear_matrix = np.array([[1, shear_value, 0], [0, 1, 0]])\n",
    "\n",
    "    sheared_image = cv2.warpAffine(image, shear_matrix, (width, height))\n",
    "    return sheared_image\n",
    "\n",
    "\n",
    "def translate_image(image, translate_range):\n",
    "    height, width = image.shape[:2]\n",
    "\n",
    "    max_shift_x = int(width * 0.1)\n",
    "    max_shift_y = int(height * 0.1)\n",
    "\n",
    "    translate_x = random.randint(-max_shift_x, max_shift_x)\n",
    "    translate_y = random.randint(-max_shift_y, max_shift_y)\n",
    "\n",
    "    translation_matrix = np.array(\n",
    "        [[1, 0, translate_x], [0, 1, translate_y]], dtype=np.float32\n",
    "    )\n",
    "\n",
    "    translated_image = cv2.warpAffine(image, translation_matrix, (width, height))\n",
    "\n",
    "    return translated_image\n",
    "\n",
    "\n",
    "def adjust_brightness(image, brightness_range):\n",
    "    brightness_factor = 1.0 + random.uniform(-brightness_range, brightness_range)\n",
    "    adjusted_image = np.clip(image * brightness_factor, 0.25, 255).astype(np.uint8)\n",
    "    return adjusted_image"
   ]
  },
  {
   "cell_type": "code",
   "execution_count": 17,
   "metadata": {},
   "outputs": [],
   "source": [
    "## image parameter is an np array of an image\n",
    "## flag 1: includes brightness, 0 or any other value exludes it\n",
    "\n",
    "\n",
    "def augmented_fn2(image, flag):\n",
    "    augmented_images = []\n",
    "\n",
    "    for _ in range(4):\n",
    "        angle = random.uniform(-35, 35)\n",
    "        image_r = rotate_image(image, angle)\n",
    "        augmented_images.append(image_r)\n",
    "\n",
    "    image_f = flip_image(image)\n",
    "    augmented_images.extend(image_f)\n",
    "\n",
    "    for _ in range(4):\n",
    "        image_s = shear_image(image, shear_range=0.15)\n",
    "        augmented_images.append(image_s)\n",
    "\n",
    "    for _ in range(4):\n",
    "        image_t = translate_image(image, translate_range=0.1)\n",
    "        augmented_images.append(image_t)\n",
    "\n",
    "    if flag == 1:\n",
    "        for _ in range(4):\n",
    "            image_b = adjust_brightness(image, brightness_range=0.25)\n",
    "            augmented_images.append(image_b)\n",
    "\n",
    "    return np.array(augmented_images)"
   ]
  },
  {
   "cell_type": "code",
   "execution_count": 18,
   "metadata": {},
   "outputs": [],
   "source": [
    "# Function to get the correct image path with extension\n",
    "def get_image_path(base_dir, img_name):\n",
    "    for ext in [\"jpg\", \"png\"]:\n",
    "        if \"jpg\" in img_name or \"png\" in img_name:\n",
    "            temp_path = f\"{base_dir}/{img_name}\"\n",
    "        else:\n",
    "            temp_path = f\"{base_dir}/{img_name}.{ext}\"\n",
    "        if os.path.exists(temp_path):\n",
    "            return temp_path\n",
    "    return None  # Return None if no file is found"
   ]
  },
  {
   "cell_type": "markdown",
   "metadata": {},
   "source": [
    "## Data Preparation"
   ]
  },
  {
   "cell_type": "markdown",
   "metadata": {},
   "source": [
    "### Data Loading"
   ]
  },
  {
   "cell_type": "code",
   "execution_count": 19,
   "metadata": {},
   "outputs": [],
   "source": [
    "# loading the mapping file\n",
    "# Load the dataset\n",
    "data = pd.read_csv(base_data_path + \"train_test_DDR_APTOS.csv\")\n",
    "\n",
    "filtered_data = data[data[\"Data_source\"] == \"DDR\"]\n",
    "# Split the dataset into training and testing sets\n",
    "train_data = filtered_data[filtered_data[\"Split\"] == \"Train\"]\n",
    "test_data = filtered_data[filtered_data[\"Split\"] == \"Test\"]"
   ]
  },
  {
   "cell_type": "code",
   "execution_count": 20,
   "metadata": {},
   "outputs": [
    {
     "name": "stdout",
     "output_type": "stream",
     "text": [
      "Processed 100/10019 images\n",
      "Processed 200/10019 images\n"
     ]
    },
    {
     "name": "stderr",
     "output_type": "stream",
     "text": [
      "Corrupt JPEG data: 34 extraneous bytes before marker 0xd9\n"
     ]
    },
    {
     "name": "stdout",
     "output_type": "stream",
     "text": [
      "Processed 300/10019 images\n",
      "Processed 400/10019 images\n",
      "Processed 500/10019 images\n",
      "Processed 600/10019 images\n",
      "Processed 700/10019 images\n",
      "Processed 800/10019 images\n",
      "Processed 900/10019 images\n",
      "Processed 1000/10019 images\n"
     ]
    },
    {
     "name": "stderr",
     "output_type": "stream",
     "text": [
      "Corrupt JPEG data: 35 extraneous bytes before marker 0xd9\n"
     ]
    },
    {
     "name": "stdout",
     "output_type": "stream",
     "text": [
      "Processed 1100/10019 images\n",
      "Processed 1200/10019 images\n",
      "Processed 1300/10019 images\n",
      "Processed 1400/10019 images\n",
      "Processed 1500/10019 images\n"
     ]
    },
    {
     "name": "stderr",
     "output_type": "stream",
     "text": [
      "Corrupt JPEG data: 38 extraneous bytes before marker 0xd9\n"
     ]
    },
    {
     "name": "stdout",
     "output_type": "stream",
     "text": [
      "Processed 1600/10019 images\n",
      "Processed 1700/10019 images\n",
      "Processed 1800/10019 images\n",
      "Processed 1900/10019 images\n",
      "Processed 2000/10019 images\n",
      "Processed 2100/10019 images\n",
      "Processed 2200/10019 images\n",
      "Processed 2300/10019 images\n",
      "Processed 2400/10019 images\n",
      "Processed 2500/10019 images\n",
      "Processed 2600/10019 images\n",
      "Processed 2700/10019 images\n",
      "Processed 2800/10019 images\n",
      "Processed 2900/10019 images\n",
      "Processed 3000/10019 images\n",
      "Processed 3100/10019 images\n",
      "Processed 3200/10019 images\n",
      "Processed 3300/10019 images\n",
      "Processed 3400/10019 images\n",
      "Processed 3500/10019 images\n",
      "Processed 3600/10019 images\n",
      "Processed 3700/10019 images\n",
      "Processed 3800/10019 images\n",
      "Processed 3900/10019 images\n",
      "Processed 4000/10019 images\n",
      "Processed 4100/10019 images\n",
      "Processed 4200/10019 images\n",
      "Processed 4300/10019 images\n",
      "Processed 4400/10019 images\n",
      "Processed 4500/10019 images\n",
      "Processed 4600/10019 images\n",
      "Processed 4700/10019 images\n",
      "Processed 4800/10019 images\n",
      "Processed 4900/10019 images\n",
      "Processed 5000/10019 images\n",
      "Processed 5100/10019 images\n",
      "Processed 5200/10019 images\n",
      "Processed 5300/10019 images\n",
      "Processed 5400/10019 images\n",
      "Processed 5500/10019 images\n",
      "Processed 5600/10019 images\n",
      "Processed 5700/10019 images\n",
      "Processed 5800/10019 images\n",
      "Processed 5900/10019 images\n",
      "Processed 6000/10019 images\n",
      "Processed 6100/10019 images\n",
      "Processed 6200/10019 images\n",
      "Processed 6300/10019 images\n",
      "Processed 6400/10019 images\n",
      "Processed 6500/10019 images\n",
      "Processed 6600/10019 images\n",
      "Processed 6700/10019 images\n",
      "Processed 6800/10019 images\n",
      "Processed 6900/10019 images\n",
      "Processed 7000/10019 images\n",
      "Processed 7100/10019 images\n",
      "Processed 7200/10019 images\n",
      "Processed 7300/10019 images\n",
      "Processed 7400/10019 images\n",
      "Processed 7500/10019 images\n",
      "Processed 7600/10019 images\n",
      "Processed 7700/10019 images\n",
      "Processed 7800/10019 images\n",
      "Processed 7900/10019 images\n",
      "Processed 8000/10019 images\n",
      "Processed 8100/10019 images\n",
      "Processed 8200/10019 images\n",
      "Processed 8300/10019 images\n",
      "Processed 8400/10019 images\n",
      "Processed 8500/10019 images\n",
      "Processed 8600/10019 images\n",
      "Processed 8700/10019 images\n",
      "Processed 8800/10019 images\n",
      "Processed 8900/10019 images\n",
      "Processed 9000/10019 images\n",
      "Processed 9100/10019 images\n",
      "Processed 9200/10019 images\n",
      "Processed 9300/10019 images\n",
      "Processed 9400/10019 images\n",
      "Processed 9500/10019 images\n",
      "Processed 9600/10019 images\n",
      "Processed 9700/10019 images\n",
      "Processed 9800/10019 images\n",
      "Processed 9900/10019 images\n",
      "Processed 10000/10019 images\n"
     ]
    }
   ],
   "source": [
    "X_train = []\n",
    "y_train = []\n",
    "\n",
    "total_images = len(train_data)\n",
    "ctr = 0\n",
    "# Load and preprocess each image\n",
    "for index, row in train_data.iterrows():\n",
    "    ctr += 1\n",
    "    img_name, label = row[\"Image_ID\"], row[\"Retinopathy_Grade\"]\n",
    "    image_path = get_image_path(\n",
    "        base_data_path + \"/train_new/\", img_name\n",
    "    )  # Dynamically get the correct image path\n",
    "\n",
    "    if image_path is None:\n",
    "        print(f\"Image file for {img_name} not found in JPG or PNG format.\")\n",
    "        continue  # Skip this iteration if the file doesn't exist\n",
    "\n",
    "    # # Change Luminosity and do noise removal for the image\n",
    "    # luminosity_img_path = luminosity_image(image_path, luminosity_output_dir_train)\n",
    "\n",
    "    luminosity_img = luminosity_image(image_path, desired_size=(224, 224))\n",
    "\n",
    "    # Crop and resize the image\n",
    "    # luminosity_img = Image.open(luminosity_img_path)\n",
    "    cropped_resized_img = crop_image(\n",
    "        luminosity_img, resize_flag=True, desired_size=(224, 224)\n",
    "    )\n",
    "\n",
    "    # Normalize the image\n",
    "    normalized_img = normalize_image(cropped_resized_img)\n",
    "\n",
    "    X_train.append(normalized_img)\n",
    "    y_train.append(label)\n",
    "    if ctr % 100 == 0:\n",
    "        print(f\"Processed {ctr}/{total_images} images\")\n",
    "\n",
    "X_train = np.array(X_train)\n",
    "y_train = np.array(y_train)"
   ]
  },
  {
   "cell_type": "code",
   "execution_count": 21,
   "metadata": {},
   "outputs": [
    {
     "name": "stdout",
     "output_type": "stream",
     "text": [
      "Processed 100/2503 images\n",
      "Processed 200/2503 images\n",
      "Processed 300/2503 images\n",
      "Processed 400/2503 images\n",
      "Processed 500/2503 images\n",
      "Processed 600/2503 images\n",
      "Processed 700/2503 images\n",
      "Processed 800/2503 images\n",
      "Processed 900/2503 images\n",
      "Processed 1000/2503 images\n",
      "Processed 1100/2503 images\n",
      "Processed 1200/2503 images\n",
      "Processed 1300/2503 images\n",
      "Processed 1400/2503 images\n",
      "Processed 1500/2503 images\n",
      "Processed 1600/2503 images\n",
      "Processed 1700/2503 images\n",
      "Processed 1800/2503 images\n",
      "Processed 1900/2503 images\n",
      "Processed 2000/2503 images\n",
      "Processed 2100/2503 images\n",
      "Processed 2200/2503 images\n",
      "Processed 2300/2503 images\n",
      "Processed 2400/2503 images\n",
      "Processed 2500/2503 images\n"
     ]
    }
   ],
   "source": [
    "X_test = []\n",
    "y_test = []\n",
    "\n",
    "total_images = len(test_data)\n",
    "ctr = 0\n",
    "# Load and preprocess each image\n",
    "for index, row in test_data.iterrows():\n",
    "    ctr += 1\n",
    "    img_name, label = row[\"Image_ID\"], row[\"Retinopathy_Grade\"]\n",
    "    image_path = get_image_path(\n",
    "        base_data_path + \"/test_new/\", img_name\n",
    "    )  # Dynamically get the correct image path\n",
    "\n",
    "    if image_path is None:\n",
    "        print(f\"Image file for {img_name} not found in JPG or PNG format.\")\n",
    "        continue  # Skip this iteration if the file doesn't exist\n",
    "\n",
    "    # # Change Luminosity and do noise removal for the image\n",
    "    # luminosity_img_path = luminosity_image(image_path, luminosity_output_dir_train)\n",
    "\n",
    "    luminosity_img = luminosity_image(image_path, desired_size=(224, 224))\n",
    "\n",
    "    # Crop and resize the image\n",
    "    # luminosity_img = Image.open(luminosity_img_path)\n",
    "    cropped_resized_img = crop_image(\n",
    "        luminosity_img, resize_flag=True, desired_size=(224, 224)\n",
    "    )\n",
    "\n",
    "    # Normalize the image\n",
    "    normalized_img = normalize_image(cropped_resized_img)\n",
    "\n",
    "    X_test.append(normalized_img)\n",
    "    y_test.append(label)\n",
    "    if ctr % 100 == 0:\n",
    "        print(f\"Processed {ctr}/{total_images} images\")\n",
    "\n",
    "X_test = np.array(X_test)\n",
    "y_test = np.array(y_test)"
   ]
  },
  {
   "cell_type": "markdown",
   "metadata": {},
   "source": [
    "### Data Reshufling\n",
    "To check if the low accuracies in the actual runs are due to the way the test data set was created, we will run the model this time by creating the test dataset in the \"normal\" way."
   ]
  },
  {
   "cell_type": "code",
   "execution_count": 22,
   "metadata": {},
   "outputs": [],
   "source": [
    "if reshufle_flag:\n",
    "    # combining the Datasets\n",
    "    X = np.concatenate((X_train, X_test), axis=0)\n",
    "    y = np.concatenate((y_train, y_test), axis=0)\n",
    "\n",
    "    # Split the data into train and test\n",
    "    X_train, X_test, y_train, y_test = train_test_split(\n",
    "        X, y, test_size=0.2, random_state=42, stratify=y\n",
    "    )"
   ]
  },
  {
   "cell_type": "markdown",
   "metadata": {},
   "source": [
    "### Pre-processing"
   ]
  },
  {
   "cell_type": "code",
   "execution_count": 23,
   "metadata": {},
   "outputs": [],
   "source": [
    "# # IENR\n",
    "# if preprocess_IENR:\n",
    "#     # no need to do anything here as the data should already be IENR one, so well just validate\n",
    "#     assert \"IENR\" in base_data_path\n",
    "#     assert \"IENR\" in cross_data_path"
   ]
  },
  {
   "cell_type": "code",
   "execution_count": 24,
   "metadata": {},
   "outputs": [],
   "source": [
    "# # Crop\n",
    "# if preprocess_Crop:\n",
    "#     # This step is required only if the source data is IENR\n",
    "#     if preprocess_IENR:\n",
    "#         for i in range(X_train.shape[0]):\n",
    "#             X_train[i] = crop_image(\n",
    "#                 X_train[i], threshold=15, resize_flag=True, desired_size=(224, 224)\n",
    "#             )\n",
    "\n",
    "#         for i in range(X_test.shape[0]):\n",
    "#             X_test[i] = crop_image(\n",
    "#                 X_test[i], threshold=15, resize_flag=True, desired_size=(224, 224)\n",
    "#             )\n",
    "\n",
    "#         if cross_testing:\n",
    "#             for i in range(X_cross.shape[0]):\n",
    "#                 X_cross[i] = crop_image(\n",
    "#                     X_cross[i], threshold=15, resize_flag=True, desired_size=(224, 224)\n",
    "#                 )\n",
    "#     else:\n",
    "#         # confirm that the source file is not IENR but crop\n",
    "#         assert \"Crop\" in base_data_path\n",
    "#         assert \"Crop\" in cross_data_path"
   ]
  },
  {
   "cell_type": "code",
   "execution_count": 25,
   "metadata": {},
   "outputs": [],
   "source": [
    "# # CN\n",
    "\n",
    "# # CN is always the last step, so we don't have to check for the source file, we can directly do or not do the operation\n",
    "# if preprocess_CN:\n",
    "#     for i in range(X_train.shape[0]):\n",
    "#         X_train[i] = normalize_image(X_train[i])\n",
    "#     for i in range(X_test.shape[0]):\n",
    "#         X_test[i] = normalize_image(X_test[i])\n",
    "\n",
    "#     if cross_testing:\n",
    "#         for i in range(X_cross.shape[0]):\n",
    "#             X_cross[i] = normalize_image(X_cross[i])"
   ]
  },
  {
   "cell_type": "code",
   "execution_count": 26,
   "metadata": {},
   "outputs": [],
   "source": [
    "# Augmentation\n",
    "if apply_augmentation:\n",
    "    # temporarily store the augmented data\n",
    "    X_train_aug = []\n",
    "    y_train_aug = []\n",
    "\n",
    "    for i in range(len(X_train)):\n",
    "        X_train_aug.extend(augmented_fn2(X_train[i], aug_br_flag))\n",
    "        y_train_aug.extend([y_train[i]] * 20)\n",
    "\n",
    "    X_train = np.array(X_train_aug)\n",
    "    y_train = np.array(y_train_aug)"
   ]
  },
  {
   "cell_type": "markdown",
   "metadata": {},
   "source": [
    "### Validation and Splitting"
   ]
  },
  {
   "cell_type": "code",
   "execution_count": 27,
   "metadata": {},
   "outputs": [
    {
     "name": "stdout",
     "output_type": "stream",
     "text": [
      "Data loaded and augmented successfully, the data shapes are:\n",
      "X_train shape: (10019, 224, 224, 3)\n",
      "y_train shape: (10019,)\n",
      "X_test shape: (2503, 224, 224, 3)\n",
      "y_test shape: (2503,)\n"
     ]
    }
   ],
   "source": [
    "# data validation\n",
    "\n",
    "assert X_train.shape[0] == y_train.shape[0]\n",
    "assert X_test.shape[0] == y_test.shape[0]\n",
    "assert X_train.shape[1:] == X_test.shape[1:]\n",
    "\n",
    "# Dimension check, for EfficientNetB0, the input shape is (224, 224, 3)\n",
    "assert X_train.shape[1:] == (224, 224, 3)\n",
    "\n",
    "# if cross testing is enabled, validate the cross data\n",
    "if cross_testing:\n",
    "    assert X_cross.shape[1:] == (224, 224, 3)\n",
    "    assert X_cross.shape[0] == y_cross.shape[0]\n",
    "\n",
    "print(\"Data loaded and augmented successfully, the data shapes are:\")\n",
    "print(\"X_train shape:\", X_train.shape)\n",
    "print(\"y_train shape:\", y_train.shape)\n",
    "print(\"X_test shape:\", X_test.shape)\n",
    "print(\"y_test shape:\", y_test.shape)\n",
    "if cross_testing:\n",
    "    print(\"X_cross shape:\", X_cross.shape)\n",
    "    print(\"y_cross shape:\", y_cross.shape)"
   ]
  },
  {
   "cell_type": "code",
   "execution_count": 28,
   "metadata": {},
   "outputs": [],
   "source": [
    "# splitting train data into train and validation if validation flag is enabled\n",
    "if validation_flag:\n",
    "    X_train, X_val, y_train, y_val = train_test_split(\n",
    "        X_train, y_train, test_size=0.2, random_state=42\n",
    "    )"
   ]
  },
  {
   "cell_type": "code",
   "execution_count": 29,
   "metadata": {},
   "outputs": [
    {
     "data": {
      "text/plain": [
       "<matplotlib.image.AxesImage at 0x7f92c3a0d390>"
      ]
     },
     "execution_count": 29,
     "metadata": {},
     "output_type": "execute_result"
    },
    {
     "data": {
      "image/png": "[encoded data removed]",
      "text/plain": [
       "<Figure size 640x480 with 1 Axes>"
      ]
     },
     "metadata": {},
     "output_type": "display_data"
    }
   ],
   "source": [
    "plt.imshow(X_train[0])"
   ]
  },
  {
   "cell_type": "markdown",
   "metadata": {},
   "source": [
    "## Model"
   ]
  },
  {
   "cell_type": "markdown",
   "metadata": {},
   "source": [
    "### Model Parameters"
   ]
  },
  {
   "cell_type": "code",
   "execution_count": 30,
   "metadata": {},
   "outputs": [],
   "source": [
    "num_classes = len(np.unique(y_train))\n",
    "epochs = 50\n",
    "batch_size = 32"
   ]
  },
  {
   "cell_type": "code",
   "execution_count": 31,
   "metadata": {},
   "outputs": [
    {
     "name": "stderr",
     "output_type": "stream",
     "text": [
      "2024-04-21 18:17:28.369245: W tensorflow/core/framework/cpu_allocator_impl.cc:82] Allocation of 376771584 exceeds 10% of free system memory.\n",
      "2024-04-21 18:17:28.627518: W tensorflow/core/framework/cpu_allocator_impl.cc:82] Allocation of 376771584 exceeds 10% of free system memory.\n",
      "2024-04-21 18:17:28.784487: W tensorflow/core/framework/cpu_allocator_impl.cc:82] Allocation of 1508140032 exceeds 10% of free system memory.\n",
      "2024-04-21 18:17:29.848435: W tensorflow/core/framework/cpu_allocator_impl.cc:82] Allocation of 1508140032 exceeds 10% of free system memory.\n"
     ]
    }
   ],
   "source": [
    "## converting the data to tf dataset for optimization and deleting the numpy arrays to free up memory\n",
    "if validation_flag:\n",
    "    # Converting validation data to tf data\n",
    "    val_dataset = tf.data.Dataset.from_tensor_slices((X_val, y_val)).batch(batch_size)\n",
    "    # del X_val, y_val\n",
    "\n",
    "# converting test data to tf dataset\n",
    "test_dataset = tf.data.Dataset.from_tensor_slices((X_test, y_test)).batch(batch_size)\n",
    "del (X_test,)  # y_test\n",
    "\n",
    "# Converting trainig Data to tf dataset\n",
    "train_dataset = tf.data.Dataset.from_tensor_slices((X_train, y_train))\n",
    "\n",
    "# Shuffle and batch the dataset\n",
    "train_dataset = train_dataset.shuffle(buffer_size=1024).batch(batch_size)\n",
    "del (X_train,)  # y_train\n",
    "\n",
    "\n",
    "# if cross testing is enabled, convert the cross data to tf dataset\n",
    "if cross_testing:\n",
    "    cross_dataset = tf.data.Dataset.from_tensor_slices((X_cross, y_cross)).batch(\n",
    "        batch_size\n",
    "    )\n",
    "    del X_cross, y_cross"
   ]
  },
  {
   "cell_type": "code",
   "execution_count": 32,
   "metadata": {},
   "outputs": [],
   "source": [
    "base_model = tf.keras.applications.EfficientNetB0(\n",
    "    include_top=False,\n",
    "    weights=\"imagenet\",  # Load weights pre-trained on ImageNet.\n",
    "    # input_tensor=None,\n",
    "    input_shape=(224, 224, 3),\n",
    "    pooling=\"avg\",\n",
    ")"
   ]
  },
  {
   "cell_type": "code",
   "execution_count": 33,
   "metadata": {},
   "outputs": [],
   "source": [
    "base_model.trainable = False"
   ]
  },
  {
   "cell_type": "code",
   "execution_count": 34,
   "metadata": {},
   "outputs": [
    {
     "name": "stdout",
     "output_type": "stream",
     "text": [
      "Model: \"model\"\n",
      "____________________________________________________________________________\n",
      " Layer (type)                Output Shape              Param #   Trainable  \n",
      "============================================================================\n",
      " input_2 (InputLayer)        [(None, 224, 224, 3)]     0         Y          \n",
      "                                                                            \n",
      " efficientnetb0 (Functional)  (None, 1280)             4049571   N          \n",
      "                                                                            \n",
      " dropout (Dropout)           (None, 1280)              0         Y          \n",
      "                                                                            \n",
      " dense (Dense)               (None, 1000)              1281000   Y          \n",
      "                                                                            \n",
      " dropout_1 (Dropout)         (None, 1000)              0         Y          \n",
      "                                                                            \n",
      " dense_1 (Dense)             (None, 500)               500500    Y          \n",
      "                                                                            \n",
      " dense_2 (Dense)             (None, 5)                 2505      Y          \n",
      "                                                                            \n",
      "============================================================================\n",
      "Total params: 5,833,576\n",
      "Trainable params: 1,784,005\n",
      "Non-trainable params: 4,049,571\n",
      "____________________________________________________________________________\n"
     ]
    }
   ],
   "source": [
    "# Define the inputs\n",
    "inputs = tf.keras.Input(shape=(224, 224, 3))\n",
    "\n",
    "# Ensure the base_model is running in inference mode.\n",
    "x = base_model(inputs, training=False)\n",
    "\n",
    "x = layers.Dropout(0.5)(x)  # Dropout layer with 50% dropout rate\n",
    "# Adding FC (Fully Connected) layers\n",
    "x = layers.Dense(1000)(x)\n",
    "x = layers.Dropout(0.5)(x)  # Another Dropout layer with 50% dropout rate\n",
    "# Adding FC (Fully Connected) layers\n",
    "x = layers.Dense(500)(x)\n",
    "\n",
    "# Adding a final layer with SoftMax activation for classification\n",
    "outputs = layers.Dense(num_classes, activation=\"softmax\")(x)\n",
    "\n",
    "# Creating the model\n",
    "model = tf.keras.Model(inputs=inputs, outputs=outputs)\n",
    "\n",
    "model.summary(show_trainable=True)"
   ]
  },
  {
   "cell_type": "code",
   "execution_count": 35,
   "metadata": {},
   "outputs": [],
   "source": [
    "# base learning rate\n",
    "base_learning_rate = 1e-4\n",
    "# maximum learning rate\n",
    "max_learning_rate = 1e-2\n",
    "\n",
    "# Create an instance of SGD optimizer with initial learning rate\n",
    "optimizer = SGD(learning_rate=base_learning_rate, momentum=0.9, clipnorm=1.0)\n",
    "\n",
    "\n",
    "# Function to compute class weights using TensorFlow\n",
    "def compute_class_weights(labels):\n",
    "    # Convert labels to a 1D tensor if not already\n",
    "    labels = tf.reshape(labels, [-1])\n",
    "\n",
    "    # Get unique classes and their indices and counts\n",
    "    unique_classes, _, class_counts = tf.unique_with_counts(labels)\n",
    "\n",
    "    # Compute total number of samples\n",
    "    total_samples = tf.reduce_sum(class_counts)\n",
    "\n",
    "    # Compute class weights as the inverse of the class frequencies\n",
    "    class_weights = total_samples / class_counts\n",
    "\n",
    "    # Create a class weights dictionary mapping class indices to their respective weights\n",
    "    class_weight_dict = dict(zip(unique_classes.numpy(), class_weights.numpy()))\n",
    "\n",
    "    return class_weight_dict\n",
    "\n",
    "\n",
    "class_weight_dict = compute_class_weights(y_train)\n",
    "\n",
    "\n",
    "# Create triangular learning rate scheduler\n",
    "def triangular_schedule(epoch):\n",
    "    \"\"\"Triangular learning rate scheduler.\"\"\"\n",
    "    cycle_length = 10  # Define the length of a cycle\n",
    "    cycle = math.floor(1 + epoch / (2 * cycle_length))\n",
    "    x = abs(epoch / cycle_length - 2 * cycle + 1)\n",
    "    lr = base_learning_rate + (max_learning_rate - base_learning_rate) * max(0, (1 - x))\n",
    "    return lr\n",
    "\n",
    "\n",
    "# When fitting the model, include the learning rate scheduler callback\n",
    "lr_scheduler = LearningRateScheduler(triangular_schedule)"
   ]
  },
  {
   "cell_type": "code",
   "execution_count": 36,
   "metadata": {},
   "outputs": [
    {
     "name": "stdout",
     "output_type": "stream",
     "text": [
      "Num GPUs Available:  1\n"
     ]
    }
   ],
   "source": [
    "print(\"Num GPUs Available: \", len(tf.config.list_physical_devices(\"GPU\")))"
   ]
  },
  {
   "cell_type": "code",
   "execution_count": 37,
   "metadata": {},
   "outputs": [
    {
     "name": "stdout",
     "output_type": "stream",
     "text": [
      "Fitting the top layer of the model\n"
     ]
    },
    {
     "name": "stderr",
     "output_type": "stream",
     "text": [
      "2024-04-21 18:17:34.007730: W tensorflow/core/framework/cpu_allocator_impl.cc:82] Allocation of 1508140032 exceeds 10% of free system memory.\n"
     ]
    },
    {
     "name": "stdout",
     "output_type": "stream",
     "text": [
      "Epoch 1/50\n"
     ]
    },
    {
     "name": "stderr",
     "output_type": "stream",
     "text": [
      "2024-04-21 18:17:40.192620: I tensorflow/stream_executor/cuda/cuda_dnn.cc:384] Loaded cuDNN version 8902\n",
      "2024-04-21 18:17:40.303059: I tensorflow/core/platform/default/subprocess.cc:304] Start cannot spawn child process: No such file or directory\n"
     ]
    },
    {
     "name": "stdout",
     "output_type": "stream",
     "text": [
      "314/314 [==============================] - 13s 23ms/step - loss: 1.4375 - accuracy: 0.4183 - lr: 1.0000e-04\n",
      "Epoch 2/50\n",
      "314/314 [==============================] - 7s 22ms/step - loss: 1.1207 - accuracy: 0.5724 - lr: 0.0011\n",
      "Epoch 3/50\n",
      "314/314 [==============================] - 7s 22ms/step - loss: 0.9859 - accuracy: 0.6179 - lr: 0.0021\n",
      "Epoch 4/50\n",
      "314/314 [==============================] - 7s 22ms/step - loss: 0.9326 - accuracy: 0.6400 - lr: 0.0031\n",
      "Epoch 5/50\n",
      "314/314 [==============================] - 7s 23ms/step - loss: 0.8979 - accuracy: 0.6521 - lr: 0.0041\n",
      "Epoch 6/50\n",
      "314/314 [==============================] - 7s 22ms/step - loss: 0.8912 - accuracy: 0.6537 - lr: 0.0050\n",
      "Epoch 7/50\n",
      "314/314 [==============================] - 7s 22ms/step - loss: 0.8787 - accuracy: 0.6503 - lr: 0.0060\n",
      "Epoch 8/50\n",
      "314/314 [==============================] - 7s 22ms/step - loss: 0.8835 - accuracy: 0.6547 - lr: 0.0070\n",
      "Epoch 9/50\n",
      "314/314 [==============================] - 7s 22ms/step - loss: 0.8768 - accuracy: 0.6590 - lr: 0.0080\n",
      "Epoch 10/50\n",
      "314/314 [==============================] - 7s 22ms/step - loss: 0.8838 - accuracy: 0.6567 - lr: 0.0090\n",
      "Epoch 11/50\n",
      "314/314 [==============================] - 7s 22ms/step - loss: 0.8841 - accuracy: 0.6562 - lr: 0.0100\n",
      "Epoch 12/50\n",
      "314/314 [==============================] - 7s 22ms/step - loss: 0.8662 - accuracy: 0.6604 - lr: 0.0090\n",
      "Epoch 13/50\n",
      "314/314 [==============================] - 7s 22ms/step - loss: 0.8608 - accuracy: 0.6688 - lr: 0.0080\n",
      "Epoch 14/50\n",
      "314/314 [==============================] - 7s 22ms/step - loss: 0.8411 - accuracy: 0.6723 - lr: 0.0070\n",
      "Epoch 15/50\n",
      "314/314 [==============================] - 7s 22ms/step - loss: 0.8352 - accuracy: 0.6752 - lr: 0.0060\n",
      "Epoch 16/50\n",
      "314/314 [==============================] - 7s 22ms/step - loss: 0.8298 - accuracy: 0.6793 - lr: 0.0050\n",
      "Epoch 17/50\n",
      "314/314 [==============================] - 7s 22ms/step - loss: 0.8134 - accuracy: 0.6860 - lr: 0.0041\n",
      "Epoch 18/50\n",
      "314/314 [==============================] - 7s 22ms/step - loss: 0.8047 - accuracy: 0.6868 - lr: 0.0031\n",
      "Epoch 19/50\n",
      "314/314 [==============================] - 7s 22ms/step - loss: 0.8028 - accuracy: 0.6924 - lr: 0.0021\n",
      "Epoch 20/50\n",
      "314/314 [==============================] - 7s 23ms/step - loss: 0.7951 - accuracy: 0.6940 - lr: 0.0011\n",
      "Epoch 21/50\n",
      "314/314 [==============================] - 7s 22ms/step - loss: 0.7824 - accuracy: 0.6966 - lr: 1.0000e-04\n",
      "Epoch 22/50\n",
      "314/314 [==============================] - 7s 22ms/step - loss: 0.7838 - accuracy: 0.6957 - lr: 0.0011\n",
      "Epoch 23/50\n",
      "314/314 [==============================] - 7s 22ms/step - loss: 0.7919 - accuracy: 0.6981 - lr: 0.0021\n",
      "Epoch 24/50\n",
      "314/314 [==============================] - 7s 22ms/step - loss: 0.7986 - accuracy: 0.6905 - lr: 0.0031\n",
      "Epoch 25/50\n",
      "314/314 [==============================] - 7s 22ms/step - loss: 0.8046 - accuracy: 0.6857 - lr: 0.0041\n",
      "Epoch 26/50\n",
      "314/314 [==============================] - 7s 22ms/step - loss: 0.8186 - accuracy: 0.6757 - lr: 0.0050\n",
      "Epoch 27/50\n",
      "314/314 [==============================] - 7s 23ms/step - loss: 0.8189 - accuracy: 0.6812 - lr: 0.0060\n",
      "Epoch 28/50\n",
      "314/314 [==============================] - 7s 22ms/step - loss: 0.8232 - accuracy: 0.6814 - lr: 0.0070\n",
      "Epoch 29/50\n",
      "314/314 [==============================] - 7s 22ms/step - loss: 0.8340 - accuracy: 0.6811 - lr: 0.0080\n",
      "Epoch 30/50\n",
      "314/314 [==============================] - 7s 22ms/step - loss: 0.8375 - accuracy: 0.6728 - lr: 0.0090\n",
      "Epoch 31/50\n",
      "314/314 [==============================] - 7s 22ms/step - loss: 0.8430 - accuracy: 0.6721 - lr: 0.0100\n",
      "Epoch 32/50\n",
      "314/314 [==============================] - 7s 22ms/step - loss: 0.8424 - accuracy: 0.6736 - lr: 0.0090\n",
      "Epoch 33/50\n",
      "314/314 [==============================] - 7s 22ms/step - loss: 0.8296 - accuracy: 0.6788 - lr: 0.0080\n",
      "Epoch 34/50\n",
      "314/314 [==============================] - 7s 22ms/step - loss: 0.8157 - accuracy: 0.6825 - lr: 0.0070\n",
      "Epoch 35/50\n",
      "314/314 [==============================] - 7s 22ms/step - loss: 0.8225 - accuracy: 0.6799 - lr: 0.0060\n",
      "Epoch 36/50\n",
      "314/314 [==============================] - 7s 22ms/step - loss: 0.7997 - accuracy: 0.6900 - lr: 0.0050\n",
      "Epoch 37/50\n",
      "314/314 [==============================] - 7s 22ms/step - loss: 0.7982 - accuracy: 0.6950 - lr: 0.0041\n",
      "Epoch 38/50\n",
      "314/314 [==============================] - 7s 22ms/step - loss: 0.7964 - accuracy: 0.6917 - lr: 0.0031\n",
      "Epoch 39/50\n",
      "314/314 [==============================] - 7s 22ms/step - loss: 0.7795 - accuracy: 0.6951 - lr: 0.0021\n",
      "Epoch 40/50\n",
      "314/314 [==============================] - 7s 22ms/step - loss: 0.7781 - accuracy: 0.6986 - lr: 0.0011\n",
      "Epoch 41/50\n",
      "314/314 [==============================] - 7s 22ms/step - loss: 0.7720 - accuracy: 0.7011 - lr: 1.0000e-04\n",
      "Epoch 42/50\n",
      "314/314 [==============================] - 7s 22ms/step - loss: 0.7753 - accuracy: 0.7034 - lr: 0.0011\n",
      "Epoch 43/50\n",
      "314/314 [==============================] - 7s 22ms/step - loss: 0.7712 - accuracy: 0.7019 - lr: 0.0021\n",
      "Epoch 44/50\n",
      "314/314 [==============================] - 7s 22ms/step - loss: 0.7823 - accuracy: 0.6937 - lr: 0.0031\n",
      "Epoch 45/50\n",
      "314/314 [==============================] - 7s 22ms/step - loss: 0.7941 - accuracy: 0.6884 - lr: 0.0041\n",
      "Epoch 46/50\n",
      "314/314 [==============================] - 7s 22ms/step - loss: 0.7977 - accuracy: 0.6879 - lr: 0.0050\n",
      "Epoch 47/50\n",
      "314/314 [==============================] - 7s 22ms/step - loss: 0.8045 - accuracy: 0.6895 - lr: 0.0060\n",
      "Epoch 48/50\n",
      "314/314 [==============================] - 7s 22ms/step - loss: 0.8081 - accuracy: 0.6902 - lr: 0.0070\n",
      "Epoch 49/50\n",
      "314/314 [==============================] - 7s 22ms/step - loss: 0.8150 - accuracy: 0.6816 - lr: 0.0080\n",
      "Epoch 50/50\n",
      "314/314 [==============================] - 7s 22ms/step - loss: 0.8248 - accuracy: 0.6806 - lr: 0.0090\n"
     ]
    }
   ],
   "source": [
    "model.compile(\n",
    "    optimizer=optimizer, loss=\"sparse_categorical_crossentropy\", metrics=[\"accuracy\"]\n",
    ")\n",
    "\n",
    "print(\"Fitting the top layer of the model\")\n",
    "if validation_flag:\n",
    "    # training the model\n",
    "    history = model.fit(\n",
    "        # X_train_tensor,\n",
    "        # y_train_tensor,\n",
    "        train_dataset,\n",
    "        epochs=epochs,\n",
    "        validation_data=val_dataset,\n",
    "        # class_weight=class_weight_dict,\n",
    "        # batch_size=batch_size,\n",
    "        callbacks=[lr_scheduler],\n",
    "    )\n",
    "else:\n",
    "    history = model.fit(\n",
    "        # X_train_tensor,\n",
    "        # y_train_tensor,\n",
    "        train_dataset,\n",
    "        epochs=epochs,\n",
    "        # class_weight=class_weight_dict,\n",
    "        # batch_size=batch_size,\n",
    "        callbacks=[lr_scheduler],\n",
    "    )"
   ]
  },
  {
   "cell_type": "code",
   "execution_count": 38,
   "metadata": {},
   "outputs": [
    {
     "name": "stdout",
     "output_type": "stream",
     "text": [
      "Model: \"model\"\n",
      "____________________________________________________________________________\n",
      " Layer (type)                Output Shape              Param #   Trainable  \n",
      "============================================================================\n",
      " input_2 (InputLayer)        [(None, 224, 224, 3)]     0         Y          \n",
      "                                                                            \n",
      " efficientnetb0 (Functional)  (None, 1280)             4049571   Y          \n",
      "                                                                            \n",
      " dropout (Dropout)           (None, 1280)              0         Y          \n",
      "                                                                            \n",
      " dense (Dense)               (None, 1000)              1281000   Y          \n",
      "                                                                            \n",
      " dropout_1 (Dropout)         (None, 1000)              0         Y          \n",
      "                                                                            \n",
      " dense_1 (Dense)             (None, 500)               500500    Y          \n",
      "                                                                            \n",
      " dense_2 (Dense)             (None, 5)                 2505      Y          \n",
      "                                                                            \n",
      "============================================================================\n",
      "Total params: 5,833,576\n",
      "Trainable params: 5,791,553\n",
      "Non-trainable params: 42,023\n",
      "____________________________________________________________________________\n",
      "Fitting the end-to-end model\n",
      "Epoch 1/50\n",
      "314/314 [==============================] - 41s 87ms/step - loss: 0.7824 - accuracy: 0.6946 - lr: 1.0000e-04\n",
      "Epoch 2/50\n",
      "314/314 [==============================] - 27s 86ms/step - loss: 0.7593 - accuracy: 0.7084 - lr: 0.0011\n",
      "Epoch 3/50\n",
      "314/314 [==============================] - 27s 86ms/step - loss: 0.7184 - accuracy: 0.7314 - lr: 0.0021\n",
      "Epoch 4/50\n",
      "314/314 [==============================] - 27s 86ms/step - loss: 0.6836 - accuracy: 0.7479 - lr: 0.0031\n",
      "Epoch 5/50\n",
      "314/314 [==============================] - 27s 86ms/step - loss: 0.6259 - accuracy: 0.7742 - lr: 0.0041\n",
      "Epoch 6/50\n",
      "314/314 [==============================] - 27s 86ms/step - loss: 0.5982 - accuracy: 0.7897 - lr: 0.0050\n",
      "Epoch 7/50\n",
      "314/314 [==============================] - 27s 86ms/step - loss: 0.5654 - accuracy: 0.8016 - lr: 0.0060\n",
      "Epoch 8/50\n",
      "314/314 [==============================] - 27s 86ms/step - loss: 0.5585 - accuracy: 0.8030 - lr: 0.0070\n",
      "Epoch 9/50\n",
      "314/314 [==============================] - 27s 86ms/step - loss: 0.5166 - accuracy: 0.8220 - lr: 0.0080\n",
      "Epoch 10/50\n",
      "314/314 [==============================] - 27s 86ms/step - loss: 0.5056 - accuracy: 0.8252 - lr: 0.0090\n",
      "Epoch 11/50\n",
      "314/314 [==============================] - 27s 86ms/step - loss: 0.4927 - accuracy: 0.8279 - lr: 0.0100\n",
      "Epoch 12/50\n",
      "314/314 [==============================] - 27s 86ms/step - loss: 0.4144 - accuracy: 0.8537 - lr: 0.0090\n",
      "Epoch 13/50\n",
      "314/314 [==============================] - 27s 86ms/step - loss: 0.3336 - accuracy: 0.8841 - lr: 0.0080\n",
      "Epoch 14/50\n",
      "314/314 [==============================] - 27s 87ms/step - loss: 0.2688 - accuracy: 0.9068 - lr: 0.0070\n",
      "Epoch 15/50\n",
      "314/314 [==============================] - 27s 87ms/step - loss: 0.2154 - accuracy: 0.9215 - lr: 0.0060\n",
      "Epoch 16/50\n",
      "314/314 [==============================] - 27s 86ms/step - loss: 0.1419 - accuracy: 0.9514 - lr: 0.0050\n",
      "Epoch 17/50\n",
      "314/314 [==============================] - 27s 86ms/step - loss: 0.0903 - accuracy: 0.9679 - lr: 0.0041\n",
      "Epoch 18/50\n",
      "314/314 [==============================] - 27s 86ms/step - loss: 0.0397 - accuracy: 0.9867 - lr: 0.0031\n",
      "Epoch 19/50\n",
      "314/314 [==============================] - 27s 86ms/step - loss: 0.0197 - accuracy: 0.9934 - lr: 0.0021\n",
      "Epoch 20/50\n",
      "314/314 [==============================] - 27s 86ms/step - loss: 0.0078 - accuracy: 0.9977 - lr: 0.0011\n",
      "Epoch 21/50\n",
      "314/314 [==============================] - 27s 86ms/step - loss: 0.0034 - accuracy: 0.9993 - lr: 1.0000e-04\n",
      "Epoch 22/50\n",
      "314/314 [==============================] - 27s 86ms/step - loss: 0.0030 - accuracy: 0.9994 - lr: 0.0011\n",
      "Epoch 23/50\n",
      "314/314 [==============================] - 27s 86ms/step - loss: 0.0041 - accuracy: 0.9993 - lr: 0.0021\n",
      "Epoch 24/50\n",
      "314/314 [==============================] - 27s 86ms/step - loss: 0.0038 - accuracy: 0.9993 - lr: 0.0031\n",
      "Epoch 25/50\n",
      "314/314 [==============================] - 27s 86ms/step - loss: 0.0056 - accuracy: 0.9989 - lr: 0.0041\n",
      "Epoch 26/50\n",
      "314/314 [==============================] - 27s 86ms/step - loss: 0.0398 - accuracy: 0.9871 - lr: 0.0050\n",
      "Epoch 27/50\n",
      "314/314 [==============================] - 27s 86ms/step - loss: 0.1222 - accuracy: 0.9575 - lr: 0.0060\n",
      "Epoch 28/50\n",
      "314/314 [==============================] - 27s 86ms/step - loss: 0.1618 - accuracy: 0.9412 - lr: 0.0070\n",
      "Epoch 29/50\n",
      "314/314 [==============================] - 27s 86ms/step - loss: 0.1819 - accuracy: 0.9372 - lr: 0.0080\n",
      "Epoch 30/50\n",
      "314/314 [==============================] - 27s 86ms/step - loss: 0.1882 - accuracy: 0.9350 - lr: 0.0090\n",
      "Epoch 31/50\n",
      "314/314 [==============================] - 27s 86ms/step - loss: 0.1953 - accuracy: 0.9315 - lr: 0.0100\n",
      "Epoch 32/50\n",
      "314/314 [==============================] - 27s 86ms/step - loss: 0.1669 - accuracy: 0.9394 - lr: 0.0090\n",
      "Epoch 33/50\n",
      "314/314 [==============================] - 27s 86ms/step - loss: 0.1158 - accuracy: 0.9596 - lr: 0.0080\n",
      "Epoch 34/50\n",
      "314/314 [==============================] - 27s 86ms/step - loss: 0.0631 - accuracy: 0.9784 - lr: 0.0070\n",
      "Epoch 35/50\n",
      "314/314 [==============================] - 27s 86ms/step - loss: 0.0377 - accuracy: 0.9869 - lr: 0.0060\n",
      "Epoch 36/50\n",
      "314/314 [==============================] - 27s 86ms/step - loss: 0.0078 - accuracy: 0.9980 - lr: 0.0050\n",
      "Epoch 37/50\n",
      "314/314 [==============================] - 27s 86ms/step - loss: 0.0085 - accuracy: 0.9972 - lr: 0.0041\n",
      "Epoch 38/50\n",
      "314/314 [==============================] - 27s 86ms/step - loss: 0.0016 - accuracy: 0.9995 - lr: 0.0031\n",
      "Epoch 39/50\n",
      "314/314 [==============================] - 27s 86ms/step - loss: 4.7555e-04 - accuracy: 0.9999 - lr: 0.0021\n",
      "Epoch 40/50\n",
      "314/314 [==============================] - 27s 86ms/step - loss: 2.4216e-04 - accuracy: 1.0000 - lr: 0.0011\n",
      "Epoch 41/50\n",
      "314/314 [==============================] - 27s 86ms/step - loss: 2.0974e-04 - accuracy: 1.0000 - lr: 1.0000e-04\n",
      "Epoch 42/50\n",
      "314/314 [==============================] - 27s 86ms/step - loss: 1.7045e-04 - accuracy: 1.0000 - lr: 0.0011\n",
      "Epoch 43/50\n",
      "314/314 [==============================] - 27s 86ms/step - loss: 1.7518e-04 - accuracy: 1.0000 - lr: 0.0021\n",
      "Epoch 44/50\n",
      "314/314 [==============================] - 27s 86ms/step - loss: 1.5701e-04 - accuracy: 1.0000 - lr: 0.0031\n",
      "Epoch 45/50\n",
      "314/314 [==============================] - 27s 86ms/step - loss: 1.8174e-04 - accuracy: 0.9999 - lr: 0.0041\n",
      "Epoch 46/50\n",
      "314/314 [==============================] - 27s 86ms/step - loss: 8.3969e-05 - accuracy: 1.0000 - lr: 0.0050\n",
      "Epoch 47/50\n",
      "314/314 [==============================] - 27s 86ms/step - loss: 2.3111e-04 - accuracy: 0.9999 - lr: 0.0060\n",
      "Epoch 48/50\n",
      "314/314 [==============================] - 27s 86ms/step - loss: 2.9757e-04 - accuracy: 0.9998 - lr: 0.0070\n",
      "Epoch 49/50\n",
      "314/314 [==============================] - 27s 86ms/step - loss: 4.1987e-04 - accuracy: 0.9999 - lr: 0.0080\n",
      "Epoch 50/50\n",
      "314/314 [==============================] - 27s 86ms/step - loss: 1.2887e-04 - accuracy: 1.0000 - lr: 0.0090\n"
     ]
    }
   ],
   "source": [
    "# Unfreeze the base model\n",
    "base_model.trainable = True\n",
    "model.summary(show_trainable=True)\n",
    "\n",
    "# Re-instantiate the optimizer\n",
    "optimizer = SGD(learning_rate=base_learning_rate, momentum=0.9, clipnorm=1.0)\n",
    "\n",
    "model.compile(\n",
    "    optimizer=optimizer, loss=\"sparse_categorical_crossentropy\", metrics=[\"accuracy\"]\n",
    ")\n",
    "\n",
    "print(\"Fitting the end-to-end model\")\n",
    "# Train end-to-end. Stop before overfit\n",
    "if validation_flag:\n",
    "    # training the model\n",
    "    history = model.fit(\n",
    "        # X_train_tensor,\n",
    "        # y_train_tensor,\n",
    "        train_dataset,\n",
    "        epochs=epochs,\n",
    "        validation_data=val_dataset,\n",
    "        # class_weight=class_weight_dict,\n",
    "        # batch_size=batch_size,\n",
    "        callbacks=[lr_scheduler],\n",
    "    )\n",
    "else:\n",
    "    history = model.fit(\n",
    "        # X_train_tensor,\n",
    "        # y_train_tensor,\n",
    "        train_dataset,\n",
    "        epochs=epochs,\n",
    "        # class_weight=class_weight_dict,\n",
    "        # batch_size=batch_size,\n",
    "        callbacks=[lr_scheduler],\n",
    "    )"
   ]
  },
  {
   "cell_type": "code",
   "execution_count": 39,
   "metadata": {},
   "outputs": [
    {
     "name": "stdout",
     "output_type": "stream",
     "text": [
      "79/79 [==============================] - 3s 24ms/step - loss: 1.7214 - accuracy: 0.8138\n"
     ]
    }
   ],
   "source": [
    "# evaluating the model\n",
    "test_loss_self, test_acc_self = model.evaluate(test_dataset)\n",
    "\n",
    "if cross_testing:\n",
    "    test_loss_cross, test_acc_cross = model.evaluate(cross_dataset)"
   ]
  },
  {
   "cell_type": "markdown",
   "metadata": {},
   "source": [
    "## Results\n",
    "Make sure to verify the parameters while checking the results"
   ]
  },
  {
   "cell_type": "code",
   "execution_count": 40,
   "metadata": {},
   "outputs": [
    {
     "name": "stdout",
     "output_type": "stream",
     "text": [
      "Important Parameters:\n",
      "Base Data Path: ../../aws_s3/Ddr/\n",
      "Cross Testing: False\n",
      "Preprocess IENR: True\n",
      "Preprocess Crop: True\n",
      "Preprocess CN: True\n",
      "Augmentation: False\n",
      "Validation: False\n"
     ]
    }
   ],
   "source": [
    "# Printiing the parameters for confirmation\n",
    "print(\"Important Parameters:\")\n",
    "print(\"Base Data Path:\", base_data_path)\n",
    "print(\"Cross Testing:\", cross_testing)\n",
    "if cross_testing:\n",
    "    print(\"Cross Data Path:\", cross_data_path)\n",
    "print(\"Preprocess IENR:\", preprocess_IENR)\n",
    "print(\"Preprocess Crop:\", preprocess_Crop)\n",
    "print(\"Preprocess CN:\", preprocess_CN)\n",
    "print(\"Augmentation:\", apply_augmentation)\n",
    "print(\"Validation:\", validation_flag)"
   ]
  },
  {
   "cell_type": "code",
   "execution_count": 41,
   "metadata": {},
   "outputs": [
    {
     "name": "stdout",
     "output_type": "stream",
     "text": [
      "Test Accuracy self:81.38%\n"
     ]
    }
   ],
   "source": [
    "if cross_testing:\n",
    "    print(\n",
    "        f\"Test Accuracies are: Self: {test_acc_self:.2%} | Cross: {test_acc_cross:.2%} | Difference= {test_acc_self - test_acc_cross:.2%}\"\n",
    "    )\n",
    "else:\n",
    "    print(f\"Test Accuracy self:{test_acc_self:.2%}\")"
   ]
  },
  {
   "cell_type": "markdown",
   "metadata": {},
   "source": [
    "### Experimental Metric\n",
    "We will also evaluate the output as a continuous metric to see if this method of evaluation can capture the change which accuracy metric cannot"
   ]
  },
  {
   "cell_type": "code",
   "execution_count": 42,
   "metadata": {},
   "outputs": [
    {
     "name": "stdout",
     "output_type": "stream",
     "text": [
      "79/79 [==============================] - 3s 19ms/step\n",
      "MSE: 0.56\n"
     ]
    }
   ],
   "source": [
    "# calculating the MSE\n",
    "y_pred = model.predict(test_dataset)\n",
    "y_pred = np.argmax(y_pred, axis=1)\n",
    "y_true = y_test\n",
    "mse = np.mean((y_true - y_pred) ** 2)\n",
    "print(f\"MSE: {mse:.2f}\")"
   ]
  }
 ],
 "metadata": {
  "kernelspec": {
   "display_name": "Python 3",
   "language": "python",
   "name": "python3"
  },
  "language_info": {
   "codemirror_mode": {
    "name": "ipython",
    "version": 3
   },
   "file_extension": ".py",
   "mimetype": "text/x-python",
   "name": "python",
   "nbconvert_exporter": "python",
   "pygments_lexer": "ipython3",
   "version": "3.10.12"
  }
 },
 "nbformat": 4,
 "nbformat_minor": 2
}
