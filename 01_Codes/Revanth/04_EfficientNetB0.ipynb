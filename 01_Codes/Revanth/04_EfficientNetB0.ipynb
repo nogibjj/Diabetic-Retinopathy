{
 "cells": [
  {
   "cell_type": "markdown",
   "metadata": {},
   "source": [
    "# EfficientNet-B0"
   ]
  },
  {
   "cell_type": "markdown",
   "metadata": {},
   "source": [
    "## Setup"
   ]
  },
  {
   "cell_type": "markdown",
   "metadata": {},
   "source": [
    "### Packages and Libraries"
   ]
  },
  {
   "cell_type": "code",
   "execution_count": 1,
   "metadata": {},
   "outputs": [
    {
     "name": "stderr",
     "output_type": "stream",
     "text": [
      "2024-04-14 10:26:10.143527: I tensorflow/core/platform/cpu_feature_guard.cc:193] This TensorFlow binary is optimized with oneAPI Deep Neural Network Library (oneDNN) to use the following CPU instructions in performance-critical operations:  AVX2 FMA\n",
      "To enable them in other operations, rebuild TensorFlow with the appropriate compiler flags.\n",
      "2024-04-14 10:26:10.298978: E tensorflow/stream_executor/cuda/cuda_blas.cc:2981] Unable to register cuBLAS factory: Attempting to register factory for plugin cuBLAS when one has already been registered\n",
      "2024-04-14 10:26:11.085671: W tensorflow/stream_executor/platform/default/dso_loader.cc:64] Could not load dynamic library 'libnvinfer.so.7'; dlerror: libnvinfer.so.7: cannot open shared object file: No such file or directory\n",
      "2024-04-14 10:26:11.085813: W tensorflow/stream_executor/platform/default/dso_loader.cc:64] Could not load dynamic library 'libnvinfer_plugin.so.7'; dlerror: libnvinfer_plugin.so.7: cannot open shared object file: No such file or directory\n",
      "2024-04-14 10:26:11.085834: W tensorflow/compiler/tf2tensorrt/utils/py_utils.cc:38] TF-TRT Warning: Cannot dlopen some TensorRT libraries. If you would like to use Nvidia GPU with TensorRT, please make sure the missing libraries mentioned above are installed properly.\n"
     ]
    }
   ],
   "source": [
    "# Basic imports\n",
    "import os\n",
    "import time\n",
    "import sys\n",
    "from IPython.display import clear_output\n",
    "import random\n",
    "import numpy as np\n",
    "\n",
    "import pandas as pd\n",
    "import math\n",
    "\n",
    "\n",
    "# Tensorflow and Keras\n",
    "import tensorflow as tf\n",
    "from tensorflow.keras import models, layers\n",
    "from tensorflow.keras.callbacks import EarlyStopping, ModelCheckpoint\n",
    "from tensorflow.keras.models import Sequential\n",
    "from tensorflow.keras.optimizers import SGD\n",
    "from tensorflow.keras.preprocessing.image import ImageDataGenerator\n",
    "from tensorflow.keras.callbacks import LearningRateScheduler\n",
    "\n",
    "# Image processing\n",
    "from PIL import Image\n",
    "import cv2\n",
    "from skimage import exposure\n",
    "from scipy.ndimage import gaussian_filter\n",
    "\n",
    "# Sklearn\n",
    "from sklearn.model_selection import train_test_split\n",
    "from sklearn.utils.class_weight import compute_class_weight\n",
    "\n",
    "import torch"
   ]
  },
  {
   "cell_type": "markdown",
   "metadata": {},
   "source": [
    "### Configurations"
   ]
  },
  {
   "cell_type": "code",
   "execution_count": 2,
   "metadata": {},
   "outputs": [],
   "source": [
    "# Set seeds to ensure reproducibility\n",
    "np.random.seed(42)\n",
    "random.seed(42)\n",
    "tf.random.set_seed(42)\n",
    "\n",
    "torch.manual_seed(42)\n",
    "if torch.cuda.is_available():\n",
    "    torch.cuda.manual_seed(42)\n",
    "    torch.cuda.manual_seed_all(42)  # For multi-GPU setups"
   ]
  },
  {
   "cell_type": "code",
   "execution_count": 3,
   "metadata": {},
   "outputs": [],
   "source": [
    "num_classes = 5  # 5 for Ddr, 4 for others"
   ]
  },
  {
   "cell_type": "code",
   "execution_count": 4,
   "metadata": {},
   "outputs": [],
   "source": [
    "# Set paths\n",
    "base_data_path = \"../Tina Codes/\"  # <-- Add path to the numpy files here\n",
    "output_path = \"output/\"  # <-- Add path to the output folder here"
   ]
  },
  {
   "cell_type": "code",
   "execution_count": 5,
   "metadata": {},
   "outputs": [],
   "source": [
    "# Augmentation config\n",
    "\n",
    "# decide whether to apply augmentation or not\n",
    "apply_augmentation = False\n",
    "\n",
    "# decide whether to apply brightness augmentation or not\n",
    "aug_br_flag = 1  # 1 = Augment Brightness, anything else = No Brightness Augmentation"
   ]
  },
  {
   "cell_type": "code",
   "execution_count": 6,
   "metadata": {},
   "outputs": [
    {
     "name": "stdout",
     "output_type": "stream",
     "text": [
      "Num GPUs Available: Physical GPUs= 1  | Logical GPUs= 1\n"
     ]
    },
    {
     "name": "stderr",
     "output_type": "stream",
     "text": [
      "2024-04-14 10:26:14.360616: I tensorflow/core/platform/cpu_feature_guard.cc:193] This TensorFlow binary is optimized with oneAPI Deep Neural Network Library (oneDNN) to use the following CPU instructions in performance-critical operations:  AVX2 FMA\n",
      "To enable them in other operations, rebuild TensorFlow with the appropriate compiler flags.\n",
      "2024-04-14 10:26:14.659101: I tensorflow/core/common_runtime/gpu/gpu_device.cc:1616] Created device /job:localhost/replica:0/task:0/device:GPU:0 with 14791 MB memory:  -> device: 0, name: Tesla V100-PCIE-16GB, pci bus id: 0001:00:00.0, compute capability: 7.0\n"
     ]
    }
   ],
   "source": [
    "# Configure GPU memory growth\n",
    "gpus = tf.config.experimental.list_physical_devices(\"GPU\")\n",
    "if gpus:\n",
    "    try:\n",
    "        # Set memory growth before initializing GPUs\n",
    "        for gpu in gpus:\n",
    "            tf.config.experimental.set_memory_growth(gpu, True)\n",
    "        logical_gpus = tf.config.experimental.list_logical_devices(\"GPU\")\n",
    "        print(\n",
    "            \"Num GPUs Available: Physical GPUs=\",\n",
    "            len(gpus),\n",
    "            \" | Logical GPUs=\",\n",
    "            len(logical_gpus),\n",
    "        )\n",
    "    except RuntimeError as e:\n",
    "        # Handle potential errors here\n",
    "        print(e)"
   ]
  },
  {
   "cell_type": "markdown",
   "metadata": {},
   "source": [
    "## Functions"
   ]
  },
  {
   "cell_type": "code",
   "execution_count": 7,
   "metadata": {},
   "outputs": [],
   "source": [
    "# To display a progress bar\n",
    "def update_progress(progress):\n",
    "    # progress is a float between 0 and 1\n",
    "\n",
    "    bar_length = 20\n",
    "    if isinstance(progress, int):\n",
    "        progress = float(progress)\n",
    "    if not isinstance(progress, float):\n",
    "        progress = 0\n",
    "    if progress < 0:\n",
    "        progress = 0\n",
    "    if progress >= 1:\n",
    "        progress = 1\n",
    "\n",
    "    block = int(round(bar_length * progress))\n",
    "    clear_output(wait=True)\n",
    "    text = \"Progress: [{0}] {1:.1f}%\".format(\n",
    "        \"#\" * block + \"-\" * (bar_length - block), progress * 100\n",
    "    )\n",
    "    print(text)"
   ]
  },
  {
   "cell_type": "code",
   "execution_count": 8,
   "metadata": {},
   "outputs": [],
   "source": [
    "## Augemntation Helper Fucntions\n",
    "## image is an np array of the image\n",
    "def rotate_image(image, angle):\n",
    "    height, width = image.shape[:2]\n",
    "    rotation_matrix = cv2.getRotationMatrix2D((width / 2, height / 2), angle, 1)\n",
    "    rotated_image = cv2.warpAffine(image, rotation_matrix, (width, height))\n",
    "    return rotated_image\n",
    "\n",
    "\n",
    "def flip_image(image):\n",
    "    flip_variations = [\n",
    "        (False, False),  # No flip\n",
    "        (True, False),  # Horizontal flip\n",
    "        (False, True),  # Vertical flip\n",
    "        (True, True),  # Both flips\n",
    "    ]\n",
    "\n",
    "    random.shuffle(flip_variations)\n",
    "    augmented_images = []\n",
    "\n",
    "    for flip_horizontal, flip_vertical in flip_variations[:4]:\n",
    "        if flip_horizontal and flip_vertical:\n",
    "            augmented_images.append(cv2.flip(image, -1))  # horizontal and vertical\n",
    "        elif flip_horizontal:\n",
    "            augmented_images.append(cv2.flip(image, 1))  # horizontal\n",
    "        elif flip_vertical:\n",
    "            augmented_images.append(cv2.flip(image, 0))  # vertical\n",
    "        else:\n",
    "            augmented_images.append(image)  # No flip\n",
    "\n",
    "    return augmented_images\n",
    "\n",
    "\n",
    "def shear_image(image, shear_range):\n",
    "    height, width = image.shape[:2]\n",
    "    shear_value = random.uniform(-shear_range, shear_range)\n",
    "\n",
    "    if shear_value < 0:\n",
    "        shear_matrix = np.array([[1, -shear_value, 0], [0, 1, 0]])\n",
    "    else:\n",
    "        shear_matrix = np.array([[1, shear_value, 0], [0, 1, 0]])\n",
    "\n",
    "    sheared_image = cv2.warpAffine(image, shear_matrix, (width, height))\n",
    "    return sheared_image\n",
    "\n",
    "\n",
    "def translate_image(image, translate_range):\n",
    "    height, width = image.shape[:2]\n",
    "\n",
    "    max_shift_x = int(width * 0.1)\n",
    "    max_shift_y = int(height * 0.1)\n",
    "\n",
    "    translate_x = random.randint(-max_shift_x, max_shift_x)\n",
    "    translate_y = random.randint(-max_shift_y, max_shift_y)\n",
    "\n",
    "    translation_matrix = np.array(\n",
    "        [[1, 0, translate_x], [0, 1, translate_y]], dtype=np.float32\n",
    "    )\n",
    "\n",
    "    translated_image = cv2.warpAffine(image, translation_matrix, (width, height))\n",
    "\n",
    "    return translated_image\n",
    "\n",
    "\n",
    "def adjust_brightness(image, brightness_range):\n",
    "    brightness_factor = 1.0 + random.uniform(-brightness_range, brightness_range)\n",
    "    adjusted_image = np.clip(image * brightness_factor, 0.25, 255).astype(np.uint8)\n",
    "    return adjusted_image"
   ]
  },
  {
   "cell_type": "code",
   "execution_count": 9,
   "metadata": {},
   "outputs": [],
   "source": [
    "## image parameter is an np array of an image\n",
    "## flag 1: includes brightness, 0 or any other value exludes it\n",
    "\n",
    "\n",
    "def augmented_fn2(image, flag):\n",
    "    augmented_images = []\n",
    "\n",
    "    for _ in range(4):\n",
    "        angle = random.uniform(-35, 35)\n",
    "        image_r = rotate_image(image, angle)\n",
    "        augmented_images.append(image_r)\n",
    "\n",
    "    image_f = flip_image(image)\n",
    "    augmented_images.extend(image_f)\n",
    "\n",
    "    for _ in range(4):\n",
    "        image_s = shear_image(image, shear_range=0.15)\n",
    "        augmented_images.append(image_s)\n",
    "\n",
    "    for _ in range(4):\n",
    "        image_t = translate_image(image, translate_range=0.1)\n",
    "        augmented_images.append(image_t)\n",
    "\n",
    "    if flag == 1:\n",
    "        for _ in range(4):\n",
    "            image_b = adjust_brightness(image, brightness_range=0.25)\n",
    "            augmented_images.append(image_b)\n",
    "\n",
    "    return np.array(augmented_images)"
   ]
  },
  {
   "cell_type": "markdown",
   "metadata": {},
   "source": [
    "## Data Preparation"
   ]
  },
  {
   "cell_type": "code",
   "execution_count": 10,
   "metadata": {},
   "outputs": [],
   "source": [
    "# Load the data\n",
    "X_train = np.load(base_data_path + \"X_train.npy\")\n",
    "y_train = np.load(base_data_path + \"y_train.npy\")\n",
    "X_test = np.load(base_data_path + \"X_test.npy\")\n",
    "y_test = np.load(base_data_path + \"y_test.npy\")"
   ]
  },
  {
   "cell_type": "code",
   "execution_count": 11,
   "metadata": {},
   "outputs": [],
   "source": [
    "# Augmentation\n",
    "if apply_augmentation:\n",
    "    # temporarily store the augmented data\n",
    "    X_train_aug = []\n",
    "    y_train_aug = []\n",
    "\n",
    "    for i in range(len(X_train)):\n",
    "        X_train_aug.extend(augmented_fn2(X_train[i], aug_br_flag))\n",
    "        y_train_aug.extend([y_train[i]] * 20)\n",
    "\n",
    "    X_train = np.array(X_train_aug)\n",
    "    y_train = np.array(y_train_aug)"
   ]
  },
  {
   "cell_type": "code",
   "execution_count": 12,
   "metadata": {},
   "outputs": [
    {
     "name": "stdout",
     "output_type": "stream",
     "text": [
      "Data loaded and augmented successfully, the data shapes are:\n",
      "X_train shape: (10019, 224, 224, 3)\n",
      "y_train shape: (10019,)\n",
      "X_test shape: (2503, 224, 224, 3)\n",
      "y_test shape: (2503,)\n"
     ]
    }
   ],
   "source": [
    "# data validation\n",
    "\n",
    "assert X_train.shape[0] == y_train.shape[0]\n",
    "assert X_test.shape[0] == y_test.shape[0]\n",
    "assert X_train.shape[1:] == X_test.shape[1:]\n",
    "\n",
    "# Dimension check, for EfficientNetB0, the input shape is (224, 224, 3)\n",
    "assert X_train.shape[1:] == (224, 224, 3)\n",
    "\n",
    "print(\"Data loaded and augmented successfully, the data shapes are:\")\n",
    "print(\"X_train shape:\", X_train.shape)\n",
    "print(\"y_train shape:\", y_train.shape)\n",
    "print(\"X_test shape:\", X_test.shape)\n",
    "print(\"y_test shape:\", y_test.shape)"
   ]
  },
  {
   "cell_type": "code",
   "execution_count": 13,
   "metadata": {},
   "outputs": [],
   "source": [
    "# splitting train data into train and validation\n",
    "X_train, X_val, y_train, y_val = train_test_split(\n",
    "    X_train, y_train, test_size=0.2, random_state=42\n",
    ")"
   ]
  },
  {
   "cell_type": "code",
   "execution_count": 14,
   "metadata": {},
   "outputs": [],
   "source": [
    "# converting the data to tensor\n",
    "X_train_tensor = torch.tensor(X_train, dtype=torch.float32)\n",
    "y_train_tensor = torch.tensor(y_train, dtype=torch.long)\n",
    "X_val_tensor = torch.tensor(X_val, dtype=torch.float32)\n",
    "y_val_tensor = torch.tensor(y_val, dtype=torch.long)\n",
    "X_test_tensor = torch.tensor(X_test, dtype=torch.float32)\n",
    "y_test_tensor = torch.tensor(y_test, dtype=torch.long)"
   ]
  },
  {
   "cell_type": "markdown",
   "metadata": {},
   "source": [
    "## Model"
   ]
  },
  {
   "cell_type": "code",
   "execution_count": 15,
   "metadata": {},
   "outputs": [],
   "source": [
    "# setting base model\n",
    "base_model = tf.keras.applications.EfficientNetB0(\n",
    "    include_top=False, weights=\"imagenet\", input_shape=(224, 224, 3)\n",
    ")"
   ]
  },
  {
   "cell_type": "code",
   "execution_count": 16,
   "metadata": {},
   "outputs": [],
   "source": [
    "# Freeze the base model\n",
    "base_model.trainable = False"
   ]
  },
  {
   "cell_type": "code",
   "execution_count": 17,
   "metadata": {},
   "outputs": [],
   "source": [
    "# creating a new model on top of the base model\n",
    "model = Sequential(\n",
    "    [\n",
    "        base_model,\n",
    "        layers.GlobalAveragePooling2D(),\n",
    "        layers.Dense(512, activation=\"relu\"),\n",
    "        layers.Dropout(0.5),\n",
    "        layers.Dense(num_classes, activation=\"softmax\"),\n",
    "    ]\n",
    ")"
   ]
  },
  {
   "cell_type": "markdown",
   "metadata": {},
   "source": [
    "### Model Parameters"
   ]
  },
  {
   "cell_type": "code",
   "execution_count": 18,
   "metadata": {},
   "outputs": [],
   "source": [
    "# Model parameters\n",
    "batch_size = 32\n",
    "epochs = 100\n",
    "\n",
    "# learning rate scheduler\n",
    "base_learning_rate = 1e-1\n",
    "max_learning_rate = 1e-2\n",
    "\n",
    "\n",
    "# creating a learning rate scheduler\n",
    "def lr_scheduler(epoch, lr):\n",
    "    if epoch < 15:\n",
    "        return lr\n",
    "    elif epoch < 24:\n",
    "        return lr - 0.01\n",
    "    elif epoch < 74:\n",
    "        return lr\n",
    "    else:\n",
    "        return lr * tf.math.exp(-0.1)\n",
    "\n",
    "\n",
    "# defining the optimizer\n",
    "optimizer = SGD(learning_rate=base_learning_rate)"
   ]
  },
  {
   "cell_type": "code",
   "execution_count": 19,
   "metadata": {},
   "outputs": [
    {
     "name": "stdout",
     "output_type": "stream",
     "text": [
      "Model: \"sequential\"\n",
      "____________________________________________________________________________\n",
      " Layer (type)                Output Shape              Param #   Trainable  \n",
      "============================================================================\n",
      " efficientnetb0 (Functional)  (None, 7, 7, 1280)       4049571   N          \n",
      "                                                                            \n",
      " global_average_pooling2d (G  (None, 1280)             0         Y          \n",
      " lobalAveragePooling2D)                                                     \n",
      "                                                                            \n",
      " dense (Dense)               (None, 512)               655872    Y          \n",
      "                                                                            \n",
      " dropout (Dropout)           (None, 512)               0         Y          \n",
      "                                                                            \n",
      " dense_1 (Dense)             (None, 5)                 2565      Y          \n",
      "                                                                            \n",
      "============================================================================\n",
      "Total params: 4,708,008\n",
      "Trainable params: 658,437\n",
      "Non-trainable params: 4,049,571\n",
      "____________________________________________________________________________\n"
     ]
    }
   ],
   "source": [
    "# compiling the model\n",
    "model.compile(\n",
    "    optimizer=optimizer,\n",
    "    loss=\"sparse_categorical_crossentropy\",\n",
    "    metrics=[\"accuracy\"],\n",
    ")\n",
    "model.summary(show_trainable=True)"
   ]
  },
  {
   "cell_type": "code",
   "execution_count": 20,
   "metadata": {},
   "outputs": [
    {
     "name": "stderr",
     "output_type": "stream",
     "text": [
      "2024-04-14 10:26:20.591518: W tensorflow/core/framework/cpu_allocator_impl.cc:82] Allocation of 4825927680 exceeds 10% of free system memory.\n"
     ]
    }
   ],
   "source": [
    "# Convert array-like data to tf.data.Dataset\n",
    "train_dataset = tf.data.Dataset.from_tensor_slices((X_train_tensor, y_train_tensor))\n",
    "\n",
    "# Shuffle and batch the dataset\n",
    "train_dataset = train_dataset.shuffle(buffer_size=1024).batch(batch_size)\n",
    "\n",
    "# Convert array-like data to tf.data.Dataset\n",
    "val_dataset = tf.data.Dataset.from_tensor_slices((X_val_tensor, y_val_tensor)).batch(\n",
    "    batch_size\n",
    ")\n",
    "\n",
    "# converting test data to tf.data.Dataset\n",
    "test_dataset = tf.data.Dataset.from_tensor_slices((X_test_tensor, y_test_tensor)).batch(\n",
    "    batch_size\n",
    ")"
   ]
  },
  {
   "cell_type": "code",
   "execution_count": 21,
   "metadata": {},
   "outputs": [
    {
     "name": "stderr",
     "output_type": "stream",
     "text": [
      "2024-04-14 10:26:23.867935: W tensorflow/core/framework/cpu_allocator_impl.cc:82] Allocation of 4825927680 exceeds 10% of free system memory.\n"
     ]
    },
    {
     "name": "stdout",
     "output_type": "stream",
     "text": [
      "Epoch 1/100\n"
     ]
    },
    {
     "name": "stderr",
     "output_type": "stream",
     "text": [
      "2024-04-14 10:26:33.326168: I tensorflow/stream_executor/cuda/cuda_dnn.cc:384] Loaded cuDNN version 8902\n",
      "2024-04-14 10:26:33.435980: I tensorflow/core/platform/default/subprocess.cc:304] Start cannot spawn child process: No such file or directory\n"
     ]
    },
    {
     "name": "stdout",
     "output_type": "stream",
     "text": [
      "251/251 [==============================] - 18s 43ms/step - loss: 0.9681 - accuracy: 0.6153 - val_loss: 0.9161 - val_accuracy: 0.6502 - lr: 0.1000\n",
      "Epoch 2/100\n",
      "251/251 [==============================] - 8s 32ms/step - loss: 0.8590 - accuracy: 0.6629 - val_loss: 0.8457 - val_accuracy: 0.6911 - lr: 0.1000\n",
      "Epoch 3/100\n",
      "251/251 [==============================] - 8s 32ms/step - loss: 0.8327 - accuracy: 0.6731 - val_loss: 0.8587 - val_accuracy: 0.6667 - lr: 0.1000\n",
      "Epoch 4/100\n",
      "251/251 [==============================] - 8s 32ms/step - loss: 0.8064 - accuracy: 0.6868 - val_loss: 0.7861 - val_accuracy: 0.6961 - lr: 0.1000\n",
      "Epoch 5/100\n",
      "251/251 [==============================] - 8s 32ms/step - loss: 0.7941 - accuracy: 0.6898 - val_loss: 0.8214 - val_accuracy: 0.7091 - lr: 0.1000\n",
      "Epoch 6/100\n",
      "251/251 [==============================] - 8s 32ms/step - loss: 0.7737 - accuracy: 0.7034 - val_loss: 0.7920 - val_accuracy: 0.7016 - lr: 0.1000\n",
      "Epoch 7/100\n",
      "251/251 [==============================] - 8s 32ms/step - loss: 0.7718 - accuracy: 0.7013 - val_loss: 1.0653 - val_accuracy: 0.5015 - lr: 0.1000\n",
      "Epoch 8/100\n",
      "251/251 [==============================] - 8s 32ms/step - loss: 0.7588 - accuracy: 0.7058 - val_loss: 0.7724 - val_accuracy: 0.6866 - lr: 0.1000\n",
      "Epoch 9/100\n",
      "251/251 [==============================] - 8s 32ms/step - loss: 0.7440 - accuracy: 0.7152 - val_loss: 0.7554 - val_accuracy: 0.7161 - lr: 0.1000\n",
      "Epoch 10/100\n",
      "251/251 [==============================] - 8s 32ms/step - loss: 0.7462 - accuracy: 0.7122 - val_loss: 0.7439 - val_accuracy: 0.7001 - lr: 0.1000\n",
      "Epoch 11/100\n",
      "251/251 [==============================] - 8s 32ms/step - loss: 0.7291 - accuracy: 0.7195 - val_loss: 0.7276 - val_accuracy: 0.7345 - lr: 0.1000\n",
      "Epoch 12/100\n",
      "251/251 [==============================] - 8s 32ms/step - loss: 0.7225 - accuracy: 0.7211 - val_loss: 0.7536 - val_accuracy: 0.7260 - lr: 0.1000\n",
      "Epoch 13/100\n",
      "251/251 [==============================] - 8s 32ms/step - loss: 0.7236 - accuracy: 0.7170 - val_loss: 0.9371 - val_accuracy: 0.6861 - lr: 0.1000\n",
      "Epoch 14/100\n",
      "251/251 [==============================] - 8s 32ms/step - loss: 0.7158 - accuracy: 0.7248 - val_loss: 0.7160 - val_accuracy: 0.7255 - lr: 0.1000\n",
      "Epoch 15/100\n",
      "251/251 [==============================] - 8s 32ms/step - loss: 0.7058 - accuracy: 0.7280 - val_loss: 0.7235 - val_accuracy: 0.7325 - lr: 0.1000\n",
      "Epoch 16/100\n",
      "251/251 [==============================] - 8s 32ms/step - loss: 0.6925 - accuracy: 0.7336 - val_loss: 0.7163 - val_accuracy: 0.7111 - lr: 0.0900\n",
      "Epoch 17/100\n",
      "251/251 [==============================] - 8s 32ms/step - loss: 0.6814 - accuracy: 0.7369 - val_loss: 0.7163 - val_accuracy: 0.7430 - lr: 0.0800\n",
      "Epoch 18/100\n",
      "251/251 [==============================] - 8s 32ms/step - loss: 0.6683 - accuracy: 0.7465 - val_loss: 0.7452 - val_accuracy: 0.7255 - lr: 0.0700\n",
      "Epoch 19/100\n",
      "251/251 [==============================] - 8s 32ms/step - loss: 0.6553 - accuracy: 0.7468 - val_loss: 0.7504 - val_accuracy: 0.6986 - lr: 0.0600\n",
      "Epoch 20/100\n",
      "251/251 [==============================] - 8s 32ms/step - loss: 0.6446 - accuracy: 0.7480 - val_loss: 0.6893 - val_accuracy: 0.7410 - lr: 0.0500\n",
      "Epoch 21/100\n",
      "251/251 [==============================] - 8s 32ms/step - loss: 0.6334 - accuracy: 0.7567 - val_loss: 0.6975 - val_accuracy: 0.7250 - lr: 0.0400\n",
      "Epoch 22/100\n",
      "251/251 [==============================] - 8s 32ms/step - loss: 0.6198 - accuracy: 0.7629 - val_loss: 0.6895 - val_accuracy: 0.7320 - lr: 0.0300\n",
      "Epoch 23/100\n",
      "251/251 [==============================] - 8s 32ms/step - loss: 0.6089 - accuracy: 0.7628 - val_loss: 0.6890 - val_accuracy: 0.7345 - lr: 0.0200\n",
      "Epoch 24/100\n",
      "251/251 [==============================] - 8s 32ms/step - loss: 0.6036 - accuracy: 0.7671 - val_loss: 0.6819 - val_accuracy: 0.7480 - lr: 0.0100\n",
      "Epoch 25/100\n",
      "251/251 [==============================] - 8s 32ms/step - loss: 0.5898 - accuracy: 0.7739 - val_loss: 0.6833 - val_accuracy: 0.7455 - lr: 0.0100\n",
      "Epoch 26/100\n",
      "251/251 [==============================] - 8s 32ms/step - loss: 0.5964 - accuracy: 0.7671 - val_loss: 0.6839 - val_accuracy: 0.7465 - lr: 0.0100\n",
      "Epoch 27/100\n",
      "251/251 [==============================] - 8s 32ms/step - loss: 0.5966 - accuracy: 0.7707 - val_loss: 0.6838 - val_accuracy: 0.7460 - lr: 0.0100\n",
      "Epoch 28/100\n",
      "251/251 [==============================] - 8s 32ms/step - loss: 0.5983 - accuracy: 0.7673 - val_loss: 0.6795 - val_accuracy: 0.7465 - lr: 0.0100\n",
      "Epoch 29/100\n",
      "251/251 [==============================] - 8s 32ms/step - loss: 0.5898 - accuracy: 0.7731 - val_loss: 0.6767 - val_accuracy: 0.7475 - lr: 0.0100\n",
      "Epoch 30/100\n",
      "251/251 [==============================] - 8s 32ms/step - loss: 0.5889 - accuracy: 0.7721 - val_loss: 0.6790 - val_accuracy: 0.7395 - lr: 0.0100\n",
      "Epoch 31/100\n",
      "251/251 [==============================] - 8s 32ms/step - loss: 0.5865 - accuracy: 0.7721 - val_loss: 0.6782 - val_accuracy: 0.7495 - lr: 0.0100\n",
      "Epoch 32/100\n",
      "251/251 [==============================] - 8s 32ms/step - loss: 0.5850 - accuracy: 0.7737 - val_loss: 0.6818 - val_accuracy: 0.7425 - lr: 0.0100\n",
      "Epoch 33/100\n",
      "251/251 [==============================] - 8s 32ms/step - loss: 0.5891 - accuracy: 0.7704 - val_loss: 0.6780 - val_accuracy: 0.7465 - lr: 0.0100\n",
      "Epoch 34/100\n",
      "251/251 [==============================] - 8s 32ms/step - loss: 0.5831 - accuracy: 0.7775 - val_loss: 0.6811 - val_accuracy: 0.7405 - lr: 0.0100\n",
      "Epoch 35/100\n",
      "251/251 [==============================] - 8s 32ms/step - loss: 0.5873 - accuracy: 0.7752 - val_loss: 0.6794 - val_accuracy: 0.7435 - lr: 0.0100\n",
      "Epoch 36/100\n",
      "251/251 [==============================] - 8s 32ms/step - loss: 0.5794 - accuracy: 0.7764 - val_loss: 0.6798 - val_accuracy: 0.7425 - lr: 0.0100\n",
      "Epoch 37/100\n",
      "251/251 [==============================] - 8s 32ms/step - loss: 0.5765 - accuracy: 0.7792 - val_loss: 0.6799 - val_accuracy: 0.7435 - lr: 0.0100\n",
      "Epoch 38/100\n",
      "251/251 [==============================] - 8s 32ms/step - loss: 0.5793 - accuracy: 0.7753 - val_loss: 0.6784 - val_accuracy: 0.7480 - lr: 0.0100\n",
      "Epoch 39/100\n",
      "251/251 [==============================] - 8s 32ms/step - loss: 0.5815 - accuracy: 0.7777 - val_loss: 0.6791 - val_accuracy: 0.7455 - lr: 0.0100\n",
      "Epoch 40/100\n",
      "251/251 [==============================] - 8s 32ms/step - loss: 0.5752 - accuracy: 0.7815 - val_loss: 0.6797 - val_accuracy: 0.7440 - lr: 0.0100\n",
      "Epoch 41/100\n",
      "251/251 [==============================] - 8s 32ms/step - loss: 0.5765 - accuracy: 0.7754 - val_loss: 0.6800 - val_accuracy: 0.7390 - lr: 0.0100\n",
      "Epoch 42/100\n",
      "251/251 [==============================] - 8s 32ms/step - loss: 0.5783 - accuracy: 0.7747 - val_loss: 0.6767 - val_accuracy: 0.7440 - lr: 0.0100\n",
      "Epoch 43/100\n",
      "251/251 [==============================] - 8s 32ms/step - loss: 0.5786 - accuracy: 0.7757 - val_loss: 0.6774 - val_accuracy: 0.7495 - lr: 0.0100\n",
      "Epoch 44/100\n",
      "251/251 [==============================] - 8s 32ms/step - loss: 0.5752 - accuracy: 0.7774 - val_loss: 0.6742 - val_accuracy: 0.7470 - lr: 0.0100\n",
      "Epoch 45/100\n",
      "251/251 [==============================] - 8s 32ms/step - loss: 0.5757 - accuracy: 0.7780 - val_loss: 0.6816 - val_accuracy: 0.7470 - lr: 0.0100\n",
      "Epoch 46/100\n",
      "251/251 [==============================] - 9s 36ms/step - loss: 0.5634 - accuracy: 0.7822 - val_loss: 0.6761 - val_accuracy: 0.7410 - lr: 0.0100\n",
      "Epoch 47/100\n",
      "251/251 [==============================] - 8s 32ms/step - loss: 0.5665 - accuracy: 0.7842 - val_loss: 0.6761 - val_accuracy: 0.7480 - lr: 0.0100\n",
      "Epoch 48/100\n",
      "251/251 [==============================] - 8s 32ms/step - loss: 0.5717 - accuracy: 0.7833 - val_loss: 0.6761 - val_accuracy: 0.7465 - lr: 0.0100\n",
      "Epoch 49/100\n",
      "251/251 [==============================] - 8s 32ms/step - loss: 0.5646 - accuracy: 0.7828 - val_loss: 0.6773 - val_accuracy: 0.7460 - lr: 0.0100\n",
      "Epoch 50/100\n",
      "251/251 [==============================] - 8s 32ms/step - loss: 0.5699 - accuracy: 0.7799 - val_loss: 0.6795 - val_accuracy: 0.7500 - lr: 0.0100\n",
      "Epoch 51/100\n",
      "251/251 [==============================] - 8s 32ms/step - loss: 0.5690 - accuracy: 0.7778 - val_loss: 0.6756 - val_accuracy: 0.7495 - lr: 0.0100\n",
      "Epoch 52/100\n",
      "251/251 [==============================] - 8s 32ms/step - loss: 0.5695 - accuracy: 0.7797 - val_loss: 0.6705 - val_accuracy: 0.7455 - lr: 0.0100\n",
      "Epoch 53/100\n",
      "251/251 [==============================] - 8s 32ms/step - loss: 0.5629 - accuracy: 0.7823 - val_loss: 0.6734 - val_accuracy: 0.7470 - lr: 0.0100\n",
      "Epoch 54/100\n",
      "251/251 [==============================] - 8s 32ms/step - loss: 0.5591 - accuracy: 0.7868 - val_loss: 0.6737 - val_accuracy: 0.7475 - lr: 0.0100\n",
      "Epoch 55/100\n",
      "251/251 [==============================] - 8s 32ms/step - loss: 0.5583 - accuracy: 0.7886 - val_loss: 0.6724 - val_accuracy: 0.7510 - lr: 0.0100\n",
      "Epoch 56/100\n",
      "251/251 [==============================] - 8s 32ms/step - loss: 0.5663 - accuracy: 0.7838 - val_loss: 0.6731 - val_accuracy: 0.7545 - lr: 0.0100\n",
      "Epoch 57/100\n",
      "251/251 [==============================] - 8s 32ms/step - loss: 0.5564 - accuracy: 0.7842 - val_loss: 0.6732 - val_accuracy: 0.7455 - lr: 0.0100\n",
      "Epoch 58/100\n",
      "251/251 [==============================] - 8s 32ms/step - loss: 0.5567 - accuracy: 0.7829 - val_loss: 0.6734 - val_accuracy: 0.7500 - lr: 0.0100\n",
      "Epoch 59/100\n",
      "251/251 [==============================] - 8s 32ms/step - loss: 0.5525 - accuracy: 0.7862 - val_loss: 0.6758 - val_accuracy: 0.7475 - lr: 0.0100\n",
      "Epoch 60/100\n",
      "251/251 [==============================] - 8s 32ms/step - loss: 0.5517 - accuracy: 0.7869 - val_loss: 0.6740 - val_accuracy: 0.7485 - lr: 0.0100\n",
      "Epoch 61/100\n",
      "251/251 [==============================] - 8s 32ms/step - loss: 0.5498 - accuracy: 0.7899 - val_loss: 0.6710 - val_accuracy: 0.7475 - lr: 0.0100\n",
      "Epoch 62/100\n",
      "251/251 [==============================] - 8s 32ms/step - loss: 0.5476 - accuracy: 0.7910 - val_loss: 0.6772 - val_accuracy: 0.7520 - lr: 0.0100\n",
      "Epoch 63/100\n",
      "251/251 [==============================] - 8s 32ms/step - loss: 0.5489 - accuracy: 0.7847 - val_loss: 0.6760 - val_accuracy: 0.7465 - lr: 0.0100\n",
      "Epoch 64/100\n",
      "251/251 [==============================] - 8s 32ms/step - loss: 0.5483 - accuracy: 0.7920 - val_loss: 0.6730 - val_accuracy: 0.7540 - lr: 0.0100\n",
      "Epoch 65/100\n",
      "251/251 [==============================] - 8s 32ms/step - loss: 0.5448 - accuracy: 0.7895 - val_loss: 0.6762 - val_accuracy: 0.7460 - lr: 0.0100\n",
      "Epoch 66/100\n",
      "251/251 [==============================] - 8s 32ms/step - loss: 0.5473 - accuracy: 0.7928 - val_loss: 0.6734 - val_accuracy: 0.7495 - lr: 0.0100\n",
      "Epoch 67/100\n",
      "251/251 [==============================] - 8s 32ms/step - loss: 0.5513 - accuracy: 0.7842 - val_loss: 0.6706 - val_accuracy: 0.7490 - lr: 0.0100\n",
      "Epoch 68/100\n",
      "251/251 [==============================] - 8s 32ms/step - loss: 0.5437 - accuracy: 0.7895 - val_loss: 0.6706 - val_accuracy: 0.7505 - lr: 0.0100\n",
      "Epoch 69/100\n",
      "251/251 [==============================] - 8s 32ms/step - loss: 0.5398 - accuracy: 0.7913 - val_loss: 0.6722 - val_accuracy: 0.7460 - lr: 0.0100\n",
      "Epoch 70/100\n",
      "251/251 [==============================] - 8s 32ms/step - loss: 0.5384 - accuracy: 0.7929 - val_loss: 0.6712 - val_accuracy: 0.7510 - lr: 0.0100\n",
      "Epoch 71/100\n",
      "251/251 [==============================] - 8s 32ms/step - loss: 0.5410 - accuracy: 0.7941 - val_loss: 0.6759 - val_accuracy: 0.7475 - lr: 0.0100\n",
      "Epoch 72/100\n",
      "251/251 [==============================] - 8s 32ms/step - loss: 0.5380 - accuracy: 0.7934 - val_loss: 0.6713 - val_accuracy: 0.7475 - lr: 0.0100\n",
      "Epoch 73/100\n",
      "251/251 [==============================] - 8s 32ms/step - loss: 0.5362 - accuracy: 0.7950 - val_loss: 0.6788 - val_accuracy: 0.7505 - lr: 0.0100\n",
      "Epoch 74/100\n",
      "251/251 [==============================] - 8s 32ms/step - loss: 0.5369 - accuracy: 0.7968 - val_loss: 0.6786 - val_accuracy: 0.7510 - lr: 0.0100\n",
      "Epoch 75/100\n",
      "251/251 [==============================] - 8s 32ms/step - loss: 0.5300 - accuracy: 0.7963 - val_loss: 0.6738 - val_accuracy: 0.7500 - lr: 0.0090\n",
      "Epoch 76/100\n",
      "251/251 [==============================] - 8s 32ms/step - loss: 0.5368 - accuracy: 0.7930 - val_loss: 0.6720 - val_accuracy: 0.7490 - lr: 0.0082\n",
      "Epoch 77/100\n",
      "251/251 [==============================] - 8s 32ms/step - loss: 0.5310 - accuracy: 0.7961 - val_loss: 0.6708 - val_accuracy: 0.7515 - lr: 0.0074\n",
      "Epoch 78/100\n",
      "251/251 [==============================] - 8s 32ms/step - loss: 0.5277 - accuracy: 0.7971 - val_loss: 0.6704 - val_accuracy: 0.7505 - lr: 0.0067\n",
      "Epoch 79/100\n",
      "251/251 [==============================] - 8s 32ms/step - loss: 0.5278 - accuracy: 0.7983 - val_loss: 0.6712 - val_accuracy: 0.7510 - lr: 0.0061\n",
      "Epoch 80/100\n",
      "251/251 [==============================] - 8s 32ms/step - loss: 0.5305 - accuracy: 0.7980 - val_loss: 0.6691 - val_accuracy: 0.7455 - lr: 0.0055\n",
      "Epoch 81/100\n",
      "251/251 [==============================] - 8s 32ms/step - loss: 0.5206 - accuracy: 0.8001 - val_loss: 0.6721 - val_accuracy: 0.7535 - lr: 0.0050\n",
      "Epoch 82/100\n",
      "251/251 [==============================] - 8s 32ms/step - loss: 0.5297 - accuracy: 0.7931 - val_loss: 0.6690 - val_accuracy: 0.7480 - lr: 0.0045\n",
      "Epoch 83/100\n",
      "251/251 [==============================] - 8s 32ms/step - loss: 0.5202 - accuracy: 0.7996 - val_loss: 0.6722 - val_accuracy: 0.7500 - lr: 0.0041\n",
      "Epoch 84/100\n",
      "251/251 [==============================] - 8s 32ms/step - loss: 0.5237 - accuracy: 0.7971 - val_loss: 0.6710 - val_accuracy: 0.7495 - lr: 0.0037\n",
      "Epoch 85/100\n",
      "251/251 [==============================] - 8s 32ms/step - loss: 0.5176 - accuracy: 0.8027 - val_loss: 0.6707 - val_accuracy: 0.7515 - lr: 0.0033\n",
      "Epoch 86/100\n",
      "251/251 [==============================] - 8s 33ms/step - loss: 0.5161 - accuracy: 0.8017 - val_loss: 0.6699 - val_accuracy: 0.7500 - lr: 0.0030\n",
      "Epoch 87/100\n",
      "251/251 [==============================] - 8s 33ms/step - loss: 0.5171 - accuracy: 0.8020 - val_loss: 0.6708 - val_accuracy: 0.7525 - lr: 0.0027\n",
      "Epoch 88/100\n",
      "251/251 [==============================] - 8s 33ms/step - loss: 0.5142 - accuracy: 0.8057 - val_loss: 0.6705 - val_accuracy: 0.7510 - lr: 0.0025\n",
      "Epoch 89/100\n",
      "251/251 [==============================] - 8s 33ms/step - loss: 0.5129 - accuracy: 0.8030 - val_loss: 0.6719 - val_accuracy: 0.7515 - lr: 0.0022\n",
      "Epoch 90/100\n",
      "251/251 [==============================] - 8s 33ms/step - loss: 0.5193 - accuracy: 0.7960 - val_loss: 0.6722 - val_accuracy: 0.7505 - lr: 0.0020\n",
      "Epoch 91/100\n",
      "251/251 [==============================] - 8s 33ms/step - loss: 0.5140 - accuracy: 0.8022 - val_loss: 0.6704 - val_accuracy: 0.7525 - lr: 0.0018\n",
      "Epoch 92/100\n",
      "251/251 [==============================] - 8s 33ms/step - loss: 0.5136 - accuracy: 0.8035 - val_loss: 0.6708 - val_accuracy: 0.7530 - lr: 0.0017\n",
      "Epoch 93/100\n",
      "251/251 [==============================] - 8s 33ms/step - loss: 0.5096 - accuracy: 0.8065 - val_loss: 0.6707 - val_accuracy: 0.7530 - lr: 0.0015\n",
      "Epoch 94/100\n",
      "251/251 [==============================] - 8s 33ms/step - loss: 0.5135 - accuracy: 0.8035 - val_loss: 0.6702 - val_accuracy: 0.7505 - lr: 0.0014\n",
      "Epoch 95/100\n",
      "251/251 [==============================] - 8s 33ms/step - loss: 0.5118 - accuracy: 0.8030 - val_loss: 0.6699 - val_accuracy: 0.7515 - lr: 0.0012\n",
      "Epoch 96/100\n",
      "251/251 [==============================] - 8s 33ms/step - loss: 0.5109 - accuracy: 0.8045 - val_loss: 0.6689 - val_accuracy: 0.7510 - lr: 0.0011\n",
      "Epoch 97/100\n",
      "251/251 [==============================] - 8s 33ms/step - loss: 0.5131 - accuracy: 0.8005 - val_loss: 0.6696 - val_accuracy: 0.7520 - lr: 0.0010\n",
      "Epoch 98/100\n",
      "251/251 [==============================] - 8s 33ms/step - loss: 0.5142 - accuracy: 0.8046 - val_loss: 0.6688 - val_accuracy: 0.7515 - lr: 9.0718e-04\n",
      "Epoch 99/100\n",
      "251/251 [==============================] - 9s 37ms/step - loss: 0.5130 - accuracy: 0.7993 - val_loss: 0.6691 - val_accuracy: 0.7510 - lr: 8.2085e-04\n",
      "Epoch 100/100\n",
      "251/251 [==============================] - 8s 32ms/step - loss: 0.5048 - accuracy: 0.8079 - val_loss: 0.6703 - val_accuracy: 0.7530 - lr: 7.4273e-04\n"
     ]
    }
   ],
   "source": [
    "# callbacks\n",
    "early_stopping = EarlyStopping(\n",
    "    restore_best_weights=True,  # monitor=\"val_loss\", patience=10,\n",
    ")\n",
    "\n",
    "# training the model\n",
    "history = model.fit(\n",
    "    # X_train_tensor,\n",
    "    # y_train_tensor,\n",
    "    train_dataset,\n",
    "    epochs=epochs,\n",
    "    validation_data=val_dataset,\n",
    "    # batch_size=batch_size,\n",
    "    callbacks=[LearningRateScheduler(lr_scheduler)],\n",
    ")"
   ]
  },
  {
   "cell_type": "code",
   "execution_count": 22,
   "metadata": {},
   "outputs": [
    {
     "name": "stdout",
     "output_type": "stream",
     "text": [
      "79/79 [==============================] - 3s 28ms/step - loss: 0.6526 - accuracy: 0.7579\n",
      "Test accuracy:75.79%\n"
     ]
    }
   ],
   "source": [
    "# evaluating the model\n",
    "test_loss, test_acc = model.evaluate(test_dataset)\n",
    "print(f\"Test accuracy:{test_acc:.2%}\")"
   ]
  }
 ],
 "metadata": {
  "kernelspec": {
   "display_name": "Python 3",
   "language": "python",
   "name": "python3"
  },
  "language_info": {
   "codemirror_mode": {
    "name": "ipython",
    "version": 3
   },
   "file_extension": ".py",
   "mimetype": "text/x-python",
   "name": "python",
   "nbconvert_exporter": "python",
   "pygments_lexer": "ipython3",
   "version": "3.10.12"
  }
 },
 "nbformat": 4,
 "nbformat_minor": 2
}
