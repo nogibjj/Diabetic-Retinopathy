{
 "cells": [
  {
   "cell_type": "markdown",
   "metadata": {},
   "source": [
    "# EfficientNet-B0"
   ]
  },
  {
   "cell_type": "markdown",
   "metadata": {},
   "source": [
    "## Setup"
   ]
  },
  {
   "cell_type": "markdown",
   "metadata": {},
   "source": [
    "### Packages and Libraries"
   ]
  },
  {
   "cell_type": "code",
   "execution_count": 1,
   "metadata": {},
   "outputs": [
    {
     "name": "stderr",
     "output_type": "stream",
     "text": [
      "2024-04-14 20:13:38.335670: I tensorflow/core/platform/cpu_feature_guard.cc:193] This TensorFlow binary is optimized with oneAPI Deep Neural Network Library (oneDNN) to use the following CPU instructions in performance-critical operations:  AVX2 FMA\n",
      "To enable them in other operations, rebuild TensorFlow with the appropriate compiler flags.\n",
      "2024-04-14 20:13:38.516326: E tensorflow/stream_executor/cuda/cuda_blas.cc:2981] Unable to register cuBLAS factory: Attempting to register factory for plugin cuBLAS when one has already been registered\n",
      "2024-04-14 20:13:39.351717: W tensorflow/stream_executor/platform/default/dso_loader.cc:64] Could not load dynamic library 'libnvinfer.so.7'; dlerror: libnvinfer.so.7: cannot open shared object file: No such file or directory\n",
      "2024-04-14 20:13:39.351858: W tensorflow/stream_executor/platform/default/dso_loader.cc:64] Could not load dynamic library 'libnvinfer_plugin.so.7'; dlerror: libnvinfer_plugin.so.7: cannot open shared object file: No such file or directory\n",
      "2024-04-14 20:13:39.351878: W tensorflow/compiler/tf2tensorrt/utils/py_utils.cc:38] TF-TRT Warning: Cannot dlopen some TensorRT libraries. If you would like to use Nvidia GPU with TensorRT, please make sure the missing libraries mentioned above are installed properly.\n"
     ]
    }
   ],
   "source": [
    "# Basic imports\n",
    "import os\n",
    "import time\n",
    "import sys\n",
    "from IPython.display import clear_output\n",
    "import random\n",
    "import numpy as np\n",
    "\n",
    "import pandas as pd\n",
    "import math\n",
    "\n",
    "\n",
    "# Tensorflow and Keras\n",
    "import tensorflow as tf\n",
    "from tensorflow.keras import models, layers\n",
    "from tensorflow.keras.callbacks import EarlyStopping, ModelCheckpoint\n",
    "from tensorflow.keras.models import Sequential\n",
    "from tensorflow.keras.optimizers import SGD\n",
    "from tensorflow.keras.preprocessing.image import ImageDataGenerator\n",
    "from tensorflow.keras.callbacks import LearningRateScheduler\n",
    "\n",
    "# Image processing\n",
    "from PIL import Image\n",
    "import cv2\n",
    "from skimage import exposure\n",
    "from scipy.ndimage import gaussian_filter\n",
    "\n",
    "# Sklearn\n",
    "from sklearn.model_selection import train_test_split\n",
    "from sklearn.utils.class_weight import compute_class_weight\n",
    "\n",
    "import torch"
   ]
  },
  {
   "cell_type": "markdown",
   "metadata": {},
   "source": [
    "### Configurations"
   ]
  },
  {
   "cell_type": "code",
   "execution_count": 2,
   "metadata": {},
   "outputs": [],
   "source": [
    "# Set seeds to ensure reproducibility\n",
    "np.random.seed(42)\n",
    "random.seed(42)\n",
    "tf.random.set_seed(42)\n",
    "\n",
    "torch.manual_seed(42)\n",
    "if torch.cuda.is_available():\n",
    "    torch.cuda.manual_seed(42)\n",
    "    torch.cuda.manual_seed_all(42)  # For multi-GPU setups"
   ]
  },
  {
   "cell_type": "code",
   "execution_count": 3,
   "metadata": {},
   "outputs": [],
   "source": [
    "# Set paths\n",
    "base_data_path = \"../../aws_s3/messidor_224/\"  # <-- Add path to the numpy files here\n",
    "output_path = \"output/\"  # <-- Add path to the output folder here"
   ]
  },
  {
   "cell_type": "code",
   "execution_count": 4,
   "metadata": {},
   "outputs": [],
   "source": [
    "# decide if we want to do validation or only Train-Test\n",
    "validation_flag = False"
   ]
  },
  {
   "cell_type": "code",
   "execution_count": 5,
   "metadata": {},
   "outputs": [],
   "source": [
    "# Augmentation config\n",
    "\n",
    "# decide whether to apply augmentation or not\n",
    "apply_augmentation = False\n",
    "\n",
    "# decide whether to apply brightness augmentation or not\n",
    "aug_br_flag = 1  # 1 = Augment Brightness, anything else = No Brightness Augmentation"
   ]
  },
  {
   "cell_type": "code",
   "execution_count": 6,
   "metadata": {},
   "outputs": [],
   "source": [
    "# Cross Testing\n",
    "\n",
    "# Decide if we are evaluating only 1 dataset or cross testing with other dataset as well\n",
    "cross_testing = False\n",
    "\n",
    "cross_data_path = (\n",
    "    \"../../aws_s3/messidor_224_Crop/\"  # <-- Add path to the numpy files here\n",
    ")"
   ]
  },
  {
   "cell_type": "code",
   "execution_count": 7,
   "metadata": {},
   "outputs": [
    {
     "name": "stdout",
     "output_type": "stream",
     "text": [
      "Num GPUs Available: Physical GPUs= 1  | Logical GPUs= 1\n"
     ]
    },
    {
     "name": "stderr",
     "output_type": "stream",
     "text": [
      "2024-04-14 20:13:42.912126: I tensorflow/core/platform/cpu_feature_guard.cc:193] This TensorFlow binary is optimized with oneAPI Deep Neural Network Library (oneDNN) to use the following CPU instructions in performance-critical operations:  AVX2 FMA\n",
      "To enable them in other operations, rebuild TensorFlow with the appropriate compiler flags.\n",
      "2024-04-14 20:13:43.279290: I tensorflow/core/common_runtime/gpu/gpu_device.cc:1616] Created device /job:localhost/replica:0/task:0/device:GPU:0 with 12321 MB memory:  -> device: 0, name: Tesla V100-PCIE-16GB, pci bus id: 0001:00:00.0, compute capability: 7.0\n"
     ]
    }
   ],
   "source": [
    "# Configure GPU memory growth\n",
    "gpus = tf.config.experimental.list_physical_devices(\"GPU\")\n",
    "if gpus:\n",
    "    try:\n",
    "        # Set memory growth before initializing GPUs\n",
    "        for gpu in gpus:\n",
    "            tf.config.experimental.set_memory_growth(gpu, True)\n",
    "        logical_gpus = tf.config.experimental.list_logical_devices(\"GPU\")\n",
    "        print(\n",
    "            \"Num GPUs Available: Physical GPUs=\",\n",
    "            len(gpus),\n",
    "            \" | Logical GPUs=\",\n",
    "            len(logical_gpus),\n",
    "        )\n",
    "    except RuntimeError as e:\n",
    "        # Handle potential errors here\n",
    "        print(e)"
   ]
  },
  {
   "cell_type": "markdown",
   "metadata": {},
   "source": [
    "## Functions"
   ]
  },
  {
   "cell_type": "code",
   "execution_count": 8,
   "metadata": {},
   "outputs": [],
   "source": [
    "# To display a progress bar\n",
    "def update_progress(progress):\n",
    "    # progress is a float between 0 and 1\n",
    "\n",
    "    bar_length = 20\n",
    "    if isinstance(progress, int):\n",
    "        progress = float(progress)\n",
    "    if not isinstance(progress, float):\n",
    "        progress = 0\n",
    "    if progress < 0:\n",
    "        progress = 0\n",
    "    if progress >= 1:\n",
    "        progress = 1\n",
    "\n",
    "    block = int(round(bar_length * progress))\n",
    "    clear_output(wait=True)\n",
    "    text = \"Progress: [{0}] {1:.1f}%\".format(\n",
    "        \"#\" * block + \"-\" * (bar_length - block), progress * 100\n",
    "    )\n",
    "    print(text)"
   ]
  },
  {
   "cell_type": "code",
   "execution_count": 9,
   "metadata": {},
   "outputs": [],
   "source": [
    "## Augemntation Helper Fucntions\n",
    "## image is an np array of the image\n",
    "def rotate_image(image, angle):\n",
    "    height, width = image.shape[:2]\n",
    "    rotation_matrix = cv2.getRotationMatrix2D((width / 2, height / 2), angle, 1)\n",
    "    rotated_image = cv2.warpAffine(image, rotation_matrix, (width, height))\n",
    "    return rotated_image\n",
    "\n",
    "\n",
    "def flip_image(image):\n",
    "    flip_variations = [\n",
    "        (False, False),  # No flip\n",
    "        (True, False),  # Horizontal flip\n",
    "        (False, True),  # Vertical flip\n",
    "        (True, True),  # Both flips\n",
    "    ]\n",
    "\n",
    "    random.shuffle(flip_variations)\n",
    "    augmented_images = []\n",
    "\n",
    "    for flip_horizontal, flip_vertical in flip_variations[:4]:\n",
    "        if flip_horizontal and flip_vertical:\n",
    "            augmented_images.append(cv2.flip(image, -1))  # horizontal and vertical\n",
    "        elif flip_horizontal:\n",
    "            augmented_images.append(cv2.flip(image, 1))  # horizontal\n",
    "        elif flip_vertical:\n",
    "            augmented_images.append(cv2.flip(image, 0))  # vertical\n",
    "        else:\n",
    "            augmented_images.append(image)  # No flip\n",
    "\n",
    "    return augmented_images\n",
    "\n",
    "\n",
    "def shear_image(image, shear_range):\n",
    "    height, width = image.shape[:2]\n",
    "    shear_value = random.uniform(-shear_range, shear_range)\n",
    "\n",
    "    if shear_value < 0:\n",
    "        shear_matrix = np.array([[1, -shear_value, 0], [0, 1, 0]])\n",
    "    else:\n",
    "        shear_matrix = np.array([[1, shear_value, 0], [0, 1, 0]])\n",
    "\n",
    "    sheared_image = cv2.warpAffine(image, shear_matrix, (width, height))\n",
    "    return sheared_image\n",
    "\n",
    "\n",
    "def translate_image(image, translate_range):\n",
    "    height, width = image.shape[:2]\n",
    "\n",
    "    max_shift_x = int(width * 0.1)\n",
    "    max_shift_y = int(height * 0.1)\n",
    "\n",
    "    translate_x = random.randint(-max_shift_x, max_shift_x)\n",
    "    translate_y = random.randint(-max_shift_y, max_shift_y)\n",
    "\n",
    "    translation_matrix = np.array(\n",
    "        [[1, 0, translate_x], [0, 1, translate_y]], dtype=np.float32\n",
    "    )\n",
    "\n",
    "    translated_image = cv2.warpAffine(image, translation_matrix, (width, height))\n",
    "\n",
    "    return translated_image\n",
    "\n",
    "\n",
    "def adjust_brightness(image, brightness_range):\n",
    "    brightness_factor = 1.0 + random.uniform(-brightness_range, brightness_range)\n",
    "    adjusted_image = np.clip(image * brightness_factor, 0.25, 255).astype(np.uint8)\n",
    "    return adjusted_image"
   ]
  },
  {
   "cell_type": "code",
   "execution_count": 10,
   "metadata": {},
   "outputs": [],
   "source": [
    "## image parameter is an np array of an image\n",
    "## flag 1: includes brightness, 0 or any other value exludes it\n",
    "\n",
    "\n",
    "def augmented_fn2(image, flag):\n",
    "    augmented_images = []\n",
    "\n",
    "    for _ in range(4):\n",
    "        angle = random.uniform(-35, 35)\n",
    "        image_r = rotate_image(image, angle)\n",
    "        augmented_images.append(image_r)\n",
    "\n",
    "    image_f = flip_image(image)\n",
    "    augmented_images.extend(image_f)\n",
    "\n",
    "    for _ in range(4):\n",
    "        image_s = shear_image(image, shear_range=0.15)\n",
    "        augmented_images.append(image_s)\n",
    "\n",
    "    for _ in range(4):\n",
    "        image_t = translate_image(image, translate_range=0.1)\n",
    "        augmented_images.append(image_t)\n",
    "\n",
    "    if flag == 1:\n",
    "        for _ in range(4):\n",
    "            image_b = adjust_brightness(image, brightness_range=0.25)\n",
    "            augmented_images.append(image_b)\n",
    "\n",
    "    return np.array(augmented_images)"
   ]
  },
  {
   "cell_type": "markdown",
   "metadata": {},
   "source": [
    "## Data Preparation"
   ]
  },
  {
   "cell_type": "code",
   "execution_count": 11,
   "metadata": {},
   "outputs": [],
   "source": [
    "# Load the base data\n",
    "X_train = np.load(base_data_path + \"X_train.npy\")\n",
    "y_train = np.load(base_data_path + \"y_train.npy\")\n",
    "X_test = np.load(base_data_path + \"X_test.npy\")\n",
    "y_test = np.load(base_data_path + \"y_test.npy\")"
   ]
  },
  {
   "cell_type": "code",
   "execution_count": 12,
   "metadata": {},
   "outputs": [],
   "source": [
    "# load the cross data if cross testing is enabled\n",
    "if cross_testing:\n",
    "    X_cross = np.load(cross_data_path + \"X_test.npy\")\n",
    "    y_cross = np.load(cross_data_path + \"y_test.npy\")"
   ]
  },
  {
   "cell_type": "code",
   "execution_count": 13,
   "metadata": {},
   "outputs": [],
   "source": [
    "# Augmentation\n",
    "if apply_augmentation:\n",
    "    # temporarily store the augmented data\n",
    "    X_train_aug = []\n",
    "    y_train_aug = []\n",
    "\n",
    "    for i in range(len(X_train)):\n",
    "        X_train_aug.extend(augmented_fn2(X_train[i], aug_br_flag))\n",
    "        y_train_aug.extend([y_train[i]] * 20)\n",
    "\n",
    "    X_train = np.array(X_train_aug)\n",
    "    y_train = np.array(y_train_aug)"
   ]
  },
  {
   "cell_type": "code",
   "execution_count": 14,
   "metadata": {},
   "outputs": [
    {
     "name": "stdout",
     "output_type": "stream",
     "text": [
      "Data loaded and augmented successfully, the data shapes are:\n",
      "X_train shape: (1163, 224, 224, 3)\n",
      "y_train shape: (1163,)\n",
      "X_test shape: (24, 224, 224, 3)\n",
      "y_test shape: (24,)\n"
     ]
    }
   ],
   "source": [
    "# data validation\n",
    "\n",
    "assert X_train.shape[0] == y_train.shape[0]\n",
    "assert X_test.shape[0] == y_test.shape[0]\n",
    "assert X_train.shape[1:] == X_test.shape[1:]\n",
    "\n",
    "# Dimension check, for EfficientNetB0, the input shape is (224, 224, 3)\n",
    "assert X_train.shape[1:] == (224, 224, 3)\n",
    "\n",
    "# if cross testing is enabled, validate the cross data\n",
    "if cross_testing:\n",
    "    assert X_cross.shape[1:] == (224, 224, 3)\n",
    "    assert X_cross.shape[0] == y_cross.shape[0]\n",
    "\n",
    "print(\"Data loaded and augmented successfully, the data shapes are:\")\n",
    "print(\"X_train shape:\", X_train.shape)\n",
    "print(\"y_train shape:\", y_train.shape)\n",
    "print(\"X_test shape:\", X_test.shape)\n",
    "print(\"y_test shape:\", y_test.shape)\n",
    "if cross_testing:\n",
    "    print(\"X_cross shape:\", X_cross.shape)\n",
    "    print(\"y_cross shape:\", y_cross.shape)"
   ]
  },
  {
   "cell_type": "code",
   "execution_count": 15,
   "metadata": {},
   "outputs": [],
   "source": [
    "# splitting train data into train and validation if validation flag is enabled\n",
    "if validation_flag:\n",
    "    X_train, X_val, y_train, y_val = train_test_split(\n",
    "        X_train, y_train, test_size=0.2, random_state=42\n",
    "    )"
   ]
  },
  {
   "cell_type": "code",
   "execution_count": 16,
   "metadata": {},
   "outputs": [],
   "source": [
    "# # converting the data to tensor\n",
    "# X_train_tensor = torch.tensor(X_train, dtype=torch.float32)\n",
    "# y_train_tensor = torch.tensor(y_train, dtype=torch.long)\n",
    "# X_val_tensor = torch.tensor(X_val, dtype=torch.float32)\n",
    "# y_val_tensor = torch.tensor(y_val, dtype=torch.long)\n",
    "# X_test_tensor = torch.tensor(X_test, dtype=torch.float32)\n",
    "# y_test_tensor = torch.tensor(y_test, dtype=torch.long)"
   ]
  },
  {
   "cell_type": "markdown",
   "metadata": {},
   "source": [
    "## Model"
   ]
  },
  {
   "cell_type": "code",
   "execution_count": 17,
   "metadata": {},
   "outputs": [],
   "source": [
    "# setting base model\n",
    "base_model = tf.keras.applications.EfficientNetB0(\n",
    "    include_top=False, weights=\"imagenet\", input_shape=(224, 224, 3)\n",
    ")"
   ]
  },
  {
   "cell_type": "code",
   "execution_count": 18,
   "metadata": {},
   "outputs": [],
   "source": [
    "# Freeze the base model\n",
    "base_model.trainable = False"
   ]
  },
  {
   "cell_type": "code",
   "execution_count": 19,
   "metadata": {},
   "outputs": [],
   "source": [
    "# creating a new model on top of the base model\n",
    "\n",
    "# dynamically get number of classes from the unique values in y_train\n",
    "num_classes = len(np.unique(y_train))\n",
    "\n",
    "model = Sequential(\n",
    "    [\n",
    "        base_model,\n",
    "        layers.GlobalAveragePooling2D(),\n",
    "        layers.Dense(512, activation=\"relu\"),\n",
    "        layers.Dropout(0.5),\n",
    "        layers.Dense(num_classes, activation=\"softmax\"),\n",
    "    ]\n",
    ")"
   ]
  },
  {
   "cell_type": "markdown",
   "metadata": {},
   "source": [
    "### Model Parameters"
   ]
  },
  {
   "cell_type": "code",
   "execution_count": 20,
   "metadata": {},
   "outputs": [],
   "source": [
    "# Model parameters\n",
    "batch_size = 32\n",
    "epochs = 60\n",
    "\n",
    "# learning rate scheduler\n",
    "base_learning_rate = 1e-1\n",
    "max_learning_rate = 1e-2\n",
    "\n",
    "\n",
    "# creating a learning rate scheduler\n",
    "def lr_scheduler(epoch, lr):\n",
    "    if epoch < 15:\n",
    "        return lr\n",
    "    elif epoch < 24:\n",
    "        return lr - 0.01\n",
    "    elif epoch < 35:\n",
    "        return lr\n",
    "    else:\n",
    "        return lr * tf.math.exp(-0.1)\n",
    "\n",
    "\n",
    "# defining the optimizer\n",
    "optimizer = SGD(learning_rate=base_learning_rate)"
   ]
  },
  {
   "cell_type": "code",
   "execution_count": 21,
   "metadata": {},
   "outputs": [
    {
     "name": "stdout",
     "output_type": "stream",
     "text": [
      "Model: \"sequential\"\n",
      "____________________________________________________________________________\n",
      " Layer (type)                Output Shape              Param #   Trainable  \n",
      "============================================================================\n",
      " efficientnetb0 (Functional)  (None, 7, 7, 1280)       4049571   N          \n",
      "                                                                            \n",
      " global_average_pooling2d (G  (None, 1280)             0         Y          \n",
      " lobalAveragePooling2D)                                                     \n",
      "                                                                            \n",
      " dense (Dense)               (None, 512)               655872    Y          \n",
      "                                                                            \n",
      " dropout (Dropout)           (None, 512)               0         Y          \n",
      "                                                                            \n",
      " dense_1 (Dense)             (None, 4)                 2052      Y          \n",
      "                                                                            \n",
      "============================================================================\n",
      "Total params: 4,707,495\n",
      "Trainable params: 657,924\n",
      "Non-trainable params: 4,049,571\n",
      "____________________________________________________________________________\n"
     ]
    }
   ],
   "source": [
    "# compiling the model\n",
    "model.compile(\n",
    "    optimizer=optimizer,\n",
    "    loss=\"sparse_categorical_crossentropy\",\n",
    "    metrics=[\"accuracy\"],\n",
    ")\n",
    "model.summary(show_trainable=True)"
   ]
  },
  {
   "cell_type": "code",
   "execution_count": 22,
   "metadata": {},
   "outputs": [],
   "source": [
    "## converting the data to tf dataset for optimization and deleting the numpy arrays to free up memory\n",
    "\n",
    "if validation_flag:\n",
    "    # Converting validation data to tf data\n",
    "    val_dataset = tf.data.Dataset.from_tensor_slices((X_val, y_val)).batch(batch_size)\n",
    "    # del X_val, y_val\n",
    "\n",
    "# converting test data to tf dataset\n",
    "test_dataset = tf.data.Dataset.from_tensor_slices((X_test, y_test)).batch(batch_size)\n",
    "del X_test, y_test\n",
    "\n",
    "# Converting trainig Data to tf dataset\n",
    "train_dataset = tf.data.Dataset.from_tensor_slices((X_train, y_train))\n",
    "\n",
    "# Shuffle and batch the dataset\n",
    "train_dataset = train_dataset.shuffle(buffer_size=1024).batch(batch_size)\n",
    "del X_train, y_train\n",
    "\n",
    "\n",
    "# if cross testing is enabled, convert the cross data to tf dataset\n",
    "if cross_testing:\n",
    "    cross_dataset = tf.data.Dataset.from_tensor_slices((X_cross, y_cross)).batch(\n",
    "        batch_size\n",
    "    )\n",
    "    del X_cross, y_cross"
   ]
  },
  {
   "cell_type": "code",
   "execution_count": 23,
   "metadata": {},
   "outputs": [
    {
     "name": "stdout",
     "output_type": "stream",
     "text": [
      "Epoch 1/60\n"
     ]
    },
    {
     "name": "stderr",
     "output_type": "stream",
     "text": [
      "2024-04-14 20:13:53.192783: I tensorflow/stream_executor/cuda/cuda_dnn.cc:384] Loaded cuDNN version 8902\n",
      "2024-04-14 20:13:53.311461: I tensorflow/core/platform/default/subprocess.cc:304] Start cannot spawn child process: No such file or directory\n"
     ]
    },
    {
     "name": "stdout",
     "output_type": "stream",
     "text": [
      "37/37 [==============================] - 8s 28ms/step - loss: 1.3415 - accuracy: 0.4437 - lr: 0.1000\n",
      "Epoch 2/60\n",
      "37/37 [==============================] - 1s 22ms/step - loss: 1.1903 - accuracy: 0.5185 - lr: 0.1000\n",
      "Epoch 3/60\n",
      "37/37 [==============================] - 1s 22ms/step - loss: 1.1555 - accuracy: 0.5322 - lr: 0.1000\n",
      "Epoch 4/60\n",
      "37/37 [==============================] - 1s 22ms/step - loss: 1.1329 - accuracy: 0.5340 - lr: 0.1000\n",
      "Epoch 5/60\n",
      "37/37 [==============================] - 1s 22ms/step - loss: 1.1226 - accuracy: 0.5322 - lr: 0.1000\n",
      "Epoch 6/60\n",
      "37/37 [==============================] - 1s 22ms/step - loss: 1.1342 - accuracy: 0.5279 - lr: 0.1000\n",
      "Epoch 7/60\n",
      "37/37 [==============================] - 1s 22ms/step - loss: 1.0802 - accuracy: 0.5563 - lr: 0.1000\n",
      "Epoch 8/60\n",
      "37/37 [==============================] - 1s 22ms/step - loss: 1.0826 - accuracy: 0.5469 - lr: 0.1000\n",
      "Epoch 9/60\n",
      "37/37 [==============================] - 1s 22ms/step - loss: 1.0866 - accuracy: 0.5649 - lr: 0.1000\n",
      "Epoch 10/60\n",
      "37/37 [==============================] - 1s 22ms/step - loss: 1.0810 - accuracy: 0.5555 - lr: 0.1000\n",
      "Epoch 11/60\n",
      "37/37 [==============================] - 1s 22ms/step - loss: 1.0516 - accuracy: 0.5641 - lr: 0.1000\n",
      "Epoch 12/60\n",
      "37/37 [==============================] - 1s 22ms/step - loss: 1.0450 - accuracy: 0.5701 - lr: 0.1000\n",
      "Epoch 13/60\n",
      "37/37 [==============================] - 1s 22ms/step - loss: 1.0473 - accuracy: 0.5744 - lr: 0.1000\n",
      "Epoch 14/60\n",
      "37/37 [==============================] - 1s 22ms/step - loss: 1.0455 - accuracy: 0.5770 - lr: 0.1000\n",
      "Epoch 15/60\n",
      "37/37 [==============================] - 1s 22ms/step - loss: 1.0431 - accuracy: 0.5787 - lr: 0.1000\n",
      "Epoch 16/60\n",
      "37/37 [==============================] - 1s 22ms/step - loss: 0.9990 - accuracy: 0.6028 - lr: 0.0900\n",
      "Epoch 17/60\n",
      "37/37 [==============================] - 1s 22ms/step - loss: 1.0106 - accuracy: 0.5959 - lr: 0.0800\n",
      "Epoch 18/60\n",
      "37/37 [==============================] - 1s 22ms/step - loss: 0.9850 - accuracy: 0.6062 - lr: 0.0700\n",
      "Epoch 19/60\n",
      "37/37 [==============================] - 1s 23ms/step - loss: 0.9693 - accuracy: 0.6053 - lr: 0.0600\n",
      "Epoch 20/60\n",
      "37/37 [==============================] - 1s 22ms/step - loss: 0.9456 - accuracy: 0.6131 - lr: 0.0500\n",
      "Epoch 21/60\n",
      "37/37 [==============================] - 1s 22ms/step - loss: 0.9492 - accuracy: 0.6182 - lr: 0.0400\n",
      "Epoch 22/60\n",
      "37/37 [==============================] - 1s 22ms/step - loss: 0.9262 - accuracy: 0.6397 - lr: 0.0300\n",
      "Epoch 23/60\n",
      "37/37 [==============================] - 1s 23ms/step - loss: 0.9310 - accuracy: 0.6182 - lr: 0.0200\n",
      "Epoch 24/60\n",
      "37/37 [==============================] - 1s 22ms/step - loss: 0.9105 - accuracy: 0.6354 - lr: 0.0100\n",
      "Epoch 25/60\n",
      "37/37 [==============================] - 1s 22ms/step - loss: 0.9182 - accuracy: 0.6423 - lr: 0.0100\n",
      "Epoch 26/60\n",
      "37/37 [==============================] - 1s 22ms/step - loss: 0.9123 - accuracy: 0.6285 - lr: 0.0100\n",
      "Epoch 27/60\n",
      "37/37 [==============================] - 1s 22ms/step - loss: 0.9101 - accuracy: 0.6354 - lr: 0.0100\n",
      "Epoch 28/60\n",
      "37/37 [==============================] - 1s 22ms/step - loss: 0.9050 - accuracy: 0.6320 - lr: 0.0100\n",
      "Epoch 29/60\n",
      "37/37 [==============================] - 1s 22ms/step - loss: 0.8942 - accuracy: 0.6311 - lr: 0.0100\n",
      "Epoch 30/60\n",
      "37/37 [==============================] - 1s 22ms/step - loss: 0.9038 - accuracy: 0.6346 - lr: 0.0100\n",
      "Epoch 31/60\n",
      "37/37 [==============================] - 1s 22ms/step - loss: 0.9089 - accuracy: 0.6285 - lr: 0.0100\n",
      "Epoch 32/60\n",
      "37/37 [==============================] - 1s 22ms/step - loss: 0.8943 - accuracy: 0.6475 - lr: 0.0100\n",
      "Epoch 33/60\n",
      "37/37 [==============================] - 1s 22ms/step - loss: 0.8985 - accuracy: 0.6389 - lr: 0.0100\n",
      "Epoch 34/60\n",
      "37/37 [==============================] - 1s 22ms/step - loss: 0.9075 - accuracy: 0.6320 - lr: 0.0100\n",
      "Epoch 35/60\n",
      "37/37 [==============================] - 1s 22ms/step - loss: 0.8811 - accuracy: 0.6690 - lr: 0.0100\n",
      "Epoch 36/60\n",
      "37/37 [==============================] - 1s 22ms/step - loss: 0.8850 - accuracy: 0.6535 - lr: 0.0090\n",
      "Epoch 37/60\n",
      "37/37 [==============================] - 1s 22ms/step - loss: 0.9003 - accuracy: 0.6380 - lr: 0.0082\n",
      "Epoch 38/60\n",
      "37/37 [==============================] - 1s 22ms/step - loss: 0.8865 - accuracy: 0.6483 - lr: 0.0074\n",
      "Epoch 39/60\n",
      "37/37 [==============================] - 1s 22ms/step - loss: 0.8798 - accuracy: 0.6535 - lr: 0.0067\n",
      "Epoch 40/60\n",
      "37/37 [==============================] - 1s 22ms/step - loss: 0.8928 - accuracy: 0.6500 - lr: 0.0061\n",
      "Epoch 41/60\n",
      "37/37 [==============================] - 1s 22ms/step - loss: 0.8829 - accuracy: 0.6483 - lr: 0.0055\n",
      "Epoch 42/60\n",
      "37/37 [==============================] - 1s 22ms/step - loss: 0.8911 - accuracy: 0.6423 - lr: 0.0050\n",
      "Epoch 43/60\n",
      "37/37 [==============================] - 1s 22ms/step - loss: 0.8830 - accuracy: 0.6432 - lr: 0.0045\n",
      "Epoch 44/60\n",
      "37/37 [==============================] - 1s 22ms/step - loss: 0.8802 - accuracy: 0.6500 - lr: 0.0041\n",
      "Epoch 45/60\n",
      "37/37 [==============================] - 1s 22ms/step - loss: 0.8780 - accuracy: 0.6432 - lr: 0.0037\n",
      "Epoch 46/60\n",
      "37/37 [==============================] - 1s 22ms/step - loss: 0.8758 - accuracy: 0.6552 - lr: 0.0033\n",
      "Epoch 47/60\n",
      "37/37 [==============================] - 1s 22ms/step - loss: 0.8658 - accuracy: 0.6552 - lr: 0.0030\n",
      "Epoch 48/60\n",
      "37/37 [==============================] - 1s 22ms/step - loss: 0.8780 - accuracy: 0.6432 - lr: 0.0027\n",
      "Epoch 49/60\n",
      "37/37 [==============================] - 1s 22ms/step - loss: 0.8724 - accuracy: 0.6518 - lr: 0.0025\n",
      "Epoch 50/60\n",
      "37/37 [==============================] - 1s 22ms/step - loss: 0.8736 - accuracy: 0.6406 - lr: 0.0022\n",
      "Epoch 51/60\n",
      "37/37 [==============================] - 1s 22ms/step - loss: 0.8829 - accuracy: 0.6492 - lr: 0.0020\n",
      "Epoch 52/60\n",
      "37/37 [==============================] - 1s 22ms/step - loss: 0.8705 - accuracy: 0.6518 - lr: 0.0018\n",
      "Epoch 53/60\n",
      "37/37 [==============================] - 1s 22ms/step - loss: 0.8702 - accuracy: 0.6526 - lr: 0.0017\n",
      "Epoch 54/60\n",
      "37/37 [==============================] - 1s 22ms/step - loss: 0.8730 - accuracy: 0.6569 - lr: 0.0015\n",
      "Epoch 55/60\n",
      "37/37 [==============================] - 1s 22ms/step - loss: 0.8758 - accuracy: 0.6526 - lr: 0.0014\n",
      "Epoch 56/60\n",
      "37/37 [==============================] - 1s 22ms/step - loss: 0.8775 - accuracy: 0.6483 - lr: 0.0012\n",
      "Epoch 57/60\n",
      "37/37 [==============================] - 1s 22ms/step - loss: 0.8818 - accuracy: 0.6406 - lr: 0.0011\n",
      "Epoch 58/60\n",
      "37/37 [==============================] - 1s 22ms/step - loss: 0.8700 - accuracy: 0.6604 - lr: 0.0010\n",
      "Epoch 59/60\n",
      "37/37 [==============================] - 1s 22ms/step - loss: 0.8761 - accuracy: 0.6466 - lr: 9.0718e-04\n",
      "Epoch 60/60\n",
      "37/37 [==============================] - 1s 22ms/step - loss: 0.8717 - accuracy: 0.6569 - lr: 8.2085e-04\n"
     ]
    }
   ],
   "source": [
    "# callbacks\n",
    "early_stopping = EarlyStopping(\n",
    "    restore_best_weights=True,  # monitor=\"val_loss\", patience=10,\n",
    ")\n",
    "\n",
    "if validation_flag:\n",
    "    # training the model\n",
    "    history = model.fit(\n",
    "        # X_train_tensor,\n",
    "        # y_train_tensor,\n",
    "        train_dataset,\n",
    "        epochs=epochs,\n",
    "        validation_data=val_dataset,\n",
    "        # batch_size=batch_size,\n",
    "        callbacks=[LearningRateScheduler(lr_scheduler)],\n",
    "    )\n",
    "else:\n",
    "    history = model.fit(\n",
    "        # X_train_tensor,\n",
    "        # y_train_tensor,\n",
    "        train_dataset,\n",
    "        epochs=epochs,\n",
    "        # batch_size=batch_size,\n",
    "        callbacks=[LearningRateScheduler(lr_scheduler)],\n",
    "    )"
   ]
  },
  {
   "cell_type": "code",
   "execution_count": 24,
   "metadata": {},
   "outputs": [
    {
     "name": "stdout",
     "output_type": "stream",
     "text": [
      "1/1 [==============================] - 2s 2s/step - loss: 1.4114 - accuracy: 0.4167\n",
      "Test Accuracy self:41.67%\n"
     ]
    }
   ],
   "source": [
    "# evaluating the model\n",
    "test_loss_self, test_acc_self = model.evaluate(test_dataset)\n",
    "\n",
    "if cross_testing:\n",
    "    test_loss_cross, test_acc_cross = model.evaluate(cross_dataset)\n",
    "    print(\n",
    "        f\"Test Accuracies are: Self: {test_acc_self:.2%} | Cross: {test_acc_cross:.2%} | Difference= {test_acc_self - test_acc_cross:.2%}\"\n",
    "    )\n",
    "else:\n",
    "    print(f\"Test Accuracy self:{test_acc_self:.2%}\")"
   ]
  }
 ],
 "metadata": {
  "kernelspec": {
   "display_name": "Python 3",
   "language": "python",
   "name": "python3"
  },
  "language_info": {
   "codemirror_mode": {
    "name": "ipython",
    "version": 3
   },
   "file_extension": ".py",
   "mimetype": "text/x-python",
   "name": "python",
   "nbconvert_exporter": "python",
   "pygments_lexer": "ipython3",
   "version": "3.10.12"
  }
 },
 "nbformat": 4,
 "nbformat_minor": 2
}
