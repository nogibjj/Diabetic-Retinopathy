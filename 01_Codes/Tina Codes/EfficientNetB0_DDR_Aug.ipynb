{
 "cells": [
  {
   "cell_type": "code",
   "execution_count": 1,
   "metadata": {},
   "outputs": [
    {
     "data": {
      "text/html": [
       "<script>Jupyter.notebook.kernel.restart()</script>"
      ]
     },
     "metadata": {},
     "output_type": "display_data"
    }
   ],
   "source": [
    "from IPython.display import display_html\n",
    "\n",
    "\n",
    "def restart_kernel():\n",
    "    display_html(\"<script>Jupyter.notebook.kernel.restart()</script>\", raw=True)\n",
    "\n",
    "\n",
    "restart_kernel()"
   ]
  },
  {
   "cell_type": "code",
   "execution_count": 2,
   "metadata": {},
   "outputs": [
    {
     "name": "stderr",
     "output_type": "stream",
     "text": [
      "2024-04-13 18:18:54.895003: I tensorflow/core/platform/cpu_feature_guard.cc:193] This TensorFlow binary is optimized with oneAPI Deep Neural Network Library (oneDNN) to use the following CPU instructions in performance-critical operations:  AVX2 FMA\n",
      "To enable them in other operations, rebuild TensorFlow with the appropriate compiler flags.\n",
      "2024-04-13 18:18:55.603982: W tensorflow/compiler/xla/stream_executor/platform/default/dso_loader.cc:64] Could not load dynamic library 'libnvinfer.so.7'; dlerror: libnvinfer.so.7: cannot open shared object file: No such file or directory; LD_LIBRARY_PATH: /opt/intel/compilers_and_libraries_2018.1.163/linux/tbb/lib/intel64_lin/gcc4.7:/opt/intel/compilers_and_libraries_2018.1.163/linux/compiler/lib/intel64_lin:/opt/intel/compilers_and_libraries_2018.1.163/linux/mkl/lib/intel64_lin:/opt/intel/compilers_and_libraries_2018.1.163/linux/tbb/lib/intel64_lin/gcc4.7:/opt/intel/compilers_and_libraries_2018.1.163/linux/compiler/lib/intel64_lin:/opt/intel/compilers_and_libraries_2018.1.163/linux/mkl/lib/intel64_lin::/usr/local/cuda/lib64:/usr/local/cuda/extras/CUPTI/lib64/:/usr/local/cuda/lib64:/usr/local/cuda/extras/CUPTI/lib64/\n",
      "2024-04-13 18:18:55.604087: W tensorflow/compiler/xla/stream_executor/platform/default/dso_loader.cc:64] Could not load dynamic library 'libnvinfer_plugin.so.7'; dlerror: libnvinfer_plugin.so.7: cannot open shared object file: No such file or directory; LD_LIBRARY_PATH: /opt/intel/compilers_and_libraries_2018.1.163/linux/tbb/lib/intel64_lin/gcc4.7:/opt/intel/compilers_and_libraries_2018.1.163/linux/compiler/lib/intel64_lin:/opt/intel/compilers_and_libraries_2018.1.163/linux/mkl/lib/intel64_lin:/opt/intel/compilers_and_libraries_2018.1.163/linux/tbb/lib/intel64_lin/gcc4.7:/opt/intel/compilers_and_libraries_2018.1.163/linux/compiler/lib/intel64_lin:/opt/intel/compilers_and_libraries_2018.1.163/linux/mkl/lib/intel64_lin::/usr/local/cuda/lib64:/usr/local/cuda/extras/CUPTI/lib64/:/usr/local/cuda/lib64:/usr/local/cuda/extras/CUPTI/lib64/\n",
      "2024-04-13 18:18:55.604095: W tensorflow/compiler/tf2tensorrt/utils/py_utils.cc:38] TF-TRT Warning: Cannot dlopen some TensorRT libraries. If you would like to use Nvidia GPU with TensorRT, please make sure the missing libraries mentioned above are installed properly.\n"
     ]
    },
    {
     "name": "stdout",
     "output_type": "stream",
     "text": [
      "1 Physical GPUs, 1 Logical GPUs\n"
     ]
    },
    {
     "name": "stderr",
     "output_type": "stream",
     "text": [
      "2024-04-13 18:18:56.574020: I tensorflow/core/platform/cpu_feature_guard.cc:193] This TensorFlow binary is optimized with oneAPI Deep Neural Network Library (oneDNN) to use the following CPU instructions in performance-critical operations:  AVX2 FMA\n",
      "To enable them in other operations, rebuild TensorFlow with the appropriate compiler flags.\n",
      "2024-04-13 18:18:57.083194: I tensorflow/core/common_runtime/gpu/gpu_device.cc:1613] Created device /job:localhost/replica:0/task:0/device:GPU:0 with 14718 MB memory:  -> device: 0, name: Tesla T4, pci bus id: 0001:00:00.0, compute capability: 7.5\n"
     ]
    }
   ],
   "source": [
    "import os\n",
    "\n",
    "# Set environment variable for TensorFlow\n",
    "# os.environ[\"TF_GPU_ALLOCATOR\"] = \"cuda_malloc_async\"\n",
    "\n",
    "import tensorflow as tf\n",
    "\n",
    "# Configure GPU memory growth\n",
    "gpus = tf.config.experimental.list_physical_devices(\"GPU\")\n",
    "if gpus:\n",
    "    try:\n",
    "        # Set memory growth before initializing GPUs\n",
    "        for gpu in gpus:\n",
    "            tf.config.experimental.set_memory_growth(gpu, True)\n",
    "        logical_gpus = tf.config.experimental.list_logical_devices(\"GPU\")\n",
    "        print(len(gpus), \"Physical GPUs,\", len(logical_gpus), \"Logical GPUs\")\n",
    "    except RuntimeError as e:\n",
    "        # Handle potential errors here\n",
    "        print(e)"
   ]
  },
  {
   "cell_type": "code",
   "execution_count": 3,
   "metadata": {},
   "outputs": [],
   "source": [
    "from tensorflow.keras import layers\n",
    "from tensorflow.keras.callbacks import EarlyStopping, ModelCheckpoint\n",
    "\n",
    "import numpy as np\n",
    "import cv2\n",
    "import random\n",
    "import os\n",
    "\n",
    "import os\n",
    "import cv2\n",
    "import numpy as np\n",
    "import pandas as pd\n",
    "from PIL import Image\n",
    "\n",
    "import pandas as pd\n",
    "import numpy as np\n",
    "import cv2\n",
    "from skimage import exposure\n",
    "from scipy.ndimage import gaussian_filter\n",
    "from sklearn.model_selection import train_test_split\n",
    "from tensorflow.keras import layers\n",
    "from tensorflow.keras.models import Sequential\n",
    "from tensorflow.keras.optimizers import SGD\n",
    "from tensorflow.keras.preprocessing.image import ImageDataGenerator\n",
    "import os\n",
    "import tensorflow as tf\n",
    "from tensorflow import keras\n",
    "from tensorflow.keras import models, layers\n",
    "from tensorflow.keras.optimizers import SGD\n",
    "from tensorflow.keras.callbacks import LearningRateScheduler\n",
    "import math\n",
    "from sklearn.utils.class_weight import compute_class_weight\n",
    "import numpy as np\n",
    "import pandas as pd\n",
    "import cv2\n",
    "from skimage import exposure\n",
    "from scipy.ndimage import gaussian_filter\n",
    "from sklearn.model_selection import train_test_split\n",
    "from tensorflow.keras import layers\n",
    "from tensorflow.keras.models import Sequential\n",
    "from tensorflow.keras.optimizers import SGD\n",
    "from tensorflow.keras.preprocessing.image import ImageDataGenerator\n",
    "import os"
   ]
  },
  {
   "cell_type": "code",
   "execution_count": 4,
   "metadata": {},
   "outputs": [],
   "source": [
    "import numpy as np\n",
    "import random\n",
    "import tensorflow as tf\n",
    "import torch\n",
    "\n",
    "# Set seeds to ensure reproducibility\n",
    "np.random.seed(42)\n",
    "random.seed(42)\n",
    "tf.random.set_seed(42)\n",
    "\n",
    "torch.manual_seed(42)\n",
    "if torch.cuda.is_available():\n",
    "    torch.cuda.manual_seed(42)\n",
    "    torch.cuda.manual_seed_all(42)  # For multi-GPU setups"
   ]
  },
  {
   "cell_type": "code",
   "execution_count": 5,
   "metadata": {},
   "outputs": [],
   "source": [
    "# Load the dataset\n",
    "data = pd.read_csv(\"../../../S3_Data/Ddr/train_test_DDR_APTOS.csv\")\n",
    "\n",
    "filtered_data = data[data[\"Data_source\"] == \"DDR\"]\n",
    "# Split the dataset into training and testing sets\n",
    "train_data = filtered_data[filtered_data[\"Split\"] == \"Train\"]\n",
    "test_data = filtered_data[filtered_data[\"Split\"] == \"Test\"]"
   ]
  },
  {
   "cell_type": "markdown",
   "metadata": {},
   "source": [
    "> Preprocessing"
   ]
  },
  {
   "cell_type": "code",
   "execution_count": 6,
   "metadata": {},
   "outputs": [],
   "source": [
    "# Define output directories\n",
    "luminosity_output_dir_train = \"luminosity_images_train/\"\n",
    "cropped_output_dir_train = \"cropped_images_train/\"\n",
    "normalized_output_dir_train = \"normalized_images_train/\"\n",
    "augmentation_output_dir_train = \"augmented_images_train/\"\n",
    "luminosity_output_dir_test = \"luminosity_images_test/\"\n",
    "cropped_output_dir_test = \"cropped_images_test/\"\n",
    "normalized_output_dir_test = \"normalized_images_test/\"\n",
    "\n",
    "# Create directories if they don't exist\n",
    "os.makedirs(luminosity_output_dir_train, exist_ok=True)\n",
    "os.makedirs(cropped_output_dir_train, exist_ok=True)\n",
    "os.makedirs(normalized_output_dir_train, exist_ok=True)\n",
    "os.makedirs(augmentation_output_dir_train, exist_ok=True)\n",
    "os.makedirs(luminosity_output_dir_test, exist_ok=True)\n",
    "os.makedirs(cropped_output_dir_test, exist_ok=True)\n",
    "os.makedirs(normalized_output_dir_test, exist_ok=True)"
   ]
  },
  {
   "cell_type": "code",
   "execution_count": 7,
   "metadata": {},
   "outputs": [],
   "source": [
    "# luminosity and noise removal function\n",
    "def luminosity_image(image_path):\n",
    "    # Load the image\n",
    "    image = cv2.imread(image_path)\n",
    "\n",
    "    # Convert to LAB color space\n",
    "    lab = cv2.cvtColor(image, cv2.COLOR_BGR2LAB)\n",
    "    l, a, b = cv2.split(lab)\n",
    "\n",
    "    # Apply CLAHE to L channel\n",
    "    clahe = cv2.createCLAHE(clipLimit=5.0, tileGridSize=(8, 8))\n",
    "    l_eq = clahe.apply(l)\n",
    "\n",
    "    # Merge back LAB channels\n",
    "    lab_eq = cv2.merge((l_eq, a, b))\n",
    "    enhanced_image = cv2.cvtColor(lab_eq, cv2.COLOR_LAB2BGR)\n",
    "\n",
    "    # Image noise removal using Gaussian filter\n",
    "    filtered_image = cv2.GaussianBlur(enhanced_image, (5, 5), 0)\n",
    "\n",
    "    # # Save the preprocessed image\n",
    "    # image_name = os.path.basename(image_path)\n",
    "    # output_path = os.path.join(output_dir, image_name)\n",
    "    # cv2.imwrite(output_path, filtered_image)\n",
    "\n",
    "    # converting tp PIL image\n",
    "    filtered_image = Image.fromarray(filtered_image)\n",
    "    return filtered_image\n",
    "    # return output_path"
   ]
  },
  {
   "cell_type": "code",
   "execution_count": 8,
   "metadata": {},
   "outputs": [],
   "source": [
    "def crop_image(img, threshold=15, resize_flag=False, desired_size=(224, 224)):\n",
    "    img_np = np.array(img)\n",
    "    x_dim = img_np.shape[0]\n",
    "    y_dim = img_np.shape[1]\n",
    "    pixel_sums = img_np.sum(axis=2)\n",
    "    x_arr = pixel_sums.sum(axis=1)\n",
    "    y_arr = pixel_sums.sum(axis=0)\n",
    "    x_start = np.where(x_arr > threshold * y_dim)[0][0]\n",
    "    x_end = np.where(x_arr > threshold * y_dim)[0][-1]\n",
    "    y_start = np.where(y_arr > threshold * x_dim)[0][0]\n",
    "    y_end = np.where(y_arr > threshold * x_dim)[0][-1]\n",
    "    new_img = img_np[x_start:x_end, y_start:y_end]\n",
    "    new_img = Image.fromarray(new_img)\n",
    "    if resize_flag:\n",
    "        new_img = new_img.resize(desired_size)\n",
    "    return new_img"
   ]
  },
  {
   "cell_type": "code",
   "execution_count": 9,
   "metadata": {},
   "outputs": [],
   "source": [
    "def normalize_image(img):\n",
    "    # Convert image to numpy array\n",
    "    img_np = np.array(img)\n",
    "\n",
    "    # Calculate mean and standard deviation (std) channel-wise\n",
    "    mean_channels = np.mean(img_np, axis=(0, 1))\n",
    "    std_channels = np.std(img_np, axis=(0, 1))\n",
    "\n",
    "    # Normalize each channel separately\n",
    "    normalized_image = np.zeros_like(img_np, dtype=np.float32)\n",
    "    for channel in range(img_np.shape[2]):\n",
    "        normalized_image[:, :, channel] = (\n",
    "            img_np[:, :, channel] - mean_channels[channel]\n",
    "        ) / std_channels[channel]\n",
    "\n",
    "    # Scale values to be within [0, 255]\n",
    "    normalized_image = (\n",
    "        (normalized_image - np.min(normalized_image))\n",
    "        / (np.max(normalized_image) - np.min(normalized_image))\n",
    "        * 255\n",
    "    )\n",
    "\n",
    "    # Clip and return the normalized image\n",
    "    normalized_image = np.clip(normalized_image, 0, 255)\n",
    "    return normalized_image.astype(np.uint8)"
   ]
  },
  {
   "cell_type": "code",
   "execution_count": 10,
   "metadata": {},
   "outputs": [],
   "source": [
    "## image is an np array of the image\n",
    "\n",
    "\n",
    "def rotate_image(image, angle):\n",
    "    height, width = image.shape[:2]\n",
    "    rotation_matrix = cv2.getRotationMatrix2D((width / 2, height / 2), angle, 1)\n",
    "    rotated_image = cv2.warpAffine(image, rotation_matrix, (width, height))\n",
    "    return rotated_image\n",
    "\n",
    "\n",
    "def flip_image(image):\n",
    "    flip_variations = [\n",
    "        (False, False),  # No flip\n",
    "        (True, False),  # Horizontal flip\n",
    "        (False, True),  # Vertical flip\n",
    "        (True, True),  # Both flips\n",
    "    ]\n",
    "\n",
    "    random.shuffle(flip_variations)\n",
    "    augmented_images = []\n",
    "\n",
    "    for flip_horizontal, flip_vertical in flip_variations[:4]:\n",
    "        if flip_horizontal and flip_vertical:\n",
    "            augmented_images.append(cv2.flip(image, -1))  # horizontal and vertical\n",
    "        elif flip_horizontal:\n",
    "            augmented_images.append(cv2.flip(image, 1))  # horizontal\n",
    "        elif flip_vertical:\n",
    "            augmented_images.append(cv2.flip(image, 0))  # vertical\n",
    "        else:\n",
    "            augmented_images.append(image)  # No flip\n",
    "\n",
    "    return augmented_images\n",
    "\n",
    "\n",
    "def shear_image(image, shear_range):\n",
    "    height, width = image.shape[:2]\n",
    "    shear_value = random.uniform(-shear_range, shear_range)\n",
    "\n",
    "    if shear_value < 0:\n",
    "        shear_matrix = np.array([[1, -shear_value, 0], [0, 1, 0]])\n",
    "    else:\n",
    "        shear_matrix = np.array([[1, shear_value, 0], [0, 1, 0]])\n",
    "\n",
    "    sheared_image = cv2.warpAffine(image, shear_matrix, (width, height))\n",
    "    return sheared_image\n",
    "\n",
    "\n",
    "def translate_image(image, translate_range):\n",
    "    height, width = image.shape[:2]\n",
    "\n",
    "    max_shift_x = int(width * 0.1)\n",
    "    max_shift_y = int(height * 0.1)\n",
    "\n",
    "    translate_x = random.randint(-max_shift_x, max_shift_x)\n",
    "    translate_y = random.randint(-max_shift_y, max_shift_y)\n",
    "\n",
    "    translation_matrix = np.array(\n",
    "        [[1, 0, translate_x], [0, 1, translate_y]], dtype=np.float32\n",
    "    )\n",
    "\n",
    "    translated_image = cv2.warpAffine(image, translation_matrix, (width, height))\n",
    "\n",
    "    return translated_image\n",
    "\n",
    "\n",
    "def adjust_brightness(image, brightness_range):\n",
    "    brightness_factor = 1.0 + random.uniform(-brightness_range, brightness_range)\n",
    "    adjusted_image = np.clip(image * brightness_factor, 0.25, 255).astype(np.uint8)\n",
    "    return adjusted_image"
   ]
  },
  {
   "cell_type": "code",
   "execution_count": 11,
   "metadata": {},
   "outputs": [],
   "source": [
    "## image parameter is an np array of an image\n",
    "## flag 1: includes brightness, 0 or any other value exludes it\n",
    "\n",
    "\n",
    "def augmented_fn2(image, flag):\n",
    "    augmented_images = []\n",
    "\n",
    "    if flag == 1:\n",
    "        for _ in range(4):\n",
    "            angle = random.uniform(-35, 35)\n",
    "            image_r = rotate_image(image, angle)\n",
    "            augmented_images.append(image_r)\n",
    "\n",
    "        image_f = flip_image(image)\n",
    "        augmented_images.extend(image_f)\n",
    "\n",
    "        for _ in range(4):\n",
    "            image_s = shear_image(image, shear_range=0.15)\n",
    "            augmented_images.append(image_s)\n",
    "\n",
    "        for _ in range(4):\n",
    "            image_t = translate_image(image, translate_range=0.1)\n",
    "            augmented_images.append(image_t)\n",
    "\n",
    "        for _ in range(4):\n",
    "            image_b = adjust_brightness(image, brightness_range=0.25)\n",
    "            augmented_images.append(image_b)\n",
    "    else:\n",
    "        for _ in range(4):\n",
    "            angle = random.uniform(-35, 35)\n",
    "            image_r = rotate_image(image, angle)\n",
    "            augmented_images.append(image_r)\n",
    "\n",
    "        image_f = flip_image(image)\n",
    "        augmented_images.extend(image_f)\n",
    "\n",
    "        for _ in range(4):\n",
    "            image_s = shear_image(image, shear_range=0.15)\n",
    "            augmented_images.append(image_s)\n",
    "\n",
    "        for _ in range(4):\n",
    "            image_t = translate_image(image, translate_range=0.1)\n",
    "            augmented_images.append(image_t)\n",
    "\n",
    "    return np.array(augmented_images)"
   ]
  },
  {
   "cell_type": "code",
   "execution_count": 12,
   "metadata": {},
   "outputs": [
    {
     "name": "stdout",
     "output_type": "stream",
     "text": [
      "Processed 100/10019 images\n",
      "Processed 200/10019 images\n"
     ]
    },
    {
     "name": "stderr",
     "output_type": "stream",
     "text": [
      "Corrupt JPEG data: 34 extraneous bytes before marker 0xd9\n"
     ]
    },
    {
     "name": "stdout",
     "output_type": "stream",
     "text": [
      "Processed 300/10019 images\n",
      "Processed 400/10019 images\n",
      "Processed 500/10019 images\n",
      "Processed 600/10019 images\n",
      "Processed 700/10019 images\n",
      "Processed 800/10019 images\n",
      "Processed 900/10019 images\n",
      "Processed 1000/10019 images\n"
     ]
    },
    {
     "name": "stderr",
     "output_type": "stream",
     "text": [
      "Corrupt JPEG data: 35 extraneous bytes before marker 0xd9\n"
     ]
    },
    {
     "name": "stdout",
     "output_type": "stream",
     "text": [
      "Processed 1100/10019 images\n",
      "Processed 1200/10019 images\n",
      "Processed 1300/10019 images\n",
      "Processed 1400/10019 images\n",
      "Processed 1500/10019 images\n"
     ]
    },
    {
     "name": "stderr",
     "output_type": "stream",
     "text": [
      "Corrupt JPEG data: 38 extraneous bytes before marker 0xd9\n"
     ]
    },
    {
     "name": "stdout",
     "output_type": "stream",
     "text": [
      "Processed 1600/10019 images\n",
      "Processed 1700/10019 images\n",
      "Processed 1800/10019 images\n",
      "Processed 1900/10019 images\n",
      "Processed 2000/10019 images\n",
      "Processed 2100/10019 images\n",
      "Processed 2200/10019 images\n",
      "Processed 2300/10019 images\n",
      "Processed 2400/10019 images\n",
      "Processed 2500/10019 images\n",
      "Processed 2600/10019 images\n",
      "Processed 2700/10019 images\n",
      "Processed 2800/10019 images\n",
      "Processed 2900/10019 images\n",
      "Processed 3000/10019 images\n",
      "Processed 3100/10019 images\n",
      "Processed 3200/10019 images\n",
      "Processed 3300/10019 images\n",
      "Processed 3400/10019 images\n",
      "Processed 3500/10019 images\n",
      "Processed 3600/10019 images\n",
      "Processed 3700/10019 images\n",
      "Processed 3800/10019 images\n",
      "Processed 3900/10019 images\n",
      "Processed 4000/10019 images\n",
      "Processed 4100/10019 images\n",
      "Processed 4200/10019 images\n",
      "Processed 4300/10019 images\n",
      "Processed 4400/10019 images\n",
      "Processed 4500/10019 images\n",
      "Processed 4600/10019 images\n",
      "Processed 4700/10019 images\n",
      "Processed 4800/10019 images\n",
      "Processed 4900/10019 images\n",
      "Processed 5000/10019 images\n",
      "Processed 5100/10019 images\n",
      "Processed 5200/10019 images\n",
      "Processed 5300/10019 images\n",
      "Processed 5400/10019 images\n",
      "Processed 5500/10019 images\n",
      "Processed 5600/10019 images\n",
      "Processed 5700/10019 images\n",
      "Processed 5800/10019 images\n",
      "Processed 5900/10019 images\n",
      "Processed 6000/10019 images\n",
      "Processed 6100/10019 images\n",
      "Processed 6200/10019 images\n",
      "Processed 6300/10019 images\n",
      "Processed 6400/10019 images\n",
      "Processed 6500/10019 images\n",
      "Processed 6600/10019 images\n",
      "Processed 6700/10019 images\n",
      "Processed 6800/10019 images\n",
      "Processed 6900/10019 images\n",
      "Processed 7000/10019 images\n",
      "Processed 7100/10019 images\n",
      "Processed 7200/10019 images\n",
      "Processed 7300/10019 images\n",
      "Processed 7400/10019 images\n",
      "Processed 7500/10019 images\n",
      "Processed 7600/10019 images\n",
      "Processed 7700/10019 images\n",
      "Processed 7800/10019 images\n",
      "Processed 7900/10019 images\n",
      "Processed 8000/10019 images\n",
      "Processed 8100/10019 images\n",
      "Processed 8200/10019 images\n",
      "Processed 8300/10019 images\n",
      "Processed 8400/10019 images\n",
      "Processed 8500/10019 images\n",
      "Processed 8600/10019 images\n",
      "Processed 8700/10019 images\n",
      "Processed 8800/10019 images\n",
      "Processed 8900/10019 images\n",
      "Processed 9000/10019 images\n",
      "Processed 9100/10019 images\n",
      "Processed 9200/10019 images\n",
      "Processed 9300/10019 images\n",
      "Processed 9400/10019 images\n",
      "Processed 9500/10019 images\n",
      "Processed 9600/10019 images\n",
      "Processed 9700/10019 images\n",
      "Processed 9800/10019 images\n",
      "Processed 9900/10019 images\n",
      "Processed 10000/10019 images\n"
     ]
    },
    {
     "ename": "",
     "evalue": "",
     "output_type": "error",
     "traceback": [
      "\u001b[1;31mThe Kernel crashed while executing code in the current cell or a previous cell. \n",
      "\u001b[1;31mPlease review the code in the cell(s) to identify a possible cause of the failure. \n",
      "\u001b[1;31mClick <a href='https://aka.ms/vscodeJupyterKernelCrash'>here</a> for more info. \n",
      "\u001b[1;31mView Jupyter <a href='command:jupyter.viewOutput'>log</a> for further details."
     ]
    }
   ],
   "source": [
    "X_train = []\n",
    "y_train = []\n",
    "\n",
    "\n",
    "# Function to get the correct image path with extension\n",
    "def get_image_path(base_dir, img_name):\n",
    "    for ext in [\"jpg\", \"png\"]:\n",
    "        if \"jpg\" in img_name or \"png\" in img_name:\n",
    "            temp_path = f\"{base_dir}/{img_name}\"\n",
    "        else:\n",
    "            temp_path = f\"{base_dir}/{img_name}.{ext}\"\n",
    "        if os.path.exists(temp_path):\n",
    "            return temp_path\n",
    "    return None  # Return None if no file is found\n",
    "\n",
    "\n",
    "total_images = len(train_data)\n",
    "ctr = 0\n",
    "# Load and preprocess each image\n",
    "for index, row in train_data.iterrows():\n",
    "    ctr += 1\n",
    "    img_name, label = row[\"Image_ID\"], row[\"Retinopathy_Grade\"]\n",
    "    image_path = get_image_path(\n",
    "        \"../../../S3_Data/Ddr/train_new\", img_name\n",
    "    )  # Dynamically get the correct image path\n",
    "\n",
    "    if image_path is None:\n",
    "        print(f\"Image file for {img_name} not found in JPG or PNG format.\")\n",
    "        continue  # Skip this iteration if the file doesn't exist\n",
    "\n",
    "    # # Change Luminosity and do noise removal for the image\n",
    "    # luminosity_img_path = luminosity_image(image_path, luminosity_output_dir_train)\n",
    "\n",
    "    luminosity_img = luminosity_image(image_path)\n",
    "\n",
    "    # Crop and resize the image\n",
    "    # luminosity_img = Image.open(luminosity_img_path)\n",
    "    cropped_resized_img = crop_image(\n",
    "        luminosity_img, resize_flag=True, desired_size=(224, 224)\n",
    "    )\n",
    "\n",
    "    # # Save cropped image\n",
    "    # cropped_img_name = f\"{img_name}_{index+1}.jpg\"\n",
    "    # cropped_img_path = os.path.join(cropped_output_dir_train, cropped_img_name)\n",
    "    # cropped_resized_img.save(cropped_img_path)\n",
    "\n",
    "    # Normalize the image\n",
    "    normalized_img = normalize_image(cropped_resized_img)\n",
    "\n",
    "    # # Save normalized image\n",
    "    # normalized_img_name = f\"norm_{img_name}_{index+1}.jpg\"\n",
    "    # normalized_img_path = os.path.join(normalized_output_dir_train, normalized_img_name)\n",
    "    # cv2.imwrite(normalized_img_path, cv2.cvtColor(normalized_img, cv2.COLOR_RGB2BGR))\n",
    "\n",
    "    # Augment image 20 times\n",
    "    augmented_images = augmented_fn2(normalized_img, flag=1)\n",
    "\n",
    "    for aug_index, augmented_img in enumerate(augmented_images):\n",
    "        # Use aug_index to create a unique filename for each augmented image\n",
    "        # augmented_img_path = os.path.join(\n",
    "        #     augmentation_output_dir_train, f\"{img_name}_{index+1}_{aug_index+1}.jpg\"\n",
    "        # )\n",
    "        # cv2.imwrite(augmented_img_path, cv2.cvtColor(augmented_img, cv2.COLOR_RGB2BGR))\n",
    "        # Append to X_train and y_train\n",
    "        X_train.append(augmented_img)\n",
    "        y_train.append(label)\n",
    "    if ctr % 100 == 0:\n",
    "        print(f\"Processed {ctr}/{total_images} images\")\n",
    "\n",
    "X_train = np.array(X_train)\n",
    "y_train = np.array(y_train)"
   ]
  },
  {
   "cell_type": "code",
   "execution_count": null,
   "metadata": {},
   "outputs": [],
   "source": [
    "X_test = []\n",
    "y_test = []\n",
    "\n",
    "# Load and preprocess each image\n",
    "for index, row in test_data.iterrows():\n",
    "    img_name, label = row[\"Image_ID\"], row[\"Retinopathy_Grade\"]\n",
    "    image_path = get_image_path(\n",
    "        \"../../../S3_Data/Ddr/test_new\", img_name\n",
    "    )  # Dynamically get the correct image path\n",
    "\n",
    "    if image_path is None:\n",
    "        print(f\"Image file for {img_name} not found in JPG or PNG format.\")\n",
    "        continue  # Skip this iteration if the file doesn't exist\n",
    "\n",
    "    # # Change Luminosity and do noise removal for the image\n",
    "    # luminosity_img_path = luminosity_image(image_path, luminosity_output_dir_train)\n",
    "\n",
    "    luminosity_img = luminosity_image(image_path)\n",
    "\n",
    "    # Crop and resize the image\n",
    "    # luminosity_img = Image.open(luminosity_img_path)\n",
    "    cropped_resized_img = crop_image(\n",
    "        luminosity_img, resize_flag=True, desired_size=(224, 224)\n",
    "    )\n",
    "\n",
    "    # # Save cropped image\n",
    "    # cropped_img_name = f\"{img_name}_{index+1}.jpg\"\n",
    "    # cropped_img_path = os.path.join(cropped_output_dir_test, cropped_img_name)\n",
    "    # cropped_resized_img.save(cropped_img_path)\n",
    "\n",
    "    # Normalize the image\n",
    "    normalized_img = normalize_image(cropped_resized_img)\n",
    "\n",
    "    # # Save normalized image\n",
    "    # normalized_img_name = f\"norm_{img_name}_{index+1}.jpg\"\n",
    "    # normalized_img_path = os.path.join(normalized_output_dir_test, normalized_img_name)\n",
    "    # cv2.imwrite(normalized_img_path, cv2.cvtColor(normalized_img, cv2.COLOR_RGB2BGR))\n",
    "\n",
    "    # Append to X_test and y_test\n",
    "    X_test.append(normalized_img)\n",
    "    y_test.append(label)\n",
    "\n",
    "X_test = np.array(X_test)\n",
    "y_test = np.array(y_test)"
   ]
  },
  {
   "cell_type": "code",
   "execution_count": null,
   "metadata": {},
   "outputs": [],
   "source": [
    "# Saving these as pickle files so that we can use them later in case of any issues\n",
    "np.save(\"X_train_aug.npy\", X_train)\n",
    "np.save(\"y_train_aug.npy\", y_train)\n",
    "np.save(\"X_test_aug.npy\", X_test)\n",
    "np.save(\"y_test_aug.npy\", y_test)"
   ]
  },
  {
   "cell_type": "markdown",
   "metadata": {},
   "source": [
    "> Initialize base model with pre-trained weights "
   ]
  },
  {
   "cell_type": "code",
   "execution_count": null,
   "metadata": {},
   "outputs": [],
   "source": [
    "assert 1 == 0"
   ]
  },
  {
   "cell_type": "markdown",
   "metadata": {},
   "source": [
    "## Model Below"
   ]
  },
  {
   "cell_type": "code",
   "execution_count": null,
   "metadata": {},
   "outputs": [],
   "source": [
    "# load the data\n",
    "X_train = np.load(\"X_train_aug.npy\")\n",
    "y_train = np.load(\"y_train_aug.npy\")\n",
    "X_test = np.load(\"X_test_aug.npy\")\n",
    "y_test = np.load(\"y_test_aug.npy\")"
   ]
  },
  {
   "cell_type": "code",
   "execution_count": null,
   "metadata": {},
   "outputs": [],
   "source": [
    "base_model = tf.keras.applications.EfficientNetB0(\n",
    "    include_top=False,\n",
    "    weights=\"imagenet\",  # Load weights pre-trained on ImageNet.\n",
    "    input_tensor=None,\n",
    "    input_shape=(224, 224, 3),\n",
    "    pooling=\"avg\",\n",
    ")"
   ]
  },
  {
   "cell_type": "markdown",
   "metadata": {},
   "source": [
    "> freeze the base model"
   ]
  },
  {
   "cell_type": "code",
   "execution_count": null,
   "metadata": {},
   "outputs": [],
   "source": [
    "base_model.trainable = False"
   ]
  },
  {
   "cell_type": "markdown",
   "metadata": {},
   "source": [
    "> Create a new model on top with dropout"
   ]
  },
  {
   "cell_type": "code",
   "execution_count": null,
   "metadata": {},
   "outputs": [],
   "source": [
    "num_classes = 5\n",
    "epochs = 10\n",
    "# Define the inputs\n",
    "inputs = tf.keras.Input(shape=(224, 224, 3))\n",
    "\n",
    "# Ensure the base_model is running in inference mode.\n",
    "x = base_model(inputs, training=False)\n",
    "\n",
    "x = layers.Dropout(0.5)(x)  # Dropout layer with 50% dropout rate\n",
    "# Adding FC (Fully Connected) layers\n",
    "x = layers.Dense(1000)(x)\n",
    "x = layers.Dropout(0.5)(x)  # Another Dropout layer with 50% dropout rate\n",
    "# Adding FC (Fully Connected) layers\n",
    "x = layers.Dense(500)(x)\n",
    "\n",
    "# Adding a final layer with SoftMax activation for classification\n",
    "outputs = layers.Dense(num_classes, activation=\"softmax\")(x)\n",
    "\n",
    "# Creating the model\n",
    "model = tf.keras.Model(inputs=inputs, outputs=outputs)\n",
    "\n",
    "model.summary(show_trainable=True)"
   ]
  },
  {
   "cell_type": "markdown",
   "metadata": {},
   "source": [
    "> Train the model on new data"
   ]
  },
  {
   "cell_type": "code",
   "execution_count": null,
   "metadata": {},
   "outputs": [],
   "source": [
    "from tensorflow.keras.optimizers import SGD\n",
    "\n",
    "# base learning rate\n",
    "base_learning_rate = 1e-4\n",
    "# maximum learning rate\n",
    "max_learning_rate = 1e-2\n",
    "\n",
    "# Create an instance of SGD optimizer with initial learning rate\n",
    "optimizer = SGD(learning_rate=base_learning_rate, momentum=0.9, clipnorm=1.0)\n",
    "\n",
    "# create class weight\n",
    "classes = np.unique(y_train)\n",
    "class_weights = compute_class_weight(\"balanced\", classes=classes, y=y_train)\n",
    "class_weight_dict = dict(zip(classes, class_weights))\n",
    "\n",
    "\n",
    "# create triangular schedule\n",
    "def triangular_schedule(epoch):\n",
    "    \"\"\"Triangular learning rate scheduler.\"\"\"\n",
    "    cycle_length = 10  # Define the length of a cycle\n",
    "    cycle = math.floor(1 + epoch / (2 * cycle_length))\n",
    "    x = abs(epoch / cycle_length - 2 * cycle + 1)\n",
    "    lr = base_learning_rate + (max_learning_rate - base_learning_rate) * max(0, (1 - x))\n",
    "    return lr\n",
    "\n",
    "\n",
    "# When fitting the model, include the learning rate scheduler callback\n",
    "lr_scheduler = LearningRateScheduler(triangular_schedule)"
   ]
  },
  {
   "cell_type": "code",
   "execution_count": null,
   "metadata": {},
   "outputs": [],
   "source": [
    "X_train.shape, y_train.shape, X_test.shape, y_test.shape"
   ]
  },
  {
   "cell_type": "code",
   "execution_count": null,
   "metadata": {},
   "outputs": [],
   "source": [
    "print(\"Num GPUs Available: \", len(tf.config.list_physical_devices(\"GPU\")))"
   ]
  },
  {
   "cell_type": "code",
   "execution_count": null,
   "metadata": {},
   "outputs": [],
   "source": [
    "model.compile(\n",
    "    optimizer=optimizer, loss=\"sparse_categorical_crossentropy\", metrics=[\"accuracy\"]\n",
    ")\n",
    "\n",
    "print(\"Fitting the top layer of the model\")\n",
    "model.fit(\n",
    "    X_train[:100000],\n",
    "    y_train[:100000],\n",
    "    epochs=epochs,\n",
    "    batch_size=4,\n",
    "    class_weight=class_weight_dict,\n",
    "    callbacks=[lr_scheduler],\n",
    ")"
   ]
  },
  {
   "cell_type": "markdown",
   "metadata": {},
   "source": [
    "> Fine tuning: unfreeze all or part of the base model and retrain the whole model end-to-end with a very low learning rate."
   ]
  },
  {
   "cell_type": "code",
   "execution_count": null,
   "metadata": {},
   "outputs": [],
   "source": [
    "from tensorflow.keras.callbacks import EarlyStopping, ModelCheckpoint\n",
    "\n",
    "# Unfreeze the base model\n",
    "base_model.trainable = True\n",
    "model.summary(show_trainable=True)\n",
    "\n",
    "# Re-instantiate the optimizer\n",
    "optimizer = SGD(learning_rate=base_learning_rate, momentum=0.9, clipnorm=1.0)\n",
    "\n",
    "model.compile(\n",
    "    optimizer=optimizer, loss=\"sparse_categorical_crossentropy\", metrics=[\"accuracy\"]\n",
    ")\n",
    "\n",
    "print(\"Fitting the end-to-end model\")\n",
    "# Train end-to-end. Stop before overfit\n",
    "model.fit(\n",
    "    X_train[:100000],\n",
    "    y_train[:100000],\n",
    "    epochs=epochs,\n",
    "    batch_size=4,\n",
    "    class_weight=class_weight_dict,\n",
    "    callbacks=[lr_scheduler],\n",
    ")"
   ]
  },
  {
   "cell_type": "markdown",
   "metadata": {},
   "source": [
    "> Evaluate on test data"
   ]
  },
  {
   "cell_type": "code",
   "execution_count": null,
   "metadata": {},
   "outputs": [],
   "source": [
    "# model.save(\"my_model.keras\")"
   ]
  },
  {
   "cell_type": "code",
   "execution_count": null,
   "metadata": {},
   "outputs": [],
   "source": [
    "print(\"Test dataset evaluation\")\n",
    "model.evaluate(X_test, y_test)"
   ]
  }
 ],
 "metadata": {
  "kernelspec": {
   "display_name": "Python 3",
   "language": "python",
   "name": "python3"
  },
  "language_info": {
   "codemirror_mode": {
    "name": "ipython",
    "version": 3
   },
   "file_extension": ".py",
   "mimetype": "text/x-python",
   "name": "python",
   "nbconvert_exporter": "python",
   "pygments_lexer": "ipython3",
   "version": "3.8.18"
  }
 },
 "nbformat": 4,
 "nbformat_minor": 2
}
