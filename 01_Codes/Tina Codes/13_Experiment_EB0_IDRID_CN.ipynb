{
 "cells": [
  {
   "cell_type": "markdown",
   "metadata": {},
   "source": [
    "# EfficientNet-B0"
   ]
  },
  {
   "cell_type": "markdown",
   "metadata": {},
   "source": [
    "## Setup"
   ]
  },
  {
   "cell_type": "code",
   "execution_count": 1,
   "metadata": {},
   "outputs": [
    {
     "data": {
      "text/html": [
       "<script>Jupyter.notebook.kernel.restart()</script>"
      ]
     },
     "metadata": {},
     "output_type": "display_data"
    }
   ],
   "source": [
    "from IPython.display import display_html\n",
    "\n",
    "\n",
    "def restart_kernel():\n",
    "    display_html(\"<script>Jupyter.notebook.kernel.restart()</script>\", raw=True)\n",
    "\n",
    "\n",
    "restart_kernel()"
   ]
  },
  {
   "cell_type": "markdown",
   "metadata": {},
   "source": [
    "### Packages and Libraries"
   ]
  },
  {
   "cell_type": "code",
   "execution_count": 2,
   "metadata": {},
   "outputs": [
    {
     "name": "stderr",
     "output_type": "stream",
     "text": [
      "2024-04-15 16:11:29.887367: I tensorflow/core/platform/cpu_feature_guard.cc:193] This TensorFlow binary is optimized with oneAPI Deep Neural Network Library (oneDNN) to use the following CPU instructions in performance-critical operations:  AVX2 FMA\n",
      "To enable them in other operations, rebuild TensorFlow with the appropriate compiler flags.\n",
      "2024-04-15 16:11:30.041000: E tensorflow/stream_executor/cuda/cuda_blas.cc:2981] Unable to register cuBLAS factory: Attempting to register factory for plugin cuBLAS when one has already been registered\n",
      "2024-04-15 16:11:30.828882: W tensorflow/stream_executor/platform/default/dso_loader.cc:64] Could not load dynamic library 'libnvinfer.so.7'; dlerror: libnvinfer.so.7: cannot open shared object file: No such file or directory\n",
      "2024-04-15 16:11:30.829008: W tensorflow/stream_executor/platform/default/dso_loader.cc:64] Could not load dynamic library 'libnvinfer_plugin.so.7'; dlerror: libnvinfer_plugin.so.7: cannot open shared object file: No such file or directory\n",
      "2024-04-15 16:11:30.829028: W tensorflow/compiler/tf2tensorrt/utils/py_utils.cc:38] TF-TRT Warning: Cannot dlopen some TensorRT libraries. If you would like to use Nvidia GPU with TensorRT, please make sure the missing libraries mentioned above are installed properly.\n"
     ]
    }
   ],
   "source": [
    "# Basic imports\n",
    "import os\n",
    "import time\n",
    "import sys\n",
    "from IPython.display import clear_output\n",
    "import random\n",
    "import numpy as np\n",
    "\n",
    "import pandas as pd\n",
    "import math\n",
    "\n",
    "\n",
    "# Tensorflow and Keras\n",
    "import tensorflow as tf\n",
    "from tensorflow.keras import models, layers\n",
    "from tensorflow.keras.callbacks import EarlyStopping, ModelCheckpoint\n",
    "from tensorflow.keras.models import Sequential\n",
    "from tensorflow.keras.optimizers import SGD\n",
    "from tensorflow.keras.preprocessing.image import ImageDataGenerator\n",
    "from tensorflow.keras.callbacks import LearningRateScheduler\n",
    "\n",
    "# Image processing\n",
    "from PIL import Image\n",
    "import cv2\n",
    "from skimage import exposure\n",
    "from scipy.ndimage import gaussian_filter\n",
    "\n",
    "# Sklearn\n",
    "from sklearn.model_selection import train_test_split\n",
    "from sklearn.utils.class_weight import compute_class_weight\n",
    "\n",
    "import torch"
   ]
  },
  {
   "cell_type": "markdown",
   "metadata": {},
   "source": [
    "### Configurations"
   ]
  },
  {
   "cell_type": "code",
   "execution_count": 3,
   "metadata": {},
   "outputs": [],
   "source": [
    "# Set seeds to ensure reproducibility\n",
    "np.random.seed(42)\n",
    "random.seed(42)\n",
    "tf.random.set_seed(42)\n",
    "\n",
    "torch.manual_seed(42)\n",
    "if torch.cuda.is_available():\n",
    "    torch.cuda.manual_seed(42)\n",
    "    torch.cuda.manual_seed_all(42)  # For multi-GPU setups"
   ]
  },
  {
   "cell_type": "code",
   "execution_count": 4,
   "metadata": {},
   "outputs": [],
   "source": [
    "# Set paths\n",
    "base_data_path = \"../../aws_s3/Idrid_224_CN/\"  # <-- Add path to the numpy files here\n",
    "output_path = \"output/\"  # <-- Add path to the output folder here"
   ]
  },
  {
   "cell_type": "code",
   "execution_count": 5,
   "metadata": {},
   "outputs": [],
   "source": [
    "# decide if we want to do validation or only Train-Test\n",
    "validation_flag = False"
   ]
  },
  {
   "cell_type": "code",
   "execution_count": 6,
   "metadata": {},
   "outputs": [],
   "source": [
    "# Augmentation config\n",
    "\n",
    "# decide whether to apply augmentation or not\n",
    "apply_augmentation = True\n",
    "\n",
    "# decide whether to apply brightness augmentation or not\n",
    "aug_br_flag = 1  # 1 = Augment Brightness, anything else = No Brightness Augmentation"
   ]
  },
  {
   "cell_type": "code",
   "execution_count": 7,
   "metadata": {},
   "outputs": [],
   "source": [
    "# Cross Testing\n",
    "\n",
    "# Decide if we are evaluating only 1 dataset or cross testing with other dataset as well\n",
    "cross_testing = True\n",
    "\n",
    "cross_data_path = (\n",
    "    \"../../aws_s3/messidor_224_CN/\"  # <-- Add path to the numpy files here\n",
    ")"
   ]
  },
  {
   "cell_type": "code",
   "execution_count": 8,
   "metadata": {},
   "outputs": [
    {
     "name": "stdout",
     "output_type": "stream",
     "text": [
      "Num GPUs Available: Physical GPUs= 1  | Logical GPUs= 1\n"
     ]
    },
    {
     "name": "stderr",
     "output_type": "stream",
     "text": [
      "2024-04-15 16:11:34.055088: I tensorflow/core/platform/cpu_feature_guard.cc:193] This TensorFlow binary is optimized with oneAPI Deep Neural Network Library (oneDNN) to use the following CPU instructions in performance-critical operations:  AVX2 FMA\n",
      "To enable them in other operations, rebuild TensorFlow with the appropriate compiler flags.\n",
      "2024-04-15 16:11:34.342007: I tensorflow/core/common_runtime/gpu/gpu_device.cc:1616] Created device /job:localhost/replica:0/task:0/device:GPU:0 with 6261 MB memory:  -> device: 0, name: Tesla V100-PCIE-16GB, pci bus id: 0001:00:00.0, compute capability: 7.0\n"
     ]
    }
   ],
   "source": [
    "# Configure GPU memory growth\n",
    "gpus = tf.config.experimental.list_physical_devices(\"GPU\")\n",
    "if gpus:\n",
    "    try:\n",
    "        # Set memory growth before initializing GPUs\n",
    "        for gpu in gpus:\n",
    "            tf.config.experimental.set_memory_growth(gpu, True)\n",
    "        logical_gpus = tf.config.experimental.list_logical_devices(\"GPU\")\n",
    "        print(\n",
    "            \"Num GPUs Available: Physical GPUs=\",\n",
    "            len(gpus),\n",
    "            \" | Logical GPUs=\",\n",
    "            len(logical_gpus),\n",
    "        )\n",
    "    except RuntimeError as e:\n",
    "        # Handle potential errors here\n",
    "        print(e)"
   ]
  },
  {
   "cell_type": "markdown",
   "metadata": {},
   "source": [
    "## Functions"
   ]
  },
  {
   "cell_type": "code",
   "execution_count": 9,
   "metadata": {},
   "outputs": [],
   "source": [
    "# To display a progress bar\n",
    "def update_progress(progress):\n",
    "    # progress is a float between 0 and 1\n",
    "\n",
    "    bar_length = 20\n",
    "    if isinstance(progress, int):\n",
    "        progress = float(progress)\n",
    "    if not isinstance(progress, float):\n",
    "        progress = 0\n",
    "    if progress < 0:\n",
    "        progress = 0\n",
    "    if progress >= 1:\n",
    "        progress = 1\n",
    "\n",
    "    block = int(round(bar_length * progress))\n",
    "    clear_output(wait=True)\n",
    "    text = \"Progress: [{0}] {1:.1f}%\".format(\n",
    "        \"#\" * block + \"-\" * (bar_length - block), progress * 100\n",
    "    )\n",
    "    print(text)"
   ]
  },
  {
   "cell_type": "code",
   "execution_count": 10,
   "metadata": {},
   "outputs": [],
   "source": [
    "## Augemntation Helper Fucntions\n",
    "## image is an np array of the image\n",
    "def rotate_image(image, angle):\n",
    "    height, width = image.shape[:2]\n",
    "    rotation_matrix = cv2.getRotationMatrix2D((width / 2, height / 2), angle, 1)\n",
    "    rotated_image = cv2.warpAffine(image, rotation_matrix, (width, height))\n",
    "    return rotated_image\n",
    "\n",
    "\n",
    "def flip_image(image):\n",
    "    flip_variations = [\n",
    "        (False, False),  # No flip\n",
    "        (True, False),  # Horizontal flip\n",
    "        (False, True),  # Vertical flip\n",
    "        (True, True),  # Both flips\n",
    "    ]\n",
    "\n",
    "    random.shuffle(flip_variations)\n",
    "    augmented_images = []\n",
    "\n",
    "    for flip_horizontal, flip_vertical in flip_variations[:4]:\n",
    "        if flip_horizontal and flip_vertical:\n",
    "            augmented_images.append(cv2.flip(image, -1))  # horizontal and vertical\n",
    "        elif flip_horizontal:\n",
    "            augmented_images.append(cv2.flip(image, 1))  # horizontal\n",
    "        elif flip_vertical:\n",
    "            augmented_images.append(cv2.flip(image, 0))  # vertical\n",
    "        else:\n",
    "            augmented_images.append(image)  # No flip\n",
    "\n",
    "    return augmented_images\n",
    "\n",
    "\n",
    "def shear_image(image, shear_range):\n",
    "    height, width = image.shape[:2]\n",
    "    shear_value = random.uniform(-shear_range, shear_range)\n",
    "\n",
    "    if shear_value < 0:\n",
    "        shear_matrix = np.array([[1, -shear_value, 0], [0, 1, 0]])\n",
    "    else:\n",
    "        shear_matrix = np.array([[1, shear_value, 0], [0, 1, 0]])\n",
    "\n",
    "    sheared_image = cv2.warpAffine(image, shear_matrix, (width, height))\n",
    "    return sheared_image\n",
    "\n",
    "\n",
    "def translate_image(image, translate_range):\n",
    "    height, width = image.shape[:2]\n",
    "\n",
    "    max_shift_x = int(width * 0.1)\n",
    "    max_shift_y = int(height * 0.1)\n",
    "\n",
    "    translate_x = random.randint(-max_shift_x, max_shift_x)\n",
    "    translate_y = random.randint(-max_shift_y, max_shift_y)\n",
    "\n",
    "    translation_matrix = np.array(\n",
    "        [[1, 0, translate_x], [0, 1, translate_y]], dtype=np.float32\n",
    "    )\n",
    "\n",
    "    translated_image = cv2.warpAffine(image, translation_matrix, (width, height))\n",
    "\n",
    "    return translated_image\n",
    "\n",
    "\n",
    "def adjust_brightness(image, brightness_range):\n",
    "    brightness_factor = 1.0 + random.uniform(-brightness_range, brightness_range)\n",
    "    adjusted_image = np.clip(image * brightness_factor, 0.25, 255).astype(np.uint8)\n",
    "    return adjusted_image"
   ]
  },
  {
   "cell_type": "code",
   "execution_count": 11,
   "metadata": {},
   "outputs": [],
   "source": [
    "## image parameter is an np array of an image\n",
    "## flag 1: includes brightness, 0 or any other value exludes it\n",
    "\n",
    "\n",
    "def augmented_fn2(image, flag):\n",
    "    augmented_images = []\n",
    "\n",
    "    for _ in range(4):\n",
    "        angle = random.uniform(-35, 35)\n",
    "        image_r = rotate_image(image, angle)\n",
    "        augmented_images.append(image_r)\n",
    "\n",
    "    image_f = flip_image(image)\n",
    "    augmented_images.extend(image_f)\n",
    "\n",
    "    for _ in range(4):\n",
    "        image_s = shear_image(image, shear_range=0.15)\n",
    "        augmented_images.append(image_s)\n",
    "\n",
    "    for _ in range(4):\n",
    "        image_t = translate_image(image, translate_range=0.1)\n",
    "        augmented_images.append(image_t)\n",
    "\n",
    "    if flag == 1:\n",
    "        for _ in range(4):\n",
    "            image_b = adjust_brightness(image, brightness_range=0.25)\n",
    "            augmented_images.append(image_b)\n",
    "\n",
    "    return np.array(augmented_images)"
   ]
  },
  {
   "cell_type": "markdown",
   "metadata": {},
   "source": [
    "## Data Preparation"
   ]
  },
  {
   "cell_type": "code",
   "execution_count": 12,
   "metadata": {},
   "outputs": [],
   "source": [
    "# Load the base data\n",
    "X_train = np.load(base_data_path + \"X_train.npy\")\n",
    "y_train = np.load(base_data_path + \"y_train.npy\")\n",
    "X_test = np.load(base_data_path + \"X_test.npy\")\n",
    "y_test = np.load(base_data_path + \"y_test.npy\")"
   ]
  },
  {
   "cell_type": "code",
   "execution_count": 13,
   "metadata": {},
   "outputs": [],
   "source": [
    "# load the cross data if cross testing is enabled\n",
    "if cross_testing:\n",
    "    X_cross = np.load(cross_data_path + \"X_test.npy\")\n",
    "    y_cross = np.load(cross_data_path + \"y_test.npy\")"
   ]
  },
  {
   "cell_type": "code",
   "execution_count": 14,
   "metadata": {},
   "outputs": [],
   "source": [
    "# Augmentation\n",
    "if apply_augmentation:\n",
    "    # temporarily store the augmented data\n",
    "    X_train_aug = []\n",
    "    y_train_aug = []\n",
    "\n",
    "    for i in range(len(X_train)):\n",
    "        X_train_aug.extend(augmented_fn2(X_train[i], aug_br_flag))\n",
    "        y_train_aug.extend([y_train[i]] * 20)\n",
    "\n",
    "    X_train = np.array(X_train_aug)\n",
    "    y_train = np.array(y_train_aug)"
   ]
  },
  {
   "cell_type": "code",
   "execution_count": 15,
   "metadata": {},
   "outputs": [
    {
     "name": "stdout",
     "output_type": "stream",
     "text": [
      "Data loaded and augmented successfully, the data shapes are:\n",
      "X_train shape: (9840, 224, 224, 3)\n",
      "y_train shape: (9840,)\n",
      "X_test shape: (24, 224, 224, 3)\n",
      "y_test shape: (24,)\n",
      "X_cross shape: (24, 224, 224, 3)\n",
      "y_cross shape: (24,)\n"
     ]
    }
   ],
   "source": [
    "# data validation\n",
    "\n",
    "assert X_train.shape[0] == y_train.shape[0]\n",
    "assert X_test.shape[0] == y_test.shape[0]\n",
    "assert X_train.shape[1:] == X_test.shape[1:]\n",
    "\n",
    "# Dimension check, for EfficientNetB0, the input shape is (224, 224, 3)\n",
    "assert X_train.shape[1:] == (224, 224, 3)\n",
    "\n",
    "# if cross testing is enabled, validate the cross data\n",
    "if cross_testing:\n",
    "    assert X_cross.shape[1:] == (224, 224, 3)\n",
    "    assert X_cross.shape[0] == y_cross.shape[0]\n",
    "\n",
    "print(\"Data loaded and augmented successfully, the data shapes are:\")\n",
    "print(\"X_train shape:\", X_train.shape)\n",
    "print(\"y_train shape:\", y_train.shape)\n",
    "print(\"X_test shape:\", X_test.shape)\n",
    "print(\"y_test shape:\", y_test.shape)\n",
    "if cross_testing:\n",
    "    print(\"X_cross shape:\", X_cross.shape)\n",
    "    print(\"y_cross shape:\", y_cross.shape)"
   ]
  },
  {
   "cell_type": "code",
   "execution_count": 16,
   "metadata": {},
   "outputs": [],
   "source": [
    "# splitting train data into train and validation if validation flag is enabled\n",
    "if validation_flag:\n",
    "    X_train, X_val, y_train, y_val = train_test_split(\n",
    "        X_train, y_train, test_size=0.2, random_state=42\n",
    "    )"
   ]
  },
  {
   "cell_type": "code",
   "execution_count": 17,
   "metadata": {},
   "outputs": [],
   "source": [
    "# # converting the data to tensor\n",
    "# X_train_tensor = torch.tensor(X_train, dtype=torch.float32)\n",
    "# y_train_tensor = torch.tensor(y_train, dtype=torch.long)\n",
    "# X_val_tensor = torch.tensor(X_val, dtype=torch.float32)\n",
    "# y_val_tensor = torch.tensor(y_val, dtype=torch.long)\n",
    "# X_test_tensor = torch.tensor(X_test, dtype=torch.float32)\n",
    "# y_test_tensor = torch.tensor(y_test, dtype=torch.long)"
   ]
  },
  {
   "cell_type": "markdown",
   "metadata": {},
   "source": [
    "## Model"
   ]
  },
  {
   "cell_type": "markdown",
   "metadata": {},
   "source": [
    "### Model Parameters"
   ]
  },
  {
   "cell_type": "code",
   "execution_count": 18,
   "metadata": {},
   "outputs": [],
   "source": [
    "num_classes = len(np.unique(y_train))\n",
    "epochs = 50\n",
    "batch_size = 32"
   ]
  },
  {
   "cell_type": "code",
   "execution_count": 19,
   "metadata": {},
   "outputs": [],
   "source": [
    "## converting the data to tf dataset for optimization and deleting the numpy arrays to free up memory\n",
    "if validation_flag:\n",
    "    # Converting validation data to tf data\n",
    "    val_dataset = tf.data.Dataset.from_tensor_slices((X_val, y_val)).batch(batch_size)\n",
    "    # del X_val, y_val\n",
    "\n",
    "# converting test data to tf dataset\n",
    "test_dataset = tf.data.Dataset.from_tensor_slices((X_test, y_test)).batch(batch_size)\n",
    "del X_test, y_test\n",
    "\n",
    "# Converting trainig Data to tf dataset\n",
    "train_dataset = tf.data.Dataset.from_tensor_slices((X_train, y_train))\n",
    "\n",
    "# Shuffle and batch the dataset\n",
    "train_dataset = train_dataset.shuffle(buffer_size=1024).batch(batch_size)\n",
    "del (X_train,)  # y_train\n",
    "\n",
    "\n",
    "# if cross testing is enabled, convert the cross data to tf dataset\n",
    "if cross_testing:\n",
    "    cross_dataset = tf.data.Dataset.from_tensor_slices((X_cross, y_cross)).batch(\n",
    "        batch_size\n",
    "    )\n",
    "    del X_cross, y_cross"
   ]
  },
  {
   "cell_type": "code",
   "execution_count": 20,
   "metadata": {},
   "outputs": [],
   "source": [
    "base_model = tf.keras.applications.EfficientNetB0(\n",
    "    include_top=False,\n",
    "    weights=\"imagenet\",  # Load weights pre-trained on ImageNet.\n",
    "    # input_tensor=None,\n",
    "    input_shape=(224, 224, 3),\n",
    "    pooling=\"avg\",\n",
    ")"
   ]
  },
  {
   "cell_type": "code",
   "execution_count": 21,
   "metadata": {},
   "outputs": [],
   "source": [
    "base_model.trainable = False"
   ]
  },
  {
   "cell_type": "code",
   "execution_count": 22,
   "metadata": {},
   "outputs": [
    {
     "name": "stdout",
     "output_type": "stream",
     "text": [
      "Model: \"model\"\n",
      "____________________________________________________________________________\n",
      " Layer (type)                Output Shape              Param #   Trainable  \n",
      "============================================================================\n",
      " input_2 (InputLayer)        [(None, 224, 224, 3)]     0         Y          \n",
      "                                                                            \n",
      " efficientnetb0 (Functional)  (None, 1280)             4049571   N          \n",
      "                                                                            \n",
      " dropout (Dropout)           (None, 1280)              0         Y          \n",
      "                                                                            \n",
      " dense (Dense)               (None, 1000)              1281000   Y          \n",
      "                                                                            \n",
      " dropout_1 (Dropout)         (None, 1000)              0         Y          \n",
      "                                                                            \n",
      " dense_1 (Dense)             (None, 500)               500500    Y          \n",
      "                                                                            \n",
      " dense_2 (Dense)             (None, 4)                 2004      Y          \n",
      "                                                                            \n",
      "============================================================================\n",
      "Total params: 5,833,075\n",
      "Trainable params: 1,783,504\n",
      "Non-trainable params: 4,049,571\n",
      "____________________________________________________________________________\n"
     ]
    }
   ],
   "source": [
    "# Define the inputs\n",
    "inputs = tf.keras.Input(shape=(224, 224, 3))\n",
    "\n",
    "# Ensure the base_model is running in inference mode.\n",
    "x = base_model(inputs, training=False)\n",
    "\n",
    "x = layers.Dropout(0.5)(x)  # Dropout layer with 50% dropout rate\n",
    "# Adding FC (Fully Connected) layers\n",
    "x = layers.Dense(1000)(x)\n",
    "x = layers.Dropout(0.5)(x)  # Another Dropout layer with 50% dropout rate\n",
    "# Adding FC (Fully Connected) layers\n",
    "x = layers.Dense(500)(x)\n",
    "\n",
    "# Adding a final layer with SoftMax activation for classification\n",
    "outputs = layers.Dense(num_classes, activation=\"softmax\")(x)\n",
    "\n",
    "# Creating the model\n",
    "model = tf.keras.Model(inputs=inputs, outputs=outputs)\n",
    "\n",
    "model.summary(show_trainable=True)"
   ]
  },
  {
   "cell_type": "code",
   "execution_count": 23,
   "metadata": {},
   "outputs": [],
   "source": [
    "# base learning rate\n",
    "base_learning_rate = 1e-4\n",
    "# maximum learning rate\n",
    "max_learning_rate = 1e-2\n",
    "\n",
    "# Create an instance of SGD optimizer with initial learning rate\n",
    "optimizer = SGD(learning_rate=base_learning_rate, momentum=0.9, clipnorm=1.0)\n",
    "\n",
    "\n",
    "# Function to compute class weights using TensorFlow\n",
    "def compute_class_weights(labels):\n",
    "    # Convert labels to a 1D tensor if not already\n",
    "    labels = tf.reshape(labels, [-1])\n",
    "\n",
    "    # Get unique classes and their indices and counts\n",
    "    unique_classes, _, class_counts = tf.unique_with_counts(labels)\n",
    "\n",
    "    # Compute total number of samples\n",
    "    total_samples = tf.reduce_sum(class_counts)\n",
    "\n",
    "    # Compute class weights as the inverse of the class frequencies\n",
    "    class_weights = total_samples / class_counts\n",
    "\n",
    "    # Create a class weights dictionary mapping class indices to their respective weights\n",
    "    class_weight_dict = dict(zip(unique_classes.numpy(), class_weights.numpy()))\n",
    "\n",
    "    return class_weight_dict\n",
    "\n",
    "\n",
    "class_weight_dict = compute_class_weights(y_train)\n",
    "\n",
    "\n",
    "# Create triangular learning rate scheduler\n",
    "def triangular_schedule(epoch):\n",
    "    \"\"\"Triangular learning rate scheduler.\"\"\"\n",
    "    cycle_length = 10  # Define the length of a cycle\n",
    "    cycle = math.floor(1 + epoch / (2 * cycle_length))\n",
    "    x = abs(epoch / cycle_length - 2 * cycle + 1)\n",
    "    lr = base_learning_rate + (max_learning_rate - base_learning_rate) * max(0, (1 - x))\n",
    "    return lr\n",
    "\n",
    "\n",
    "# When fitting the model, include the learning rate scheduler callback\n",
    "lr_scheduler = LearningRateScheduler(triangular_schedule)"
   ]
  },
  {
   "cell_type": "code",
   "execution_count": 24,
   "metadata": {},
   "outputs": [
    {
     "name": "stdout",
     "output_type": "stream",
     "text": [
      "Num GPUs Available:  1\n"
     ]
    }
   ],
   "source": [
    "print(\"Num GPUs Available: \", len(tf.config.list_physical_devices(\"GPU\")))"
   ]
  },
  {
   "cell_type": "code",
   "execution_count": 25,
   "metadata": {},
   "outputs": [
    {
     "name": "stdout",
     "output_type": "stream",
     "text": [
      "Fitting the top layer of the model\n"
     ]
    },
    {
     "name": "stdout",
     "output_type": "stream",
     "text": [
      "Epoch 1/50\n"
     ]
    },
    {
     "name": "stderr",
     "output_type": "stream",
     "text": [
      "2024-04-15 16:11:51.321404: I tensorflow/stream_executor/cuda/cuda_dnn.cc:384] Loaded cuDNN version 8902\n",
      "2024-04-15 16:11:51.434011: I tensorflow/core/platform/default/subprocess.cc:304] Start cannot spawn child process: No such file or directory\n"
     ]
    },
    {
     "name": "stdout",
     "output_type": "stream",
     "text": [
      "308/308 [==============================] - 14s 23ms/step - loss: 6.4043 - accuracy: 0.3051 - lr: 1.0000e-04\n",
      "Epoch 2/50\n",
      "308/308 [==============================] - 7s 22ms/step - loss: 5.0482 - accuracy: 0.4388 - lr: 0.0011\n",
      "Epoch 3/50\n",
      "308/308 [==============================] - 7s 22ms/step - loss: 4.2011 - accuracy: 0.5265 - lr: 0.0021\n",
      "Epoch 4/50\n",
      "308/308 [==============================] - 7s 22ms/step - loss: 3.8688 - accuracy: 0.5620 - lr: 0.0031\n",
      "Epoch 5/50\n",
      "308/308 [==============================] - 7s 22ms/step - loss: 3.8127 - accuracy: 0.5761 - lr: 0.0041\n",
      "Epoch 6/50\n",
      "308/308 [==============================] - 7s 22ms/step - loss: 3.8567 - accuracy: 0.5828 - lr: 0.0050\n",
      "Epoch 7/50\n",
      "308/308 [==============================] - 7s 22ms/step - loss: 3.8872 - accuracy: 0.5900 - lr: 0.0060\n",
      "Epoch 8/50\n",
      "308/308 [==============================] - 7s 22ms/step - loss: 4.0192 - accuracy: 0.5876 - lr: 0.0070\n",
      "Epoch 9/50\n",
      "308/308 [==============================] - 7s 22ms/step - loss: 4.1339 - accuracy: 0.5831 - lr: 0.0080\n",
      "Epoch 10/50\n",
      "308/308 [==============================] - 7s 22ms/step - loss: 4.3233 - accuracy: 0.5891 - lr: 0.0090\n",
      "Epoch 11/50\n",
      "308/308 [==============================] - 7s 22ms/step - loss: 4.6325 - accuracy: 0.5717 - lr: 0.0100\n",
      "Epoch 12/50\n",
      "308/308 [==============================] - 7s 22ms/step - loss: 4.5115 - accuracy: 0.5821 - lr: 0.0090\n",
      "Epoch 13/50\n",
      "308/308 [==============================] - 7s 22ms/step - loss: 4.4061 - accuracy: 0.5864 - lr: 0.0080\n",
      "Epoch 14/50\n",
      "308/308 [==============================] - 7s 22ms/step - loss: 4.3095 - accuracy: 0.5972 - lr: 0.0070\n",
      "Epoch 15/50\n",
      "308/308 [==============================] - 7s 22ms/step - loss: 4.5010 - accuracy: 0.5931 - lr: 0.0060\n",
      "Epoch 16/50\n",
      "308/308 [==============================] - 7s 22ms/step - loss: 4.6436 - accuracy: 0.5939 - lr: 0.0050\n",
      "Epoch 17/50\n",
      "308/308 [==============================] - 7s 22ms/step - loss: 4.3098 - accuracy: 0.5973 - lr: 0.0041\n",
      "Epoch 18/50\n",
      "308/308 [==============================] - 7s 22ms/step - loss: 4.1016 - accuracy: 0.6087 - lr: 0.0031\n",
      "Epoch 19/50\n",
      "308/308 [==============================] - 7s 22ms/step - loss: 4.0591 - accuracy: 0.6125 - lr: 0.0021\n",
      "Epoch 20/50\n",
      "308/308 [==============================] - 7s 22ms/step - loss: 4.0337 - accuracy: 0.6225 - lr: 0.0011\n",
      "Epoch 21/50\n",
      "308/308 [==============================] - 7s 22ms/step - loss: 3.8344 - accuracy: 0.6170 - lr: 1.0000e-04\n",
      "Epoch 22/50\n",
      "308/308 [==============================] - 7s 22ms/step - loss: 3.9366 - accuracy: 0.6276 - lr: 0.0011\n",
      "Epoch 23/50\n",
      "308/308 [==============================] - 7s 22ms/step - loss: 3.9632 - accuracy: 0.6208 - lr: 0.0021\n",
      "Epoch 24/50\n",
      "308/308 [==============================] - 7s 22ms/step - loss: 4.1962 - accuracy: 0.6062 - lr: 0.0031\n",
      "Epoch 25/50\n",
      "308/308 [==============================] - 7s 22ms/step - loss: 4.4056 - accuracy: 0.6092 - lr: 0.0041\n",
      "Epoch 26/50\n",
      "308/308 [==============================] - 7s 22ms/step - loss: 4.7162 - accuracy: 0.6021 - lr: 0.0050\n",
      "Epoch 27/50\n",
      "308/308 [==============================] - 7s 22ms/step - loss: 4.7986 - accuracy: 0.5925 - lr: 0.0060\n",
      "Epoch 28/50\n",
      "308/308 [==============================] - 7s 22ms/step - loss: 4.9929 - accuracy: 0.5851 - lr: 0.0070\n",
      "Epoch 29/50\n",
      "308/308 [==============================] - 7s 22ms/step - loss: 5.8231 - accuracy: 0.5740 - lr: 0.0080\n",
      "Epoch 30/50\n",
      "308/308 [==============================] - 7s 22ms/step - loss: 5.2317 - accuracy: 0.5919 - lr: 0.0090\n",
      "Epoch 31/50\n",
      "308/308 [==============================] - 7s 22ms/step - loss: 5.2690 - accuracy: 0.5927 - lr: 0.0100\n",
      "Epoch 32/50\n",
      "308/308 [==============================] - 7s 22ms/step - loss: 5.7170 - accuracy: 0.5786 - lr: 0.0090\n",
      "Epoch 33/50\n",
      "308/308 [==============================] - 7s 22ms/step - loss: 5.4257 - accuracy: 0.5935 - lr: 0.0080\n",
      "Epoch 34/50\n",
      "308/308 [==============================] - 7s 22ms/step - loss: 5.0194 - accuracy: 0.6155 - lr: 0.0070\n",
      "Epoch 35/50\n",
      "308/308 [==============================] - 7s 22ms/step - loss: 5.3019 - accuracy: 0.5970 - lr: 0.0060\n",
      "Epoch 36/50\n",
      "308/308 [==============================] - 7s 22ms/step - loss: 5.1873 - accuracy: 0.6171 - lr: 0.0050\n",
      "Epoch 37/50\n",
      "308/308 [==============================] - 7s 22ms/step - loss: 5.2969 - accuracy: 0.6077 - lr: 0.0041\n",
      "Epoch 38/50\n",
      "308/308 [==============================] - 7s 22ms/step - loss: 5.3994 - accuracy: 0.6098 - lr: 0.0031\n",
      "Epoch 39/50\n",
      "308/308 [==============================] - 7s 22ms/step - loss: 4.9360 - accuracy: 0.6303 - lr: 0.0021\n",
      "Epoch 40/50\n",
      "308/308 [==============================] - 7s 22ms/step - loss: 4.7052 - accuracy: 0.6293 - lr: 0.0011\n",
      "Epoch 41/50\n",
      "308/308 [==============================] - 7s 22ms/step - loss: 4.5531 - accuracy: 0.6329 - lr: 1.0000e-04\n",
      "Epoch 42/50\n",
      "308/308 [==============================] - 7s 22ms/step - loss: 4.9533 - accuracy: 0.6211 - lr: 0.0011\n",
      "Epoch 43/50\n",
      "308/308 [==============================] - 7s 22ms/step - loss: 5.0250 - accuracy: 0.6246 - lr: 0.0021\n",
      "Epoch 44/50\n",
      "308/308 [==============================] - 7s 22ms/step - loss: 5.1332 - accuracy: 0.6109 - lr: 0.0031\n",
      "Epoch 45/50\n",
      "308/308 [==============================] - 7s 22ms/step - loss: 5.6876 - accuracy: 0.5952 - lr: 0.0041\n",
      "Epoch 46/50\n",
      "308/308 [==============================] - 7s 22ms/step - loss: 6.0903 - accuracy: 0.5829 - lr: 0.0050\n",
      "Epoch 47/50\n",
      "308/308 [==============================] - 7s 22ms/step - loss: 6.6407 - accuracy: 0.5712 - lr: 0.0060\n",
      "Epoch 48/50\n",
      "308/308 [==============================] - 7s 22ms/step - loss: 7.2594 - accuracy: 0.5705 - lr: 0.0070\n",
      "Epoch 49/50\n",
      "308/308 [==============================] - 7s 22ms/step - loss: 7.9604 - accuracy: 0.5746 - lr: 0.0080\n",
      "Epoch 50/50\n",
      "308/308 [==============================] - 7s 22ms/step - loss: 7.1936 - accuracy: 0.5822 - lr: 0.0090\n"
     ]
    }
   ],
   "source": [
    "model.compile(\n",
    "    optimizer=optimizer, loss=\"sparse_categorical_crossentropy\", metrics=[\"accuracy\"]\n",
    ")\n",
    "\n",
    "print(\"Fitting the top layer of the model\")\n",
    "if validation_flag:\n",
    "    # training the model\n",
    "    history = model.fit(\n",
    "        # X_train_tensor,\n",
    "        # y_train_tensor,\n",
    "        train_dataset,\n",
    "        epochs=epochs,\n",
    "        validation_data=val_dataset,\n",
    "        class_weight=class_weight_dict,\n",
    "        # batch_size=batch_size,\n",
    "        callbacks=[lr_scheduler],\n",
    "    )\n",
    "else:\n",
    "    history = model.fit(\n",
    "        # X_train_tensor,\n",
    "        # y_train_tensor,\n",
    "        train_dataset,\n",
    "        epochs=epochs,\n",
    "        class_weight=class_weight_dict,\n",
    "        # batch_size=batch_size,\n",
    "        callbacks=[lr_scheduler],\n",
    "    )"
   ]
  },
  {
   "cell_type": "code",
   "execution_count": 26,
   "metadata": {},
   "outputs": [
    {
     "name": "stdout",
     "output_type": "stream",
     "text": [
      "Model: \"model\"\n",
      "____________________________________________________________________________\n",
      " Layer (type)                Output Shape              Param #   Trainable  \n",
      "============================================================================\n",
      " input_2 (InputLayer)        [(None, 224, 224, 3)]     0         Y          \n",
      "                                                                            \n",
      " efficientnetb0 (Functional)  (None, 1280)             4049571   Y          \n",
      "                                                                            \n",
      " dropout (Dropout)           (None, 1280)              0         Y          \n",
      "                                                                            \n",
      " dense (Dense)               (None, 1000)              1281000   Y          \n",
      "                                                                            \n",
      " dropout_1 (Dropout)         (None, 1000)              0         Y          \n",
      "                                                                            \n",
      " dense_1 (Dense)             (None, 500)               500500    Y          \n",
      "                                                                            \n",
      " dense_2 (Dense)             (None, 4)                 2004      Y          \n",
      "                                                                            \n",
      "============================================================================\n",
      "Total params: 5,833,075\n",
      "Trainable params: 5,791,052\n",
      "Non-trainable params: 42,023\n",
      "____________________________________________________________________________\n",
      "Fitting the end-to-end model\n",
      "Epoch 1/50\n",
      "308/308 [==============================] - 41s 87ms/step - loss: 4.8800 - accuracy: 0.6459 - lr: 1.0000e-04\n",
      "Epoch 2/50\n",
      "308/308 [==============================] - 26s 86ms/step - loss: 6.0939 - accuracy: 0.6272 - lr: 0.0011\n",
      "Epoch 3/50\n",
      "308/308 [==============================] - 26s 86ms/step - loss: 4.7289 - accuracy: 0.6931 - lr: 0.0021\n",
      "Epoch 4/50\n",
      "308/308 [==============================] - 26s 86ms/step - loss: 3.7949 - accuracy: 0.7633 - lr: 0.0031\n",
      "Epoch 5/50\n",
      "308/308 [==============================] - 26s 86ms/step - loss: 3.3517 - accuracy: 0.8005 - lr: 0.0041\n",
      "Epoch 6/50\n",
      "308/308 [==============================] - 26s 86ms/step - loss: 3.4094 - accuracy: 0.8182 - lr: 0.0050\n",
      "Epoch 7/50\n",
      "308/308 [==============================] - 26s 86ms/step - loss: 3.0300 - accuracy: 0.8489 - lr: 0.0060\n",
      "Epoch 8/50\n",
      "308/308 [==============================] - 26s 86ms/step - loss: 3.4129 - accuracy: 0.8367 - lr: 0.0070\n",
      "Epoch 9/50\n",
      "308/308 [==============================] - 26s 86ms/step - loss: 3.0672 - accuracy: 0.8331 - lr: 0.0080\n",
      "Epoch 10/50\n",
      "308/308 [==============================] - 26s 86ms/step - loss: 4.6974 - accuracy: 0.7803 - lr: 0.0090\n",
      "Epoch 11/50\n",
      "308/308 [==============================] - 26s 86ms/step - loss: 4.2995 - accuracy: 0.7991 - lr: 0.0100\n",
      "Epoch 12/50\n",
      "308/308 [==============================] - 26s 86ms/step - loss: 2.8741 - accuracy: 0.8661 - lr: 0.0090\n",
      "Epoch 13/50\n",
      "308/308 [==============================] - 26s 86ms/step - loss: 2.3102 - accuracy: 0.9027 - lr: 0.0080\n",
      "Epoch 14/50\n",
      "308/308 [==============================] - 26s 86ms/step - loss: 2.6594 - accuracy: 0.9113 - lr: 0.0070\n",
      "Epoch 15/50\n",
      "308/308 [==============================] - 26s 86ms/step - loss: 1.3024 - accuracy: 0.9467 - lr: 0.0060\n",
      "Epoch 16/50\n",
      "308/308 [==============================] - 26s 86ms/step - loss: 1.0747 - accuracy: 0.9660 - lr: 0.0050\n",
      "Epoch 17/50\n",
      "308/308 [==============================] - 26s 85ms/step - loss: 0.8443 - accuracy: 0.9750 - lr: 0.0041\n",
      "Epoch 18/50\n",
      "308/308 [==============================] - 26s 86ms/step - loss: 0.4328 - accuracy: 0.9867 - lr: 0.0031\n",
      "Epoch 19/50\n",
      "308/308 [==============================] - 26s 85ms/step - loss: 0.2812 - accuracy: 0.9913 - lr: 0.0021\n",
      "Epoch 20/50\n",
      "308/308 [==============================] - 26s 86ms/step - loss: 0.1705 - accuracy: 0.9940 - lr: 0.0011\n",
      "Epoch 21/50\n",
      "308/308 [==============================] - 26s 86ms/step - loss: 0.1230 - accuracy: 0.9942 - lr: 1.0000e-04\n",
      "Epoch 22/50\n",
      "308/308 [==============================] - 26s 86ms/step - loss: 0.1369 - accuracy: 0.9945 - lr: 0.0011\n",
      "Epoch 23/50\n",
      "308/308 [==============================] - 26s 86ms/step - loss: 0.2129 - accuracy: 0.9944 - lr: 0.0021\n",
      "Epoch 24/50\n",
      "308/308 [==============================] - 26s 86ms/step - loss: 0.4127 - accuracy: 0.9921 - lr: 0.0031\n",
      "Epoch 25/50\n",
      "308/308 [==============================] - 26s 86ms/step - loss: 0.4126 - accuracy: 0.9903 - lr: 0.0041\n",
      "Epoch 26/50\n",
      "308/308 [==============================] - 26s 86ms/step - loss: 0.7726 - accuracy: 0.9841 - lr: 0.0050\n",
      "Epoch 27/50\n",
      "308/308 [==============================] - 26s 86ms/step - loss: 0.9177 - accuracy: 0.9751 - lr: 0.0060\n",
      "Epoch 28/50\n",
      "308/308 [==============================] - 26s 86ms/step - loss: 1.8401 - accuracy: 0.9590 - lr: 0.0070\n",
      "Epoch 29/50\n",
      "308/308 [==============================] - 26s 86ms/step - loss: 2.0547 - accuracy: 0.9496 - lr: 0.0080\n",
      "Epoch 30/50\n",
      "308/308 [==============================] - 26s 86ms/step - loss: 2.8816 - accuracy: 0.9251 - lr: 0.0090\n",
      "Epoch 31/50\n",
      "308/308 [==============================] - 26s 86ms/step - loss: 3.4096 - accuracy: 0.8896 - lr: 0.0100\n",
      "Epoch 32/50\n",
      "308/308 [==============================] - 26s 86ms/step - loss: 2.7513 - accuracy: 0.9223 - lr: 0.0090\n",
      "Epoch 33/50\n",
      "308/308 [==============================] - 26s 86ms/step - loss: 2.5227 - accuracy: 0.9348 - lr: 0.0080\n",
      "Epoch 34/50\n",
      "308/308 [==============================] - 26s 86ms/step - loss: 1.7353 - accuracy: 0.9423 - lr: 0.0070\n",
      "Epoch 35/50\n",
      "308/308 [==============================] - 26s 86ms/step - loss: 1.1186 - accuracy: 0.9733 - lr: 0.0060\n",
      "Epoch 36/50\n",
      "308/308 [==============================] - 26s 86ms/step - loss: 0.9024 - accuracy: 0.9812 - lr: 0.0050\n",
      "Epoch 37/50\n",
      "308/308 [==============================] - 26s 86ms/step - loss: 0.6302 - accuracy: 0.9848 - lr: 0.0041\n",
      "Epoch 38/50\n",
      "308/308 [==============================] - 26s 86ms/step - loss: 0.5021 - accuracy: 0.9905 - lr: 0.0031\n",
      "Epoch 39/50\n",
      "308/308 [==============================] - 26s 86ms/step - loss: 0.4595 - accuracy: 0.9935 - lr: 0.0021\n",
      "Epoch 40/50\n",
      "308/308 [==============================] - 26s 86ms/step - loss: 0.3278 - accuracy: 0.9932 - lr: 0.0011\n",
      "Epoch 41/50\n",
      "308/308 [==============================] - 26s 86ms/step - loss: 0.1281 - accuracy: 0.9946 - lr: 1.0000e-04\n",
      "Epoch 42/50\n",
      "308/308 [==============================] - 26s 86ms/step - loss: 0.1679 - accuracy: 0.9954 - lr: 0.0011\n",
      "Epoch 43/50\n",
      "308/308 [==============================] - 26s 86ms/step - loss: 0.1763 - accuracy: 0.9964 - lr: 0.0021\n",
      "Epoch 44/50\n",
      "308/308 [==============================] - 26s 86ms/step - loss: 0.2308 - accuracy: 0.9943 - lr: 0.0031\n",
      "Epoch 45/50\n",
      "308/308 [==============================] - 26s 86ms/step - loss: 0.2896 - accuracy: 0.9936 - lr: 0.0041\n",
      "Epoch 46/50\n",
      "308/308 [==============================] - 26s 86ms/step - loss: 0.6154 - accuracy: 0.9890 - lr: 0.0050\n",
      "Epoch 47/50\n",
      "308/308 [==============================] - 26s 86ms/step - loss: 1.2245 - accuracy: 0.9819 - lr: 0.0060\n",
      "Epoch 48/50\n",
      "308/308 [==============================] - 26s 86ms/step - loss: 2.2000 - accuracy: 0.9707 - lr: 0.0070\n",
      "Epoch 49/50\n",
      "308/308 [==============================] - 26s 86ms/step - loss: 2.8567 - accuracy: 0.9543 - lr: 0.0080\n",
      "Epoch 50/50\n",
      "308/308 [==============================] - 26s 86ms/step - loss: 3.6396 - accuracy: 0.9286 - lr: 0.0090\n"
     ]
    }
   ],
   "source": [
    "# Unfreeze the base model\n",
    "base_model.trainable = True\n",
    "model.summary(show_trainable=True)\n",
    "\n",
    "# Re-instantiate the optimizer\n",
    "optimizer = SGD(learning_rate=base_learning_rate, momentum=0.9, clipnorm=1.0)\n",
    "\n",
    "model.compile(\n",
    "    optimizer=optimizer, loss=\"sparse_categorical_crossentropy\", metrics=[\"accuracy\"]\n",
    ")\n",
    "\n",
    "print(\"Fitting the end-to-end model\")\n",
    "# Train end-to-end. Stop before overfit\n",
    "if validation_flag:\n",
    "    # training the model\n",
    "    history = model.fit(\n",
    "        # X_train_tensor,\n",
    "        # y_train_tensor,\n",
    "        train_dataset,\n",
    "        epochs=epochs,\n",
    "        validation_data=val_dataset,\n",
    "        class_weight=class_weight_dict,\n",
    "        # batch_size=batch_size,\n",
    "        callbacks=[lr_scheduler],\n",
    "    )\n",
    "else:\n",
    "    history = model.fit(\n",
    "        # X_train_tensor,\n",
    "        # y_train_tensor,\n",
    "        train_dataset,\n",
    "        epochs=epochs,\n",
    "        class_weight=class_weight_dict,\n",
    "        # batch_size=batch_size,\n",
    "        callbacks=[lr_scheduler],\n",
    "    )"
   ]
  },
  {
   "cell_type": "code",
   "execution_count": 27,
   "metadata": {},
   "outputs": [
    {
     "name": "stdout",
     "output_type": "stream",
     "text": [
      "1/1 [==============================] - 2s 2s/step - loss: 17.5730 - accuracy: 0.5000\n",
      "1/1 [==============================] - 0s 27ms/step - loss: 19.3689 - accuracy: 0.2500\n",
      "Test Accuracies are: Self: 50.00% | Cross: 25.00% | Difference= 25.00%\n"
     ]
    }
   ],
   "source": [
    "# evaluating the model\n",
    "test_loss_self, test_acc_self = model.evaluate(test_dataset)\n",
    "\n",
    "if cross_testing:\n",
    "    test_loss_cross, test_acc_cross = model.evaluate(cross_dataset)\n",
    "    print(\n",
    "        f\"Test Accuracies are: Self: {test_acc_self:.2%} | Cross: {test_acc_cross:.2%} | Difference= {test_acc_self - test_acc_cross:.2%}\"\n",
    "    )\n",
    "else:\n",
    "    print(f\"Test Accuracy self:{test_acc_self:.2%}\")"
   ]
  }
 ],
 "metadata": {
  "kernelspec": {
   "display_name": "Python 3",
   "language": "python",
   "name": "python3"
  },
  "language_info": {
   "codemirror_mode": {
    "name": "ipython",
    "version": 3
   },
   "file_extension": ".py",
   "mimetype": "text/x-python",
   "name": "python",
   "nbconvert_exporter": "python",
   "pygments_lexer": "ipython3",
   "version": "3.10.12"
  }
 },
 "nbformat": 4,
 "nbformat_minor": 2
}
