{
 "cells": [
  {
   "cell_type": "markdown",
   "metadata": {},
   "source": [
    "# EfficientNet-B0"
   ]
  },
  {
   "cell_type": "markdown",
   "metadata": {},
   "source": [
    "For testing different combinations of pre-processing steps."
   ]
  },
  {
   "cell_type": "markdown",
   "metadata": {},
   "source": [
    "## Setup"
   ]
  },
  {
   "cell_type": "code",
   "execution_count": 1,
   "metadata": {},
   "outputs": [
    {
     "data": {
      "text/html": [
       "<script>Jupyter.notebook.kernel.restart()</script>"
      ]
     },
     "metadata": {},
     "output_type": "display_data"
    }
   ],
   "source": [
    "from IPython.display import display_html\n",
    "\n",
    "\n",
    "def restart_kernel():\n",
    "    display_html(\"<script>Jupyter.notebook.kernel.restart()</script>\", raw=True)\n",
    "\n",
    "\n",
    "restart_kernel()"
   ]
  },
  {
   "cell_type": "markdown",
   "metadata": {},
   "source": [
    "### Packages and Libraries"
   ]
  },
  {
   "cell_type": "code",
   "execution_count": 2,
   "metadata": {},
   "outputs": [
    {
     "name": "stderr",
     "output_type": "stream",
     "text": [
      "2024-04-17 23:52:26.663183: I tensorflow/core/platform/cpu_feature_guard.cc:193] This TensorFlow binary is optimized with oneAPI Deep Neural Network Library (oneDNN) to use the following CPU instructions in performance-critical operations:  AVX2 FMA\n",
      "To enable them in other operations, rebuild TensorFlow with the appropriate compiler flags.\n",
      "2024-04-17 23:52:29.863863: E tensorflow/stream_executor/cuda/cuda_blas.cc:2981] Unable to register cuBLAS factory: Attempting to register factory for plugin cuBLAS when one has already been registered\n",
      "2024-04-17 23:52:34.150870: W tensorflow/stream_executor/platform/default/dso_loader.cc:64] Could not load dynamic library 'libnvinfer.so.7'; dlerror: libnvinfer.so.7: cannot open shared object file: No such file or directory\n",
      "2024-04-17 23:52:34.151105: W tensorflow/stream_executor/platform/default/dso_loader.cc:64] Could not load dynamic library 'libnvinfer_plugin.so.7'; dlerror: libnvinfer_plugin.so.7: cannot open shared object file: No such file or directory\n",
      "2024-04-17 23:52:34.151127: W tensorflow/compiler/tf2tensorrt/utils/py_utils.cc:38] TF-TRT Warning: Cannot dlopen some TensorRT libraries. If you would like to use Nvidia GPU with TensorRT, please make sure the missing libraries mentioned above are installed properly.\n"
     ]
    }
   ],
   "source": [
    "# Basic imports\n",
    "import os\n",
    "import time\n",
    "import sys\n",
    "from IPython.display import clear_output\n",
    "import random\n",
    "import numpy as np\n",
    "\n",
    "import pandas as pd\n",
    "import math\n",
    "\n",
    "\n",
    "# Tensorflow and Keras\n",
    "import tensorflow as tf\n",
    "from tensorflow.keras import models, layers\n",
    "from tensorflow.keras.callbacks import EarlyStopping, ModelCheckpoint\n",
    "from tensorflow.keras.models import Sequential\n",
    "from tensorflow.keras.optimizers import SGD\n",
    "from tensorflow.keras.preprocessing.image import ImageDataGenerator\n",
    "from tensorflow.keras.callbacks import LearningRateScheduler\n",
    "\n",
    "# Image processing\n",
    "from PIL import Image\n",
    "import cv2\n",
    "from skimage import exposure\n",
    "from scipy.ndimage import gaussian_filter\n",
    "\n",
    "# Sklearn\n",
    "from sklearn.model_selection import train_test_split\n",
    "from sklearn.utils.class_weight import compute_class_weight\n",
    "\n",
    "import torch"
   ]
  },
  {
   "cell_type": "markdown",
   "metadata": {},
   "source": [
    "### Configurations"
   ]
  },
  {
   "cell_type": "markdown",
   "metadata": {},
   "source": [
    "### Static Configs\n",
    "Don't have to be changed for each run"
   ]
  },
  {
   "cell_type": "code",
   "execution_count": 3,
   "metadata": {},
   "outputs": [],
   "source": [
    "# Set seeds to ensure reproducibility\n",
    "np.random.seed(42)\n",
    "random.seed(42)\n",
    "tf.random.set_seed(42)\n",
    "\n",
    "torch.manual_seed(42)\n",
    "if torch.cuda.is_available():\n",
    "    torch.cuda.manual_seed(42)\n",
    "    torch.cuda.manual_seed_all(42)  # For multi-GPU setups"
   ]
  },
  {
   "cell_type": "code",
   "execution_count": 4,
   "metadata": {},
   "outputs": [
    {
     "name": "stdout",
     "output_type": "stream",
     "text": [
      "Num GPUs Available: Physical GPUs= 1  | Logical GPUs= 1\n"
     ]
    },
    {
     "name": "stderr",
     "output_type": "stream",
     "text": [
      "2024-04-17 23:52:50.409376: I tensorflow/core/platform/cpu_feature_guard.cc:193] This TensorFlow binary is optimized with oneAPI Deep Neural Network Library (oneDNN) to use the following CPU instructions in performance-critical operations:  AVX2 FMA\n",
      "To enable them in other operations, rebuild TensorFlow with the appropriate compiler flags.\n",
      "2024-04-17 23:52:50.931571: I tensorflow/core/common_runtime/gpu/gpu_device.cc:1616] Created device /job:localhost/replica:0/task:0/device:GPU:0 with 14791 MB memory:  -> device: 0, name: Tesla V100-PCIE-16GB, pci bus id: 0001:00:00.0, compute capability: 7.0\n"
     ]
    }
   ],
   "source": [
    "# Configure GPU memory growth\n",
    "gpus = tf.config.experimental.list_physical_devices(\"GPU\")\n",
    "if gpus:\n",
    "    try:\n",
    "        # Set memory growth before initializing GPUs\n",
    "        for gpu in gpus:\n",
    "            tf.config.experimental.set_memory_growth(gpu, True)\n",
    "        logical_gpus = tf.config.experimental.list_logical_devices(\"GPU\")\n",
    "        print(\n",
    "            \"Num GPUs Available: Physical GPUs=\",\n",
    "            len(gpus),\n",
    "            \" | Logical GPUs=\",\n",
    "            len(logical_gpus),\n",
    "        )\n",
    "    except RuntimeError as e:\n",
    "        # Handle potential errors here\n",
    "        print(e)"
   ]
  },
  {
   "cell_type": "markdown",
   "metadata": {},
   "source": [
    "### Dynamic Configs\n",
    "Change these for each run based on the experiment"
   ]
  },
  {
   "cell_type": "code",
   "execution_count": 5,
   "metadata": {},
   "outputs": [],
   "source": [
    "# Set paths\n",
    "base_data_path = (\n",
    "    \"../../aws_s3/messidor_224_Crop/\"  # <-- Add path to the numpy files here\n",
    ")\n",
    "output_path = \"output/\"  # <-- Add path to the output folder here"
   ]
  },
  {
   "cell_type": "code",
   "execution_count": 6,
   "metadata": {},
   "outputs": [],
   "source": [
    "# Cross Testing\n",
    "\n",
    "# Decide if we are evaluating only 1 dataset or cross testing with other dataset as well\n",
    "cross_testing = True\n",
    "\n",
    "cross_data_path = \"../../aws_s3/Idrid_224_Crop/\"  # <-- Add path to the numpy files here"
   ]
  },
  {
   "cell_type": "code",
   "execution_count": 7,
   "metadata": {},
   "outputs": [],
   "source": [
    "# Pre-processing steps\n",
    "# Choose if you want to perform each of the following pre-processing steps\n",
    "preprocess_IENR = False\n",
    "preprocess_Crop = True\n",
    "preprocess_CN = True"
   ]
  },
  {
   "cell_type": "code",
   "execution_count": 8,
   "metadata": {},
   "outputs": [],
   "source": [
    "# Augmentation config\n",
    "\n",
    "# decide whether to apply augmentation or not\n",
    "apply_augmentation = True\n",
    "\n",
    "# decide whether to apply brightness augmentation or not\n",
    "aug_br_flag = 1  # 1 = Augment Brightness, anything else = No Brightness Augmentation"
   ]
  },
  {
   "cell_type": "code",
   "execution_count": 9,
   "metadata": {},
   "outputs": [],
   "source": [
    "# decide if we want to do validation or only Train-Test\n",
    "validation_flag = True"
   ]
  },
  {
   "cell_type": "markdown",
   "metadata": {},
   "source": [
    "## Functions"
   ]
  },
  {
   "cell_type": "code",
   "execution_count": 10,
   "metadata": {},
   "outputs": [],
   "source": [
    "# To display a progress bar\n",
    "def update_progress(progress):\n",
    "    # progress is a float between 0 and 1\n",
    "\n",
    "    bar_length = 20\n",
    "    if isinstance(progress, int):\n",
    "        progress = float(progress)\n",
    "    if not isinstance(progress, float):\n",
    "        progress = 0\n",
    "    if progress < 0:\n",
    "        progress = 0\n",
    "    if progress >= 1:\n",
    "        progress = 1\n",
    "\n",
    "    block = int(round(bar_length * progress))\n",
    "    clear_output(wait=True)\n",
    "    text = \"Progress: [{0}] {1:.1f}%\".format(\n",
    "        \"#\" * block + \"-\" * (bar_length - block), progress * 100\n",
    "    )\n",
    "    print(text)"
   ]
  },
  {
   "cell_type": "code",
   "execution_count": 11,
   "metadata": {},
   "outputs": [],
   "source": [
    "# modified original function to directly take in a numpy array\n",
    "def crop_image(img_np, threshold=15, resize_flag=False, desired_size=(224, 224)):\n",
    "    # img_np = np.array(img)\n",
    "    assert img_np.shape == (224, 224, 3)\n",
    "    x_dim = img_np.shape[0]\n",
    "    y_dim = img_np.shape[1]\n",
    "    pixel_sums = img_np.sum(axis=2)\n",
    "    x_arr = pixel_sums.sum(axis=1)\n",
    "    y_arr = pixel_sums.sum(axis=0)\n",
    "    x_start = np.where(x_arr > threshold * y_dim)[0][0]\n",
    "    x_end = np.where(x_arr > threshold * y_dim)[0][-1]\n",
    "    y_start = np.where(y_arr > threshold * x_dim)[0][0]\n",
    "    y_end = np.where(y_arr > threshold * x_dim)[0][-1]\n",
    "    new_img = img_np[x_start:x_end, y_start:y_end]\n",
    "    new_img = Image.fromarray(new_img)\n",
    "    if resize_flag:\n",
    "        new_img = new_img.resize(desired_size)\n",
    "    return new_img"
   ]
  },
  {
   "cell_type": "code",
   "execution_count": 12,
   "metadata": {},
   "outputs": [],
   "source": [
    "# modified original function to directly take in a numpy array\n",
    "def normalize_image(img_np):\n",
    "    # Convert image to numpy array\n",
    "    # img_np = np.array(img)\n",
    "    assert img_np.shape == (224, 224, 3)\n",
    "    # Calculate mean and standard deviation (std) channel-wise\n",
    "    mean_channels = np.mean(img_np, axis=(0, 1))\n",
    "    std_channels = np.std(img_np, axis=(0, 1))\n",
    "\n",
    "    # Normalize each channel separately\n",
    "    normalized_image = np.zeros_like(img_np, dtype=np.float32)\n",
    "    for channel in range(img_np.shape[2]):\n",
    "        normalized_image[:, :, channel] = (\n",
    "            img_np[:, :, channel] - mean_channels[channel]\n",
    "        ) / std_channels[channel]\n",
    "\n",
    "    # Scale values to be within [0, 255]\n",
    "    normalized_image = (\n",
    "        (normalized_image - np.min(normalized_image))\n",
    "        / (np.max(normalized_image) - np.min(normalized_image))\n",
    "        * 255\n",
    "    )\n",
    "\n",
    "    # Clip and return the normalized image\n",
    "    normalized_image = np.clip(normalized_image, 0, 255)\n",
    "    return normalized_image.astype(np.uint8)"
   ]
  },
  {
   "cell_type": "code",
   "execution_count": 13,
   "metadata": {},
   "outputs": [],
   "source": [
    "## Augemntation Helper Fucntions\n",
    "## image is an np array of the image\n",
    "def rotate_image(image, angle):\n",
    "    height, width = image.shape[:2]\n",
    "    rotation_matrix = cv2.getRotationMatrix2D((width / 2, height / 2), angle, 1)\n",
    "    rotated_image = cv2.warpAffine(image, rotation_matrix, (width, height))\n",
    "    return rotated_image\n",
    "\n",
    "\n",
    "def flip_image(image):\n",
    "    flip_variations = [\n",
    "        (False, False),  # No flip\n",
    "        (True, False),  # Horizontal flip\n",
    "        (False, True),  # Vertical flip\n",
    "        (True, True),  # Both flips\n",
    "    ]\n",
    "\n",
    "    random.shuffle(flip_variations)\n",
    "    augmented_images = []\n",
    "\n",
    "    for flip_horizontal, flip_vertical in flip_variations[:4]:\n",
    "        if flip_horizontal and flip_vertical:\n",
    "            augmented_images.append(cv2.flip(image, -1))  # horizontal and vertical\n",
    "        elif flip_horizontal:\n",
    "            augmented_images.append(cv2.flip(image, 1))  # horizontal\n",
    "        elif flip_vertical:\n",
    "            augmented_images.append(cv2.flip(image, 0))  # vertical\n",
    "        else:\n",
    "            augmented_images.append(image)  # No flip\n",
    "\n",
    "    return augmented_images\n",
    "\n",
    "\n",
    "def shear_image(image, shear_range):\n",
    "    height, width = image.shape[:2]\n",
    "    shear_value = random.uniform(-shear_range, shear_range)\n",
    "\n",
    "    if shear_value < 0:\n",
    "        shear_matrix = np.array([[1, -shear_value, 0], [0, 1, 0]])\n",
    "    else:\n",
    "        shear_matrix = np.array([[1, shear_value, 0], [0, 1, 0]])\n",
    "\n",
    "    sheared_image = cv2.warpAffine(image, shear_matrix, (width, height))\n",
    "    return sheared_image\n",
    "\n",
    "\n",
    "def translate_image(image, translate_range):\n",
    "    height, width = image.shape[:2]\n",
    "\n",
    "    max_shift_x = int(width * 0.1)\n",
    "    max_shift_y = int(height * 0.1)\n",
    "\n",
    "    translate_x = random.randint(-max_shift_x, max_shift_x)\n",
    "    translate_y = random.randint(-max_shift_y, max_shift_y)\n",
    "\n",
    "    translation_matrix = np.array(\n",
    "        [[1, 0, translate_x], [0, 1, translate_y]], dtype=np.float32\n",
    "    )\n",
    "\n",
    "    translated_image = cv2.warpAffine(image, translation_matrix, (width, height))\n",
    "\n",
    "    return translated_image\n",
    "\n",
    "\n",
    "def adjust_brightness(image, brightness_range):\n",
    "    brightness_factor = 1.0 + random.uniform(-brightness_range, brightness_range)\n",
    "    adjusted_image = np.clip(image * brightness_factor, 0.25, 255).astype(np.uint8)\n",
    "    return adjusted_image"
   ]
  },
  {
   "cell_type": "code",
   "execution_count": 14,
   "metadata": {},
   "outputs": [],
   "source": [
    "## image parameter is an np array of an image\n",
    "## flag 1: includes brightness, 0 or any other value exludes it\n",
    "\n",
    "\n",
    "def augmented_fn2(image, flag):\n",
    "    augmented_images = []\n",
    "\n",
    "    for _ in range(4):\n",
    "        angle = random.uniform(-35, 35)\n",
    "        image_r = rotate_image(image, angle)\n",
    "        augmented_images.append(image_r)\n",
    "\n",
    "    image_f = flip_image(image)\n",
    "    augmented_images.extend(image_f)\n",
    "\n",
    "    for _ in range(4):\n",
    "        image_s = shear_image(image, shear_range=0.15)\n",
    "        augmented_images.append(image_s)\n",
    "\n",
    "    for _ in range(4):\n",
    "        image_t = translate_image(image, translate_range=0.1)\n",
    "        augmented_images.append(image_t)\n",
    "\n",
    "    if flag == 1:\n",
    "        for _ in range(4):\n",
    "            image_b = adjust_brightness(image, brightness_range=0.25)\n",
    "            augmented_images.append(image_b)\n",
    "\n",
    "    return np.array(augmented_images)"
   ]
  },
  {
   "cell_type": "markdown",
   "metadata": {},
   "source": [
    "## Data Preparation"
   ]
  },
  {
   "cell_type": "markdown",
   "metadata": {},
   "source": [
    "### Data Loading"
   ]
  },
  {
   "cell_type": "code",
   "execution_count": 15,
   "metadata": {},
   "outputs": [],
   "source": [
    "# Load the base data\n",
    "X_train = np.load(base_data_path + \"X_train.npy\")\n",
    "y_train = np.load(base_data_path + \"y_train.npy\")\n",
    "X_test = np.load(base_data_path + \"X_test.npy\")\n",
    "y_test = np.load(base_data_path + \"y_test.npy\")"
   ]
  },
  {
   "cell_type": "code",
   "execution_count": 16,
   "metadata": {},
   "outputs": [],
   "source": [
    "# load the cross data if cross testing is enabled\n",
    "if cross_testing:\n",
    "    X_cross = np.load(cross_data_path + \"X_test.npy\")\n",
    "    y_cross = np.load(cross_data_path + \"y_test.npy\")"
   ]
  },
  {
   "cell_type": "markdown",
   "metadata": {},
   "source": [
    "### Pre-processing"
   ]
  },
  {
   "cell_type": "code",
   "execution_count": 17,
   "metadata": {},
   "outputs": [],
   "source": [
    "# IENR\n",
    "if preprocess_IENR:\n",
    "    # no need to do anything here as the data should already be IENR one, so well just validate\n",
    "    assert \"IENR\" in base_data_path\n",
    "    assert \"IENR\" in cross_data_path"
   ]
  },
  {
   "cell_type": "code",
   "execution_count": 18,
   "metadata": {},
   "outputs": [],
   "source": [
    "# Crop\n",
    "if preprocess_Crop:\n",
    "    # This step is required only if the source data is IENR\n",
    "    if preprocess_IENR:\n",
    "        for i in range(X_train.shape[0]):\n",
    "            X_train[i] = crop_image(\n",
    "                X_train[i], threshold=15, resize_flag=True, desired_size=(224, 224)\n",
    "            )\n",
    "\n",
    "        for i in range(X_test.shape[0]):\n",
    "            X_test[i] = crop_image(\n",
    "                X_test[i], threshold=15, resize_flag=True, desired_size=(224, 224)\n",
    "            )\n",
    "\n",
    "        if cross_testing:\n",
    "            for i in range(X_cross.shape[0]):\n",
    "                X_cross[i] = crop_image(\n",
    "                    X_cross[i], threshold=15, resize_flag=True, desired_size=(224, 224)\n",
    "                )\n",
    "    else:\n",
    "        # confirm that the source file is not IENR but crop\n",
    "        assert \"Crop\" in base_data_path\n",
    "        assert \"Crop\" in cross_data_path"
   ]
  },
  {
   "cell_type": "code",
   "execution_count": 19,
   "metadata": {},
   "outputs": [],
   "source": [
    "# CN\n",
    "\n",
    "# CN is always the last step, so we don't have to check for the source file, we can directly do or not do the operation\n",
    "if preprocess_CN:\n",
    "    for i in range(X_train.shape[0]):\n",
    "        X_train[i] = normalize_image(X_train[i])\n",
    "    for i in range(X_test.shape[0]):\n",
    "        X_test[i] = normalize_image(X_test[i])\n",
    "\n",
    "    if cross_testing:\n",
    "        for i in range(X_cross.shape[0]):\n",
    "            X_cross[i] = normalize_image(X_cross[i])"
   ]
  },
  {
   "cell_type": "code",
   "execution_count": 20,
   "metadata": {},
   "outputs": [],
   "source": [
    "# Augmentation\n",
    "if apply_augmentation:\n",
    "    # temporarily store the augmented data\n",
    "    X_train_aug = []\n",
    "    y_train_aug = []\n",
    "\n",
    "    for i in range(len(X_train)):\n",
    "        X_train_aug.extend(augmented_fn2(X_train[i], aug_br_flag))\n",
    "        y_train_aug.extend([y_train[i]] * 20)\n",
    "\n",
    "    X_train = np.array(X_train_aug)\n",
    "    y_train = np.array(y_train_aug)"
   ]
  },
  {
   "cell_type": "markdown",
   "metadata": {},
   "source": [
    "### Validation and Splitting"
   ]
  },
  {
   "cell_type": "code",
   "execution_count": 21,
   "metadata": {},
   "outputs": [
    {
     "name": "stdout",
     "output_type": "stream",
     "text": [
      "Data loaded and augmented successfully, the data shapes are:\n",
      "X_train shape: (23260, 224, 224, 3)\n",
      "y_train shape: (23260,)\n",
      "X_test shape: (24, 224, 224, 3)\n",
      "y_test shape: (24,)\n",
      "X_cross shape: (24, 224, 224, 3)\n",
      "y_cross shape: (24,)\n"
     ]
    }
   ],
   "source": [
    "# data validation\n",
    "\n",
    "assert X_train.shape[0] == y_train.shape[0]\n",
    "assert X_test.shape[0] == y_test.shape[0]\n",
    "assert X_train.shape[1:] == X_test.shape[1:]\n",
    "\n",
    "# Dimension check, for EfficientNetB0, the input shape is (224, 224, 3)\n",
    "assert X_train.shape[1:] == (224, 224, 3)\n",
    "\n",
    "# if cross testing is enabled, validate the cross data\n",
    "if cross_testing:\n",
    "    assert X_cross.shape[1:] == (224, 224, 3)\n",
    "    assert X_cross.shape[0] == y_cross.shape[0]\n",
    "\n",
    "print(\"Data loaded and augmented successfully, the data shapes are:\")\n",
    "print(\"X_train shape:\", X_train.shape)\n",
    "print(\"y_train shape:\", y_train.shape)\n",
    "print(\"X_test shape:\", X_test.shape)\n",
    "print(\"y_test shape:\", y_test.shape)\n",
    "if cross_testing:\n",
    "    print(\"X_cross shape:\", X_cross.shape)\n",
    "    print(\"y_cross shape:\", y_cross.shape)"
   ]
  },
  {
   "cell_type": "code",
   "execution_count": 22,
   "metadata": {},
   "outputs": [],
   "source": [
    "# splitting train data into train and validation if validation flag is enabled\n",
    "if validation_flag:\n",
    "    X_train, X_val, y_train, y_val = train_test_split(\n",
    "        X_train, y_train, test_size=0.2, random_state=42\n",
    "    )"
   ]
  },
  {
   "cell_type": "markdown",
   "metadata": {},
   "source": [
    "## Model"
   ]
  },
  {
   "cell_type": "markdown",
   "metadata": {},
   "source": [
    "### Model Parameters"
   ]
  },
  {
   "cell_type": "code",
   "execution_count": 23,
   "metadata": {},
   "outputs": [],
   "source": [
    "num_classes = len(np.unique(y_train))\n",
    "epochs = 50\n",
    "batch_size = 32"
   ]
  },
  {
   "cell_type": "code",
   "execution_count": 24,
   "metadata": {},
   "outputs": [],
   "source": [
    "## converting the data to tf dataset for optimization and deleting the numpy arrays to free up memory\n",
    "if validation_flag:\n",
    "    # Converting validation data to tf data\n",
    "    val_dataset = tf.data.Dataset.from_tensor_slices((X_val, y_val)).batch(batch_size)\n",
    "    # del X_val, y_val\n",
    "\n",
    "# converting test data to tf dataset\n",
    "test_dataset = tf.data.Dataset.from_tensor_slices((X_test, y_test)).batch(batch_size)\n",
    "del X_test, y_test\n",
    "\n",
    "# Converting trainig Data to tf dataset\n",
    "train_dataset = tf.data.Dataset.from_tensor_slices((X_train, y_train))\n",
    "\n",
    "# Shuffle and batch the dataset\n",
    "train_dataset = train_dataset.shuffle(buffer_size=1024).batch(batch_size)\n",
    "del (X_train,)  # y_train\n",
    "\n",
    "\n",
    "# if cross testing is enabled, convert the cross data to tf dataset\n",
    "if cross_testing:\n",
    "    cross_dataset = tf.data.Dataset.from_tensor_slices((X_cross, y_cross)).batch(\n",
    "        batch_size\n",
    "    )\n",
    "    del X_cross, y_cross"
   ]
  },
  {
   "cell_type": "code",
   "execution_count": 25,
   "metadata": {},
   "outputs": [],
   "source": [
    "base_model = tf.keras.applications.EfficientNetB0(\n",
    "    include_top=False,\n",
    "    weights=\"imagenet\",  # Load weights pre-trained on ImageNet.\n",
    "    # input_tensor=None,\n",
    "    input_shape=(224, 224, 3),\n",
    "    pooling=\"avg\",\n",
    ")"
   ]
  },
  {
   "cell_type": "code",
   "execution_count": 26,
   "metadata": {},
   "outputs": [],
   "source": [
    "base_model.trainable = False"
   ]
  },
  {
   "cell_type": "code",
   "execution_count": 27,
   "metadata": {},
   "outputs": [
    {
     "name": "stdout",
     "output_type": "stream",
     "text": [
      "Model: \"model\"\n",
      "____________________________________________________________________________\n",
      " Layer (type)                Output Shape              Param #   Trainable  \n",
      "============================================================================\n",
      " input_2 (InputLayer)        [(None, 224, 224, 3)]     0         Y          \n",
      "                                                                            \n",
      " efficientnetb0 (Functional)  (None, 1280)             4049571   N          \n",
      "                                                                            \n",
      " dropout (Dropout)           (None, 1280)              0         Y          \n",
      "                                                                            \n",
      " dense (Dense)               (None, 1000)              1281000   Y          \n",
      "                                                                            \n",
      " dropout_1 (Dropout)         (None, 1000)              0         Y          \n",
      "                                                                            \n",
      " dense_1 (Dense)             (None, 500)               500500    Y          \n",
      "                                                                            \n",
      " dense_2 (Dense)             (None, 4)                 2004      Y          \n",
      "                                                                            \n",
      "============================================================================\n",
      "Total params: 5,833,075\n",
      "Trainable params: 1,783,504\n",
      "Non-trainable params: 4,049,571\n",
      "____________________________________________________________________________\n"
     ]
    }
   ],
   "source": [
    "# Define the inputs\n",
    "inputs = tf.keras.Input(shape=(224, 224, 3))\n",
    "\n",
    "# Ensure the base_model is running in inference mode.\n",
    "x = base_model(inputs, training=False)\n",
    "\n",
    "x = layers.Dropout(0.5)(x)  # Dropout layer with 50% dropout rate\n",
    "# Adding FC (Fully Connected) layers\n",
    "x = layers.Dense(1000)(x)\n",
    "x = layers.Dropout(0.5)(x)  # Another Dropout layer with 50% dropout rate\n",
    "# Adding FC (Fully Connected) layers\n",
    "x = layers.Dense(500)(x)\n",
    "\n",
    "# Adding a final layer with SoftMax activation for classification\n",
    "outputs = layers.Dense(num_classes, activation=\"softmax\")(x)\n",
    "\n",
    "# Creating the model\n",
    "model = tf.keras.Model(inputs=inputs, outputs=outputs)\n",
    "\n",
    "model.summary(show_trainable=True)"
   ]
  },
  {
   "cell_type": "code",
   "execution_count": 28,
   "metadata": {},
   "outputs": [],
   "source": [
    "# base learning rate\n",
    "base_learning_rate = 1e-4\n",
    "# maximum learning rate\n",
    "max_learning_rate = 1e-2\n",
    "\n",
    "# Create an instance of SGD optimizer with initial learning rate\n",
    "optimizer = SGD(learning_rate=base_learning_rate, momentum=0.9, clipnorm=1.0)\n",
    "\n",
    "\n",
    "# Function to compute class weights using TensorFlow\n",
    "def compute_class_weights(labels):\n",
    "    # Convert labels to a 1D tensor if not already\n",
    "    labels = tf.reshape(labels, [-1])\n",
    "\n",
    "    # Get unique classes and their indices and counts\n",
    "    unique_classes, _, class_counts = tf.unique_with_counts(labels)\n",
    "\n",
    "    # Compute total number of samples\n",
    "    total_samples = tf.reduce_sum(class_counts)\n",
    "\n",
    "    # Compute class weights as the inverse of the class frequencies\n",
    "    class_weights = total_samples / class_counts\n",
    "\n",
    "    # Create a class weights dictionary mapping class indices to their respective weights\n",
    "    class_weight_dict = dict(zip(unique_classes.numpy(), class_weights.numpy()))\n",
    "\n",
    "    return class_weight_dict\n",
    "\n",
    "\n",
    "class_weight_dict = compute_class_weights(y_train)\n",
    "\n",
    "\n",
    "# Create triangular learning rate scheduler\n",
    "def triangular_schedule(epoch):\n",
    "    \"\"\"Triangular learning rate scheduler.\"\"\"\n",
    "    cycle_length = 10  # Define the length of a cycle\n",
    "    cycle = math.floor(1 + epoch / (2 * cycle_length))\n",
    "    x = abs(epoch / cycle_length - 2 * cycle + 1)\n",
    "    lr = base_learning_rate + (max_learning_rate - base_learning_rate) * max(0, (1 - x))\n",
    "    return lr\n",
    "\n",
    "\n",
    "# When fitting the model, include the learning rate scheduler callback\n",
    "lr_scheduler = LearningRateScheduler(triangular_schedule)\n",
    "\n",
    "# early stopping\n",
    "early_stopping = EarlyStopping(\n",
    "    monitor=\"val_loss\",  # Monitors the validation loss\n",
    "    patience=10,  # Number of epochs with no improvement after which training will be stopped\n",
    "    restore_best_weights=True,  # Restores model weights from the epoch with the best value of the monitored quantity\n",
    "    verbose=1,  # Output messages about early stopping actions\n",
    ")"
   ]
  },
  {
   "cell_type": "code",
   "execution_count": 29,
   "metadata": {},
   "outputs": [
    {
     "name": "stdout",
     "output_type": "stream",
     "text": [
      "Num GPUs Available:  1\n"
     ]
    }
   ],
   "source": [
    "print(\"Num GPUs Available: \", len(tf.config.list_physical_devices(\"GPU\")))"
   ]
  },
  {
   "cell_type": "code",
   "execution_count": 30,
   "metadata": {},
   "outputs": [
    {
     "name": "stdout",
     "output_type": "stream",
     "text": [
      "Fitting the top layer of the model\n"
     ]
    },
    {
     "name": "stdout",
     "output_type": "stream",
     "text": [
      "Epoch 1/50\n"
     ]
    },
    {
     "name": "stderr",
     "output_type": "stream",
     "text": [
      "2024-04-17 23:53:27.613814: I tensorflow/stream_executor/cuda/cuda_dnn.cc:384] Loaded cuDNN version 8902\n",
      "2024-04-17 23:53:28.726870: I tensorflow/core/platform/default/subprocess.cc:304] Start cannot spawn child process: No such file or directory\n"
     ]
    },
    {
     "name": "stdout",
     "output_type": "stream",
     "text": [
      "582/582 [==============================] - 29s 31ms/step - loss: 1.5338 - accuracy: 0.3648 - val_loss: 1.1609 - val_accuracy: 0.5172 - lr: 1.0000e-04\n",
      "Epoch 2/50\n",
      "582/582 [==============================] - 16s 27ms/step - loss: 1.2315 - accuracy: 0.4960 - val_loss: 0.9770 - val_accuracy: 0.6129 - lr: 0.0011\n",
      "Epoch 3/50\n",
      "582/582 [==============================] - 16s 27ms/step - loss: 1.0901 - accuracy: 0.5583 - val_loss: 0.9409 - val_accuracy: 0.6354 - lr: 0.0021\n",
      "Epoch 4/50\n",
      "582/582 [==============================] - 16s 27ms/step - loss: 1.0389 - accuracy: 0.5773 - val_loss: 0.8977 - val_accuracy: 0.6402 - lr: 0.0031\n",
      "Epoch 5/50\n",
      "582/582 [==============================] - 16s 27ms/step - loss: 1.0197 - accuracy: 0.5869 - val_loss: 0.8829 - val_accuracy: 0.6477 - lr: 0.0041\n",
      "Epoch 6/50\n",
      "582/582 [==============================] - 16s 27ms/step - loss: 1.0145 - accuracy: 0.5910 - val_loss: 0.8774 - val_accuracy: 0.6445 - lr: 0.0050\n",
      "Epoch 7/50\n",
      "582/582 [==============================] - 16s 27ms/step - loss: 0.9960 - accuracy: 0.5958 - val_loss: 0.8657 - val_accuracy: 0.6638 - lr: 0.0060\n",
      "Epoch 8/50\n",
      "582/582 [==============================] - 15s 27ms/step - loss: 0.9936 - accuracy: 0.5989 - val_loss: 0.8690 - val_accuracy: 0.6614 - lr: 0.0070\n",
      "Epoch 9/50\n",
      "582/582 [==============================] - 16s 27ms/step - loss: 0.9973 - accuracy: 0.5983 - val_loss: 0.8586 - val_accuracy: 0.6677 - lr: 0.0080\n",
      "Epoch 10/50\n",
      "582/582 [==============================] - 16s 27ms/step - loss: 0.9925 - accuracy: 0.5980 - val_loss: 0.8497 - val_accuracy: 0.6634 - lr: 0.0090\n",
      "Epoch 11/50\n",
      "582/582 [==============================] - 16s 27ms/step - loss: 0.9915 - accuracy: 0.6023 - val_loss: 0.8796 - val_accuracy: 0.6440 - lr: 0.0100\n",
      "Epoch 12/50\n",
      "582/582 [==============================] - 16s 27ms/step - loss: 0.9791 - accuracy: 0.6067 - val_loss: 0.8379 - val_accuracy: 0.6698 - lr: 0.0090\n",
      "Epoch 13/50\n",
      "582/582 [==============================] - 15s 27ms/step - loss: 0.9685 - accuracy: 0.6124 - val_loss: 0.8468 - val_accuracy: 0.6584 - lr: 0.0080\n",
      "Epoch 14/50\n",
      "582/582 [==============================] - 16s 27ms/step - loss: 0.9477 - accuracy: 0.6204 - val_loss: 0.8298 - val_accuracy: 0.6672 - lr: 0.0070\n",
      "Epoch 15/50\n",
      "582/582 [==============================] - 16s 27ms/step - loss: 0.9433 - accuracy: 0.6215 - val_loss: 0.8401 - val_accuracy: 0.6761 - lr: 0.0060\n",
      "Epoch 16/50\n",
      "582/582 [==============================] - 16s 27ms/step - loss: 0.9334 - accuracy: 0.6256 - val_loss: 0.8097 - val_accuracy: 0.6827 - lr: 0.0050\n",
      "Epoch 17/50\n",
      "582/582 [==============================] - 15s 27ms/step - loss: 0.9209 - accuracy: 0.6255 - val_loss: 0.8278 - val_accuracy: 0.6799 - lr: 0.0041\n",
      "Epoch 18/50\n",
      "582/582 [==============================] - 15s 27ms/step - loss: 0.9128 - accuracy: 0.6306 - val_loss: 0.8115 - val_accuracy: 0.6752 - lr: 0.0031\n",
      "Epoch 19/50\n",
      "582/582 [==============================] - 15s 27ms/step - loss: 0.9059 - accuracy: 0.6349 - val_loss: 0.8149 - val_accuracy: 0.6849 - lr: 0.0021\n",
      "Epoch 20/50\n",
      "582/582 [==============================] - 15s 27ms/step - loss: 0.8939 - accuracy: 0.6400 - val_loss: 0.8028 - val_accuracy: 0.6825 - lr: 0.0011\n",
      "Epoch 21/50\n",
      "582/582 [==============================] - 16s 27ms/step - loss: 0.8883 - accuracy: 0.6414 - val_loss: 0.8008 - val_accuracy: 0.6849 - lr: 1.0000e-04\n",
      "Epoch 22/50\n",
      "582/582 [==============================] - 16s 27ms/step - loss: 0.8928 - accuracy: 0.6404 - val_loss: 0.7965 - val_accuracy: 0.6879 - lr: 0.0011\n",
      "Epoch 23/50\n",
      "582/582 [==============================] - 15s 26ms/step - loss: 0.8982 - accuracy: 0.6413 - val_loss: 0.8039 - val_accuracy: 0.6801 - lr: 0.0021\n",
      "Epoch 24/50\n",
      "582/582 [==============================] - 15s 26ms/step - loss: 0.9066 - accuracy: 0.6331 - val_loss: 0.8046 - val_accuracy: 0.6801 - lr: 0.0031\n",
      "Epoch 25/50\n",
      "582/582 [==============================] - 15s 26ms/step - loss: 0.9102 - accuracy: 0.6339 - val_loss: 0.8005 - val_accuracy: 0.6821 - lr: 0.0041\n",
      "Epoch 26/50\n",
      "582/582 [==============================] - 15s 26ms/step - loss: 0.9218 - accuracy: 0.6276 - val_loss: 0.7998 - val_accuracy: 0.6801 - lr: 0.0050\n",
      "Epoch 27/50\n",
      "582/582 [==============================] - 15s 27ms/step - loss: 0.9238 - accuracy: 0.6290 - val_loss: 0.8052 - val_accuracy: 0.6864 - lr: 0.0060\n",
      "Epoch 28/50\n",
      "582/582 [==============================] - 15s 26ms/step - loss: 0.9333 - accuracy: 0.6208 - val_loss: 0.8016 - val_accuracy: 0.6773 - lr: 0.0070\n",
      "Epoch 29/50\n",
      "582/582 [==============================] - 15s 26ms/step - loss: 0.9374 - accuracy: 0.6231 - val_loss: 0.8101 - val_accuracy: 0.6702 - lr: 0.0080\n",
      "Epoch 30/50\n",
      "582/582 [==============================] - 15s 26ms/step - loss: 0.9474 - accuracy: 0.6197 - val_loss: 0.8117 - val_accuracy: 0.6793 - lr: 0.0090\n",
      "Epoch 31/50\n",
      "582/582 [==============================] - 15s 27ms/step - loss: 0.9506 - accuracy: 0.6154 - val_loss: 0.7953 - val_accuracy: 0.6831 - lr: 0.0100\n",
      "Epoch 32/50\n",
      "582/582 [==============================] - 15s 26ms/step - loss: 0.9424 - accuracy: 0.6194 - val_loss: 0.8044 - val_accuracy: 0.6745 - lr: 0.0090\n",
      "Epoch 33/50\n",
      "582/582 [==============================] - 15s 26ms/step - loss: 0.9381 - accuracy: 0.6194 - val_loss: 0.7982 - val_accuracy: 0.6784 - lr: 0.0080\n",
      "Epoch 34/50\n",
      "582/582 [==============================] - 15s 26ms/step - loss: 0.9305 - accuracy: 0.6257 - val_loss: 0.8074 - val_accuracy: 0.6752 - lr: 0.0070\n",
      "Epoch 35/50\n",
      "582/582 [==============================] - 15s 26ms/step - loss: 0.9161 - accuracy: 0.6306 - val_loss: 0.7990 - val_accuracy: 0.6885 - lr: 0.0060\n",
      "Epoch 36/50\n",
      "582/582 [==============================] - 15s 27ms/step - loss: 0.9092 - accuracy: 0.6342 - val_loss: 0.7943 - val_accuracy: 0.6795 - lr: 0.0050\n",
      "Epoch 37/50\n",
      "582/582 [==============================] - 16s 27ms/step - loss: 0.8972 - accuracy: 0.6404 - val_loss: 0.7790 - val_accuracy: 0.6943 - lr: 0.0041\n",
      "Epoch 38/50\n",
      "582/582 [==============================] - 15s 26ms/step - loss: 0.8900 - accuracy: 0.6426 - val_loss: 0.7889 - val_accuracy: 0.6894 - lr: 0.0031\n",
      "Epoch 39/50\n",
      "582/582 [==============================] - 15s 27ms/step - loss: 0.8809 - accuracy: 0.6475 - val_loss: 0.7746 - val_accuracy: 0.6960 - lr: 0.0021\n",
      "Epoch 40/50\n",
      "582/582 [==============================] - 15s 26ms/step - loss: 0.8798 - accuracy: 0.6465 - val_loss: 0.7813 - val_accuracy: 0.6917 - lr: 0.0011\n",
      "Epoch 41/50\n",
      "582/582 [==============================] - 15s 27ms/step - loss: 0.8719 - accuracy: 0.6463 - val_loss: 0.7766 - val_accuracy: 0.6965 - lr: 1.0000e-04\n",
      "Epoch 42/50\n",
      "582/582 [==============================] - 15s 27ms/step - loss: 0.8707 - accuracy: 0.6479 - val_loss: 0.7771 - val_accuracy: 0.6963 - lr: 0.0011\n",
      "Epoch 43/50\n",
      "582/582 [==============================] - 15s 27ms/step - loss: 0.8801 - accuracy: 0.6476 - val_loss: 0.7739 - val_accuracy: 0.6965 - lr: 0.0021\n",
      "Epoch 44/50\n",
      "582/582 [==============================] - 15s 26ms/step - loss: 0.8857 - accuracy: 0.6452 - val_loss: 0.7777 - val_accuracy: 0.6924 - lr: 0.0031\n",
      "Epoch 45/50\n",
      "582/582 [==============================] - 15s 27ms/step - loss: 0.8952 - accuracy: 0.6392 - val_loss: 0.7769 - val_accuracy: 0.6894 - lr: 0.0041\n",
      "Epoch 46/50\n",
      "582/582 [==============================] - 15s 27ms/step - loss: 0.9028 - accuracy: 0.6384 - val_loss: 0.7803 - val_accuracy: 0.6965 - lr: 0.0050\n",
      "Epoch 47/50\n",
      "582/582 [==============================] - 15s 26ms/step - loss: 0.9063 - accuracy: 0.6346 - val_loss: 0.7981 - val_accuracy: 0.6739 - lr: 0.0060\n",
      "Epoch 48/50\n",
      "582/582 [==============================] - 15s 26ms/step - loss: 0.9128 - accuracy: 0.6350 - val_loss: 0.8095 - val_accuracy: 0.6745 - lr: 0.0070\n",
      "Epoch 49/50\n",
      "582/582 [==============================] - 15s 26ms/step - loss: 0.9231 - accuracy: 0.6265 - val_loss: 0.7846 - val_accuracy: 0.6965 - lr: 0.0080\n",
      "Epoch 50/50\n",
      "582/582 [==============================] - 15s 27ms/step - loss: 0.9256 - accuracy: 0.6248 - val_loss: 0.8006 - val_accuracy: 0.6797 - lr: 0.0090\n"
     ]
    }
   ],
   "source": [
    "model.compile(\n",
    "    optimizer=optimizer, loss=\"sparse_categorical_crossentropy\", metrics=[\"accuracy\"]\n",
    ")\n",
    "\n",
    "print(\"Fitting the top layer of the model\")\n",
    "if validation_flag:\n",
    "    # training the model\n",
    "    history = model.fit(\n",
    "        # X_train_tensor,\n",
    "        # y_train_tensor,\n",
    "        train_dataset,\n",
    "        epochs=epochs,\n",
    "        validation_data=val_dataset,\n",
    "        # class_weight=class_weight_dict,\n",
    "        # batch_size=batch_size,\n",
    "        callbacks=[lr_scheduler, early_stopping],\n",
    "    )\n",
    "else:\n",
    "    history = model.fit(\n",
    "        # X_train_tensor,\n",
    "        # y_train_tensor,\n",
    "        train_dataset,\n",
    "        epochs=epochs,\n",
    "        # class_weight=class_weight_dict,\n",
    "        # batch_size=batch_size,\n",
    "        callbacks=[lr_scheduler],\n",
    "    )"
   ]
  },
  {
   "cell_type": "code",
   "execution_count": 31,
   "metadata": {},
   "outputs": [
    {
     "name": "stdout",
     "output_type": "stream",
     "text": [
      "Model: \"model\"\n",
      "____________________________________________________________________________\n",
      " Layer (type)                Output Shape              Param #   Trainable  \n",
      "============================================================================\n",
      " input_2 (InputLayer)        [(None, 224, 224, 3)]     0         Y          \n",
      "                                                                            \n",
      " efficientnetb0 (Functional)  (None, 1280)             4049571   Y          \n",
      "                                                                            \n",
      " dropout (Dropout)           (None, 1280)              0         Y          \n",
      "                                                                            \n",
      " dense (Dense)               (None, 1000)              1281000   Y          \n",
      "                                                                            \n",
      " dropout_1 (Dropout)         (None, 1000)              0         Y          \n",
      "                                                                            \n",
      " dense_1 (Dense)             (None, 500)               500500    Y          \n",
      "                                                                            \n",
      " dense_2 (Dense)             (None, 4)                 2004      Y          \n",
      "                                                                            \n",
      "============================================================================\n",
      "Total params: 5,833,075\n",
      "Trainable params: 5,791,052\n",
      "Non-trainable params: 42,023\n",
      "____________________________________________________________________________\n",
      "Fitting the end-to-end model\n",
      "Epoch 1/50\n",
      "582/582 [==============================] - 69s 94ms/step - loss: 0.8380 - accuracy: 0.6640 - val_loss: 0.7191 - val_accuracy: 0.7111 - lr: 1.0000e-04\n",
      "Epoch 2/50\n",
      "582/582 [==============================] - 53s 91ms/step - loss: 0.7380 - accuracy: 0.7025 - val_loss: 0.6737 - val_accuracy: 0.7352 - lr: 0.0011\n",
      "Epoch 3/50\n",
      "582/582 [==============================] - 53s 91ms/step - loss: 0.5788 - accuracy: 0.7729 - val_loss: 0.3989 - val_accuracy: 0.8562 - lr: 0.0021\n",
      "Epoch 4/50\n",
      "582/582 [==============================] - 53s 91ms/step - loss: 0.3841 - accuracy: 0.8554 - val_loss: 0.3242 - val_accuracy: 0.8749 - lr: 0.0031\n",
      "Epoch 5/50\n",
      "582/582 [==============================] - 53s 91ms/step - loss: 0.2525 - accuracy: 0.9086 - val_loss: 0.1957 - val_accuracy: 0.9353 - lr: 0.0041\n",
      "Epoch 6/50\n",
      "582/582 [==============================] - 53s 91ms/step - loss: 0.1850 - accuracy: 0.9336 - val_loss: 0.2889 - val_accuracy: 0.9058 - lr: 0.0050\n",
      "Epoch 7/50\n",
      "582/582 [==============================] - 53s 91ms/step - loss: 0.1481 - accuracy: 0.9472 - val_loss: 0.1365 - val_accuracy: 0.9512 - lr: 0.0060\n",
      "Epoch 8/50\n",
      "582/582 [==============================] - 53s 91ms/step - loss: 0.1281 - accuracy: 0.9561 - val_loss: 0.2112 - val_accuracy: 0.9327 - lr: 0.0070\n",
      "Epoch 9/50\n",
      "582/582 [==============================] - 53s 90ms/step - loss: 0.1158 - accuracy: 0.9616 - val_loss: 0.1918 - val_accuracy: 0.9295 - lr: 0.0080\n",
      "Epoch 10/50\n",
      "582/582 [==============================] - 53s 91ms/step - loss: 0.1087 - accuracy: 0.9651 - val_loss: 0.1809 - val_accuracy: 0.9491 - lr: 0.0090\n",
      "Epoch 11/50\n",
      "582/582 [==============================] - 53s 90ms/step - loss: 0.0961 - accuracy: 0.9671 - val_loss: 0.1545 - val_accuracy: 0.9503 - lr: 0.0100\n",
      "Epoch 12/50\n",
      "582/582 [==============================] - 53s 91ms/step - loss: 0.0628 - accuracy: 0.9794 - val_loss: 0.1154 - val_accuracy: 0.9645 - lr: 0.0090\n",
      "Epoch 13/50\n",
      "582/582 [==============================] - 53s 91ms/step - loss: 0.0265 - accuracy: 0.9913 - val_loss: 0.0643 - val_accuracy: 0.9783 - lr: 0.0080\n",
      "Epoch 14/50\n",
      "582/582 [==============================] - 53s 91ms/step - loss: 0.0191 - accuracy: 0.9938 - val_loss: 0.0499 - val_accuracy: 0.9852 - lr: 0.0070\n",
      "Epoch 15/50\n",
      "582/582 [==============================] - 53s 90ms/step - loss: 0.0037 - accuracy: 0.9988 - val_loss: 0.0596 - val_accuracy: 0.9858 - lr: 0.0060\n",
      "Epoch 16/50\n",
      "582/582 [==============================] - 53s 90ms/step - loss: 0.0016 - accuracy: 0.9994 - val_loss: 0.0512 - val_accuracy: 0.9897 - lr: 0.0050\n",
      "Epoch 17/50\n",
      "582/582 [==============================] - 53s 90ms/step - loss: 1.7816e-04 - accuracy: 0.9999 - val_loss: 0.0514 - val_accuracy: 0.9897 - lr: 0.0041\n",
      "Epoch 18/50\n",
      "582/582 [==============================] - 53s 91ms/step - loss: 4.3136e-05 - accuracy: 1.0000 - val_loss: 0.0517 - val_accuracy: 0.9895 - lr: 0.0031\n",
      "Epoch 19/50\n",
      "582/582 [==============================] - 53s 90ms/step - loss: 3.1482e-05 - accuracy: 1.0000 - val_loss: 0.0522 - val_accuracy: 0.9897 - lr: 0.0021\n",
      "Epoch 20/50\n",
      "582/582 [==============================] - 53s 90ms/step - loss: 5.5201e-05 - accuracy: 1.0000 - val_loss: 0.0510 - val_accuracy: 0.9903 - lr: 0.0011\n",
      "Epoch 21/50\n",
      "582/582 [==============================] - 53s 90ms/step - loss: 3.3009e-05 - accuracy: 1.0000 - val_loss: 0.0509 - val_accuracy: 0.9903 - lr: 1.0000e-04\n",
      "Epoch 22/50\n",
      "582/582 [==============================] - 53s 90ms/step - loss: 2.2540e-05 - accuracy: 1.0000 - val_loss: 0.0511 - val_accuracy: 0.9903 - lr: 0.0011\n",
      "Epoch 23/50\n",
      "582/582 [==============================] - 53s 90ms/step - loss: 2.1674e-05 - accuracy: 1.0000 - val_loss: 0.0520 - val_accuracy: 0.9901 - lr: 0.0021\n",
      "Epoch 24/50\n",
      "582/582 [==============================] - ETA: 0s - loss: 1.5820e-05 - accuracy: 1.0000Restoring model weights from the end of the best epoch: 14.\n",
      "582/582 [==============================] - 53s 90ms/step - loss: 1.5820e-05 - accuracy: 1.0000 - val_loss: 0.0520 - val_accuracy: 0.9901 - lr: 0.0031\n",
      "Epoch 24: early stopping\n"
     ]
    }
   ],
   "source": [
    "# Unfreeze the base model\n",
    "base_model.trainable = True\n",
    "model.summary(show_trainable=True)\n",
    "\n",
    "# Re-instantiate the optimizer\n",
    "optimizer = SGD(learning_rate=base_learning_rate, momentum=0.9, clipnorm=1.0)\n",
    "\n",
    "model.compile(\n",
    "    optimizer=optimizer, loss=\"sparse_categorical_crossentropy\", metrics=[\"accuracy\"]\n",
    ")\n",
    "\n",
    "print(\"Fitting the end-to-end model\")\n",
    "# Train end-to-end. Stop before overfit\n",
    "if validation_flag:\n",
    "    # training the model\n",
    "    history = model.fit(\n",
    "        # X_train_tensor,\n",
    "        # y_train_tensor,\n",
    "        train_dataset,\n",
    "        epochs=epochs,\n",
    "        validation_data=val_dataset,\n",
    "        # class_weight=class_weight_dict,\n",
    "        # batch_size=batch_size,\n",
    "        callbacks=[lr_scheduler, early_stopping],\n",
    "    )\n",
    "else:\n",
    "    history = model.fit(\n",
    "        # X_train_tensor,\n",
    "        # y_train_tensor,\n",
    "        train_dataset,\n",
    "        epochs=epochs,\n",
    "        # class_weight=class_weight_dict,\n",
    "        # batch_size=batch_size,\n",
    "        callbacks=[lr_scheduler],\n",
    "    )"
   ]
  },
  {
   "cell_type": "code",
   "execution_count": 32,
   "metadata": {},
   "outputs": [
    {
     "name": "stdout",
     "output_type": "stream",
     "text": [
      "1/1 [==============================] - 0s 219ms/step - loss: 2.7813 - accuracy: 0.6250\n",
      "1/1 [==============================] - 0s 25ms/step - loss: 6.7536 - accuracy: 0.4583\n"
     ]
    }
   ],
   "source": [
    "# evaluating the model\n",
    "test_loss_self, test_acc_self = model.evaluate(test_dataset)\n",
    "\n",
    "if cross_testing:\n",
    "    test_loss_cross, test_acc_cross = model.evaluate(cross_dataset)"
   ]
  },
  {
   "cell_type": "markdown",
   "metadata": {},
   "source": [
    "## Results\n",
    "Make sure to verify the parameters while checking the results"
   ]
  },
  {
   "cell_type": "code",
   "execution_count": 33,
   "metadata": {},
   "outputs": [
    {
     "name": "stdout",
     "output_type": "stream",
     "text": [
      "Important Parameters:\n",
      "Base Data Path: ../../aws_s3/messidor_224_Crop/\n",
      "Cross Testing: True\n",
      "Cross Data Path: ../../aws_s3/Idrid_224_Crop/\n",
      "Preprocess IENR: False\n",
      "Preprocess Crop: True\n",
      "Preprocess CN: True\n",
      "Augmentation: True\n",
      "Validation: True\n"
     ]
    }
   ],
   "source": [
    "# Printiing the parameters for confirmation\n",
    "print(\"Important Parameters:\")\n",
    "print(\"Base Data Path:\", base_data_path)\n",
    "print(\"Cross Testing:\", cross_testing)\n",
    "if cross_testing:\n",
    "    print(\"Cross Data Path:\", cross_data_path)\n",
    "print(\"Preprocess IENR:\", preprocess_IENR)\n",
    "print(\"Preprocess Crop:\", preprocess_Crop)\n",
    "print(\"Preprocess CN:\", preprocess_CN)\n",
    "print(\"Augmentation:\", apply_augmentation)\n",
    "print(\"Validation:\", validation_flag)"
   ]
  },
  {
   "cell_type": "code",
   "execution_count": 34,
   "metadata": {},
   "outputs": [
    {
     "name": "stdout",
     "output_type": "stream",
     "text": [
      "Test Accuracies are: Self: 62.50% | Cross: 45.83% | Difference= 16.67%\n"
     ]
    }
   ],
   "source": [
    "if cross_testing:\n",
    "    print(\n",
    "        f\"Test Accuracies are: Self: {test_acc_self:.2%} | Cross: {test_acc_cross:.2%} | Difference= {test_acc_self - test_acc_cross:.2%}\"\n",
    "    )\n",
    "else:\n",
    "    print(f\"Test Accuracy self:{test_acc_self:.2%}\")"
   ]
  }
 ],
 "metadata": {
  "kernelspec": {
   "display_name": "Python 3",
   "language": "python",
   "name": "python3"
  },
  "language_info": {
   "codemirror_mode": {
    "name": "ipython",
    "version": 3
   },
   "file_extension": ".py",
   "mimetype": "text/x-python",
   "name": "python",
   "nbconvert_exporter": "python",
   "pygments_lexer": "ipython3",
   "version": "3.10.12"
  }
 },
 "nbformat": 4,
 "nbformat_minor": 2
}
