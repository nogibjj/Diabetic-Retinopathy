{
 "cells": [
  {
   "cell_type": "markdown",
   "metadata": {},
   "source": [
    "To read the zipped image files and convert them all to a standard size.\n",
    "once converted, they are converted to a numpy array and saved as a parquet file."
   ]
  },
  {
   "cell_type": "code",
   "execution_count": 1,
   "metadata": {},
   "outputs": [],
   "source": [
    "# importing all the required libraries\n",
    "import numpy as np\n",
    "import pandas as pd\n",
    "import zipfile\n",
    "import os\n",
    "import shutil\n",
    "from PIL import Image\n",
    "import pickle"
   ]
  },
  {
   "cell_type": "code",
   "execution_count": 2,
   "metadata": {},
   "outputs": [],
   "source": [
    "# setting default configuration options\n",
    "pd.set_option(\"mode.copy_on_write\", True)"
   ]
  },
  {
   "cell_type": "markdown",
   "metadata": {},
   "source": [
    "## Identifying Files"
   ]
  },
  {
   "cell_type": "code",
   "execution_count": 3,
   "metadata": {},
   "outputs": [],
   "source": [
    "path = \"/Users/revanth/Downloads/Messidor/\"  # update this if required"
   ]
  },
  {
   "cell_type": "code",
   "execution_count": 4,
   "metadata": {},
   "outputs": [
    {
     "data": {
      "text/plain": [
       "['Annotation_Base33.xls',\n",
       " 'Annotation_Base32.xls',\n",
       " 'Annotation_Base24.xls',\n",
       " 'Annotation_Base31.xls',\n",
       " 'Annotation_Base21.xls',\n",
       " '.DS_Store',\n",
       " 'Annotation_Base34.xls',\n",
       " 'Annotation_Base22.xls',\n",
       " 'Annotation_Base23.xls',\n",
       " 'Base11.zip',\n",
       " 'Base12.zip',\n",
       " 'Base13.zip',\n",
       " 'Base14.zip',\n",
       " 'Base24.zip',\n",
       " 'Base31.zip',\n",
       " 'Base33.zip',\n",
       " 'Base32.zip',\n",
       " 'Base22.zip',\n",
       " 'Base23.zip',\n",
       " 'Base21.zip',\n",
       " 'Base34.zip',\n",
       " 'Annotation_Base12.xls',\n",
       " 'Annotation_Base13.xls',\n",
       " 'Annotation_Base11.xls',\n",
       " 'Annotation_Base14.xls',\n",
       " 'temp_dir']"
      ]
     },
     "execution_count": 4,
     "metadata": {},
     "output_type": "execute_result"
    }
   ],
   "source": [
    "# lsiting all the files in the directory\n",
    "files = os.listdir(path)\n",
    "files"
   ]
  },
  {
   "cell_type": "code",
   "execution_count": 5,
   "metadata": {},
   "outputs": [
    {
     "data": {
      "text/plain": [
       "['Base11.zip',\n",
       " 'Base12.zip',\n",
       " 'Base13.zip',\n",
       " 'Base14.zip',\n",
       " 'Base21.zip',\n",
       " 'Base22.zip',\n",
       " 'Base23.zip',\n",
       " 'Base24.zip',\n",
       " 'Base31.zip',\n",
       " 'Base32.zip',\n",
       " 'Base33.zip',\n",
       " 'Base34.zip']"
      ]
     },
     "execution_count": 5,
     "metadata": {},
     "output_type": "execute_result"
    }
   ],
   "source": [
    "# filtering for only zip files\n",
    "zip_files = [\n",
    "    file for file in files if file.startswith(\"Base\") and file.endswith(\".zip\")\n",
    "]\n",
    "zip_files.sort()\n",
    "zip_files"
   ]
  },
  {
   "cell_type": "markdown",
   "metadata": {},
   "source": [
    "### Extracting the zip files"
   ]
  },
  {
   "cell_type": "code",
   "execution_count": 8,
   "metadata": {},
   "outputs": [],
   "source": [
    "# creating a temporary directory to extract the files\n",
    "\n",
    "# delete the temp directory if it already exists\n",
    "if os.path.exists(path + \"temp_dir/\"):\n",
    "    os.system(\"rm -rf \" + path + \"temp_dir/\")\n",
    "os.mkdir(path + \"temp_dir/\")\n",
    "temp_dir = path + \"temp_dir/\""
   ]
  },
  {
   "cell_type": "code",
   "execution_count": 9,
   "metadata": {},
   "outputs": [
    {
     "name": "stdout",
     "output_type": "stream",
     "text": [
      "Base11.zip extracted successfully\n",
      "Base12.zip extracted successfully\n",
      "Base13.zip extracted successfully\n",
      "Base14.zip extracted successfully\n",
      "Base21.zip extracted successfully\n",
      "Base22.zip extracted successfully\n",
      "Base23.zip extracted successfully\n",
      "Base24.zip extracted successfully\n",
      "Base31.zip extracted successfully\n",
      "Base32.zip extracted successfully\n",
      "Base33.zip extracted successfully\n",
      "Base34.zip extracted successfully\n"
     ]
    }
   ],
   "source": [
    "# extracting the contents of the zip files to the temporary directory\n",
    "for file in zip_files:\n",
    "    with zipfile.ZipFile(path + file, \"r\") as zip_ref:\n",
    "        zip_ref.extractall(temp_dir)\n",
    "        print(f\"{file} extracted successfully\")"
   ]
  },
  {
   "cell_type": "code",
   "execution_count": 10,
   "metadata": {},
   "outputs": [],
   "source": [
    "# if temp_dir has sub-folders, extract the contents of the subfolders to the temp_dir\n",
    "\n",
    "# traverse root directory, and list directories as dirs and files as files\n",
    "for root, dirs, files in os.walk(temp_dir):\n",
    "    path = root.split(os.sep)\n",
    "\n",
    "    for file in files:\n",
    "        if not os.path.isdir(file):\n",
    "\n",
    "            # move file from nested folder into the base folder\n",
    "            shutil.move(os.path.join(root, file), os.path.join(temp_dir, file))"
   ]
  },
  {
   "cell_type": "code",
   "execution_count": 13,
   "metadata": {},
   "outputs": [],
   "source": [
    "for root, dirs, files in os.walk(temp_dir):\n",
    "    # Deleting the sub-folders\n",
    "    for dir in dirs:\n",
    "        shutil.rmtree(os.path.join(root, dir))\n",
    "\n",
    "    # deleting all the excel files\n",
    "    for file in files:\n",
    "        if file.endswith(\".xls\"):\n",
    "            os.remove(os.path.join(root, file))"
   ]
  },
  {
   "cell_type": "markdown",
   "metadata": {},
   "source": [
    "## Image Loading"
   ]
  },
  {
   "cell_type": "code",
   "execution_count": 15,
   "metadata": {},
   "outputs": [
    {
     "name": "stdout",
     "output_type": "stream",
     "text": [
      "processed 100 images\n",
      "processed 200 images\n",
      "processed 300 images\n",
      "processed 400 images\n",
      "processed 500 images\n",
      "processed 600 images\n",
      "processed 700 images\n",
      "processed 800 images\n",
      "processed 900 images\n",
      "processed 1000 images\n",
      "processed 1100 images\n",
      "processed 1200 images\n"
     ]
    }
   ],
   "source": [
    "# empty dict to store the extracted images\n",
    "images = {}\n",
    "desired_size = (1440, 960)  # Modify this if required\n",
    "nums = 0\n",
    "path = temp_dir\n",
    "for files in os.listdir(path):\n",
    "    if files.endswith(\".tif\"):\n",
    "        img = Image.open(path + files)\n",
    "        images[files] = {\n",
    "            \"Image_ID\": files,\n",
    "            \"Original_Size\": img.size,\n",
    "            \"Image\": img.resize(desired_size),\n",
    "        }\n",
    "        nums += 1\n",
    "    if nums % 100 == 0:\n",
    "        print(f\"processed {nums} images\")"
   ]
  },
  {
   "cell_type": "markdown",
   "metadata": {},
   "source": [
    "## Sanity Checks"
   ]
  },
  {
   "cell_type": "code",
   "execution_count": 16,
   "metadata": {},
   "outputs": [],
   "source": [
    "# We should ahve 1200 images\n",
    "assert len(images) == 1200"
   ]
  },
  {
   "cell_type": "code",
   "execution_count": 17,
   "metadata": {},
   "outputs": [
    {
     "name": "stdout",
     "output_type": "stream",
     "text": [
      "Number of Base Images: 0\n",
      "Number of Non-Base Images: 1200\n"
     ]
    }
   ],
   "source": [
    "# check if all of them are loaded with the correct names\n",
    "num_base = 0\n",
    "unique_start = set()\n",
    "num_non_base = 0\n",
    "\n",
    "for name in images.keys():\n",
    "    if \"Base\" in name:\n",
    "        num_base += 1\n",
    "        unique_start.add(name.split(\"/\")[0])\n",
    "    else:\n",
    "        num_non_base += 1\n",
    "\n",
    "print(f\"Number of Base Images: {num_base}\")\n",
    "print(f\"Number of Non-Base Images: {num_non_base}\")"
   ]
  },
  {
   "cell_type": "code",
   "execution_count": 18,
   "metadata": {},
   "outputs": [
    {
     "data": {
      "text/plain": [
       "set()"
      ]
     },
     "execution_count": 18,
     "metadata": {},
     "output_type": "execute_result"
    }
   ],
   "source": [
    "# view images which are loaded with the incorrect names\n",
    "unique_start"
   ]
  },
  {
   "cell_type": "markdown",
   "metadata": {},
   "source": [
    "### Image Processing"
   ]
  },
  {
   "cell_type": "code",
   "execution_count": 19,
   "metadata": {},
   "outputs": [
    {
     "data": {
      "text/html": [
       "<div>\n",
       "<style scoped>\n",
       "    .dataframe tbody tr th:only-of-type {\n",
       "        vertical-align: middle;\n",
       "    }\n",
       "\n",
       "    .dataframe tbody tr th {\n",
       "        vertical-align: top;\n",
       "    }\n",
       "\n",
       "    .dataframe thead th {\n",
       "        text-align: right;\n",
       "    }\n",
       "</style>\n",
       "<table border=\"1\" class=\"dataframe\">\n",
       "  <thead>\n",
       "    <tr style=\"text-align: right;\">\n",
       "      <th></th>\n",
       "      <th>Image_ID</th>\n",
       "      <th>Original_Size</th>\n",
       "      <th>Image</th>\n",
       "    </tr>\n",
       "  </thead>\n",
       "  <tbody>\n",
       "    <tr>\n",
       "      <th>142</th>\n",
       "      <td>20051117_37051_0400_PP.tif</td>\n",
       "      <td>(1440, 960)</td>\n",
       "      <td>&lt;PIL.Image.Image image mode=RGB size=1440x960 ...</td>\n",
       "    </tr>\n",
       "    <tr>\n",
       "      <th>830</th>\n",
       "      <td>20051213_62251_0100_PP.tif</td>\n",
       "      <td>(2240, 1488)</td>\n",
       "      <td>&lt;PIL.Image.Image image mode=RGB size=1440x960 ...</td>\n",
       "    </tr>\n",
       "    <tr>\n",
       "      <th>845</th>\n",
       "      <td>20060410_40846_0200_PP.tif</td>\n",
       "      <td>(1440, 960)</td>\n",
       "      <td>&lt;PIL.Image.Image image mode=RGB size=1440x960 ...</td>\n",
       "    </tr>\n",
       "    <tr>\n",
       "      <th>624</th>\n",
       "      <td>20060523_48990_0100_PP.tif</td>\n",
       "      <td>(2240, 1488)</td>\n",
       "      <td>&lt;PIL.Image.Image image mode=RGB size=1440x960 ...</td>\n",
       "    </tr>\n",
       "    <tr>\n",
       "      <th>1057</th>\n",
       "      <td>20051205_33006_0400_PP.tif</td>\n",
       "      <td>(1440, 960)</td>\n",
       "      <td>&lt;PIL.Image.Image image mode=RGB size=1440x960 ...</td>\n",
       "    </tr>\n",
       "  </tbody>\n",
       "</table>\n",
       "</div>"
      ],
      "text/plain": [
       "                        Image_ID Original_Size  \\\n",
       "142   20051117_37051_0400_PP.tif   (1440, 960)   \n",
       "830   20051213_62251_0100_PP.tif  (2240, 1488)   \n",
       "845   20060410_40846_0200_PP.tif   (1440, 960)   \n",
       "624   20060523_48990_0100_PP.tif  (2240, 1488)   \n",
       "1057  20051205_33006_0400_PP.tif   (1440, 960)   \n",
       "\n",
       "                                                  Image  \n",
       "142   <PIL.Image.Image image mode=RGB size=1440x960 ...  \n",
       "830   <PIL.Image.Image image mode=RGB size=1440x960 ...  \n",
       "845   <PIL.Image.Image image mode=RGB size=1440x960 ...  \n",
       "624   <PIL.Image.Image image mode=RGB size=1440x960 ...  \n",
       "1057  <PIL.Image.Image image mode=RGB size=1440x960 ...  "
      ]
     },
     "execution_count": 19,
     "metadata": {},
     "output_type": "execute_result"
    }
   ],
   "source": [
    "# convert the list of images to a dataframe\n",
    "df = pd.DataFrame(images).T\n",
    "df.reset_index(drop=True, inplace=True)\n",
    "df.sample(5)"
   ]
  },
  {
   "cell_type": "code",
   "execution_count": 20,
   "metadata": {},
   "outputs": [],
   "source": [
    "# cleaning the names\n",
    "def clean_name(name):\n",
    "    if \"Base\" in name:\n",
    "        return name.split(\"/\")[1]\n",
    "    return name\n",
    "\n",
    "\n",
    "df[\"Image_ID\"] = df[\"Image_ID\"].apply(clean_name)"
   ]
  },
  {
   "cell_type": "code",
   "execution_count": 21,
   "metadata": {},
   "outputs": [
    {
     "data": {
      "text/plain": [
       "Original_Size\n",
       "(1440, 960)     588\n",
       "(2240, 1488)    400\n",
       "(2304, 1536)    212\n",
       "Name: count, dtype: int64"
      ]
     },
     "execution_count": 21,
     "metadata": {},
     "output_type": "execute_result"
    }
   ],
   "source": [
    "# viewing count of images with different sizes\n",
    "df[\"Original_Size\"].value_counts()"
   ]
  },
  {
   "cell_type": "code",
   "execution_count": 22,
   "metadata": {},
   "outputs": [],
   "source": [
    "# converting image to numpy array\n",
    "df[\"Image\"] = df[\"Image\"].apply(lambda x: np.array(x))"
   ]
  },
  {
   "cell_type": "code",
   "execution_count": 23,
   "metadata": {},
   "outputs": [
    {
     "data": {
      "text/html": [
       "<div>\n",
       "<style scoped>\n",
       "    .dataframe tbody tr th:only-of-type {\n",
       "        vertical-align: middle;\n",
       "    }\n",
       "\n",
       "    .dataframe tbody tr th {\n",
       "        vertical-align: top;\n",
       "    }\n",
       "\n",
       "    .dataframe thead th {\n",
       "        text-align: right;\n",
       "    }\n",
       "</style>\n",
       "<table border=\"1\" class=\"dataframe\">\n",
       "  <thead>\n",
       "    <tr style=\"text-align: right;\">\n",
       "      <th></th>\n",
       "      <th>Image_ID</th>\n",
       "      <th>Department</th>\n",
       "      <th>Retinopathy_Grade</th>\n",
       "      <th>Risk_of_Macular_Edema</th>\n",
       "      <th>Data_Source</th>\n",
       "    </tr>\n",
       "  </thead>\n",
       "  <tbody>\n",
       "    <tr>\n",
       "      <th>7</th>\n",
       "      <td>20051202_37199_0400_PP.tif</td>\n",
       "      <td>LaTIM - CHU de BREST</td>\n",
       "      <td>1</td>\n",
       "      <td>0</td>\n",
       "      <td>Messidor</td>\n",
       "    </tr>\n",
       "    <tr>\n",
       "      <th>797</th>\n",
       "      <td>20060412_52351_0200_PP.tif</td>\n",
       "      <td>CHU de St Etienne</td>\n",
       "      <td>0</td>\n",
       "      <td>0</td>\n",
       "      <td>Messidor</td>\n",
       "    </tr>\n",
       "    <tr>\n",
       "      <th>996</th>\n",
       "      <td>20060523_49859_0100_PP.tif</td>\n",
       "      <td>Service Ophtalmologie Lariboisière</td>\n",
       "      <td>3</td>\n",
       "      <td>0</td>\n",
       "      <td>Messidor</td>\n",
       "    </tr>\n",
       "    <tr>\n",
       "      <th>528</th>\n",
       "      <td>20051205_58458_0400_PP.tif</td>\n",
       "      <td>LaTIM - CHU de BREST</td>\n",
       "      <td>0</td>\n",
       "      <td>0</td>\n",
       "      <td>Messidor</td>\n",
       "    </tr>\n",
       "    <tr>\n",
       "      <th>995</th>\n",
       "      <td>20060523_49809_0100_PP.tif</td>\n",
       "      <td>Service Ophtalmologie Lariboisière</td>\n",
       "      <td>3</td>\n",
       "      <td>2</td>\n",
       "      <td>Messidor</td>\n",
       "    </tr>\n",
       "  </tbody>\n",
       "</table>\n",
       "</div>"
      ],
      "text/plain": [
       "                       Image_ID                          Department  \\\n",
       "7    20051202_37199_0400_PP.tif                LaTIM - CHU de BREST   \n",
       "797  20060412_52351_0200_PP.tif                   CHU de St Etienne   \n",
       "996  20060523_49859_0100_PP.tif  Service Ophtalmologie Lariboisière   \n",
       "528  20051205_58458_0400_PP.tif                LaTIM - CHU de BREST   \n",
       "995  20060523_49809_0100_PP.tif  Service Ophtalmologie Lariboisière   \n",
       "\n",
       "     Retinopathy_Grade  Risk_of_Macular_Edema Data_Source  \n",
       "7                    1                      0    Messidor  \n",
       "797                  0                      0    Messidor  \n",
       "996                  3                      0    Messidor  \n",
       "528                  0                      0    Messidor  \n",
       "995                  3                      2    Messidor  "
      ]
     },
     "execution_count": 23,
     "metadata": {},
     "output_type": "execute_result"
    }
   ],
   "source": [
    "# merging with the labels\n",
    "labels = pd.read_parquet(\"../02_Data/Extra/messidor_mapping.parquet\")\n",
    "labels.sample(5)"
   ]
  },
  {
   "cell_type": "code",
   "execution_count": 24,
   "metadata": {},
   "outputs": [],
   "source": [
    "# merging the labels\n",
    "df_final = pd.merge(\n",
    "    df, labels, on=\"Image_ID\", how=\"inner\", validate=\"1:1\", indicator=True\n",
    ")"
   ]
  },
  {
   "cell_type": "code",
   "execution_count": 25,
   "metadata": {},
   "outputs": [
    {
     "data": {
      "text/plain": [
       "_merge\n",
       "both          1200\n",
       "left_only        0\n",
       "right_only       0\n",
       "Name: count, dtype: int64"
      ]
     },
     "execution_count": 25,
     "metadata": {},
     "output_type": "execute_result"
    }
   ],
   "source": [
    "df_final[\"_merge\"].value_counts()"
   ]
  },
  {
   "cell_type": "code",
   "execution_count": 26,
   "metadata": {},
   "outputs": [
    {
     "data": {
      "text/html": [
       "<div>\n",
       "<style scoped>\n",
       "    .dataframe tbody tr th:only-of-type {\n",
       "        vertical-align: middle;\n",
       "    }\n",
       "\n",
       "    .dataframe tbody tr th {\n",
       "        vertical-align: top;\n",
       "    }\n",
       "\n",
       "    .dataframe thead th {\n",
       "        text-align: right;\n",
       "    }\n",
       "</style>\n",
       "<table border=\"1\" class=\"dataframe\">\n",
       "  <thead>\n",
       "    <tr style=\"text-align: right;\">\n",
       "      <th></th>\n",
       "      <th>Image_ID</th>\n",
       "      <th>Original_Size</th>\n",
       "      <th>Image</th>\n",
       "      <th>Department</th>\n",
       "      <th>Retinopathy_Grade</th>\n",
       "      <th>Risk_of_Macular_Edema</th>\n",
       "      <th>Data_Source</th>\n",
       "      <th>_merge</th>\n",
       "    </tr>\n",
       "  </thead>\n",
       "  <tbody>\n",
       "    <tr>\n",
       "      <th>962</th>\n",
       "      <td>20051020_44261_0100_PP.tif</td>\n",
       "      <td>(2240, 1488)</td>\n",
       "      <td>[[[1, 0, 1], [2, 0, 2], [2, 0, 2], [1, 0, 1], ...</td>\n",
       "      <td>Service Ophtalmologie Lariboisière</td>\n",
       "      <td>0</td>\n",
       "      <td>0</td>\n",
       "      <td>Messidor</td>\n",
       "      <td>both</td>\n",
       "    </tr>\n",
       "    <tr>\n",
       "      <th>693</th>\n",
       "      <td>20060412_61151_0200_PP.tif</td>\n",
       "      <td>(1440, 960)</td>\n",
       "      <td>[[[0, 1, 6], [1, 0, 5], [1, 0, 2], [0, 0, 0], ...</td>\n",
       "      <td>CHU de St Etienne</td>\n",
       "      <td>2</td>\n",
       "      <td>0</td>\n",
       "      <td>Messidor</td>\n",
       "      <td>both</td>\n",
       "    </tr>\n",
       "    <tr>\n",
       "      <th>628</th>\n",
       "      <td>20060411_58413_0200_PP.tif</td>\n",
       "      <td>(1440, 960)</td>\n",
       "      <td>[[[2, 0, 3], [1, 1, 1], [0, 1, 0], [0, 2, 1], ...</td>\n",
       "      <td>CHU de St Etienne</td>\n",
       "      <td>0</td>\n",
       "      <td>0</td>\n",
       "      <td>Messidor</td>\n",
       "      <td>both</td>\n",
       "    </tr>\n",
       "    <tr>\n",
       "      <th>639</th>\n",
       "      <td>20051214_41358_0100_PP.tif</td>\n",
       "      <td>(2240, 1488)</td>\n",
       "      <td>[[[2, 0, 2], [2, 0, 2], [2, 0, 2], [3, 1, 3], ...</td>\n",
       "      <td>Service Ophtalmologie Lariboisière</td>\n",
       "      <td>2</td>\n",
       "      <td>0</td>\n",
       "      <td>Messidor</td>\n",
       "      <td>both</td>\n",
       "    </tr>\n",
       "    <tr>\n",
       "      <th>270</th>\n",
       "      <td>20060523_43267_0100_PP.tif</td>\n",
       "      <td>(2240, 1488)</td>\n",
       "      <td>[[[1, 0, 1], [1, 0, 1], [2, 0, 2], [1, 0, 1], ...</td>\n",
       "      <td>Service Ophtalmologie Lariboisière</td>\n",
       "      <td>2</td>\n",
       "      <td>1</td>\n",
       "      <td>Messidor</td>\n",
       "      <td>both</td>\n",
       "    </tr>\n",
       "  </tbody>\n",
       "</table>\n",
       "</div>"
      ],
      "text/plain": [
       "                       Image_ID Original_Size  \\\n",
       "962  20051020_44261_0100_PP.tif  (2240, 1488)   \n",
       "693  20060412_61151_0200_PP.tif   (1440, 960)   \n",
       "628  20060411_58413_0200_PP.tif   (1440, 960)   \n",
       "639  20051214_41358_0100_PP.tif  (2240, 1488)   \n",
       "270  20060523_43267_0100_PP.tif  (2240, 1488)   \n",
       "\n",
       "                                                 Image  \\\n",
       "962  [[[1, 0, 1], [2, 0, 2], [2, 0, 2], [1, 0, 1], ...   \n",
       "693  [[[0, 1, 6], [1, 0, 5], [1, 0, 2], [0, 0, 0], ...   \n",
       "628  [[[2, 0, 3], [1, 1, 1], [0, 1, 0], [0, 2, 1], ...   \n",
       "639  [[[2, 0, 2], [2, 0, 2], [2, 0, 2], [3, 1, 3], ...   \n",
       "270  [[[1, 0, 1], [1, 0, 1], [2, 0, 2], [1, 0, 1], ...   \n",
       "\n",
       "                             Department  Retinopathy_Grade  \\\n",
       "962  Service Ophtalmologie Lariboisière                  0   \n",
       "693                   CHU de St Etienne                  2   \n",
       "628                   CHU de St Etienne                  0   \n",
       "639  Service Ophtalmologie Lariboisière                  2   \n",
       "270  Service Ophtalmologie Lariboisière                  2   \n",
       "\n",
       "     Risk_of_Macular_Edema Data_Source _merge  \n",
       "962                      0    Messidor   both  \n",
       "693                      0    Messidor   both  \n",
       "628                      0    Messidor   both  \n",
       "639                      0    Messidor   both  \n",
       "270                      1    Messidor   both  "
      ]
     },
     "execution_count": 26,
     "metadata": {},
     "output_type": "execute_result"
    }
   ],
   "source": [
    "df_final.sample(5)"
   ]
  },
  {
   "cell_type": "code",
   "execution_count": 27,
   "metadata": {},
   "outputs": [],
   "source": [
    "# dropping the merge column\n",
    "df_final.drop(columns=\"_merge\", inplace=True)"
   ]
  },
  {
   "cell_type": "code",
   "execution_count": 28,
   "metadata": {},
   "outputs": [],
   "source": [
    "# saving the final dataframe as a pickle file\n",
    "with open(\"/Users/revanth/Documents/messidor_base.pkl\", \"wb\") as f:\n",
    "    pickle.dump(df_final, f)"
   ]
  },
  {
   "cell_type": "code",
   "execution_count": 29,
   "metadata": {},
   "outputs": [],
   "source": [
    "# cleaning up the temporary directory\n",
    "shutil.rmtree(temp_dir)"
   ]
  }
 ],
 "metadata": {
  "kernelspec": {
   "display_name": "base",
   "language": "python",
   "name": "python3"
  },
  "language_info": {
   "codemirror_mode": {
    "name": "ipython",
    "version": 3
   },
   "file_extension": ".py",
   "mimetype": "text/x-python",
   "name": "python",
   "nbconvert_exporter": "python",
   "pygments_lexer": "ipython3",
   "version": "3.11.5"
  }
 },
 "nbformat": 4,
 "nbformat_minor": 2
}
