{
 "cells": [
  {
   "cell_type": "code",
   "execution_count": 1,
   "metadata": {},
   "outputs": [],
   "source": [
    "from PIL import Image\n",
    "\n",
    "for i in range(1, 414):\n",
    "    num = str(i).zfill(3)\n",
    "    im = Image.open(f\"1. Original Images/a. Training Set/IDriD_{num}.jpg\")\n",
    "    resized_image = im.resize((512, 512))\n",
    "    resized_image.save(f\"resized/a_training/IDriD_{num}.jpg\")"
   ]
  },
  {
   "cell_type": "code",
   "execution_count": 2,
   "metadata": {},
   "outputs": [],
   "source": [
    "from PIL import Image\n",
    "\n",
    "for i in range(1, 104):\n",
    "    num = str(i).zfill(3)\n",
    "    im = Image.open(f\"1. Original Images/b. Testing Set/IDriD_{num}.jpg\")\n",
    "    resized_image = im.resize((512, 512))\n",
    "    num2 = 413 + i\n",
    "    resized_image.save(f\"resized/b_testing/IDriD_{num2}.jpg\")"
   ]
  },
  {
   "cell_type": "code",
   "execution_count": 3,
   "metadata": {},
   "outputs": [],
   "source": [
    "# import pandas as pd\n",
    "#\n",
    "# training = pd.read_csv(\"2. Groundtruths/a. IDRiD_Disease Grading_Training Labels.csv\")\n",
    "# testing = pd.read_csv(\"2. Groundtruths/b. IDRiD_Disease Grading_Testing Labels.csv\")"
   ]
  },
  {
   "cell_type": "code",
   "execution_count": null,
   "metadata": {},
   "outputs": [],
   "source": [
    "# Change image names\n",
    "# testing[\"Image name\"] = testing[\"Image name\"].apply(\n",
    "#    lambda x: \"IDRiD_\" + str(int(x.split(\"_\")[1]) + 413).zfill(3)\n",
    "# )\n",
    "# testing[\"split_type\"] = \"testing\"\n",
    "#\n",
    "# training = training[[\"Image name\", \"Retinopathy grade\", \"Risk of macular edema \"]]\n",
    "# training[\"split_type\"] = \"training\""
   ]
  },
  {
   "cell_type": "code",
   "execution_count": 48,
   "metadata": {},
   "outputs": [],
   "source": [
    "# combined = pd.concat([training, testing], ignore_index=True)\n",
    "# combined.to_csv(\"resized/test_split_image_key.csv\")"
   ]
  },
  {
   "cell_type": "markdown",
   "metadata": {},
   "source": [
    "### Recode retinopathy grade to match mesidor"
   ]
  },
  {
   "cell_type": "code",
   "execution_count": 1,
   "metadata": {},
   "outputs": [
    {
     "data": {
      "text/plain": [
       "Index(['Unnamed: 0', 'Image name', 'Retinopathy grade',\n",
       "       'Risk of macular edema ', 'split_type'],\n",
       "      dtype='object')"
      ]
     },
     "execution_count": 1,
     "metadata": {},
     "output_type": "execute_result"
    }
   ],
   "source": [
    "import pandas as pd\n",
    "import numpy as np\n",
    "\n",
    "recat = pd.read_csv(\"resized/test_split_image_key.csv\")"
   ]
  },
  {
   "cell_type": "code",
   "execution_count": 2,
   "metadata": {},
   "outputs": [],
   "source": [
    "recat = recat[\n",
    "    [\"Image name\", \"Retinopathy grade\", \"Risk of macular edema \", \"split_type\"]\n",
    "]"
   ]
  },
  {
   "cell_type": "code",
   "execution_count": 3,
   "metadata": {},
   "outputs": [],
   "source": [
    "recat[\"Retinopathy grade new\"] = recat[\"Retinopathy grade\"].map(\n",
    "    {0: 0, 1: 1, 2: 2, 3: 2, 4: 3}\n",
    ")"
   ]
  },
  {
   "cell_type": "markdown",
   "metadata": {},
   "source": [
    "### Train test split"
   ]
  },
  {
   "cell_type": "code",
   "execution_count": 4,
   "metadata": {},
   "outputs": [],
   "source": [
    "recat[\"split\"] = \"train\"\n",
    "\n",
    "\n",
    "def assign_test_indices(group):\n",
    "    test_indices = np.random.choice(group.index, size=min(6, len(group)), replace=False)\n",
    "    group.loc[test_indices, \"split\"] = \"test\"\n",
    "    return group\n",
    "\n",
    "\n",
    "recat = recat.groupby(\"Retinopathy grade new\").apply(assign_test_indices)\n",
    "\n",
    "recat = recat.sample(frac=1).reset_index(drop=True)"
   ]
  },
  {
   "cell_type": "code",
   "execution_count": 10,
   "metadata": {},
   "outputs": [
    {
     "data": {
      "text/plain": [
       "Retinopathy grade new  split\n",
       "0                      test       6\n",
       "                       train    162\n",
       "1                      test       6\n",
       "                       train     19\n",
       "2                      test       6\n",
       "                       train    255\n",
       "3                      test       6\n",
       "                       train     56\n",
       "dtype: int64"
      ]
     },
     "execution_count": 10,
     "metadata": {},
     "output_type": "execute_result"
    }
   ],
   "source": [
    "counts_split = recat.groupby([\"Retinopathy grade new\", \"split\"]).size()\n",
    "counts_split"
   ]
  },
  {
   "cell_type": "code",
   "execution_count": 8,
   "metadata": {},
   "outputs": [],
   "source": [
    "recat2 = recat[\n",
    "    [\"Image name\", \"Risk of macular edema \", \"Retinopathy grade new\", \"split\"]\n",
    "]"
   ]
  },
  {
   "cell_type": "markdown",
   "metadata": {},
   "source": [
    "### Visualize train and test data"
   ]
  },
  {
   "cell_type": "code",
   "execution_count": 18,
   "metadata": {},
   "outputs": [
    {
     "data": {
      "image/png": "[encoded data removed]",
      "text/plain": [
       "<Figure size 1200x600 with 2 Axes>"
      ]
     },
     "metadata": {},
     "output_type": "display_data"
    }
   ],
   "source": [
    "import matplotlib.pyplot as plt\n",
    "\n",
    "fig, (ax1, ax2) = plt.subplots(1, 2, figsize=(12, 6))\n",
    "\n",
    "training = recat2[recat2[\"split\"] == \"train\"]\n",
    "testing = recat2[recat2[\"split\"] == \"test\"]\n",
    "\n",
    "grade_counts_train = training[\"Retinopathy grade new\"].value_counts().sort_index()\n",
    "grade_counts_test = testing[\"Retinopathy grade new\"].value_counts().sort_index()\n",
    "\n",
    "ax1.bar(grade_counts_train.index, grade_counts_train.values)\n",
    "ax1.set_xlabel(\"Retinopathy grade\")\n",
    "ax1.set_ylabel(\"Count\")\n",
    "ax1.set_title(\"Training Set\")\n",
    "\n",
    "ax2.bar(grade_counts_test.index, grade_counts_test.values)\n",
    "ax2.set_xlabel(\"Retinopathy grade\")\n",
    "ax2.set_ylabel(\"Count\")\n",
    "ax2.set_title(\"Testing Set\")\n",
    "\n",
    "plt.tight_layout()\n",
    "\n",
    "plt.show()"
   ]
  },
  {
   "cell_type": "code",
   "execution_count": 19,
   "metadata": {},
   "outputs": [
    {
     "data": {
      "image/png": "[encoded data removed]",
      "text/plain": [
       "<Figure size 1200x600 with 2 Axes>"
      ]
     },
     "metadata": {},
     "output_type": "display_data"
    }
   ],
   "source": [
    "import matplotlib.pyplot as plt\n",
    "\n",
    "fig, (ax1, ax2) = plt.subplots(1, 2, figsize=(12, 6), sharey=True)\n",
    "\n",
    "bars_train = ax1.bar(grade_counts_train.index, grade_counts_train.values)\n",
    "\n",
    "ax1.set_xlabel(\"Retinopathy grade\")\n",
    "ax1.set_ylabel(\"Count\")\n",
    "ax1.set_title(\"Training Set\")\n",
    "for bar in bars_train:\n",
    "    height = bar.get_height()\n",
    "    ax1.text(\n",
    "        bar.get_x() + bar.get_width() / 2, height, height, ha=\"center\", va=\"bottom\"\n",
    "    )\n",
    "\n",
    "bars_test = ax2.bar(grade_counts_test.index, grade_counts_test.values)\n",
    "ax2.set_xlabel(\"Retinopathy grade\")\n",
    "ax2.set_title(\"Testing Set\")\n",
    "for bar in bars_test:\n",
    "    height = bar.get_height()\n",
    "    ax2.text(\n",
    "        bar.get_x() + bar.get_width() / 2, height, height, ha=\"center\", va=\"bottom\"\n",
    "    )\n",
    "\n",
    "max_y = max(max(grade_counts_train.values), max(grade_counts_test.values))\n",
    "ax1.set_ylim(0, max_y)\n",
    "ax2.set_ylim(0, max_y)\n",
    "\n",
    "plt.tight_layout()\n",
    "\n",
    "plt.show()"
   ]
  },
  {
   "cell_type": "code",
   "execution_count": 9,
   "metadata": {},
   "outputs": [],
   "source": [
    "recat.to_csv(\"resized/train_split_key_transformation.csv\")\n",
    "recat2.to_csv(\"resized/train_split_key_recoded.csv\")"
   ]
  },
  {
   "cell_type": "markdown",
   "metadata": {},
   "source": [
    "### Save images in new folders"
   ]
  },
  {
   "cell_type": "code",
   "execution_count": null,
   "metadata": {},
   "outputs": [],
   "source": [
    "import os\n",
    "import pandas as pd\n",
    "import shutil\n",
    "\n",
    "train_folder = \"resized/train\"\n",
    "test_folder = \"resized/test\"\n",
    "\n",
    "# Iterate through the dataframe and move files accordingly\n",
    "for index, row in recat2.iterrows():\n",
    "    image_name = row[\"Image name\"]\n",
    "    split = row[\"split\"]\n",
    "    source_path = os.path.join(\"resized/all_512\", image_name + \".jpg\")\n",
    "    if split == \"train\":\n",
    "        destination_folder = train_folder\n",
    "    else:\n",
    "        destination_folder = test_folder\n",
    "\n",
    "    destination_path = os.path.join(destination_folder, image_name + \".jpg\")"
   ]
  }
 ],
 "metadata": {
  "kernelspec": {
   "display_name": "base",
   "language": "python",
   "name": "python3"
  },
  "language_info": {
   "codemirror_mode": {
    "name": "ipython",
    "version": 3
   },
   "file_extension": ".py",
   "mimetype": "text/x-python",
   "name": "python",
   "nbconvert_exporter": "python",
   "pygments_lexer": "ipython3",
   "version": "3.11.5"
  }
 },
 "nbformat": 4,
 "nbformat_minor": 2
}
