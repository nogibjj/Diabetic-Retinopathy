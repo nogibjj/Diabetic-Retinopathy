{
 "cells": [
  {
   "cell_type": "markdown",
   "metadata": {},
   "source": [
    "> CNN512 With Dropout Luminosity"
   ]
  },
  {
   "cell_type": "code",
   "execution_count": 30,
   "metadata": {},
   "outputs": [],
   "source": [
    "import pandas as pd\n",
    "import numpy as np\n",
    "import cv2\n",
    "from skimage import exposure\n",
    "from scipy.ndimage import gaussian_filter\n",
    "from sklearn.model_selection import train_test_split\n",
    "from tensorflow.keras import layers\n",
    "from tensorflow.keras.models import Sequential\n",
    "from tensorflow.keras.optimizers import SGD\n",
    "from tensorflow.keras.preprocessing.image import ImageDataGenerator\n",
    "import os\n",
    "import tensorflow as tf\n",
    "from tensorflow import keras\n",
    "from tensorflow.keras import models, layers\n",
    "from tensorflow.keras.optimizers import SGD\n",
    "from tensorflow.keras.callbacks import LearningRateScheduler\n",
    "import math\n",
    "from sklearn.utils.class_weight import compute_class_weight\n",
    "import numpy as np\n",
    "import pandas as pd\n",
    "import cv2\n",
    "from skimage import exposure\n",
    "from scipy.ndimage import gaussian_filter\n",
    "from sklearn.model_selection import train_test_split\n",
    "from tensorflow.keras import layers\n",
    "from tensorflow.keras.models import Sequential\n",
    "from tensorflow.keras.optimizers import SGD\n",
    "from tensorflow.keras.preprocessing.image import ImageDataGenerator\n",
    "import os"
   ]
  },
  {
   "cell_type": "code",
   "execution_count": 31,
   "metadata": {},
   "outputs": [],
   "source": [
    "# Load the dataset\n",
    "data = pd.read_csv(\"test_split_image_key.csv\")\n",
    "\n",
    "# Split the dataset into training and testing sets\n",
    "train_data = data[data[\"split_type\"] == \"training\"]\n",
    "test_data = data[data[\"split_type\"] == \"testing\"]\n",
    "\n",
    "# Define output directories for preprocessed images\n",
    "output_dir_train = \"preprocessed_images_luminosity/train/\"\n",
    "output_dir_test = \"preprocessed_images_luminosity/test/\"\n",
    "\n",
    "# Create directories if they don't exist\n",
    "os.makedirs(output_dir_train, exist_ok=True)\n",
    "os.makedirs(output_dir_test, exist_ok=True)"
   ]
  },
  {
   "cell_type": "code",
   "execution_count": 32,
   "metadata": {},
   "outputs": [],
   "source": [
    "# Preprocessing function\n",
    "def preprocess_image(image_path, output_dir):\n",
    "    # Load and resize the image to 512x512\n",
    "    image = cv2.imread(image_path)\n",
    "    resized_image = cv2.resize(image, (512, 512))\n",
    "\n",
    "    # Enhance luminosity and apply Contrast Limited Adaptive Histogram Equalization (CLAHE)\n",
    "    lab = cv2.cvtColor(resized_image, cv2.COLOR_BGR2LAB)\n",
    "    l, a, b = cv2.split(lab)\n",
    "    clahe = cv2.createCLAHE(clipLimit=5.0, tileGridSize=(8, 8))\n",
    "    l_eq = clahe.apply(l)\n",
    "    lab_eq = cv2.merge((l_eq, a, b))\n",
    "    enhanced_image = cv2.cvtColor(lab_eq, cv2.COLOR_LAB2BGR)\n",
    "\n",
    "    # Image noise removal using Gaussian filter\n",
    "    filtered_image = gaussian_filter(enhanced_image, sigma=1)\n",
    "\n",
    "    # Save the preprocessed image\n",
    "    image_name = os.path.basename(image_path)\n",
    "    output_path = os.path.join(output_dir, image_name)\n",
    "    cv2.imwrite(output_path, filtered_image)\n",
    "\n",
    "\n",
    "# Apply preprocessing to training and testing images\n",
    "for img_name in train_data[\"Image name\"]:\n",
    "    image_path = \"a_training/\" + img_name + \".jpg\"\n",
    "    preprocess_image(image_path, output_dir_train)\n",
    "\n",
    "for img_name in test_data[\"Image name\"]:\n",
    "    image_path = \"b_testing/\" + img_name + \".jpg\"\n",
    "    preprocess_image(image_path, output_dir_test)"
   ]
  },
  {
   "cell_type": "code",
   "execution_count": 33,
   "metadata": {},
   "outputs": [],
   "source": [
    "# Convert the images to numpy arrays\n",
    "X_train = []\n",
    "X_test = []\n",
    "\n",
    "for img_name in train_data[\"Image name\"]:\n",
    "    image_path = os.path.join(output_dir_train, img_name + \".jpg\")\n",
    "    image = cv2.imread(image_path)\n",
    "    X_train.append(image)\n",
    "\n",
    "for img_name in test_data[\"Image name\"]:\n",
    "    image_path = os.path.join(output_dir_test, img_name + \".jpg\")\n",
    "    image = cv2.imread(image_path)\n",
    "    X_test.append(image)\n",
    "\n",
    "X_train = np.array(X_train)\n",
    "X_test = np.array(X_test)\n",
    "\n",
    "# Extract labels directly without one-hot encoding\n",
    "y_train = train_data[\"Retinopathy grade\"].values\n",
    "y_test = test_data[\"Retinopathy grade\"].values"
   ]
  },
  {
   "cell_type": "code",
   "execution_count": 34,
   "metadata": {},
   "outputs": [],
   "source": [
    "input_shape = (512, 512, 3)\n",
    "num_classes = 5\n",
    "epochs = 50  # placeholder"
   ]
  },
  {
   "cell_type": "code",
   "execution_count": 35,
   "metadata": {},
   "outputs": [],
   "source": [
    "cnn512_dropout = models.Sequential(\n",
    "    [\n",
    "        keras.Input(shape=input_shape),\n",
    "        # Input Layer\tZero Padding layer\tPadding (2,2)\n",
    "        layers.ZeroPadding2D(padding=(2, 2)),\n",
    "        # Layer 1\t2D CONV layer\tKernel number = 32, kernel size = 3\n",
    "        layers.Conv2D(32, kernel_size=(3, 3)),\n",
    "        # Layer 2\tBatch Normalization layer\t-\n",
    "        layers.BatchNormalization(),\n",
    "        # Layer 3\tRelu layer\t-\n",
    "        layers.Activation(\"relu\"),\n",
    "        # Layer 4\tMax Pooling layer\tPooling size (2,2)\n",
    "        layers.MaxPooling2D(pool_size=(2, 2)),\n",
    "        # Layer 5\t2D CONV layer\tKernel number = 64, kernel size = 3\n",
    "        layers.Conv2D(64, kernel_size=(3, 3)),\n",
    "        # Layer 6\tBatch Normalization layer\t-\n",
    "        layers.BatchNormalization(),\n",
    "        # Layer 7\tRelu layer\t-\n",
    "        layers.Activation(\"relu\"),\n",
    "        # Layer 8\tMax Pooling layer\tPooling size (2, 2)\n",
    "        layers.MaxPooling2D(pool_size=(2, 2)),\n",
    "        # Layer 9\t2D CONV layer\tKernel number = 96, kernel size = 3\n",
    "        layers.Conv2D(96, kernel_size=(3, 3)),\n",
    "        # Layer 10\tBatch Normalization layer\t-\n",
    "        layers.BatchNormalization(),\n",
    "        # Layer 11\tRelu layer\t-\n",
    "        layers.Activation(\"relu\"),\n",
    "        # Layer 12\tMax Pooling layer\tPooling size (2, 2)\n",
    "        layers.MaxPooling2D(pool_size=(2, 2)),\n",
    "        # Layer 13\t2D CONV layer\tKernel number = 96, kernel size = 3\n",
    "        layers.Conv2D(96, kernel_size=(3, 3)),\n",
    "        # Layer 14\tBatch Normalization layer\t-\n",
    "        layers.BatchNormalization(),\n",
    "        # Layer 15\tRelu layer\t-\n",
    "        layers.Activation(\"relu\"),\n",
    "        # Layer 16\tMax Pooling layer\tPooling size (2, 2)\n",
    "        layers.MaxPooling2D(pool_size=(2, 2)),\n",
    "        # Layer 17\t2D CONV layer\tKernel number = 128, kernel size = 3\n",
    "        layers.Conv2D(128, kernel_size=(3, 3)),\n",
    "        # Layer 18\tBatch Normalization layer\t-\n",
    "        layers.BatchNormalization(),\n",
    "        # Layer 19\tRelu layer\t-\n",
    "        layers.Activation(\"relu\"),\n",
    "        # Layer 20\tMax Pooling layer\tPooling size (2, 2)\n",
    "        layers.MaxPooling2D(pool_size=(2, 2)),\n",
    "        # Layer 21\t2D CONV layer\tKernel number = 200, kernel size = 3\n",
    "        layers.Conv2D(200, kernel_size=(3, 3)),\n",
    "        # Layer 22\tBatch Normalization layer\t-\n",
    "        layers.BatchNormalization(),\n",
    "        # Layer 23\tRelu layer\t-\n",
    "        layers.Activation(\"relu\"),\n",
    "        # Layer 24\tMax Pooling layer\tPooling size (2, 2)\n",
    "        layers.MaxPooling2D(pool_size=(2, 2)),\n",
    "        # Layer 25\tFlatten layer\t-\n",
    "        layers.Flatten(),\n",
    "        # Layer 26\tFC layer\tNeurons number = 1000\n",
    "        layers.Dense(1000),\n",
    "        # Layer 27\tBatch Normalization layer\t-\n",
    "        layers.BatchNormalization(),\n",
    "        # Layer 28\tRelu layer\t-\n",
    "        layers.Activation(\"relu\"),\n",
    "        layers.Dropout(0.5),\n",
    "        # Layer 29\tFC layer\tNeurons number = 500\n",
    "        layers.Dense(500),\n",
    "        # Layer 30\tBatch Normalization layer\t-\n",
    "        layers.BatchNormalization(),\n",
    "        # Layer 31\tRelu layer\t-\n",
    "        layers.Activation(\"relu\"),\n",
    "        layers.Dropout(0.5),\n",
    "        # Layer 32\tFC layer with Softmax activatio\n",
    "        layers.Dense(num_classes, activation=\"softmax\"),\n",
    "    ]\n",
    ")"
   ]
  },
  {
   "cell_type": "code",
   "execution_count": 36,
   "metadata": {},
   "outputs": [],
   "source": [
    "from tensorflow.keras.optimizers import SGD\n",
    "\n",
    "# base learning rate for custom CNNs\n",
    "base_learning_rate = 1e-4\n",
    "# maximum learning rate for custom CNNs\n",
    "max_learning_rate = 1e-1\n",
    "\n",
    "# Create an instance of SGD optimizer with initial learning rate\n",
    "optimizer = SGD(learning_rate=base_learning_rate, momentum=0.9)\n",
    "\n",
    "cnn512_dropout.compile(\n",
    "    optimizer=optimizer, loss=\"sparse_categorical_crossentropy\", metrics=[\"accuracy\"]\n",
    ")\n",
    "\n",
    "# create class weight\n",
    "classes = np.unique(y_train)\n",
    "class_weights = compute_class_weight(\"balanced\", classes=classes, y=y_train)\n",
    "class_weight_dict = dict(zip(classes, class_weights))\n",
    "\n",
    "\n",
    "# create triangular schedule\n",
    "def triangular_schedule(epoch):\n",
    "    \"\"\"Triangular learning rate scheduler.\"\"\"\n",
    "    cycle_length = 10  # Define the length of a cycle\n",
    "    cycle = math.floor(1 + epoch / (2 * cycle_length))\n",
    "    x = abs(epoch / cycle_length - 2 * cycle + 1)\n",
    "    lr = base_learning_rate + (max_learning_rate - base_learning_rate) * max(0, (1 - x))\n",
    "    return lr\n",
    "\n",
    "\n",
    "# When fitting the model, include the learning rate scheduler callback\n",
    "lr_scheduler = LearningRateScheduler(triangular_schedule)"
   ]
  },
  {
   "cell_type": "code",
   "execution_count": 37,
   "metadata": {},
   "outputs": [
    {
     "name": "stdout",
     "output_type": "stream",
     "text": [
      "Epoch 1/50\n",
      "\u001b[1m13/13\u001b[0m \u001b[32m━━━━━━━━━━━━━━━━━━━━\u001b[0m\u001b[37m\u001b[0m \u001b[1m161s\u001b[0m 11s/step - accuracy: 0.1982 - loss: 2.2695 - learning_rate: 1.0000e-04\n",
      "Epoch 2/50\n",
      "\u001b[1m13/13\u001b[0m \u001b[32m━━━━━━━━━━━━━━━━━━━━\u001b[0m\u001b[37m\u001b[0m \u001b[1m185s\u001b[0m 14s/step - accuracy: 0.1919 - loss: 2.1330 - learning_rate: 0.0101\n",
      "Epoch 3/50\n",
      "\u001b[1m13/13\u001b[0m \u001b[32m━━━━━━━━━━━━━━━━━━━━\u001b[0m\u001b[37m\u001b[0m \u001b[1m169s\u001b[0m 13s/step - accuracy: 0.3296 - loss: 1.9230 - learning_rate: 0.0201\n",
      "Epoch 4/50\n",
      "\u001b[1m13/13\u001b[0m \u001b[32m━━━━━━━━━━━━━━━━━━━━\u001b[0m\u001b[37m\u001b[0m \u001b[1m180s\u001b[0m 13s/step - accuracy: 0.3588 - loss: 2.0680 - learning_rate: 0.0301\n",
      "Epoch 5/50\n",
      "\u001b[1m13/13\u001b[0m \u001b[32m━━━━━━━━━━━━━━━━━━━━\u001b[0m\u001b[37m\u001b[0m \u001b[1m191s\u001b[0m 15s/step - accuracy: 0.3335 - loss: 2.1243 - learning_rate: 0.0401\n",
      "Epoch 6/50\n",
      "\u001b[1m13/13\u001b[0m \u001b[32m━━━━━━━━━━━━━━━━━━━━\u001b[0m\u001b[37m\u001b[0m \u001b[1m185s\u001b[0m 14s/step - accuracy: 0.3214 - loss: 2.6462 - learning_rate: 0.0501\n",
      "Epoch 7/50\n",
      "\u001b[1m13/13\u001b[0m \u001b[32m━━━━━━━━━━━━━━━━━━━━\u001b[0m\u001b[37m\u001b[0m \u001b[1m205s\u001b[0m 16s/step - accuracy: 0.2674 - loss: 3.6063 - learning_rate: 0.0600\n",
      "Epoch 8/50\n",
      "\u001b[1m13/13\u001b[0m \u001b[32m━━━━━━━━━━━━━━━━━━━━\u001b[0m\u001b[37m\u001b[0m \u001b[1m160s\u001b[0m 12s/step - accuracy: 0.2861 - loss: 3.6982 - learning_rate: 0.0700\n",
      "Epoch 9/50\n",
      "\u001b[1m13/13\u001b[0m \u001b[32m━━━━━━━━━━━━━━━━━━━━\u001b[0m\u001b[37m\u001b[0m \u001b[1m193s\u001b[0m 15s/step - accuracy: 0.2331 - loss: 4.7541 - learning_rate: 0.0800\n",
      "Epoch 10/50\n",
      "\u001b[1m13/13\u001b[0m \u001b[32m━━━━━━━━━━━━━━━━━━━━\u001b[0m\u001b[37m\u001b[0m \u001b[1m176s\u001b[0m 13s/step - accuracy: 0.2820 - loss: 3.2535 - learning_rate: 0.0900\n",
      "Epoch 11/50\n",
      "\u001b[1m13/13\u001b[0m \u001b[32m━━━━━━━━━━━━━━━━━━━━\u001b[0m\u001b[37m\u001b[0m \u001b[1m152s\u001b[0m 12s/step - accuracy: 0.3005 - loss: 2.5579 - learning_rate: 0.1000\n",
      "Epoch 12/50\n",
      "\u001b[1m13/13\u001b[0m \u001b[32m━━━━━━━━━━━━━━━━━━━━\u001b[0m\u001b[37m\u001b[0m \u001b[1m164s\u001b[0m 13s/step - accuracy: 0.2731 - loss: 2.0976 - learning_rate: 0.0900\n",
      "Epoch 13/50\n",
      "\u001b[1m13/13\u001b[0m \u001b[32m━━━━━━━━━━━━━━━━━━━━\u001b[0m\u001b[37m\u001b[0m \u001b[1m185s\u001b[0m 14s/step - accuracy: 0.2881 - loss: 2.1212 - learning_rate: 0.0800\n",
      "Epoch 14/50\n",
      "\u001b[1m13/13\u001b[0m \u001b[32m━━━━━━━━━━━━━━━━━━━━\u001b[0m\u001b[37m\u001b[0m \u001b[1m195s\u001b[0m 15s/step - accuracy: 0.3042 - loss: 1.7952 - learning_rate: 0.0700\n",
      "Epoch 15/50\n",
      "\u001b[1m13/13\u001b[0m \u001b[32m━━━━━━━━━━━━━━━━━━━━\u001b[0m\u001b[37m\u001b[0m \u001b[1m200s\u001b[0m 15s/step - accuracy: 0.2934 - loss: 1.9651 - learning_rate: 0.0600\n",
      "Epoch 16/50\n",
      "\u001b[1m13/13\u001b[0m \u001b[32m━━━━━━━━━━━━━━━━━━━━\u001b[0m\u001b[37m\u001b[0m \u001b[1m188s\u001b[0m 14s/step - accuracy: 0.3339 - loss: 1.6708 - learning_rate: 0.0501\n",
      "Epoch 17/50\n",
      "\u001b[1m13/13\u001b[0m \u001b[32m━━━━━━━━━━━━━━━━━━━━\u001b[0m\u001b[37m\u001b[0m \u001b[1m206s\u001b[0m 15s/step - accuracy: 0.3238 - loss: 1.4562 - learning_rate: 0.0401\n",
      "Epoch 18/50\n",
      "\u001b[1m13/13\u001b[0m \u001b[32m━━━━━━━━━━━━━━━━━━━━\u001b[0m\u001b[37m\u001b[0m \u001b[1m196s\u001b[0m 15s/step - accuracy: 0.3411 - loss: 1.3284 - learning_rate: 0.0301\n",
      "Epoch 19/50\n",
      "\u001b[1m13/13\u001b[0m \u001b[32m━━━━━━━━━━━━━━━━━━━━\u001b[0m\u001b[37m\u001b[0m \u001b[1m185s\u001b[0m 14s/step - accuracy: 0.3759 - loss: 1.2132 - learning_rate: 0.0201\n",
      "Epoch 20/50\n",
      "\u001b[1m13/13\u001b[0m \u001b[32m━━━━━━━━━━━━━━━━━━━━\u001b[0m\u001b[37m\u001b[0m \u001b[1m172s\u001b[0m 13s/step - accuracy: 0.4118 - loss: 1.3611 - learning_rate: 0.0101\n",
      "Epoch 21/50\n",
      "\u001b[1m13/13\u001b[0m \u001b[32m━━━━━━━━━━━━━━━━━━━━\u001b[0m\u001b[37m\u001b[0m \u001b[1m181s\u001b[0m 14s/step - accuracy: 0.3912 - loss: 1.2468 - learning_rate: 1.0000e-04\n",
      "Epoch 22/50\n",
      "\u001b[1m13/13\u001b[0m \u001b[32m━━━━━━━━━━━━━━━━━━━━\u001b[0m\u001b[37m\u001b[0m \u001b[1m194s\u001b[0m 15s/step - accuracy: 0.4177 - loss: 1.1940 - learning_rate: 0.0101\n",
      "Epoch 23/50\n",
      "\u001b[1m13/13\u001b[0m \u001b[32m━━━━━━━━━━━━━━━━━━━━\u001b[0m\u001b[37m\u001b[0m \u001b[1m199s\u001b[0m 15s/step - accuracy: 0.3968 - loss: 1.4214 - learning_rate: 0.0201\n",
      "Epoch 24/50\n",
      "\u001b[1m13/13\u001b[0m \u001b[32m━━━━━━━━━━━━━━━━━━━━\u001b[0m\u001b[37m\u001b[0m \u001b[1m216s\u001b[0m 16s/step - accuracy: 0.3986 - loss: 1.2032 - learning_rate: 0.0301\n",
      "Epoch 25/50\n",
      "\u001b[1m13/13\u001b[0m \u001b[32m━━━━━━━━━━━━━━━━━━━━\u001b[0m\u001b[37m\u001b[0m \u001b[1m215s\u001b[0m 16s/step - accuracy: 0.3922 - loss: 1.1656 - learning_rate: 0.0401\n",
      "Epoch 26/50\n",
      "\u001b[1m13/13\u001b[0m \u001b[32m━━━━━━━━━━━━━━━━━━━━\u001b[0m\u001b[37m\u001b[0m \u001b[1m263s\u001b[0m 20s/step - accuracy: 0.4224 - loss: 1.2821 - learning_rate: 0.0501\n",
      "Epoch 27/50\n",
      "\u001b[1m13/13\u001b[0m \u001b[32m━━━━━━━━━━━━━━━━━━━━\u001b[0m\u001b[37m\u001b[0m \u001b[1m257s\u001b[0m 20s/step - accuracy: 0.4852 - loss: 1.1535 - learning_rate: 0.0600\n",
      "Epoch 28/50\n",
      "\u001b[1m13/13\u001b[0m \u001b[32m━━━━━━━━━━━━━━━━━━━━\u001b[0m\u001b[37m\u001b[0m \u001b[1m188s\u001b[0m 14s/step - accuracy: 0.4598 - loss: 1.2106 - learning_rate: 0.0700\n",
      "Epoch 29/50\n",
      "\u001b[1m13/13\u001b[0m \u001b[32m━━━━━━━━━━━━━━━━━━━━\u001b[0m\u001b[37m\u001b[0m \u001b[1m206s\u001b[0m 16s/step - accuracy: 0.3777 - loss: 1.2616 - learning_rate: 0.0800\n",
      "Epoch 30/50\n",
      "\u001b[1m13/13\u001b[0m \u001b[32m━━━━━━━━━━━━━━━━━━━━\u001b[0m\u001b[37m\u001b[0m \u001b[1m204s\u001b[0m 16s/step - accuracy: 0.4662 - loss: 1.1004 - learning_rate: 0.0900\n",
      "Epoch 31/50\n",
      "\u001b[1m13/13\u001b[0m \u001b[32m━━━━━━━━━━━━━━━━━━━━\u001b[0m\u001b[37m\u001b[0m \u001b[1m231s\u001b[0m 18s/step - accuracy: 0.4736 - loss: 1.0457 - learning_rate: 0.1000\n",
      "Epoch 32/50\n",
      "\u001b[1m13/13\u001b[0m \u001b[32m━━━━━━━━━━━━━━━━━━━━\u001b[0m\u001b[37m\u001b[0m \u001b[1m217s\u001b[0m 16s/step - accuracy: 0.4375 - loss: 1.1261 - learning_rate: 0.0900\n",
      "Epoch 33/50\n",
      "\u001b[1m13/13\u001b[0m \u001b[32m━━━━━━━━━━━━━━━━━━━━\u001b[0m\u001b[37m\u001b[0m \u001b[1m189s\u001b[0m 14s/step - accuracy: 0.5033 - loss: 1.0378 - learning_rate: 0.0800\n",
      "Epoch 34/50\n",
      "\u001b[1m13/13\u001b[0m \u001b[32m━━━━━━━━━━━━━━━━━━━━\u001b[0m\u001b[37m\u001b[0m \u001b[1m194s\u001b[0m 15s/step - accuracy: 0.4831 - loss: 0.9860 - learning_rate: 0.0700\n",
      "Epoch 35/50\n",
      "\u001b[1m13/13\u001b[0m \u001b[32m━━━━━━━━━━━━━━━━━━━━\u001b[0m\u001b[37m\u001b[0m \u001b[1m191s\u001b[0m 14s/step - accuracy: 0.4989 - loss: 1.0184 - learning_rate: 0.0600\n",
      "Epoch 36/50\n",
      "\u001b[1m13/13\u001b[0m \u001b[32m━━━━━━━━━━━━━━━━━━━━\u001b[0m\u001b[37m\u001b[0m \u001b[1m169s\u001b[0m 13s/step - accuracy: 0.6017 - loss: 0.8384 - learning_rate: 0.0501\n",
      "Epoch 37/50\n",
      "\u001b[1m13/13\u001b[0m \u001b[32m━━━━━━━━━━━━━━━━━━━━\u001b[0m\u001b[37m\u001b[0m \u001b[1m148s\u001b[0m 11s/step - accuracy: 0.5690 - loss: 0.8155 - learning_rate: 0.0401\n",
      "Epoch 38/50\n",
      "\u001b[1m13/13\u001b[0m \u001b[32m━━━━━━━━━━━━━━━━━━━━\u001b[0m\u001b[37m\u001b[0m \u001b[1m163s\u001b[0m 13s/step - accuracy: 0.6563 - loss: 0.6824 - learning_rate: 0.0301\n",
      "Epoch 39/50\n",
      "\u001b[1m13/13\u001b[0m \u001b[32m━━━━━━━━━━━━━━━━━━━━\u001b[0m\u001b[37m\u001b[0m \u001b[1m156s\u001b[0m 12s/step - accuracy: 0.7126 - loss: 0.6539 - learning_rate: 0.0201\n",
      "Epoch 40/50\n",
      "\u001b[1m13/13\u001b[0m \u001b[32m━━━━━━━━━━━━━━━━━━━━\u001b[0m\u001b[37m\u001b[0m \u001b[1m177s\u001b[0m 14s/step - accuracy: 0.6983 - loss: 0.6101 - learning_rate: 0.0101\n",
      "Epoch 41/50\n",
      "\u001b[1m13/13\u001b[0m \u001b[32m━━━━━━━━━━━━━━━━━━━━\u001b[0m\u001b[37m\u001b[0m \u001b[1m136s\u001b[0m 10s/step - accuracy: 0.6975 - loss: 0.6776 - learning_rate: 1.0000e-04\n",
      "Epoch 42/50\n",
      "\u001b[1m13/13\u001b[0m \u001b[32m━━━━━━━━━━━━━━━━━━━━\u001b[0m\u001b[37m\u001b[0m \u001b[1m159s\u001b[0m 12s/step - accuracy: 0.7103 - loss: 0.5384 - learning_rate: 0.0101\n",
      "Epoch 43/50\n",
      "\u001b[1m13/13\u001b[0m \u001b[32m━━━━━━━━━━━━━━━━━━━━\u001b[0m\u001b[37m\u001b[0m \u001b[1m198s\u001b[0m 15s/step - accuracy: 0.7267 - loss: 0.5636 - learning_rate: 0.0201\n",
      "Epoch 44/50\n",
      "\u001b[1m13/13\u001b[0m \u001b[32m━━━━━━━━━━━━━━━━━━━━\u001b[0m\u001b[37m\u001b[0m \u001b[1m183s\u001b[0m 14s/step - accuracy: 0.7480 - loss: 0.4816 - learning_rate: 0.0301\n",
      "Epoch 45/50\n",
      "\u001b[1m13/13\u001b[0m \u001b[32m━━━━━━━━━━━━━━━━━━━━\u001b[0m\u001b[37m\u001b[0m \u001b[1m187s\u001b[0m 14s/step - accuracy: 0.7431 - loss: 0.5148 - learning_rate: 0.0401\n",
      "Epoch 46/50\n",
      "\u001b[1m13/13\u001b[0m \u001b[32m━━━━━━━━━━━━━━━━━━━━\u001b[0m\u001b[37m\u001b[0m \u001b[1m206s\u001b[0m 15s/step - accuracy: 0.7805 - loss: 0.4585 - learning_rate: 0.0501\n",
      "Epoch 47/50\n",
      "\u001b[1m13/13\u001b[0m \u001b[32m━━━━━━━━━━━━━━━━━━━━\u001b[0m\u001b[37m\u001b[0m \u001b[1m178s\u001b[0m 14s/step - accuracy: 0.7079 - loss: 0.4943 - learning_rate: 0.0600\n",
      "Epoch 48/50\n",
      "\u001b[1m13/13\u001b[0m \u001b[32m━━━━━━━━━━━━━━━━━━━━\u001b[0m\u001b[37m\u001b[0m \u001b[1m191s\u001b[0m 15s/step - accuracy: 0.7887 - loss: 0.4364 - learning_rate: 0.0700\n",
      "Epoch 49/50\n",
      "\u001b[1m13/13\u001b[0m \u001b[32m━━━━━━━━━━━━━━━━━━━━\u001b[0m\u001b[37m\u001b[0m \u001b[1m171s\u001b[0m 13s/step - accuracy: 0.7651 - loss: 0.4956 - learning_rate: 0.0800\n",
      "Epoch 50/50\n",
      "\u001b[1m13/13\u001b[0m \u001b[32m━━━━━━━━━━━━━━━━━━━━\u001b[0m\u001b[37m\u001b[0m \u001b[1m201s\u001b[0m 15s/step - accuracy: 0.6795 - loss: 0.6825 - learning_rate: 0.0900\n"
     ]
    }
   ],
   "source": [
    "# fitting the model\n",
    "history_cnn512_dropout = cnn512_dropout.fit(\n",
    "    X_train,\n",
    "    y_train,\n",
    "    epochs=epochs,\n",
    "    batch_size=32,\n",
    "    class_weight=class_weight_dict,\n",
    "    callbacks=[lr_scheduler],\n",
    ")"
   ]
  },
  {
   "cell_type": "code",
   "execution_count": 38,
   "metadata": {},
   "outputs": [
    {
     "name": "stdout",
     "output_type": "stream",
     "text": [
      "\u001b[1m4/4\u001b[0m \u001b[32m━━━━━━━━━━━━━━━━━━━━\u001b[0m\u001b[37m\u001b[0m \u001b[1m6s\u001b[0m 1s/step - accuracy: 0.2960 - loss: 2.7192\n",
      "Test Accuracy: 0.24271844327449799\n"
     ]
    }
   ],
   "source": [
    "# Evaluate the model\n",
    "test_loss, test_accuracy = cnn512_dropout.evaluate(X_test, y_test)\n",
    "print(\"Test Accuracy:\", test_accuracy)"
   ]
  },
  {
   "cell_type": "markdown",
   "metadata": {},
   "source": [
    "> CNN512 With Dropout Luminosity + normalize by 225 + augmentaion"
   ]
  },
  {
   "cell_type": "code",
   "execution_count": 39,
   "metadata": {},
   "outputs": [],
   "source": [
    "X_train = X_train.astype(\"float32\") / 225  # normalize\n",
    "X_test = X_test.astype(\"float32\") / 225  # normalize"
   ]
  },
  {
   "cell_type": "code",
   "execution_count": 40,
   "metadata": {},
   "outputs": [],
   "source": [
    "cnn512_dropout = models.Sequential(\n",
    "    [\n",
    "        keras.Input(shape=input_shape),\n",
    "        # Input Layer\tZero Padding layer\tPadding (2,2)\n",
    "        layers.ZeroPadding2D(padding=(2, 2)),\n",
    "        # Layer 1\t2D CONV layer\tKernel number = 32, kernel size = 3\n",
    "        layers.Conv2D(32, kernel_size=(3, 3)),\n",
    "        # Layer 2\tBatch Normalization layer\t-\n",
    "        layers.BatchNormalization(),\n",
    "        # Layer 3\tRelu layer\t-\n",
    "        layers.Activation(\"relu\"),\n",
    "        # Layer 4\tMax Pooling layer\tPooling size (2,2)\n",
    "        layers.MaxPooling2D(pool_size=(2, 2)),\n",
    "        # Layer 5\t2D CONV layer\tKernel number = 64, kernel size = 3\n",
    "        layers.Conv2D(64, kernel_size=(3, 3)),\n",
    "        # Layer 6\tBatch Normalization layer\t-\n",
    "        layers.BatchNormalization(),\n",
    "        # Layer 7\tRelu layer\t-\n",
    "        layers.Activation(\"relu\"),\n",
    "        # Layer 8\tMax Pooling layer\tPooling size (2, 2)\n",
    "        layers.MaxPooling2D(pool_size=(2, 2)),\n",
    "        # Layer 9\t2D CONV layer\tKernel number = 96, kernel size = 3\n",
    "        layers.Conv2D(96, kernel_size=(3, 3)),\n",
    "        # Layer 10\tBatch Normalization layer\t-\n",
    "        layers.BatchNormalization(),\n",
    "        # Layer 11\tRelu layer\t-\n",
    "        layers.Activation(\"relu\"),\n",
    "        # Layer 12\tMax Pooling layer\tPooling size (2, 2)\n",
    "        layers.MaxPooling2D(pool_size=(2, 2)),\n",
    "        # Layer 13\t2D CONV layer\tKernel number = 96, kernel size = 3\n",
    "        layers.Conv2D(96, kernel_size=(3, 3)),\n",
    "        # Layer 14\tBatch Normalization layer\t-\n",
    "        layers.BatchNormalization(),\n",
    "        # Layer 15\tRelu layer\t-\n",
    "        layers.Activation(\"relu\"),\n",
    "        # Layer 16\tMax Pooling layer\tPooling size (2, 2)\n",
    "        layers.MaxPooling2D(pool_size=(2, 2)),\n",
    "        # Layer 17\t2D CONV layer\tKernel number = 128, kernel size = 3\n",
    "        layers.Conv2D(128, kernel_size=(3, 3)),\n",
    "        # Layer 18\tBatch Normalization layer\t-\n",
    "        layers.BatchNormalization(),\n",
    "        # Layer 19\tRelu layer\t-\n",
    "        layers.Activation(\"relu\"),\n",
    "        # Layer 20\tMax Pooling layer\tPooling size (2, 2)\n",
    "        layers.MaxPooling2D(pool_size=(2, 2)),\n",
    "        # Layer 21\t2D CONV layer\tKernel number = 200, kernel size = 3\n",
    "        layers.Conv2D(200, kernel_size=(3, 3)),\n",
    "        # Layer 22\tBatch Normalization layer\t-\n",
    "        layers.BatchNormalization(),\n",
    "        # Layer 23\tRelu layer\t-\n",
    "        layers.Activation(\"relu\"),\n",
    "        # Layer 24\tMax Pooling layer\tPooling size (2, 2)\n",
    "        layers.MaxPooling2D(pool_size=(2, 2)),\n",
    "        # Layer 25\tFlatten layer\t-\n",
    "        layers.Flatten(),\n",
    "        # Layer 26\tFC layer\tNeurons number = 1000\n",
    "        layers.Dense(1000),\n",
    "        # Layer 27\tBatch Normalization layer\t-\n",
    "        layers.BatchNormalization(),\n",
    "        # Layer 28\tRelu layer\t-\n",
    "        layers.Activation(\"relu\"),\n",
    "        layers.Dropout(0.5),\n",
    "        # Layer 29\tFC layer\tNeurons number = 500\n",
    "        layers.Dense(500),\n",
    "        # Layer 30\tBatch Normalization layer\t-\n",
    "        layers.BatchNormalization(),\n",
    "        # Layer 31\tRelu layer\t-\n",
    "        layers.Activation(\"relu\"),\n",
    "        layers.Dropout(0.5),\n",
    "        # Layer 32\tFC layer with Softmax activatio\n",
    "        layers.Dense(num_classes, activation=\"softmax\"),\n",
    "    ]\n",
    ")"
   ]
  },
  {
   "cell_type": "code",
   "execution_count": 41,
   "metadata": {},
   "outputs": [],
   "source": [
    "from tensorflow.keras.optimizers import SGD\n",
    "\n",
    "# base learning rate for custom CNNs\n",
    "base_learning_rate = 1e-4\n",
    "# maximum learning rate for custom CNNs\n",
    "max_learning_rate = 1e-1\n",
    "\n",
    "# Create an instance of SGD optimizer with initial learning rate\n",
    "optimizer = SGD(learning_rate=base_learning_rate, momentum=0.9)\n",
    "\n",
    "cnn512_dropout.compile(\n",
    "    optimizer=optimizer, loss=\"sparse_categorical_crossentropy\", metrics=[\"accuracy\"]\n",
    ")\n",
    "\n",
    "# create class weight\n",
    "classes = np.unique(y_train)\n",
    "class_weights = compute_class_weight(\"balanced\", classes=classes, y=y_train)\n",
    "class_weight_dict = dict(zip(classes, class_weights))\n",
    "\n",
    "\n",
    "# create triangular schedule\n",
    "def triangular_schedule(epoch):\n",
    "    \"\"\"Triangular learning rate scheduler.\"\"\"\n",
    "    cycle_length = 10  # Define the length of a cycle\n",
    "    cycle = math.floor(1 + epoch / (2 * cycle_length))\n",
    "    x = abs(epoch / cycle_length - 2 * cycle + 1)\n",
    "    lr = base_learning_rate + (max_learning_rate - base_learning_rate) * max(0, (1 - x))\n",
    "    return lr\n",
    "\n",
    "\n",
    "# When fitting the model, include the learning rate scheduler callback\n",
    "lr_scheduler = LearningRateScheduler(triangular_schedule)\n",
    "\n",
    "# Define the data augmentation generator\n",
    "data_augmentation = ImageDataGenerator(\n",
    "    rotation_range=20,  # Random rotation between 0 and 20 degrees\n",
    "    width_shift_range=0.2,  # Random horizontal shift\n",
    "    height_shift_range=0.2,  # Random vertical shift\n",
    "    shear_range=0.2,  # Shear transformation\n",
    "    zoom_range=0.2,  # Random zoom\n",
    "    horizontal_flip=True,  # Random horizontal flip\n",
    "    fill_mode=\"nearest\",  # Strategy for filling in newly created pixels\n",
    ")\n",
    "\n",
    "# Apply the data augmentation using .flow() and then fit the model\n",
    "augmented_data = data_augmentation.flow(X_train, y_train, batch_size=32)"
   ]
  },
  {
   "cell_type": "code",
   "execution_count": 42,
   "metadata": {},
   "outputs": [
    {
     "name": "stdout",
     "output_type": "stream",
     "text": [
      "Epoch 1/50\n"
     ]
    },
    {
     "name": "stderr",
     "output_type": "stream",
     "text": [
      "/Users/tinayiluo/miniconda3/lib/python3.11/site-packages/keras/src/trainers/data_adapters/py_dataset_adapter.py:120: UserWarning: Your `PyDataset` class should call `super().__init__(**kwargs)` in its constructor. `**kwargs` can include `workers`, `use_multiprocessing`, `max_queue_size`. Do not pass these arguments to `fit()`, as they will be ignored.\n",
      "  self._warn_if_super_not_called()\n"
     ]
    },
    {
     "name": "stdout",
     "output_type": "stream",
     "text": [
      "\u001b[1m13/13\u001b[0m \u001b[32m━━━━━━━━━━━━━━━━━━━━\u001b[0m\u001b[37m\u001b[0m \u001b[1m203s\u001b[0m 14s/step - accuracy: 0.2462 - loss: 2.3824 - learning_rate: 1.0000e-04\n",
      "Epoch 2/50\n",
      "\u001b[1m13/13\u001b[0m \u001b[32m━━━━━━━━━━━━━━━━━━━━\u001b[0m\u001b[37m\u001b[0m \u001b[1m0s\u001b[0m 12ms/step - accuracy: 0.0000e+00 - loss: 0.0000e+00 - learning_rate: 0.0101\n",
      "Epoch 3/50\n"
     ]
    },
    {
     "name": "stderr",
     "output_type": "stream",
     "text": [
      "2024-04-02 23:45:47.797551: W tensorflow/core/framework/local_rendezvous.cc:404] Local rendezvous is aborting with status: OUT_OF_RANGE: End of sequence\n",
      "\t [[{{node IteratorGetNext}}]]\n",
      "/Users/tinayiluo/miniconda3/lib/python3.11/contextlib.py:155: UserWarning: Your input ran out of data; interrupting training. Make sure that your dataset or generator can generate at least `steps_per_epoch * epochs` batches. You may need to use the `.repeat()` function when building your dataset.\n",
      "  self.gen.throw(typ, value, traceback)\n"
     ]
    },
    {
     "name": "stdout",
     "output_type": "stream",
     "text": [
      "\u001b[1m13/13\u001b[0m \u001b[32m━━━━━━━━━━━━━━━━━━━━\u001b[0m\u001b[37m\u001b[0m \u001b[1m228s\u001b[0m 17s/step - accuracy: 0.2367 - loss: 2.3679 - learning_rate: 0.0201\n",
      "Epoch 4/50\n",
      "\u001b[1m13/13\u001b[0m \u001b[32m━━━━━━━━━━━━━━━━━━━━\u001b[0m\u001b[37m\u001b[0m \u001b[1m0s\u001b[0m 13ms/step - accuracy: 0.0000e+00 - loss: 0.0000e+00 - learning_rate: 0.0301\n",
      "Epoch 5/50\n"
     ]
    },
    {
     "name": "stderr",
     "output_type": "stream",
     "text": [
      "2024-04-02 23:49:35.721674: W tensorflow/core/framework/local_rendezvous.cc:404] Local rendezvous is aborting with status: OUT_OF_RANGE: End of sequence\n",
      "\t [[{{node IteratorGetNext}}]]\n"
     ]
    },
    {
     "name": "stdout",
     "output_type": "stream",
     "text": [
      "\u001b[1m13/13\u001b[0m \u001b[32m━━━━━━━━━━━━━━━━━━━━\u001b[0m\u001b[37m\u001b[0m \u001b[1m272s\u001b[0m 20s/step - accuracy: 0.2815 - loss: 2.3491 - learning_rate: 0.0401\n",
      "Epoch 6/50\n",
      "\u001b[1m13/13\u001b[0m \u001b[32m━━━━━━━━━━━━━━━━━━━━\u001b[0m\u001b[37m\u001b[0m \u001b[1m0s\u001b[0m 12ms/step - accuracy: 0.0000e+00 - loss: 0.0000e+00 - learning_rate: 0.0501\n",
      "Epoch 7/50\n"
     ]
    },
    {
     "name": "stderr",
     "output_type": "stream",
     "text": [
      "2024-04-02 23:54:07.632991: W tensorflow/core/framework/local_rendezvous.cc:404] Local rendezvous is aborting with status: OUT_OF_RANGE: End of sequence\n",
      "\t [[{{node IteratorGetNext}}]]\n"
     ]
    },
    {
     "name": "stdout",
     "output_type": "stream",
     "text": [
      "\u001b[1m13/13\u001b[0m \u001b[32m━━━━━━━━━━━━━━━━━━━━\u001b[0m\u001b[37m\u001b[0m \u001b[1m302s\u001b[0m 22s/step - accuracy: 0.2136 - loss: 2.8853 - learning_rate: 0.0600\n",
      "Epoch 8/50\n",
      "\u001b[1m13/13\u001b[0m \u001b[32m━━━━━━━━━━━━━━━━━━━━\u001b[0m\u001b[37m\u001b[0m \u001b[1m0s\u001b[0m 11ms/step - accuracy: 0.0000e+00 - loss: 0.0000e+00 - learning_rate: 0.0700\n",
      "Epoch 9/50\n"
     ]
    },
    {
     "name": "stderr",
     "output_type": "stream",
     "text": [
      "2024-04-02 23:59:09.652577: W tensorflow/core/framework/local_rendezvous.cc:404] Local rendezvous is aborting with status: OUT_OF_RANGE: End of sequence\n",
      "\t [[{{node IteratorGetNext}}]]\n"
     ]
    },
    {
     "name": "stdout",
     "output_type": "stream",
     "text": [
      "\u001b[1m13/13\u001b[0m \u001b[32m━━━━━━━━━━━━━━━━━━━━\u001b[0m\u001b[37m\u001b[0m \u001b[1m264s\u001b[0m 18s/step - accuracy: 0.2481 - loss: 3.4222 - learning_rate: 0.0800\n",
      "Epoch 10/50\n",
      "\u001b[1m13/13\u001b[0m \u001b[32m━━━━━━━━━━━━━━━━━━━━\u001b[0m\u001b[37m\u001b[0m \u001b[1m0s\u001b[0m 11ms/step - accuracy: 0.0000e+00 - loss: 0.0000e+00 - learning_rate: 0.0900\n",
      "Epoch 11/50\n"
     ]
    },
    {
     "name": "stderr",
     "output_type": "stream",
     "text": [
      "2024-04-03 00:03:33.506061: W tensorflow/core/framework/local_rendezvous.cc:404] Local rendezvous is aborting with status: OUT_OF_RANGE: End of sequence\n",
      "\t [[{{node IteratorGetNext}}]]\n"
     ]
    },
    {
     "name": "stdout",
     "output_type": "stream",
     "text": [
      "\u001b[1m13/13\u001b[0m \u001b[32m━━━━━━━━━━━━━━━━━━━━\u001b[0m\u001b[37m\u001b[0m \u001b[1m238s\u001b[0m 18s/step - accuracy: 0.2964 - loss: 3.3381 - learning_rate: 0.1000\n",
      "Epoch 12/50\n",
      "\u001b[1m13/13\u001b[0m \u001b[32m━━━━━━━━━━━━━━━━━━━━\u001b[0m\u001b[37m\u001b[0m \u001b[1m0s\u001b[0m 12ms/step - accuracy: 0.0000e+00 - loss: 0.0000e+00 - learning_rate: 0.0900\n",
      "Epoch 13/50\n"
     ]
    },
    {
     "name": "stderr",
     "output_type": "stream",
     "text": [
      "2024-04-03 00:07:31.628171: W tensorflow/core/framework/local_rendezvous.cc:404] Local rendezvous is aborting with status: OUT_OF_RANGE: End of sequence\n",
      "\t [[{{node IteratorGetNext}}]]\n"
     ]
    },
    {
     "name": "stdout",
     "output_type": "stream",
     "text": [
      "\u001b[1m13/13\u001b[0m \u001b[32m━━━━━━━━━━━━━━━━━━━━\u001b[0m\u001b[37m\u001b[0m \u001b[1m210s\u001b[0m 15s/step - accuracy: 0.2916 - loss: 2.2088 - learning_rate: 0.0800\n",
      "Epoch 14/50\n"
     ]
    },
    {
     "name": "stderr",
     "output_type": "stream",
     "text": [
      "2024-04-03 00:11:01.374231: W tensorflow/core/framework/local_rendezvous.cc:404] Local rendezvous is aborting with status: OUT_OF_RANGE: End of sequence\n",
      "\t [[{{node IteratorGetNext}}]]\n"
     ]
    },
    {
     "name": "stdout",
     "output_type": "stream",
     "text": [
      "\u001b[1m13/13\u001b[0m \u001b[32m━━━━━━━━━━━━━━━━━━━━\u001b[0m\u001b[37m\u001b[0m \u001b[1m1s\u001b[0m 47ms/step - accuracy: 0.0000e+00 - loss: 0.0000e+00 - learning_rate: 0.0700\n",
      "Epoch 15/50\n",
      "\u001b[1m13/13\u001b[0m \u001b[32m━━━━━━━━━━━━━━━━━━━━\u001b[0m\u001b[37m\u001b[0m \u001b[1m206s\u001b[0m 15s/step - accuracy: 0.1787 - loss: 3.5109 - learning_rate: 0.0600\n",
      "Epoch 16/50\n",
      "\u001b[1m13/13\u001b[0m \u001b[32m━━━━━━━━━━━━━━━━━━━━\u001b[0m\u001b[37m\u001b[0m \u001b[1m0s\u001b[0m 13ms/step - accuracy: 0.0000e+00 - loss: 0.0000e+00 - learning_rate: 0.0501\n",
      "Epoch 17/50\n"
     ]
    },
    {
     "name": "stderr",
     "output_type": "stream",
     "text": [
      "2024-04-03 00:14:28.410491: W tensorflow/core/framework/local_rendezvous.cc:404] Local rendezvous is aborting with status: OUT_OF_RANGE: End of sequence\n",
      "\t [[{{node IteratorGetNext}}]]\n"
     ]
    },
    {
     "name": "stdout",
     "output_type": "stream",
     "text": [
      "\u001b[1m13/13\u001b[0m \u001b[32m━━━━━━━━━━━━━━━━━━━━\u001b[0m\u001b[37m\u001b[0m \u001b[1m197s\u001b[0m 14s/step - accuracy: 0.3045 - loss: 2.8826 - learning_rate: 0.0401\n",
      "Epoch 18/50\n",
      "\u001b[1m13/13\u001b[0m \u001b[32m━━━━━━━━━━━━━━━━━━━━\u001b[0m\u001b[37m\u001b[0m \u001b[1m0s\u001b[0m 12ms/step - accuracy: 0.0000e+00 - loss: 0.0000e+00 - learning_rate: 0.0301\n",
      "Epoch 19/50\n"
     ]
    },
    {
     "name": "stderr",
     "output_type": "stream",
     "text": [
      "2024-04-03 00:17:45.184142: W tensorflow/core/framework/local_rendezvous.cc:404] Local rendezvous is aborting with status: OUT_OF_RANGE: End of sequence\n",
      "\t [[{{node IteratorGetNext}}]]\n"
     ]
    },
    {
     "name": "stdout",
     "output_type": "stream",
     "text": [
      "\u001b[1m13/13\u001b[0m \u001b[32m━━━━━━━━━━━━━━━━━━━━\u001b[0m\u001b[37m\u001b[0m \u001b[1m196s\u001b[0m 14s/step - accuracy: 0.1803 - loss: 2.2501 - learning_rate: 0.0201\n",
      "Epoch 20/50\n",
      "\u001b[1m13/13\u001b[0m \u001b[32m━━━━━━━━━━━━━━━━━━━━\u001b[0m\u001b[37m\u001b[0m \u001b[1m0s\u001b[0m 13ms/step - accuracy: 0.0000e+00 - loss: 0.0000e+00 - learning_rate: 0.0101\n",
      "Epoch 21/50\n"
     ]
    },
    {
     "name": "stderr",
     "output_type": "stream",
     "text": [
      "2024-04-03 00:21:01.749728: W tensorflow/core/framework/local_rendezvous.cc:404] Local rendezvous is aborting with status: OUT_OF_RANGE: End of sequence\n",
      "\t [[{{node IteratorGetNext}}]]\n"
     ]
    },
    {
     "name": "stdout",
     "output_type": "stream",
     "text": [
      "\u001b[1m13/13\u001b[0m \u001b[32m━━━━━━━━━━━━━━━━━━━━\u001b[0m\u001b[37m\u001b[0m \u001b[1m197s\u001b[0m 14s/step - accuracy: 0.2265 - loss: 2.3395 - learning_rate: 1.0000e-04\n",
      "Epoch 22/50\n",
      "\u001b[1m13/13\u001b[0m \u001b[32m━━━━━━━━━━━━━━━━━━━━\u001b[0m\u001b[37m\u001b[0m \u001b[1m0s\u001b[0m 11ms/step - accuracy: 0.0000e+00 - loss: 0.0000e+00 - learning_rate: 0.0101\n",
      "Epoch 23/50\n"
     ]
    },
    {
     "name": "stderr",
     "output_type": "stream",
     "text": [
      "2024-04-03 00:24:19.117774: W tensorflow/core/framework/local_rendezvous.cc:404] Local rendezvous is aborting with status: OUT_OF_RANGE: End of sequence\n",
      "\t [[{{node IteratorGetNext}}]]\n"
     ]
    },
    {
     "name": "stdout",
     "output_type": "stream",
     "text": [
      "\u001b[1m13/13\u001b[0m \u001b[32m━━━━━━━━━━━━━━━━━━━━\u001b[0m\u001b[37m\u001b[0m \u001b[1m197s\u001b[0m 14s/step - accuracy: 0.2076 - loss: 2.6940 - learning_rate: 0.0201\n",
      "Epoch 24/50\n",
      "\u001b[1m13/13\u001b[0m \u001b[32m━━━━━━━━━━━━━━━━━━━━\u001b[0m\u001b[37m\u001b[0m \u001b[1m0s\u001b[0m 16ms/step - accuracy: 0.0000e+00 - loss: 0.0000e+00 - learning_rate: 0.0301\n",
      "Epoch 25/50\n"
     ]
    },
    {
     "name": "stderr",
     "output_type": "stream",
     "text": [
      "2024-04-03 00:27:36.738048: W tensorflow/core/framework/local_rendezvous.cc:404] Local rendezvous is aborting with status: OUT_OF_RANGE: End of sequence\n",
      "\t [[{{node IteratorGetNext}}]]\n"
     ]
    },
    {
     "name": "stdout",
     "output_type": "stream",
     "text": [
      "\u001b[1m13/13\u001b[0m \u001b[32m━━━━━━━━━━━━━━━━━━━━\u001b[0m\u001b[37m\u001b[0m \u001b[1m216s\u001b[0m 16s/step - accuracy: 0.2714 - loss: 2.1123 - learning_rate: 0.0401\n",
      "Epoch 26/50\n",
      "\u001b[1m13/13\u001b[0m \u001b[32m━━━━━━━━━━━━━━━━━━━━\u001b[0m\u001b[37m\u001b[0m \u001b[1m0s\u001b[0m 15ms/step - accuracy: 0.0000e+00 - loss: 0.0000e+00 - learning_rate: 0.0501\n",
      "Epoch 27/50\n"
     ]
    },
    {
     "name": "stderr",
     "output_type": "stream",
     "text": [
      "2024-04-03 00:31:12.589218: W tensorflow/core/framework/local_rendezvous.cc:404] Local rendezvous is aborting with status: OUT_OF_RANGE: End of sequence\n",
      "\t [[{{node IteratorGetNext}}]]\n"
     ]
    },
    {
     "name": "stdout",
     "output_type": "stream",
     "text": [
      "\u001b[1m13/13\u001b[0m \u001b[32m━━━━━━━━━━━━━━━━━━━━\u001b[0m\u001b[37m\u001b[0m \u001b[1m186s\u001b[0m 13s/step - accuracy: 0.2896 - loss: 2.0892 - learning_rate: 0.0600\n",
      "Epoch 28/50\n",
      "\u001b[1m13/13\u001b[0m \u001b[32m━━━━━━━━━━━━━━━━━━━━\u001b[0m\u001b[37m\u001b[0m \u001b[1m0s\u001b[0m 13ms/step - accuracy: 0.0000e+00 - loss: 0.0000e+00 - learning_rate: 0.0700\n",
      "Epoch 29/50\n"
     ]
    },
    {
     "name": "stderr",
     "output_type": "stream",
     "text": [
      "2024-04-03 00:34:18.604883: W tensorflow/core/framework/local_rendezvous.cc:404] Local rendezvous is aborting with status: OUT_OF_RANGE: End of sequence\n",
      "\t [[{{node IteratorGetNext}}]]\n"
     ]
    },
    {
     "name": "stdout",
     "output_type": "stream",
     "text": [
      "\u001b[1m13/13\u001b[0m \u001b[32m━━━━━━━━━━━━━━━━━━━━\u001b[0m\u001b[37m\u001b[0m \u001b[1m196s\u001b[0m 14s/step - accuracy: 0.2888 - loss: 2.6688 - learning_rate: 0.0800\n",
      "Epoch 30/50\n"
     ]
    },
    {
     "name": "stderr",
     "output_type": "stream",
     "text": [
      "2024-04-03 00:37:35.222402: W tensorflow/core/framework/local_rendezvous.cc:404] Local rendezvous is aborting with status: OUT_OF_RANGE: End of sequence\n",
      "\t [[{{node IteratorGetNext}}]]\n"
     ]
    },
    {
     "name": "stdout",
     "output_type": "stream",
     "text": [
      "\u001b[1m13/13\u001b[0m \u001b[32m━━━━━━━━━━━━━━━━━━━━\u001b[0m\u001b[37m\u001b[0m \u001b[1m1s\u001b[0m 84ms/step - accuracy: 0.0000e+00 - loss: 0.0000e+00 - learning_rate: 0.0900\n",
      "Epoch 31/50\n",
      "\u001b[1m13/13\u001b[0m \u001b[32m━━━━━━━━━━━━━━━━━━━━\u001b[0m\u001b[37m\u001b[0m \u001b[1m210s\u001b[0m 15s/step - accuracy: 0.2324 - loss: 2.3059 - learning_rate: 0.1000\n",
      "Epoch 32/50\n",
      "\u001b[1m13/13\u001b[0m \u001b[32m━━━━━━━━━━━━━━━━━━━━\u001b[0m\u001b[37m\u001b[0m \u001b[1m0s\u001b[0m 14ms/step - accuracy: 0.0000e+00 - loss: 0.0000e+00 - learning_rate: 0.0900\n",
      "Epoch 33/50\n"
     ]
    },
    {
     "name": "stderr",
     "output_type": "stream",
     "text": [
      "2024-04-03 00:41:06.490249: W tensorflow/core/framework/local_rendezvous.cc:404] Local rendezvous is aborting with status: OUT_OF_RANGE: End of sequence\n",
      "\t [[{{node IteratorGetNext}}]]\n"
     ]
    },
    {
     "name": "stdout",
     "output_type": "stream",
     "text": [
      "\u001b[1m13/13\u001b[0m \u001b[32m━━━━━━━━━━━━━━━━━━━━\u001b[0m\u001b[37m\u001b[0m \u001b[1m212s\u001b[0m 15s/step - accuracy: 0.1592 - loss: 2.2719 - learning_rate: 0.0800\n",
      "Epoch 34/50\n",
      "\u001b[1m13/13\u001b[0m \u001b[32m━━━━━━━━━━━━━━━━━━━━\u001b[0m\u001b[37m\u001b[0m \u001b[1m0s\u001b[0m 12ms/step - accuracy: 0.0000e+00 - loss: 0.0000e+00 - learning_rate: 0.0700\n",
      "Epoch 35/50\n"
     ]
    },
    {
     "name": "stderr",
     "output_type": "stream",
     "text": [
      "2024-04-03 00:44:38.344663: W tensorflow/core/framework/local_rendezvous.cc:404] Local rendezvous is aborting with status: OUT_OF_RANGE: End of sequence\n",
      "\t [[{{node IteratorGetNext}}]]\n"
     ]
    },
    {
     "name": "stdout",
     "output_type": "stream",
     "text": [
      "\u001b[1m13/13\u001b[0m \u001b[32m━━━━━━━━━━━━━━━━━━━━\u001b[0m\u001b[37m\u001b[0m \u001b[1m194s\u001b[0m 14s/step - accuracy: 0.2620 - loss: 2.0100 - learning_rate: 0.0600\n",
      "Epoch 36/50\n",
      "\u001b[1m13/13\u001b[0m \u001b[32m━━━━━━━━━━━━━━━━━━━━\u001b[0m\u001b[37m\u001b[0m \u001b[1m0s\u001b[0m 10ms/step - accuracy: 0.0000e+00 - loss: 0.0000e+00 - learning_rate: 0.0501\n",
      "Epoch 37/50\n"
     ]
    },
    {
     "name": "stderr",
     "output_type": "stream",
     "text": [
      "2024-04-03 00:47:52.895843: W tensorflow/core/framework/local_rendezvous.cc:404] Local rendezvous is aborting with status: OUT_OF_RANGE: End of sequence\n",
      "\t [[{{node IteratorGetNext}}]]\n"
     ]
    },
    {
     "name": "stdout",
     "output_type": "stream",
     "text": [
      "\u001b[1m13/13\u001b[0m \u001b[32m━━━━━━━━━━━━━━━━━━━━\u001b[0m\u001b[37m\u001b[0m \u001b[1m186s\u001b[0m 13s/step - accuracy: 0.2657 - loss: 1.7195 - learning_rate: 0.0401\n",
      "Epoch 38/50\n",
      "\u001b[1m13/13\u001b[0m \u001b[32m━━━━━━━━━━━━━━━━━━━━\u001b[0m\u001b[37m\u001b[0m \u001b[1m0s\u001b[0m 4ms/step - accuracy: 0.0000e+00 - loss: 0.0000e+00 - learning_rate: 0.0301\n",
      "Epoch 39/50\n"
     ]
    },
    {
     "name": "stderr",
     "output_type": "stream",
     "text": [
      "2024-04-03 00:50:58.684477: W tensorflow/core/framework/local_rendezvous.cc:404] Local rendezvous is aborting with status: OUT_OF_RANGE: End of sequence\n",
      "\t [[{{node IteratorGetNext}}]]\n"
     ]
    },
    {
     "name": "stdout",
     "output_type": "stream",
     "text": [
      "\u001b[1m13/13\u001b[0m \u001b[32m━━━━━━━━━━━━━━━━━━━━\u001b[0m\u001b[37m\u001b[0m \u001b[1m201s\u001b[0m 15s/step - accuracy: 0.3172 - loss: 1.8549 - learning_rate: 0.0201\n",
      "Epoch 40/50\n",
      "\u001b[1m13/13\u001b[0m \u001b[32m━━━━━━━━━━━━━━━━━━━━\u001b[0m\u001b[37m\u001b[0m \u001b[1m0s\u001b[0m 15ms/step - accuracy: 0.0000e+00 - loss: 0.0000e+00 - learning_rate: 0.0101\n",
      "Epoch 41/50\n"
     ]
    },
    {
     "name": "stderr",
     "output_type": "stream",
     "text": [
      "2024-04-03 00:54:19.439654: W tensorflow/core/framework/local_rendezvous.cc:404] Local rendezvous is aborting with status: OUT_OF_RANGE: End of sequence\n",
      "\t [[{{node IteratorGetNext}}]]\n"
     ]
    },
    {
     "name": "stdout",
     "output_type": "stream",
     "text": [
      "\u001b[1m13/13\u001b[0m \u001b[32m━━━━━━━━━━━━━━━━━━━━\u001b[0m\u001b[37m\u001b[0m \u001b[1m195s\u001b[0m 14s/step - accuracy: 0.3378 - loss: 1.8475 - learning_rate: 1.0000e-04\n",
      "Epoch 42/50\n"
     ]
    },
    {
     "name": "stderr",
     "output_type": "stream",
     "text": [
      "2024-04-03 00:57:35.128021: W tensorflow/core/framework/local_rendezvous.cc:404] Local rendezvous is aborting with status: OUT_OF_RANGE: End of sequence\n",
      "\t [[{{node IteratorGetNext}}]]\n"
     ]
    },
    {
     "name": "stdout",
     "output_type": "stream",
     "text": [
      "\u001b[1m13/13\u001b[0m \u001b[32m━━━━━━━━━━━━━━━━━━━━\u001b[0m\u001b[37m\u001b[0m \u001b[1m0s\u001b[0m 27ms/step - accuracy: 0.0000e+00 - loss: 0.0000e+00 - learning_rate: 0.0101\n",
      "Epoch 43/50\n",
      "\u001b[1m13/13\u001b[0m \u001b[32m━━━━━━━━━━━━━━━━━━━━\u001b[0m\u001b[37m\u001b[0m \u001b[1m200s\u001b[0m 15s/step - accuracy: 0.3273 - loss: 1.7736 - learning_rate: 0.0201\n",
      "Epoch 44/50\n",
      "\u001b[1m13/13\u001b[0m \u001b[32m━━━━━━━━━━━━━━━━━━━━\u001b[0m\u001b[37m\u001b[0m \u001b[1m0s\u001b[0m 12ms/step - accuracy: 0.0000e+00 - loss: 0.0000e+00 - learning_rate: 0.0301\n",
      "Epoch 45/50\n"
     ]
    },
    {
     "name": "stderr",
     "output_type": "stream",
     "text": [
      "2024-04-03 01:00:55.504149: W tensorflow/core/framework/local_rendezvous.cc:404] Local rendezvous is aborting with status: OUT_OF_RANGE: End of sequence\n",
      "\t [[{{node IteratorGetNext}}]]\n"
     ]
    },
    {
     "name": "stdout",
     "output_type": "stream",
     "text": [
      "\u001b[1m13/13\u001b[0m \u001b[32m━━━━━━━━━━━━━━━━━━━━\u001b[0m\u001b[37m\u001b[0m \u001b[1m180s\u001b[0m 13s/step - accuracy: 0.3745 - loss: 1.7149 - learning_rate: 0.0401\n",
      "Epoch 46/50\n",
      "\u001b[1m13/13\u001b[0m \u001b[32m━━━━━━━━━━━━━━━━━━━━\u001b[0m\u001b[37m\u001b[0m \u001b[1m0s\u001b[0m 9ms/step - accuracy: 0.0000e+00 - loss: 0.0000e+00 - learning_rate: 0.0501\n",
      "Epoch 47/50\n"
     ]
    },
    {
     "name": "stderr",
     "output_type": "stream",
     "text": [
      "2024-04-03 01:03:55.813800: W tensorflow/core/framework/local_rendezvous.cc:404] Local rendezvous is aborting with status: OUT_OF_RANGE: End of sequence\n",
      "\t [[{{node IteratorGetNext}}]]\n"
     ]
    },
    {
     "name": "stdout",
     "output_type": "stream",
     "text": [
      "\u001b[1m13/13\u001b[0m \u001b[32m━━━━━━━━━━━━━━━━━━━━\u001b[0m\u001b[37m\u001b[0m \u001b[1m193s\u001b[0m 14s/step - accuracy: 0.3721 - loss: 1.7789 - learning_rate: 0.0600\n",
      "Epoch 48/50\n",
      "\u001b[1m13/13\u001b[0m \u001b[32m━━━━━━━━━━━━━━━━━━━━\u001b[0m\u001b[37m\u001b[0m \u001b[1m0s\u001b[0m 10ms/step - accuracy: 0.0000e+00 - loss: 0.0000e+00 - learning_rate: 0.0700\n",
      "Epoch 49/50\n"
     ]
    },
    {
     "name": "stderr",
     "output_type": "stream",
     "text": [
      "2024-04-03 01:07:08.551423: W tensorflow/core/framework/local_rendezvous.cc:404] Local rendezvous is aborting with status: OUT_OF_RANGE: End of sequence\n",
      "\t [[{{node IteratorGetNext}}]]\n"
     ]
    },
    {
     "name": "stdout",
     "output_type": "stream",
     "text": [
      "\u001b[1m13/13\u001b[0m \u001b[32m━━━━━━━━━━━━━━━━━━━━\u001b[0m\u001b[37m\u001b[0m \u001b[1m203s\u001b[0m 15s/step - accuracy: 0.2157 - loss: 1.8075 - learning_rate: 0.0800\n",
      "Epoch 50/50\n"
     ]
    },
    {
     "name": "stderr",
     "output_type": "stream",
     "text": [
      "2024-04-03 01:10:31.864852: W tensorflow/core/framework/local_rendezvous.cc:404] Local rendezvous is aborting with status: OUT_OF_RANGE: End of sequence\n",
      "\t [[{{node IteratorGetNext}}]]\n"
     ]
    },
    {
     "name": "stdout",
     "output_type": "stream",
     "text": [
      "\u001b[1m13/13\u001b[0m \u001b[32m━━━━━━━━━━━━━━━━━━━━\u001b[0m\u001b[37m\u001b[0m \u001b[1m1s\u001b[0m 73ms/step - accuracy: 0.0000e+00 - loss: 0.0000e+00 - learning_rate: 0.0900\n"
     ]
    }
   ],
   "source": [
    "import math\n",
    "\n",
    "# Fit the model with the augmented data generator\n",
    "history_cnn512_dropout = cnn512_dropout.fit(\n",
    "    augmented_data,\n",
    "    steps_per_epoch=math.ceil(len(X_train) / 32),  # Round up to ensure it's an integer\n",
    "    epochs=epochs,\n",
    "    class_weight=class_weight_dict,\n",
    "    callbacks=[lr_scheduler],\n",
    ")"
   ]
  },
  {
   "cell_type": "code",
   "execution_count": 43,
   "metadata": {},
   "outputs": [
    {
     "name": "stdout",
     "output_type": "stream",
     "text": [
      "\u001b[1m4/4\u001b[0m \u001b[32m━━━━━━━━━━━━━━━━━━━━\u001b[0m\u001b[37m\u001b[0m \u001b[1m7s\u001b[0m 1s/step - accuracy: 0.2938 - loss: 1.7852\n",
      "Test Accuracy: 0.21359223127365112\n"
     ]
    }
   ],
   "source": [
    "# Evaluate the model\n",
    "test_loss, test_accuracy = cnn512_dropout.evaluate(X_test, y_test)\n",
    "print(\"Test Accuracy:\", test_accuracy)"
   ]
  },
  {
   "cell_type": "markdown",
   "metadata": {},
   "source": [
    "> CNN512 Without Dropout Luminosity + normalization by 225"
   ]
  },
  {
   "cell_type": "code",
   "execution_count": 44,
   "metadata": {},
   "outputs": [],
   "source": [
    "cnn512_nodropout = models.Sequential(\n",
    "    [\n",
    "        keras.Input(shape=input_shape),\n",
    "        # Input Layer\tZero Padding layer\tPadding (2,2)\n",
    "        layers.ZeroPadding2D(padding=(2, 2)),\n",
    "        # Layer 1\t2D CONV layer\tKernel number = 32, kernel size = 3\n",
    "        layers.Conv2D(32, kernel_size=(3, 3)),\n",
    "        # Layer 2\tBatch Normalization layer\t-\n",
    "        layers.BatchNormalization(),\n",
    "        # Layer 3\tRelu layer\t-\n",
    "        layers.Activation(\"relu\"),\n",
    "        # Layer 4\tMax Pooling layer\tPooling size (2,2)\n",
    "        layers.MaxPooling2D(pool_size=(2, 2)),\n",
    "        # Layer 5\t2D CONV layer\tKernel number = 64, kernel size = 3\n",
    "        layers.Conv2D(64, kernel_size=(3, 3)),\n",
    "        # Layer 6\tBatch Normalization layer\t-\n",
    "        layers.BatchNormalization(),\n",
    "        # Layer 7\tRelu layer\t-\n",
    "        layers.Activation(\"relu\"),\n",
    "        # Layer 8\tMax Pooling layer\tPooling size (2, 2)\n",
    "        layers.MaxPooling2D(pool_size=(2, 2)),\n",
    "        # Layer 9\t2D CONV layer\tKernel number = 96, kernel size = 3\n",
    "        layers.Conv2D(96, kernel_size=(3, 3)),\n",
    "        # Layer 10\tBatch Normalization layer\t-\n",
    "        layers.BatchNormalization(),\n",
    "        # Layer 11\tRelu layer\t-\n",
    "        layers.Activation(\"relu\"),\n",
    "        # Layer 12\tMax Pooling layer\tPooling size (2, 2)\n",
    "        layers.MaxPooling2D(pool_size=(2, 2)),\n",
    "        # Layer 13\t2D CONV layer\tKernel number = 96, kernel size = 3\n",
    "        layers.Conv2D(96, kernel_size=(3, 3)),\n",
    "        # Layer 14\tBatch Normalization layer\t-\n",
    "        layers.BatchNormalization(),\n",
    "        # Layer 15\tRelu layer\t-\n",
    "        layers.Activation(\"relu\"),\n",
    "        # Layer 16\tMax Pooling layer\tPooling size (2, 2)\n",
    "        layers.MaxPooling2D(pool_size=(2, 2)),\n",
    "        # Layer 17\t2D CONV layer\tKernel number = 128, kernel size = 3\n",
    "        layers.Conv2D(128, kernel_size=(3, 3)),\n",
    "        # Layer 18\tBatch Normalization layer\t-\n",
    "        layers.BatchNormalization(),\n",
    "        # Layer 19\tRelu layer\t-\n",
    "        layers.Activation(\"relu\"),\n",
    "        # Layer 20\tMax Pooling layer\tPooling size (2, 2)\n",
    "        layers.MaxPooling2D(pool_size=(2, 2)),\n",
    "        # Layer 21\t2D CONV layer\tKernel number = 200, kernel size = 3\n",
    "        layers.Conv2D(200, kernel_size=(3, 3)),\n",
    "        # Layer 22\tBatch Normalization layer\t-\n",
    "        layers.BatchNormalization(),\n",
    "        # Layer 23\tRelu layer\t-\n",
    "        layers.Activation(\"relu\"),\n",
    "        # Layer 24\tMax Pooling layer\tPooling size (2, 2)\n",
    "        layers.MaxPooling2D(pool_size=(2, 2)),\n",
    "        # Layer 25\tFlatten layer\t-\n",
    "        layers.Flatten(),\n",
    "        # Layer 26\tFC layer\tNeurons number = 1000\n",
    "        layers.Dense(1000),\n",
    "        # Layer 27\tBatch Normalization layer\t-\n",
    "        layers.BatchNormalization(),\n",
    "        # Layer 28\tRelu layer\t-\n",
    "        layers.Activation(\"relu\"),\n",
    "        # layers.Dropout(0.5),\n",
    "        # Layer 29\tFC layer\tNeurons number = 500\n",
    "        layers.Dense(500),\n",
    "        # Layer 30\tBatch Normalization layer\t-\n",
    "        layers.BatchNormalization(),\n",
    "        # Layer 31\tRelu layer\t-\n",
    "        layers.Activation(\"relu\"),\n",
    "        # layers.Dropout(0.5),\n",
    "        # Layer 32\tFC layer with Softmax activatio\n",
    "        layers.Dense(num_classes, activation=\"softmax\"),\n",
    "    ]\n",
    ")"
   ]
  },
  {
   "cell_type": "code",
   "execution_count": 45,
   "metadata": {},
   "outputs": [],
   "source": [
    "from tensorflow.keras.optimizers import SGD\n",
    "\n",
    "# base learning rate for custom CNNs\n",
    "base_learning_rate = 1e-4\n",
    "# maximum learning rate for custom CNNs\n",
    "max_learning_rate = 1e-1\n",
    "\n",
    "# Create an instance of SGD optimizer with initial learning rate\n",
    "optimizer = SGD(learning_rate=base_learning_rate, momentum=0.9)\n",
    "\n",
    "cnn512_nodropout.compile(\n",
    "    optimizer=optimizer, loss=\"sparse_categorical_crossentropy\", metrics=[\"accuracy\"]\n",
    ")\n",
    "\n",
    "# create class weight\n",
    "classes = np.unique(y_train)\n",
    "class_weights = compute_class_weight(\"balanced\", classes=classes, y=y_train)\n",
    "class_weight_dict = dict(zip(classes, class_weights))\n",
    "\n",
    "\n",
    "# create triangular schedule\n",
    "def triangular_schedule(epoch):\n",
    "    \"\"\"Triangular learning rate scheduler.\"\"\"\n",
    "    cycle_length = 10  # Define the length of a cycle\n",
    "    cycle = math.floor(1 + epoch / (2 * cycle_length))\n",
    "    x = abs(epoch / cycle_length - 2 * cycle + 1)\n",
    "    lr = base_learning_rate + (max_learning_rate - base_learning_rate) * max(0, (1 - x))\n",
    "    return lr\n",
    "\n",
    "\n",
    "# When fitting the model, include the learning rate scheduler callback\n",
    "lr_scheduler = LearningRateScheduler(triangular_schedule)"
   ]
  },
  {
   "cell_type": "code",
   "execution_count": 46,
   "metadata": {},
   "outputs": [
    {
     "name": "stdout",
     "output_type": "stream",
     "text": [
      "Epoch 1/50\n",
      "\u001b[1m13/13\u001b[0m \u001b[32m━━━━━━━━━━━━━━━━━━━━\u001b[0m\u001b[37m\u001b[0m \u001b[1m187s\u001b[0m 14s/step - accuracy: 0.1585 - loss: 2.0560 - learning_rate: 1.0000e-04\n",
      "Epoch 2/50\n",
      "\u001b[1m13/13\u001b[0m \u001b[32m━━━━━━━━━━━━━━━━━━━━\u001b[0m\u001b[37m\u001b[0m \u001b[1m189s\u001b[0m 14s/step - accuracy: 0.2368 - loss: 1.8535 - learning_rate: 0.0101\n",
      "Epoch 3/50\n",
      "\u001b[1m13/13\u001b[0m \u001b[32m━━━━━━━━━━━━━━━━━━━━\u001b[0m\u001b[37m\u001b[0m \u001b[1m186s\u001b[0m 14s/step - accuracy: 0.4484 - loss: 1.4537 - learning_rate: 0.0201\n",
      "Epoch 4/50\n",
      "\u001b[1m13/13\u001b[0m \u001b[32m━━━━━━━━━━━━━━━━━━━━\u001b[0m\u001b[37m\u001b[0m \u001b[1m179s\u001b[0m 14s/step - accuracy: 0.4428 - loss: 1.4507 - learning_rate: 0.0301\n",
      "Epoch 5/50\n",
      "\u001b[1m13/13\u001b[0m \u001b[32m━━━━━━━━━━━━━━━━━━━━\u001b[0m\u001b[37m\u001b[0m \u001b[1m198s\u001b[0m 15s/step - accuracy: 0.4549 - loss: 1.6488 - learning_rate: 0.0401\n",
      "Epoch 6/50\n",
      "\u001b[1m13/13\u001b[0m \u001b[32m━━━━━━━━━━━━━━━━━━━━\u001b[0m\u001b[37m\u001b[0m \u001b[1m178s\u001b[0m 13s/step - accuracy: 0.4944 - loss: 1.4461 - learning_rate: 0.0501\n",
      "Epoch 7/50\n",
      "\u001b[1m13/13\u001b[0m \u001b[32m━━━━━━━━━━━━━━━━━━━━\u001b[0m\u001b[37m\u001b[0m \u001b[1m175s\u001b[0m 13s/step - accuracy: 0.5267 - loss: 1.7068 - learning_rate: 0.0600\n",
      "Epoch 8/50\n",
      "\u001b[1m13/13\u001b[0m \u001b[32m━━━━━━━━━━━━━━━━━━━━\u001b[0m\u001b[37m\u001b[0m \u001b[1m178s\u001b[0m 13s/step - accuracy: 0.5272 - loss: 1.5202 - learning_rate: 0.0700\n",
      "Epoch 9/50\n",
      "\u001b[1m13/13\u001b[0m \u001b[32m━━━━━━━━━━━━━━━━━━━━\u001b[0m\u001b[37m\u001b[0m \u001b[1m183s\u001b[0m 14s/step - accuracy: 0.6033 - loss: 1.4063 - learning_rate: 0.0800\n",
      "Epoch 10/50\n",
      "\u001b[1m13/13\u001b[0m \u001b[32m━━━━━━━━━━━━━━━━━━━━\u001b[0m\u001b[37m\u001b[0m \u001b[1m196s\u001b[0m 15s/step - accuracy: 0.6147 - loss: 1.1935 - learning_rate: 0.0900\n",
      "Epoch 11/50\n",
      "\u001b[1m13/13\u001b[0m \u001b[32m━━━━━━━━━━━━━━━━━━━━\u001b[0m\u001b[37m\u001b[0m \u001b[1m185s\u001b[0m 14s/step - accuracy: 0.6287 - loss: 1.1395 - learning_rate: 0.1000\n",
      "Epoch 12/50\n",
      "\u001b[1m13/13\u001b[0m \u001b[32m━━━━━━━━━━━━━━━━━━━━\u001b[0m\u001b[37m\u001b[0m \u001b[1m182s\u001b[0m 14s/step - accuracy: 0.7045 - loss: 1.4272 - learning_rate: 0.0900\n",
      "Epoch 13/50\n",
      "\u001b[1m13/13\u001b[0m \u001b[32m━━━━━━━━━━━━━━━━━━━━\u001b[0m\u001b[37m\u001b[0m \u001b[1m171s\u001b[0m 13s/step - accuracy: 0.6794 - loss: 0.9600 - learning_rate: 0.0800\n",
      "Epoch 14/50\n",
      "\u001b[1m13/13\u001b[0m \u001b[32m━━━━━━━━━━━━━━━━━━━━\u001b[0m\u001b[37m\u001b[0m \u001b[1m178s\u001b[0m 13s/step - accuracy: 0.7636 - loss: 0.6828 - learning_rate: 0.0700\n",
      "Epoch 15/50\n",
      "\u001b[1m13/13\u001b[0m \u001b[32m━━━━━━━━━━━━━━━━━━━━\u001b[0m\u001b[37m\u001b[0m \u001b[1m201s\u001b[0m 15s/step - accuracy: 0.8449 - loss: 0.5033 - learning_rate: 0.0600\n",
      "Epoch 16/50\n",
      "\u001b[1m13/13\u001b[0m \u001b[32m━━━━━━━━━━━━━━━━━━━━\u001b[0m\u001b[37m\u001b[0m \u001b[1m188s\u001b[0m 14s/step - accuracy: 0.8496 - loss: 0.2531 - learning_rate: 0.0501\n",
      "Epoch 17/50\n",
      "\u001b[1m13/13\u001b[0m \u001b[32m━━━━━━━━━━━━━━━━━━━━\u001b[0m\u001b[37m\u001b[0m \u001b[1m187s\u001b[0m 14s/step - accuracy: 0.9658 - loss: 0.0949 - learning_rate: 0.0401\n",
      "Epoch 18/50\n",
      "\u001b[1m13/13\u001b[0m \u001b[32m━━━━━━━━━━━━━━━━━━━━\u001b[0m\u001b[37m\u001b[0m \u001b[1m181s\u001b[0m 13s/step - accuracy: 0.9653 - loss: 0.0678 - learning_rate: 0.0301\n",
      "Epoch 19/50\n",
      "\u001b[1m13/13\u001b[0m \u001b[32m━━━━━━━━━━━━━━━━━━━━\u001b[0m\u001b[37m\u001b[0m \u001b[1m180s\u001b[0m 14s/step - accuracy: 0.9748 - loss: 0.0432 - learning_rate: 0.0201\n",
      "Epoch 20/50\n",
      "\u001b[1m13/13\u001b[0m \u001b[32m━━━━━━━━━━━━━━━━━━━━\u001b[0m\u001b[37m\u001b[0m \u001b[1m196s\u001b[0m 15s/step - accuracy: 0.9938 - loss: 0.0289 - learning_rate: 0.0101\n",
      "Epoch 21/50\n",
      "\u001b[1m13/13\u001b[0m \u001b[32m━━━━━━━━━━━━━━━━━━━━\u001b[0m\u001b[37m\u001b[0m \u001b[1m174s\u001b[0m 13s/step - accuracy: 0.9829 - loss: 0.0509 - learning_rate: 1.0000e-04\n",
      "Epoch 22/50\n",
      "\u001b[1m13/13\u001b[0m \u001b[32m━━━━━━━━━━━━━━━━━━━━\u001b[0m\u001b[37m\u001b[0m \u001b[1m184s\u001b[0m 14s/step - accuracy: 0.9877 - loss: 0.0379 - learning_rate: 0.0101\n",
      "Epoch 23/50\n",
      "\u001b[1m13/13\u001b[0m \u001b[32m━━━━━━━━━━━━━━━━━━━━\u001b[0m\u001b[37m\u001b[0m \u001b[1m177s\u001b[0m 13s/step - accuracy: 0.9975 - loss: 0.0191 - learning_rate: 0.0201\n",
      "Epoch 24/50\n",
      "\u001b[1m13/13\u001b[0m \u001b[32m━━━━━━━━━━━━━━━━━━━━\u001b[0m\u001b[37m\u001b[0m \u001b[1m191s\u001b[0m 15s/step - accuracy: 0.9790 - loss: 0.0458 - learning_rate: 0.0301\n",
      "Epoch 25/50\n",
      "\u001b[1m13/13\u001b[0m \u001b[32m━━━━━━━━━━━━━━━━━━━━\u001b[0m\u001b[37m\u001b[0m \u001b[1m191s\u001b[0m 14s/step - accuracy: 0.9926 - loss: 0.0185 - learning_rate: 0.0401\n",
      "Epoch 26/50\n",
      "\u001b[1m13/13\u001b[0m \u001b[32m━━━━━━━━━━━━━━━━━━━━\u001b[0m\u001b[37m\u001b[0m \u001b[1m171s\u001b[0m 13s/step - accuracy: 0.9937 - loss: 0.0216 - learning_rate: 0.0501\n",
      "Epoch 27/50\n",
      "\u001b[1m13/13\u001b[0m \u001b[32m━━━━━━━━━━━━━━━━━━━━\u001b[0m\u001b[37m\u001b[0m \u001b[1m182s\u001b[0m 14s/step - accuracy: 0.9938 - loss: 0.0273 - learning_rate: 0.0600\n",
      "Epoch 28/50\n",
      "\u001b[1m13/13\u001b[0m \u001b[32m━━━━━━━━━━━━━━━━━━━━\u001b[0m\u001b[37m\u001b[0m \u001b[1m184s\u001b[0m 14s/step - accuracy: 0.9920 - loss: 0.0366 - learning_rate: 0.0700\n",
      "Epoch 29/50\n",
      "\u001b[1m13/13\u001b[0m \u001b[32m━━━━━━━━━━━━━━━━━━━━\u001b[0m\u001b[37m\u001b[0m \u001b[1m173s\u001b[0m 13s/step - accuracy: 0.9954 - loss: 0.0168 - learning_rate: 0.0800\n",
      "Epoch 30/50\n",
      "\u001b[1m13/13\u001b[0m \u001b[32m━━━━━━━━━━━━━━━━━━━━\u001b[0m\u001b[37m\u001b[0m \u001b[1m205s\u001b[0m 16s/step - accuracy: 0.9942 - loss: 0.0201 - learning_rate: 0.0900\n",
      "Epoch 31/50\n",
      "\u001b[1m13/13\u001b[0m \u001b[32m━━━━━━━━━━━━━━━━━━━━\u001b[0m\u001b[37m\u001b[0m \u001b[1m184s\u001b[0m 14s/step - accuracy: 0.9930 - loss: 0.0256 - learning_rate: 0.1000\n",
      "Epoch 32/50\n",
      "\u001b[1m13/13\u001b[0m \u001b[32m━━━━━━━━━━━━━━━━━━━━\u001b[0m\u001b[37m\u001b[0m \u001b[1m175s\u001b[0m 13s/step - accuracy: 0.9923 - loss: 0.0461 - learning_rate: 0.0900\n",
      "Epoch 33/50\n",
      "\u001b[1m13/13\u001b[0m \u001b[32m━━━━━━━━━━━━━━━━━━━━\u001b[0m\u001b[37m\u001b[0m \u001b[1m192s\u001b[0m 15s/step - accuracy: 0.9925 - loss: 0.0417 - learning_rate: 0.0800\n",
      "Epoch 34/50\n",
      "\u001b[1m13/13\u001b[0m \u001b[32m━━━━━━━━━━━━━━━━━━━━\u001b[0m\u001b[37m\u001b[0m \u001b[1m172s\u001b[0m 13s/step - accuracy: 0.9946 - loss: 0.0261 - learning_rate: 0.0700\n",
      "Epoch 35/50\n",
      "\u001b[1m13/13\u001b[0m \u001b[32m━━━━━━━━━━━━━━━━━━━━\u001b[0m\u001b[37m\u001b[0m \u001b[1m169s\u001b[0m 13s/step - accuracy: 0.9928 - loss: 0.0211 - learning_rate: 0.0600\n",
      "Epoch 36/50\n",
      "\u001b[1m13/13\u001b[0m \u001b[32m━━━━━━━━━━━━━━━━━━━━\u001b[0m\u001b[37m\u001b[0m \u001b[1m167s\u001b[0m 12s/step - accuracy: 0.9877 - loss: 0.0340 - learning_rate: 0.0501\n",
      "Epoch 37/50\n",
      "\u001b[1m13/13\u001b[0m \u001b[32m━━━━━━━━━━━━━━━━━━━━\u001b[0m\u001b[37m\u001b[0m \u001b[1m177s\u001b[0m 13s/step - accuracy: 0.9909 - loss: 0.0226 - learning_rate: 0.0401\n",
      "Epoch 38/50\n",
      "\u001b[1m13/13\u001b[0m \u001b[32m━━━━━━━━━━━━━━━━━━━━\u001b[0m\u001b[37m\u001b[0m \u001b[1m181s\u001b[0m 13s/step - accuracy: 0.9982 - loss: 0.0070 - learning_rate: 0.0301\n",
      "Epoch 39/50\n",
      "\u001b[1m13/13\u001b[0m \u001b[32m━━━━━━━━━━━━━━━━━━━━\u001b[0m\u001b[37m\u001b[0m \u001b[1m200s\u001b[0m 15s/step - accuracy: 0.9891 - loss: 0.0144 - learning_rate: 0.0201\n",
      "Epoch 40/50\n",
      "\u001b[1m13/13\u001b[0m \u001b[32m━━━━━━━━━━━━━━━━━━━━\u001b[0m\u001b[37m\u001b[0m \u001b[1m200s\u001b[0m 15s/step - accuracy: 0.9971 - loss: 0.0114 - learning_rate: 0.0101\n",
      "Epoch 41/50\n",
      "\u001b[1m13/13\u001b[0m \u001b[32m━━━━━━━━━━━━━━━━━━━━\u001b[0m\u001b[37m\u001b[0m \u001b[1m181s\u001b[0m 14s/step - accuracy: 0.9922 - loss: 0.0164 - learning_rate: 1.0000e-04\n",
      "Epoch 42/50\n",
      "\u001b[1m13/13\u001b[0m \u001b[32m━━━━━━━━━━━━━━━━━━━━\u001b[0m\u001b[37m\u001b[0m \u001b[1m183s\u001b[0m 14s/step - accuracy: 0.9935 - loss: 0.0137 - learning_rate: 0.0101\n",
      "Epoch 43/50\n",
      "\u001b[1m13/13\u001b[0m \u001b[32m━━━━━━━━━━━━━━━━━━━━\u001b[0m\u001b[37m\u001b[0m \u001b[1m194s\u001b[0m 15s/step - accuracy: 0.9959 - loss: 0.0101 - learning_rate: 0.0201\n",
      "Epoch 44/50\n",
      "\u001b[1m13/13\u001b[0m \u001b[32m━━━━━━━━━━━━━━━━━━━━\u001b[0m\u001b[37m\u001b[0m \u001b[1m186s\u001b[0m 14s/step - accuracy: 0.9981 - loss: 0.0100 - learning_rate: 0.0301\n",
      "Epoch 45/50\n",
      "\u001b[1m13/13\u001b[0m \u001b[32m━━━━━━━━━━━━━━━━━━━━\u001b[0m\u001b[37m\u001b[0m \u001b[1m196s\u001b[0m 15s/step - accuracy: 0.9918 - loss: 0.0184 - learning_rate: 0.0401\n",
      "Epoch 46/50\n",
      "\u001b[1m13/13\u001b[0m \u001b[32m━━━━━━━━━━━━━━━━━━━━\u001b[0m\u001b[37m\u001b[0m \u001b[1m187s\u001b[0m 14s/step - accuracy: 0.9879 - loss: 0.0216 - learning_rate: 0.0501\n",
      "Epoch 47/50\n",
      "\u001b[1m13/13\u001b[0m \u001b[32m━━━━━━━━━━━━━━━━━━━━\u001b[0m\u001b[37m\u001b[0m \u001b[1m189s\u001b[0m 14s/step - accuracy: 0.9967 - loss: 0.0123 - learning_rate: 0.0600\n",
      "Epoch 48/50\n",
      "\u001b[1m13/13\u001b[0m \u001b[32m━━━━━━━━━━━━━━━━━━━━\u001b[0m\u001b[37m\u001b[0m \u001b[1m165s\u001b[0m 12s/step - accuracy: 0.9967 - loss: 0.0087 - learning_rate: 0.0700\n",
      "Epoch 49/50\n",
      "\u001b[1m13/13\u001b[0m \u001b[32m━━━━━━━━━━━━━━━━━━━━\u001b[0m\u001b[37m\u001b[0m \u001b[1m185s\u001b[0m 14s/step - accuracy: 0.9922 - loss: 0.0251 - learning_rate: 0.0800\n",
      "Epoch 50/50\n",
      "\u001b[1m13/13\u001b[0m \u001b[32m━━━━━━━━━━━━━━━━━━━━\u001b[0m\u001b[37m\u001b[0m \u001b[1m184s\u001b[0m 14s/step - accuracy: 0.9961 - loss: 0.0099 - learning_rate: 0.0900\n"
     ]
    }
   ],
   "source": [
    "# fitting the model\n",
    "history_cnn512_nodropout = cnn512_nodropout.fit(\n",
    "    X_train,\n",
    "    y_train,\n",
    "    epochs=epochs,\n",
    "    batch_size=32,\n",
    "    class_weight=class_weight_dict,\n",
    "    callbacks=[lr_scheduler],\n",
    ")"
   ]
  },
  {
   "cell_type": "code",
   "execution_count": 47,
   "metadata": {},
   "outputs": [
    {
     "name": "stdout",
     "output_type": "stream",
     "text": [
      "\u001b[1m4/4\u001b[0m \u001b[32m━━━━━━━━━━━━━━━━━━━━\u001b[0m\u001b[37m\u001b[0m \u001b[1m7s\u001b[0m 1s/step - accuracy: 0.3969 - loss: 4.3096\n",
      "Test Accuracy: 0.42718446254730225\n"
     ]
    }
   ],
   "source": [
    "# Evaluate the model\n",
    "test_loss, test_accuracy = cnn512_nodropout.evaluate(X_test, y_test)\n",
    "print(\"Test Accuracy:\", test_accuracy)"
   ]
  }
 ],
 "metadata": {
  "kernelspec": {
   "display_name": "Python 3",
   "language": "python",
   "name": "python3"
  },
  "language_info": {
   "codemirror_mode": {
    "name": "ipython",
    "version": 3
   },
   "file_extension": ".py",
   "mimetype": "text/x-python",
   "name": "python",
   "nbconvert_exporter": "python",
   "pygments_lexer": "ipython3",
   "version": "3.11.5"
  }
 },
 "nbformat": 4,
 "nbformat_minor": 2
}
