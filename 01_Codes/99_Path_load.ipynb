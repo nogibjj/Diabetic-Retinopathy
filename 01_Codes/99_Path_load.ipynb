{
 "cells": [
  {
   "cell_type": "code",
   "execution_count": 1,
   "metadata": {},
   "outputs": [],
   "source": [
    "base_path = \"../aws_s3/Messidor_Data/Base\""
   ]
  },
  {
   "cell_type": "code",
   "execution_count": 2,
   "metadata": {},
   "outputs": [],
   "source": [
    "import pandas as pd"
   ]
  },
  {
   "cell_type": "code",
   "execution_count": 3,
   "metadata": {},
   "outputs": [
    {
     "data": {
      "text/html": [
       "<div>\n",
       "<style scoped>\n",
       "    .dataframe tbody tr th:only-of-type {\n",
       "        vertical-align: middle;\n",
       "    }\n",
       "\n",
       "    .dataframe tbody tr th {\n",
       "        vertical-align: top;\n",
       "    }\n",
       "\n",
       "    .dataframe thead th {\n",
       "        text-align: right;\n",
       "    }\n",
       "</style>\n",
       "<table border=\"1\" class=\"dataframe\">\n",
       "  <thead>\n",
       "    <tr style=\"text-align: right;\">\n",
       "      <th></th>\n",
       "      <th>Image_ID</th>\n",
       "      <th>Department</th>\n",
       "      <th>Retinopathy_Grade</th>\n",
       "      <th>Risk_of_Macular_Edema</th>\n",
       "      <th>Data_Source</th>\n",
       "      <th>Split</th>\n",
       "      <th>Original_Size</th>\n",
       "    </tr>\n",
       "  </thead>\n",
       "  <tbody>\n",
       "    <tr>\n",
       "      <th>63</th>\n",
       "      <td>20051214_52611_0100_PP.tif</td>\n",
       "      <td>Service Ophtalmologie Lariboisière</td>\n",
       "      <td>3</td>\n",
       "      <td>0</td>\n",
       "      <td>Messidor</td>\n",
       "      <td>Train</td>\n",
       "      <td>[2240, 1488]</td>\n",
       "    </tr>\n",
       "    <tr>\n",
       "      <th>736</th>\n",
       "      <td>20060530_54556_0100_PP.tif</td>\n",
       "      <td>Service Ophtalmologie Lariboisière</td>\n",
       "      <td>3</td>\n",
       "      <td>1</td>\n",
       "      <td>Messidor</td>\n",
       "      <td>Train</td>\n",
       "      <td>[2240, 1488]</td>\n",
       "    </tr>\n",
       "    <tr>\n",
       "      <th>213</th>\n",
       "      <td>20051020_44782_0100_PP.tif</td>\n",
       "      <td>Service Ophtalmologie Lariboisière</td>\n",
       "      <td>1</td>\n",
       "      <td>0</td>\n",
       "      <td>Messidor</td>\n",
       "      <td>Train</td>\n",
       "      <td>[2240, 1488]</td>\n",
       "    </tr>\n",
       "    <tr>\n",
       "      <th>802</th>\n",
       "      <td>20051205_31994_0400_PP.tif</td>\n",
       "      <td>LaTIM - CHU de BREST</td>\n",
       "      <td>3</td>\n",
       "      <td>0</td>\n",
       "      <td>Messidor</td>\n",
       "      <td>Train</td>\n",
       "      <td>[2304, 1536]</td>\n",
       "    </tr>\n",
       "    <tr>\n",
       "      <th>1005</th>\n",
       "      <td>20060407_41937_0200_PP.tif</td>\n",
       "      <td>CHU de St Etienne</td>\n",
       "      <td>2</td>\n",
       "      <td>2</td>\n",
       "      <td>Messidor</td>\n",
       "      <td>Train</td>\n",
       "      <td>[1440, 960]</td>\n",
       "    </tr>\n",
       "  </tbody>\n",
       "</table>\n",
       "</div>"
      ],
      "text/plain": [
       "                        Image_ID                          Department  \\\n",
       "63    20051214_52611_0100_PP.tif  Service Ophtalmologie Lariboisière   \n",
       "736   20060530_54556_0100_PP.tif  Service Ophtalmologie Lariboisière   \n",
       "213   20051020_44782_0100_PP.tif  Service Ophtalmologie Lariboisière   \n",
       "802   20051205_31994_0400_PP.tif                LaTIM - CHU de BREST   \n",
       "1005  20060407_41937_0200_PP.tif                   CHU de St Etienne   \n",
       "\n",
       "      Retinopathy_Grade  Risk_of_Macular_Edema Data_Source  Split  \\\n",
       "63                    3                      0    Messidor  Train   \n",
       "736                   3                      1    Messidor  Train   \n",
       "213                   1                      0    Messidor  Train   \n",
       "802                   3                      0    Messidor  Train   \n",
       "1005                  2                      2    Messidor  Train   \n",
       "\n",
       "     Original_Size  \n",
       "63    [2240, 1488]  \n",
       "736   [2240, 1488]  \n",
       "213   [2240, 1488]  \n",
       "802   [2304, 1536]  \n",
       "1005   [1440, 960]  "
      ]
     },
     "execution_count": 3,
     "metadata": {},
     "output_type": "execute_result"
    }
   ],
   "source": [
    "mapping = pd.read_parquet(base_path + \"messidor_mapping.parquet\")\n",
    "mapping.sample(5)"
   ]
  },
  {
   "cell_type": "code",
   "execution_count": null,
   "metadata": {},
   "outputs": [],
   "source": []
  }
 ],
 "metadata": {
  "kernelspec": {
   "display_name": "Python 3",
   "language": "python",
   "name": "python3"
  },
  "language_info": {
   "codemirror_mode": {
    "name": "ipython",
    "version": 3
   },
   "file_extension": ".py",
   "mimetype": "text/x-python",
   "name": "python",
   "nbconvert_exporter": "python",
   "pygments_lexer": "ipython3",
   "version": "3.10.12"
  }
 },
 "nbformat": 4,
 "nbformat_minor": 2
}
