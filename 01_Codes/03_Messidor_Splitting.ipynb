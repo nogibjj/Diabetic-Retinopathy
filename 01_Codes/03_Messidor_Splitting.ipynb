{
 "cells": [
  {
   "cell_type": "code",
   "execution_count": 1,
   "metadata": {},
   "outputs": [],
   "source": [
    "# importing all the required libraries\n",
    "import numpy as np\n",
    "import pandas as pd\n",
    "import pickle"
   ]
  },
  {
   "cell_type": "code",
   "execution_count": 2,
   "metadata": {},
   "outputs": [],
   "source": [
    "# setting default configuration options\n",
    "pd.set_option(\"mode.copy_on_write\", True)"
   ]
  },
  {
   "cell_type": "code",
   "execution_count": 3,
   "metadata": {},
   "outputs": [],
   "source": [
    "path = \"/Users/revanth/Documents/messidor_base.pkl\""
   ]
  },
  {
   "cell_type": "code",
   "execution_count": 4,
   "metadata": {},
   "outputs": [],
   "source": [
    "# load pickle file into a dataframe\n",
    "df = pd.read_pickle(path)"
   ]
  },
  {
   "cell_type": "code",
   "execution_count": 5,
   "metadata": {},
   "outputs": [
    {
     "data": {
      "text/html": [
       "<div>\n",
       "<style scoped>\n",
       "    .dataframe tbody tr th:only-of-type {\n",
       "        vertical-align: middle;\n",
       "    }\n",
       "\n",
       "    .dataframe tbody tr th {\n",
       "        vertical-align: top;\n",
       "    }\n",
       "\n",
       "    .dataframe thead th {\n",
       "        text-align: right;\n",
       "    }\n",
       "</style>\n",
       "<table border=\"1\" class=\"dataframe\">\n",
       "  <thead>\n",
       "    <tr style=\"text-align: right;\">\n",
       "      <th></th>\n",
       "      <th>Image_ID</th>\n",
       "      <th>Original_Size</th>\n",
       "      <th>Image</th>\n",
       "      <th>Department</th>\n",
       "      <th>Retinopathy_Grade</th>\n",
       "      <th>Risk_of_Macular_Edema</th>\n",
       "      <th>Data_Source</th>\n",
       "    </tr>\n",
       "  </thead>\n",
       "  <tbody>\n",
       "    <tr>\n",
       "      <th>443</th>\n",
       "      <td>20060523_48572_0100_PP.tif</td>\n",
       "      <td>(2240, 1488)</td>\n",
       "      <td>[[[2, 0, 2], [2, 0, 2], [1, 0, 1], [1, 0, 1], ...</td>\n",
       "      <td>Service Ophtalmologie Lariboisière</td>\n",
       "      <td>2</td>\n",
       "      <td>0</td>\n",
       "      <td>Messidor</td>\n",
       "    </tr>\n",
       "    <tr>\n",
       "      <th>525</th>\n",
       "      <td>20060412_59100_0200_PP.tif</td>\n",
       "      <td>(1440, 960)</td>\n",
       "      <td>[[[3, 0, 0], [1, 0, 0], [1, 2, 0], [0, 0, 0], ...</td>\n",
       "      <td>CHU de St Etienne</td>\n",
       "      <td>1</td>\n",
       "      <td>1</td>\n",
       "      <td>Messidor</td>\n",
       "    </tr>\n",
       "    <tr>\n",
       "      <th>783</th>\n",
       "      <td>20060411_58328_0200_PP.tif</td>\n",
       "      <td>(1440, 960)</td>\n",
       "      <td>[[[0, 1, 0], [0, 1, 0], [0, 0, 0], [0, 0, 0], ...</td>\n",
       "      <td>CHU de St Etienne</td>\n",
       "      <td>3</td>\n",
       "      <td>0</td>\n",
       "      <td>Messidor</td>\n",
       "    </tr>\n",
       "    <tr>\n",
       "      <th>696</th>\n",
       "      <td>20051021_58388_0100_PP.tif</td>\n",
       "      <td>(2240, 1488)</td>\n",
       "      <td>[[[1, 0, 1], [2, 1, 2], [3, 1, 3], [2, 0, 2], ...</td>\n",
       "      <td>Service Ophtalmologie Lariboisière</td>\n",
       "      <td>2</td>\n",
       "      <td>0</td>\n",
       "      <td>Messidor</td>\n",
       "    </tr>\n",
       "    <tr>\n",
       "      <th>64</th>\n",
       "      <td>20060412_61365_0200_PP.tif</td>\n",
       "      <td>(1440, 960)</td>\n",
       "      <td>[[[3, 0, 2], [0, 0, 0], [0, 1, 0], [0, 0, 0], ...</td>\n",
       "      <td>CHU de St Etienne</td>\n",
       "      <td>0</td>\n",
       "      <td>0</td>\n",
       "      <td>Messidor</td>\n",
       "    </tr>\n",
       "  </tbody>\n",
       "</table>\n",
       "</div>"
      ],
      "text/plain": [
       "                       Image_ID Original_Size  \\\n",
       "443  20060523_48572_0100_PP.tif  (2240, 1488)   \n",
       "525  20060412_59100_0200_PP.tif   (1440, 960)   \n",
       "783  20060411_58328_0200_PP.tif   (1440, 960)   \n",
       "696  20051021_58388_0100_PP.tif  (2240, 1488)   \n",
       "64   20060412_61365_0200_PP.tif   (1440, 960)   \n",
       "\n",
       "                                                 Image  \\\n",
       "443  [[[2, 0, 2], [2, 0, 2], [1, 0, 1], [1, 0, 1], ...   \n",
       "525  [[[3, 0, 0], [1, 0, 0], [1, 2, 0], [0, 0, 0], ...   \n",
       "783  [[[0, 1, 0], [0, 1, 0], [0, 0, 0], [0, 0, 0], ...   \n",
       "696  [[[1, 0, 1], [2, 1, 2], [3, 1, 3], [2, 0, 2], ...   \n",
       "64   [[[3, 0, 2], [0, 0, 0], [0, 1, 0], [0, 0, 0], ...   \n",
       "\n",
       "                             Department  Retinopathy_Grade  \\\n",
       "443  Service Ophtalmologie Lariboisière                  2   \n",
       "525                   CHU de St Etienne                  1   \n",
       "783                   CHU de St Etienne                  3   \n",
       "696  Service Ophtalmologie Lariboisière                  2   \n",
       "64                    CHU de St Etienne                  0   \n",
       "\n",
       "     Risk_of_Macular_Edema Data_Source  \n",
       "443                      0    Messidor  \n",
       "525                      1    Messidor  \n",
       "783                      0    Messidor  \n",
       "696                      0    Messidor  \n",
       "64                       0    Messidor  "
      ]
     },
     "execution_count": 5,
     "metadata": {},
     "output_type": "execute_result"
    }
   ],
   "source": [
    "df.sample(5)"
   ]
  },
  {
   "cell_type": "code",
   "execution_count": 6,
   "metadata": {},
   "outputs": [
    {
     "data": {
      "text/plain": [
       "Image_ID                 0\n",
       "Original_Size            0\n",
       "Image                    0\n",
       "Department               0\n",
       "Retinopathy_Grade        0\n",
       "Risk_of_Macular_Edema    0\n",
       "Data_Source              0\n",
       "dtype: int64"
      ]
     },
     "execution_count": 6,
     "metadata": {},
     "output_type": "execute_result"
    }
   ],
   "source": [
    "# Checking for missing values\n",
    "df.isnull().sum()"
   ]
  },
  {
   "cell_type": "code",
   "execution_count": 7,
   "metadata": {},
   "outputs": [
    {
     "data": {
      "text/plain": [
       "<Axes: xlabel='Retinopathy_Grade'>"
      ]
     },
     "execution_count": 7,
     "metadata": {},
     "output_type": "execute_result"
    },
    {
     "data": {
      "image/png": "[encoded data removed]",
      "text/plain": [
       "<Figure size 640x480 with 1 Axes>"
      ]
     },
     "metadata": {},
     "output_type": "display_data"
    }
   ],
   "source": [
    "# plotting the distribution of the target variable\n",
    "df[\"Retinopathy_Grade\"].value_counts().plot(kind=\"bar\")"
   ]
  },
  {
   "cell_type": "markdown",
   "metadata": {},
   "source": [
    "Splitting into Train and Test"
   ]
  },
  {
   "cell_type": "code",
   "execution_count": 8,
   "metadata": {},
   "outputs": [],
   "source": [
    "# shuffling the data\n",
    "df = df.sample(frac=1).reset_index(drop=True)"
   ]
  },
  {
   "cell_type": "code",
   "execution_count": 9,
   "metadata": {},
   "outputs": [],
   "source": [
    "# getting unique values from the target variable\n",
    "lst = df[\"Retinopathy_Grade\"].unique()\n",
    "\n",
    "test_indexes = []\n",
    "\n",
    "req_samples = 5  # <- number of samples to be taken from each unique value\n",
    "\n",
    "# randomly sample X sample indexes from each unique value\n",
    "for i in lst:\n",
    "    test_indexes.extend(df[df[\"Retinopathy_Grade\"] == i].sample(req_samples).index)\n",
    "\n",
    "# train indexes\n",
    "train_indexes = df.index.difference(test_indexes)"
   ]
  },
  {
   "cell_type": "code",
   "execution_count": 10,
   "metadata": {},
   "outputs": [],
   "source": [
    "# train and test data\n",
    "train_data = df.loc[train_indexes]\n",
    "test_data = df.loc[test_indexes]"
   ]
  },
  {
   "cell_type": "code",
   "execution_count": 11,
   "metadata": {},
   "outputs": [],
   "source": [
    "# Validate that there is no data leakage\n",
    "assert train_data.index.intersection(test_data.index).shape[0] == 0"
   ]
  },
  {
   "cell_type": "code",
   "execution_count": 12,
   "metadata": {},
   "outputs": [
    {
     "data": {
      "text/plain": [
       "<Axes: xlabel='Retinopathy_Grade'>"
      ]
     },
     "execution_count": 12,
     "metadata": {},
     "output_type": "execute_result"
    },
    {
     "data": {
      "image/png": "[encoded data removed]",
      "text/plain": [
       "<Figure size 640x480 with 1 Axes>"
      ]
     },
     "metadata": {},
     "output_type": "display_data"
    }
   ],
   "source": [
    "# validate good distribution in test data\n",
    "test_data[\"Retinopathy_Grade\"].value_counts().plot(kind=\"bar\")"
   ]
  },
  {
   "cell_type": "code",
   "execution_count": 13,
   "metadata": {},
   "outputs": [
    {
     "data": {
      "text/plain": [
       "<Axes: xlabel='Retinopathy_Grade'>"
      ]
     },
     "execution_count": 13,
     "metadata": {},
     "output_type": "execute_result"
    },
    {
     "data": {
      "image/png": "[encoded data removed]",
      "text/plain": [
       "<Figure size 640x480 with 1 Axes>"
      ]
     },
     "metadata": {},
     "output_type": "display_data"
    }
   ],
   "source": [
    "train_data[\"Retinopathy_Grade\"].value_counts().plot(kind=\"bar\")"
   ]
  },
  {
   "cell_type": "code",
   "execution_count": null,
   "metadata": {},
   "outputs": [],
   "source": []
  }
 ],
 "metadata": {
  "kernelspec": {
   "display_name": "base",
   "language": "python",
   "name": "python3"
  },
  "language_info": {
   "codemirror_mode": {
    "name": "ipython",
    "version": 3
   },
   "file_extension": ".py",
   "mimetype": "text/x-python",
   "name": "python",
   "nbconvert_exporter": "python",
   "pygments_lexer": "ipython3",
   "version": "3.11.5"
  }
 },
 "nbformat": 4,
 "nbformat_minor": 2
}
