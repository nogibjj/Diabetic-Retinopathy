{
 "cells": [
  {
   "cell_type": "code",
   "execution_count": 33,
   "metadata": {},
   "outputs": [],
   "source": [
    "# importing required libraries\n",
    "# Sklearn\n",
    "from sklearn.model_selection import train_test_split\n",
    "from sklearn.ensemble import RandomForestClassifier\n",
    "from sklearn.linear_model import LogisticRegression\n",
    "from sklearn.metrics import accuracy_score, confusion_matrix, classification_report\n",
    "\n",
    "import matplotlib.pyplot as plt\n",
    "import numpy as np\n",
    "import time\n",
    "import warnings\n",
    "import pandas as pd\n",
    "import os\n",
    "import parquet\n",
    "from PIL import Image\n",
    "\n",
    "# Tensor Flow\n",
    "# tensorflow\n",
    "import tensorflow as tf\n",
    "from tensorflow.keras.applications.resnet50 import preprocess_input"
   ]
  },
  {
   "cell_type": "code",
   "execution_count": 35,
   "metadata": {},
   "outputs": [
    {
     "data": {
      "text/plain": [
       "[PhysicalDevice(name='/physical_device:CPU:0', device_type='CPU')]"
      ]
     },
     "execution_count": 35,
     "metadata": {},
     "output_type": "execute_result"
    }
   ],
   "source": [
    "tf.config.list_physical_devices(\"CPU\")"
   ]
  },
  {
   "cell_type": "code",
   "execution_count": 2,
   "metadata": {},
   "outputs": [],
   "source": [
    "# Setting default options\n",
    "# setting default configuration options\n",
    "pd.set_option(\"mode.copy_on_write\", True)\n",
    "warnings.simplefilter(action=\"ignore\")  # , category=FutureWarning)"
   ]
  },
  {
   "cell_type": "markdown",
   "metadata": {},
   "source": [
    "## Loading Data"
   ]
  },
  {
   "cell_type": "code",
   "execution_count": 3,
   "metadata": {},
   "outputs": [],
   "source": [
    "path = \"../aws_s3/Messidor_Data/Base/\""
   ]
  },
  {
   "cell_type": "code",
   "execution_count": 4,
   "metadata": {},
   "outputs": [
    {
     "name": "stdout",
     "output_type": "stream",
     "text": [
      "['20060530_52988_0100_PP.tif', '20060530_55468_0100_PP.tif', '20051202_56050_0400_PP.tif', '20051202_36970_0400_PP.tif', '20060411_59941_0200_PP.tif']\n"
     ]
    }
   ],
   "source": [
    "test_files = os.listdir(path + \"Test\")\n",
    "print(test_files[:5])"
   ]
  },
  {
   "cell_type": "code",
   "execution_count": 5,
   "metadata": {},
   "outputs": [
    {
     "name": "stdout",
     "output_type": "stream",
     "text": [
      "['20060410_47186_0200_PP.tif', '20051020_63337_0100_PP.tif', '20060529_56730_0100_PP.tif', '20051117_37232_0400_PP.tif', '20060412_61450_0200_PP.tif']\n"
     ]
    }
   ],
   "source": [
    "train_files = os.listdir(path + \"Train\")\n",
    "print(train_files[:5])"
   ]
  },
  {
   "cell_type": "code",
   "execution_count": 6,
   "metadata": {},
   "outputs": [
    {
     "data": {
      "text/html": [
       "<div>\n",
       "<style scoped>\n",
       "    .dataframe tbody tr th:only-of-type {\n",
       "        vertical-align: middle;\n",
       "    }\n",
       "\n",
       "    .dataframe tbody tr th {\n",
       "        vertical-align: top;\n",
       "    }\n",
       "\n",
       "    .dataframe thead th {\n",
       "        text-align: right;\n",
       "    }\n",
       "</style>\n",
       "<table border=\"1\" class=\"dataframe\">\n",
       "  <thead>\n",
       "    <tr style=\"text-align: right;\">\n",
       "      <th></th>\n",
       "      <th>Image_ID</th>\n",
       "      <th>Department</th>\n",
       "      <th>Retinopathy_Grade</th>\n",
       "      <th>Risk_of_Macular_Edema</th>\n",
       "      <th>Data_Source</th>\n",
       "      <th>Split</th>\n",
       "      <th>Original_Size</th>\n",
       "    </tr>\n",
       "  </thead>\n",
       "  <tbody>\n",
       "    <tr>\n",
       "      <th>1067</th>\n",
       "      <td>20051130_60186_0400_PP.tif</td>\n",
       "      <td>LaTIM - CHU de BREST</td>\n",
       "      <td>0</td>\n",
       "      <td>0</td>\n",
       "      <td>Messidor</td>\n",
       "      <td>Train</td>\n",
       "      <td>[2304, 1536]</td>\n",
       "    </tr>\n",
       "    <tr>\n",
       "      <th>690</th>\n",
       "      <td>20060410_47042_0200_PP.tif</td>\n",
       "      <td>CHU de St Etienne</td>\n",
       "      <td>0</td>\n",
       "      <td>0</td>\n",
       "      <td>Messidor</td>\n",
       "      <td>Train</td>\n",
       "      <td>[1440, 960]</td>\n",
       "    </tr>\n",
       "    <tr>\n",
       "      <th>241</th>\n",
       "      <td>20060522_46104_0100_PP.tif</td>\n",
       "      <td>Service Ophtalmologie Lariboisière</td>\n",
       "      <td>0</td>\n",
       "      <td>0</td>\n",
       "      <td>Messidor</td>\n",
       "      <td>Train</td>\n",
       "      <td>[2240, 1488]</td>\n",
       "    </tr>\n",
       "    <tr>\n",
       "      <th>1192</th>\n",
       "      <td>20060412_59636_0200_PP.tif</td>\n",
       "      <td>CHU de St Etienne</td>\n",
       "      <td>1</td>\n",
       "      <td>0</td>\n",
       "      <td>Messidor</td>\n",
       "      <td>Train</td>\n",
       "      <td>[1440, 960]</td>\n",
       "    </tr>\n",
       "    <tr>\n",
       "      <th>371</th>\n",
       "      <td>20051021_59589_0100_PP.tif</td>\n",
       "      <td>Service Ophtalmologie Lariboisière</td>\n",
       "      <td>0</td>\n",
       "      <td>0</td>\n",
       "      <td>Messidor</td>\n",
       "      <td>Train</td>\n",
       "      <td>[2240, 1488]</td>\n",
       "    </tr>\n",
       "  </tbody>\n",
       "</table>\n",
       "</div>"
      ],
      "text/plain": [
       "                        Image_ID                          Department  \\\n",
       "1067  20051130_60186_0400_PP.tif                LaTIM - CHU de BREST   \n",
       "690   20060410_47042_0200_PP.tif                   CHU de St Etienne   \n",
       "241   20060522_46104_0100_PP.tif  Service Ophtalmologie Lariboisière   \n",
       "1192  20060412_59636_0200_PP.tif                   CHU de St Etienne   \n",
       "371   20051021_59589_0100_PP.tif  Service Ophtalmologie Lariboisière   \n",
       "\n",
       "      Retinopathy_Grade  Risk_of_Macular_Edema Data_Source  Split  \\\n",
       "1067                  0                      0    Messidor  Train   \n",
       "690                   0                      0    Messidor  Train   \n",
       "241                   0                      0    Messidor  Train   \n",
       "1192                  1                      0    Messidor  Train   \n",
       "371                   0                      0    Messidor  Train   \n",
       "\n",
       "     Original_Size  \n",
       "1067  [2304, 1536]  \n",
       "690    [1440, 960]  \n",
       "241   [2240, 1488]  \n",
       "1192   [1440, 960]  \n",
       "371   [2240, 1488]  "
      ]
     },
     "execution_count": 6,
     "metadata": {},
     "output_type": "execute_result"
    }
   ],
   "source": [
    "mapping = pd.read_parquet(\"../02_Data/01_messidor_mapping.parquet\")\n",
    "mapping.sample(5)"
   ]
  },
  {
   "cell_type": "code",
   "execution_count": 13,
   "metadata": {},
   "outputs": [],
   "source": [
    "X_train = np.array(\n",
    "    [\n",
    "        (np.array(Image.open(path + \"Train/\" + i))[None, ...] / 255.0).flatten()\n",
    "        for i in train_files\n",
    "    ]\n",
    ")\n",
    "y_train = np.array(\n",
    "    [\n",
    "        mapping.loc[mapping[\"Image_ID\"] == i, \"Retinopathy_Grade\"].values[0]\n",
    "        for i in train_files\n",
    "    ]\n",
    ")"
   ]
  },
  {
   "cell_type": "code",
   "execution_count": 14,
   "metadata": {},
   "outputs": [],
   "source": [
    "X_test = np.array(\n",
    "    [\n",
    "        (np.array(Image.open(path + \"Test/\" + i))[None, ...] / 255.0).flatten()\n",
    "        for i in test_files\n",
    "    ]\n",
    ")\n",
    "y_test = np.array(\n",
    "    [\n",
    "        mapping.loc[mapping[\"Image_ID\"] == i, \"Retinopathy_Grade\"].values[0]\n",
    "        for i in test_files\n",
    "    ]\n",
    ")"
   ]
  },
  {
   "cell_type": "code",
   "execution_count": 15,
   "metadata": {},
   "outputs": [
    {
     "data": {
      "text/plain": [
       "(1176, 786432)"
      ]
     },
     "execution_count": 15,
     "metadata": {},
     "output_type": "execute_result"
    }
   ],
   "source": [
    "X_train.shape"
   ]
  },
  {
   "cell_type": "code",
   "execution_count": 16,
   "metadata": {},
   "outputs": [
    {
     "data": {
      "text/plain": [
       "(1176,)"
      ]
     },
     "execution_count": 16,
     "metadata": {},
     "output_type": "execute_result"
    }
   ],
   "source": [
    "y_train.shape"
   ]
  },
  {
   "cell_type": "markdown",
   "metadata": {},
   "source": [
    "### Random Forest"
   ]
  },
  {
   "cell_type": "code",
   "execution_count": 17,
   "metadata": {},
   "outputs": [
    {
     "name": "stdout",
     "output_type": "stream",
     "text": [
      "Training Time: 41.04 Seconds\n"
     ]
    }
   ],
   "source": [
    "# Initializing the Model\n",
    "model_rf_raw = RandomForestClassifier(n_estimators=100)\n",
    "\n",
    "# Fitting the Model\n",
    "t = time.time()\n",
    "model_rf_raw.fit(X_train, y_train)\n",
    "print(f\"Training Time: {time.time() - t:.2f} Seconds\")"
   ]
  },
  {
   "cell_type": "code",
   "execution_count": 18,
   "metadata": {},
   "outputs": [
    {
     "name": "stdout",
     "output_type": "stream",
     "text": [
      "Prediction Time: 0.02 Seconds\n"
     ]
    }
   ],
   "source": [
    "# Predicting the Test Data\n",
    "t = time.time()\n",
    "y_pred = model_rf_raw.predict(X_test)\n",
    "print(f\"Prediction Time: {time.time() - t:0.2f} Seconds\")"
   ]
  },
  {
   "cell_type": "code",
   "execution_count": 19,
   "metadata": {},
   "outputs": [
    {
     "name": "stdout",
     "output_type": "stream",
     "text": [
      "Accuracy: 33.33%\n",
      "Confusion Matrix: \n",
      "[[6 0 0 0]\n",
      " [5 0 1 0]\n",
      " [3 0 1 2]\n",
      " [3 0 2 1]]\n"
     ]
    }
   ],
   "source": [
    "# Model Evaluation\n",
    "print(f\"Accuracy: {accuracy_score(y_test, y_pred):.2%}\")\n",
    "print(f\"Confusion Matrix: \\n{confusion_matrix(y_test, y_pred)}\")"
   ]
  },
  {
   "cell_type": "markdown",
   "metadata": {},
   "source": [
    "### Logistic Regression"
   ]
  },
  {
   "cell_type": "code",
   "execution_count": 20,
   "metadata": {},
   "outputs": [
    {
     "name": "stdout",
     "output_type": "stream",
     "text": [
      "Training Time: 182.65 Seconds\n"
     ]
    }
   ],
   "source": [
    "# Initializing the Model\n",
    "model_lr_raw = LogisticRegression(\n",
    "    max_iter=200, multi_class=\"multinomial\", solver=\"lbfgs\", random_state=42\n",
    ")\n",
    "\n",
    "# Fitting the Model\n",
    "t = time.time()\n",
    "model_lr_raw.fit(X_train, y_train)\n",
    "print(f\"Training Time: {time.time() - t:0.2f} Seconds\")"
   ]
  },
  {
   "cell_type": "code",
   "execution_count": 21,
   "metadata": {},
   "outputs": [
    {
     "name": "stdout",
     "output_type": "stream",
     "text": [
      "Prediction Time: 0.02 Seconds\n"
     ]
    }
   ],
   "source": [
    "t = time.time()\n",
    "y_pred = model_lr_raw.predict(X_test)\n",
    "print(f\"Prediction Time: {time.time() - t:0.2f} Seconds\")"
   ]
  },
  {
   "cell_type": "code",
   "execution_count": 22,
   "metadata": {},
   "outputs": [
    {
     "name": "stdout",
     "output_type": "stream",
     "text": [
      "Accuracy: 29.17%\n",
      "Confusion Matrix: \n",
      "[[5 0 1 0]\n",
      " [2 0 3 1]\n",
      " [0 1 0 5]\n",
      " [2 0 2 2]]\n"
     ]
    }
   ],
   "source": [
    "# Model Evaluation\n",
    "print(f\"Accuracy: {accuracy_score(y_test, y_pred):.2%}\")\n",
    "print(f\"Confusion Matrix: \\n{confusion_matrix(y_test, y_pred)}\")"
   ]
  },
  {
   "cell_type": "markdown",
   "metadata": {},
   "source": [
    "### RESNET"
   ]
  },
  {
   "cell_type": "code",
   "execution_count": 23,
   "metadata": {},
   "outputs": [
    {
     "name": "stdout",
     "output_type": "stream",
     "text": [
      "Downloading data from https://storage.googleapis.com/tensorflow/keras-applications/resnet/resnet50_weights_tf_dim_ordering_tf_kernels_notop.h5\n",
      "\u001b[1m94765736/94765736\u001b[0m \u001b[32m━━━━━━━━━━━━━━━━━━━━\u001b[0m\u001b[37m\u001b[0m \u001b[1m0s\u001b[0m 0us/step\n"
     ]
    }
   ],
   "source": [
    "# Load a pretrained model\n",
    "model = tf.keras.applications.resnet50.ResNet50(\n",
    "    include_top=False,  # take any input shape, not just 224x224\n",
    "    weights=\"imagenet\",  # use the imagenet pretrained model\n",
    "    pooling=\"avg\",  # use global average pooling to get a 2048 vector from our image\n",
    ")"
   ]
  },
  {
   "cell_type": "code",
   "execution_count": 26,
   "metadata": {},
   "outputs": [],
   "source": [
    "%%capture\n",
    "def preprocess(img):\n",
    "    processed_img = preprocess_input(  # ResNet has its own preprocesser\n",
    "        tf.image.resize(  # Images need to be in (224, 224) dimension\n",
    "            np.array(img), (224, 224)  # Turn PIL image object into array\n",
    "        )\n",
    "    )[None]\n",
    "    return processed_img\n",
    "\n",
    "\n",
    "# use resnet to get the embeddings\n",
    "X_train_resnet = np.array(\n",
    "    [model.predict(preprocess(Image.open(path + \"Train/\" + i))) for i in train_files]\n",
    ").reshape(-1, 2048)\n",
    "X_test_resnet = np.array(\n",
    "    [model.predict(preprocess(Image.open(path + \"Test/\" + i))) for i in test_files]\n",
    ").reshape(-1, 2048)"
   ]
  },
  {
   "cell_type": "markdown",
   "metadata": {},
   "source": [
    "### Random Forest - ResNet Optimized"
   ]
  },
  {
   "cell_type": "code",
   "execution_count": 27,
   "metadata": {},
   "outputs": [
    {
     "name": "stdout",
     "output_type": "stream",
     "text": [
      "Training Time: 2.64 Seconds\n"
     ]
    }
   ],
   "source": [
    "# Initializing the Model\n",
    "model_rf_resnet = RandomForestClassifier(n_estimators=100)\n",
    "\n",
    "# Fitting the Model\n",
    "t = time.time()\n",
    "model_rf_resnet.fit(X_train_resnet, y_train)\n",
    "print(f\"Training Time: {time.time() - t:.2f} Seconds\")"
   ]
  },
  {
   "cell_type": "code",
   "execution_count": 28,
   "metadata": {},
   "outputs": [
    {
     "name": "stdout",
     "output_type": "stream",
     "text": [
      "Prediction Time: 0.00 Seconds\n"
     ]
    }
   ],
   "source": [
    "# predicting the test data\n",
    "t = time.time()\n",
    "y_pred = model_rf_resnet.predict(X_test_resnet)\n",
    "print(f\"Prediction Time: {time.time() - t:0.2f} Seconds\")"
   ]
  },
  {
   "cell_type": "code",
   "execution_count": 29,
   "metadata": {},
   "outputs": [
    {
     "name": "stdout",
     "output_type": "stream",
     "text": [
      "Accuracy: 37.50%\n",
      "Confusion Matrix: \n",
      "[[6 0 0 0]\n",
      " [5 0 0 1]\n",
      " [4 0 1 1]\n",
      " [4 0 0 2]]\n"
     ]
    }
   ],
   "source": [
    "# Model Evaluation\n",
    "print(f\"Accuracy: {accuracy_score(y_test, y_pred):.2%}\")\n",
    "print(f\"Confusion Matrix: \\n{confusion_matrix(y_test, y_pred)}\")"
   ]
  },
  {
   "cell_type": "markdown",
   "metadata": {},
   "source": [
    "### Logistic Regression - ResNet Optimized"
   ]
  },
  {
   "cell_type": "code",
   "execution_count": 30,
   "metadata": {},
   "outputs": [
    {
     "name": "stdout",
     "output_type": "stream",
     "text": [
      "Training Time: 0.47 Seconds\n"
     ]
    }
   ],
   "source": [
    "# Initializing the Model\n",
    "model_lr_resnet = LogisticRegression(\n",
    "    max_iter=200, multi_class=\"multinomial\", solver=\"lbfgs\", random_state=42\n",
    ")\n",
    "\n",
    "# Fitting the Model\n",
    "t = time.time()\n",
    "model_lr_resnet.fit(X_train_resnet, y_train)\n",
    "print(f\"Training Time: {time.time() - t:0.2f} Seconds\")"
   ]
  },
  {
   "cell_type": "code",
   "execution_count": 31,
   "metadata": {},
   "outputs": [
    {
     "name": "stdout",
     "output_type": "stream",
     "text": [
      "Prediction Time: 0.00 Seconds\n"
     ]
    }
   ],
   "source": [
    "# predicting the test data\n",
    "t = time.time()\n",
    "y_pred = model_lr_resnet.predict(X_test_resnet)\n",
    "print(f\"Prediction Time: {time.time() - t:0.2f} Seconds\")"
   ]
  },
  {
   "cell_type": "code",
   "execution_count": 32,
   "metadata": {},
   "outputs": [
    {
     "name": "stdout",
     "output_type": "stream",
     "text": [
      "Accuracy: 37.50%\n",
      "Confusion Matrix: \n",
      "[[5 1 0 0]\n",
      " [4 0 2 0]\n",
      " [4 0 0 2]\n",
      " [0 1 1 4]]\n"
     ]
    }
   ],
   "source": [
    "# Model Evaluation\n",
    "print(f\"Accuracy: {accuracy_score(y_test, y_pred):.2%}\")\n",
    "print(f\"Confusion Matrix: \\n{confusion_matrix(y_test, y_pred)}\")"
   ]
  }
 ],
 "metadata": {
  "kernelspec": {
   "display_name": "Python 3",
   "language": "python",
   "name": "python3"
  },
  "language_info": {
   "codemirror_mode": {
    "name": "ipython",
    "version": 3
   },
   "file_extension": ".py",
   "mimetype": "text/x-python",
   "name": "python",
   "nbconvert_exporter": "python",
   "pygments_lexer": "ipython3",
   "version": "3.10.12"
  }
 },
 "nbformat": 4,
 "nbformat_minor": 2
}
