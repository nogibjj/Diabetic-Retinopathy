{
 "cells": [
  {
   "cell_type": "code",
   "execution_count": 17,
   "metadata": {},
   "outputs": [
    {
     "data": {
      "text/html": [
       "<script>Jupyter.notebook.kernel.restart()</script>"
      ]
     },
     "metadata": {},
     "output_type": "display_data"
    }
   ],
   "source": [
    "from IPython.display import display_html\n",
    "\n",
    "\n",
    "def restart_kernel():\n",
    "    display_html(\"<script>Jupyter.notebook.kernel.restart()</script>\", raw=True)\n",
    "\n",
    "\n",
    "restart_kernel()"
   ]
  },
  {
   "cell_type": "code",
   "execution_count": 18,
   "metadata": {},
   "outputs": [
    {
     "name": "stdout",
     "output_type": "stream",
     "text": [
      "1 Physical GPUs, 1 Logical GPUs\n"
     ]
    }
   ],
   "source": [
    "import os\n",
    "\n",
    "# Set environment variable for TensorFlow\n",
    "# os.environ[\"TF_GPU_ALLOCATOR\"] = \"cuda_malloc_async\"\n",
    "\n",
    "import tensorflow as tf\n",
    "\n",
    "# Configure GPU memory growth\n",
    "gpus = tf.config.experimental.list_physical_devices(\"GPU\")\n",
    "if gpus:\n",
    "    try:\n",
    "        # Set memory growth before initializing GPUs\n",
    "        for gpu in gpus:\n",
    "            tf.config.experimental.set_memory_growth(gpu, True)\n",
    "        logical_gpus = tf.config.experimental.list_logical_devices(\"GPU\")\n",
    "        print(len(gpus), \"Physical GPUs,\", len(logical_gpus), \"Logical GPUs\")\n",
    "    except RuntimeError as e:\n",
    "        # Handle potential errors here\n",
    "        print(e)"
   ]
  },
  {
   "cell_type": "code",
   "execution_count": 19,
   "metadata": {},
   "outputs": [],
   "source": [
    "from tensorflow.keras import layers\n",
    "from tensorflow.keras.callbacks import EarlyStopping, ModelCheckpoint\n",
    "\n",
    "import numpy as np\n",
    "import cv2\n",
    "import random\n",
    "import os\n",
    "\n",
    "import os\n",
    "import cv2\n",
    "import numpy as np\n",
    "import pandas as pd\n",
    "from PIL import Image\n",
    "\n",
    "import pandas as pd\n",
    "import numpy as np\n",
    "import cv2\n",
    "from skimage import exposure\n",
    "from scipy.ndimage import gaussian_filter\n",
    "from sklearn.model_selection import train_test_split\n",
    "from tensorflow.keras import layers\n",
    "from tensorflow.keras.models import Sequential\n",
    "from tensorflow.keras.optimizers import SGD\n",
    "from tensorflow.keras.preprocessing.image import ImageDataGenerator\n",
    "import os\n",
    "import tensorflow as tf\n",
    "from tensorflow import keras\n",
    "from tensorflow.keras import models, layers\n",
    "from tensorflow.keras.optimizers import SGD\n",
    "from tensorflow.keras.callbacks import LearningRateScheduler\n",
    "import math\n",
    "from sklearn.utils.class_weight import compute_class_weight\n",
    "import numpy as np\n",
    "import pandas as pd\n",
    "import cv2\n",
    "from skimage import exposure\n",
    "from scipy.ndimage import gaussian_filter\n",
    "from sklearn.model_selection import train_test_split\n",
    "from tensorflow.keras import layers\n",
    "from tensorflow.keras.models import Sequential\n",
    "from tensorflow.keras.optimizers import SGD\n",
    "from tensorflow.keras.preprocessing.image import ImageDataGenerator\n",
    "import os\n",
    "from tensorflow.keras.optimizers import SGD"
   ]
  },
  {
   "cell_type": "code",
   "execution_count": 20,
   "metadata": {},
   "outputs": [],
   "source": [
    "import numpy as np\n",
    "import random\n",
    "import tensorflow as tf\n",
    "import torch\n",
    "\n",
    "# Set seeds to ensure reproducibility\n",
    "np.random.seed(42)\n",
    "random.seed(42)\n",
    "tf.random.set_seed(42)\n",
    "\n",
    "torch.manual_seed(42)\n",
    "if torch.cuda.is_available():\n",
    "    torch.cuda.manual_seed(42)\n",
    "    torch.cuda.manual_seed_all(42)  # For multi-GPU setups"
   ]
  },
  {
   "cell_type": "markdown",
   "metadata": {},
   "source": [
    "## Model Below"
   ]
  },
  {
   "cell_type": "code",
   "execution_count": 21,
   "metadata": {},
   "outputs": [],
   "source": [
    "# load the data\n",
    "X_train = np.load(\"../../aws_s3/Idrid_224_Raw/X_train.npy\")\n",
    "y_train = np.load(\"../../aws_s3/Idrid_224_Raw/y_train.npy\")\n",
    "X_test = np.load(\"../../aws_s3/Idrid_224_Raw/X_test.npy\")\n",
    "y_test = np.load(\"../../aws_s3/Idrid_224_Raw/y_test.npy\")"
   ]
  },
  {
   "cell_type": "code",
   "execution_count": 22,
   "metadata": {},
   "outputs": [],
   "source": [
    "X_train = tf.convert_to_tensor(X_train, dtype=tf.float32)\n",
    "y_train = tf.convert_to_tensor(y_train, dtype=tf.float32)\n",
    "X_test = tf.convert_to_tensor(X_test, dtype=tf.float32)\n",
    "y_test = tf.convert_to_tensor(y_test, dtype=tf.float32)"
   ]
  },
  {
   "cell_type": "code",
   "execution_count": 23,
   "metadata": {},
   "outputs": [],
   "source": [
    "base_model = tf.keras.applications.EfficientNetB0(\n",
    "    include_top=False,\n",
    "    weights=\"imagenet\",  # Load weights pre-trained on ImageNet.\n",
    "    input_tensor=None,\n",
    "    input_shape=(224, 224, 3),\n",
    "    pooling=\"avg\",\n",
    ")"
   ]
  },
  {
   "cell_type": "markdown",
   "metadata": {},
   "source": [
    "> freeze the base model"
   ]
  },
  {
   "cell_type": "code",
   "execution_count": 24,
   "metadata": {},
   "outputs": [],
   "source": [
    "base_model.trainable = False"
   ]
  },
  {
   "cell_type": "markdown",
   "metadata": {},
   "source": [
    "> Create a new model on top with dropout"
   ]
  },
  {
   "cell_type": "code",
   "execution_count": 25,
   "metadata": {},
   "outputs": [
    {
     "name": "stdout",
     "output_type": "stream",
     "text": [
      "Model: \"model_1\"\n",
      "____________________________________________________________________________\n",
      " Layer (type)                Output Shape              Param #   Trainable  \n",
      "============================================================================\n",
      " input_4 (InputLayer)        [(None, 224, 224, 3)]     0         Y          \n",
      "                                                                            \n",
      " efficientnetb0 (Functional)  (None, 1280)             4049571   N          \n",
      "                                                                            \n",
      " dropout_2 (Dropout)         (None, 1280)              0         Y          \n",
      "                                                                            \n",
      " dense_3 (Dense)             (None, 1000)              1281000   Y          \n",
      "                                                                            \n",
      " dropout_3 (Dropout)         (None, 1000)              0         Y          \n",
      "                                                                            \n",
      " dense_4 (Dense)             (None, 500)               500500    Y          \n",
      "                                                                            \n",
      " dense_5 (Dense)             (None, 4)                 2004      Y          \n",
      "                                                                            \n",
      "============================================================================\n",
      "Total params: 5,833,075\n",
      "Trainable params: 1,783,504\n",
      "Non-trainable params: 4,049,571\n",
      "____________________________________________________________________________\n"
     ]
    }
   ],
   "source": [
    "num_classes = 4\n",
    "epochs = 50\n",
    "# Define the inputs\n",
    "inputs = tf.keras.Input(shape=(224, 224, 3))\n",
    "\n",
    "# Ensure the base_model is running in inference mode.\n",
    "x = base_model(inputs, training=False)\n",
    "\n",
    "x = layers.Dropout(0.5)(x)  # Dropout layer with 50% dropout rate\n",
    "# Adding FC (Fully Connected) layers\n",
    "x = layers.Dense(1000)(x)\n",
    "x = layers.Dropout(0.5)(x)  # Another Dropout layer with 50% dropout rate\n",
    "# Adding FC (Fully Connected) layers\n",
    "x = layers.Dense(500)(x)\n",
    "\n",
    "# Adding a final layer with SoftMax activation for classification\n",
    "outputs = layers.Dense(num_classes, activation=\"softmax\")(x)\n",
    "\n",
    "# Creating the model\n",
    "model = tf.keras.Model(inputs=inputs, outputs=outputs)\n",
    "\n",
    "model.summary(show_trainable=True)"
   ]
  },
  {
   "cell_type": "markdown",
   "metadata": {},
   "source": [
    "> Train the model on new data"
   ]
  },
  {
   "cell_type": "code",
   "execution_count": 26,
   "metadata": {},
   "outputs": [],
   "source": [
    "# base learning rate\n",
    "base_learning_rate = 1e-4\n",
    "# maximum learning rate\n",
    "max_learning_rate = 1e-2\n",
    "\n",
    "# Create an instance of SGD optimizer with initial learning rate\n",
    "optimizer = SGD(learning_rate=base_learning_rate, momentum=0.9, clipnorm=1.0)\n",
    "\n",
    "\n",
    "# Function to compute class weights using TensorFlow\n",
    "def compute_class_weights(labels):\n",
    "    # Convert labels to a 1D tensor if not already\n",
    "    labels = tf.reshape(labels, [-1])\n",
    "\n",
    "    # Get unique classes and their indices and counts\n",
    "    unique_classes, _, class_counts = tf.unique_with_counts(labels)\n",
    "\n",
    "    # Compute total number of samples\n",
    "    total_samples = tf.reduce_sum(class_counts)\n",
    "\n",
    "    # Compute class weights\n",
    "    class_weights = total_samples / (len(unique_classes) * class_counts)\n",
    "\n",
    "    # Create a class weights dictionary mapping class indices to their respective weights\n",
    "    class_weight_dict = dict(zip(unique_classes.numpy(), class_weights.numpy()))\n",
    "\n",
    "    return class_weight_dict\n",
    "\n",
    "\n",
    "class_weight_dict = compute_class_weights(y_train)\n",
    "\n",
    "\n",
    "# Create triangular learning rate scheduler\n",
    "def triangular_schedule(epoch):\n",
    "    \"\"\"Triangular learning rate scheduler.\"\"\"\n",
    "    cycle_length = 10  # Define the length of a cycle\n",
    "    cycle = math.floor(1 + epoch / (2 * cycle_length))\n",
    "    x = abs(epoch / cycle_length - 2 * cycle + 1)\n",
    "    lr = base_learning_rate + (max_learning_rate - base_learning_rate) * max(0, (1 - x))\n",
    "    return lr\n",
    "\n",
    "\n",
    "# When fitting the model, include the learning rate scheduler callback\n",
    "lr_scheduler = LearningRateScheduler(triangular_schedule)"
   ]
  },
  {
   "cell_type": "code",
   "execution_count": 27,
   "metadata": {},
   "outputs": [
    {
     "data": {
      "text/plain": [
       "(TensorShape([492, 224, 224, 3]),\n",
       " TensorShape([492]),\n",
       " TensorShape([24, 224, 224, 3]),\n",
       " TensorShape([24]))"
      ]
     },
     "execution_count": 27,
     "metadata": {},
     "output_type": "execute_result"
    }
   ],
   "source": [
    "X_train.shape, y_train.shape, X_test.shape, y_test.shape"
   ]
  },
  {
   "cell_type": "code",
   "execution_count": 28,
   "metadata": {},
   "outputs": [
    {
     "name": "stdout",
     "output_type": "stream",
     "text": [
      "Num GPUs Available:  1\n"
     ]
    }
   ],
   "source": [
    "print(\"Num GPUs Available: \", len(tf.config.list_physical_devices(\"GPU\")))"
   ]
  },
  {
   "cell_type": "code",
   "execution_count": 29,
   "metadata": {},
   "outputs": [
    {
     "name": "stdout",
     "output_type": "stream",
     "text": [
      "Fitting the top layer of the model\n"
     ]
    },
    {
     "name": "stdout",
     "output_type": "stream",
     "text": [
      "Epoch 1/50\n",
      "16/16 [==============================] - 7s 27ms/step - loss: 1.8416 - accuracy: 0.2114 - lr: 1.0000e-04\n",
      "Epoch 2/50\n",
      "16/16 [==============================] - 0s 27ms/step - loss: 1.6140 - accuracy: 0.2602 - lr: 0.0011\n",
      "Epoch 3/50\n",
      "16/16 [==============================] - 0s 27ms/step - loss: 1.6353 - accuracy: 0.3516 - lr: 0.0021\n",
      "Epoch 4/50\n",
      "16/16 [==============================] - 0s 27ms/step - loss: 1.4381 - accuracy: 0.3516 - lr: 0.0031\n",
      "Epoch 5/50\n",
      "16/16 [==============================] - 0s 27ms/step - loss: 1.3216 - accuracy: 0.4492 - lr: 0.0041\n",
      "Epoch 6/50\n",
      "16/16 [==============================] - 0s 27ms/step - loss: 1.4094 - accuracy: 0.4268 - lr: 0.0050\n",
      "Epoch 7/50\n",
      "16/16 [==============================] - 0s 27ms/step - loss: 1.2302 - accuracy: 0.4268 - lr: 0.0060\n",
      "Epoch 8/50\n",
      "16/16 [==============================] - 0s 27ms/step - loss: 1.2929 - accuracy: 0.4614 - lr: 0.0070\n",
      "Epoch 9/50\n",
      "16/16 [==============================] - 0s 27ms/step - loss: 1.1215 - accuracy: 0.5163 - lr: 0.0080\n",
      "Epoch 10/50\n",
      "16/16 [==============================] - 0s 27ms/step - loss: 1.0529 - accuracy: 0.5244 - lr: 0.0090\n",
      "Epoch 11/50\n",
      "16/16 [==============================] - 0s 27ms/step - loss: 1.1358 - accuracy: 0.4675 - lr: 0.0100\n",
      "Epoch 12/50\n",
      "16/16 [==============================] - 0s 27ms/step - loss: 1.0627 - accuracy: 0.4939 - lr: 0.0090\n",
      "Epoch 13/50\n",
      "16/16 [==============================] - 0s 27ms/step - loss: 1.1428 - accuracy: 0.6077 - lr: 0.0080\n",
      "Epoch 14/50\n",
      "16/16 [==============================] - 0s 27ms/step - loss: 0.9883 - accuracy: 0.5041 - lr: 0.0070\n",
      "Epoch 15/50\n",
      "16/16 [==============================] - 0s 27ms/step - loss: 1.0581 - accuracy: 0.6159 - lr: 0.0060\n",
      "Epoch 16/50\n",
      "16/16 [==============================] - 0s 27ms/step - loss: 1.0196 - accuracy: 0.4959 - lr: 0.0050\n",
      "Epoch 17/50\n",
      "16/16 [==============================] - 0s 27ms/step - loss: 1.1491 - accuracy: 0.6362 - lr: 0.0041\n",
      "Epoch 18/50\n",
      "16/16 [==============================] - 0s 27ms/step - loss: 0.9652 - accuracy: 0.5305 - lr: 0.0031\n",
      "Epoch 19/50\n",
      "16/16 [==============================] - 0s 27ms/step - loss: 0.8996 - accuracy: 0.6057 - lr: 0.0021\n",
      "Epoch 20/50\n",
      "16/16 [==============================] - 0s 27ms/step - loss: 0.8345 - accuracy: 0.5996 - lr: 0.0011\n",
      "Epoch 21/50\n",
      "16/16 [==============================] - 0s 27ms/step - loss: 0.9335 - accuracy: 0.6260 - lr: 1.0000e-04\n",
      "Epoch 22/50\n",
      "16/16 [==============================] - 0s 28ms/step - loss: 0.8613 - accuracy: 0.5915 - lr: 0.0011\n",
      "Epoch 23/50\n",
      "16/16 [==============================] - 0s 27ms/step - loss: 0.9583 - accuracy: 0.5610 - lr: 0.0021\n",
      "Epoch 24/50\n",
      "16/16 [==============================] - 0s 27ms/step - loss: 0.8435 - accuracy: 0.5711 - lr: 0.0031\n",
      "Epoch 25/50\n",
      "16/16 [==============================] - 0s 27ms/step - loss: 0.8518 - accuracy: 0.5671 - lr: 0.0041\n",
      "Epoch 26/50\n",
      "16/16 [==============================] - 0s 27ms/step - loss: 1.0546 - accuracy: 0.6138 - lr: 0.0050\n",
      "Epoch 27/50\n",
      "16/16 [==============================] - 0s 27ms/step - loss: 0.8856 - accuracy: 0.5346 - lr: 0.0060\n",
      "Epoch 28/50\n",
      "16/16 [==============================] - 0s 27ms/step - loss: 0.9810 - accuracy: 0.6240 - lr: 0.0070\n",
      "Epoch 29/50\n",
      "16/16 [==============================] - 0s 28ms/step - loss: 0.8344 - accuracy: 0.6463 - lr: 0.0080\n",
      "Epoch 30/50\n",
      "16/16 [==============================] - 0s 27ms/step - loss: 0.9001 - accuracy: 0.5833 - lr: 0.0090\n",
      "Epoch 31/50\n",
      "16/16 [==============================] - 0s 27ms/step - loss: 1.0557 - accuracy: 0.5508 - lr: 0.0100\n",
      "Epoch 32/50\n",
      "16/16 [==============================] - 0s 27ms/step - loss: 0.9340 - accuracy: 0.6118 - lr: 0.0090\n",
      "Epoch 33/50\n",
      "16/16 [==============================] - 0s 27ms/step - loss: 0.9237 - accuracy: 0.5467 - lr: 0.0080\n",
      "Epoch 34/50\n",
      "16/16 [==============================] - 0s 27ms/step - loss: 1.1320 - accuracy: 0.5732 - lr: 0.0070\n",
      "Epoch 35/50\n",
      "16/16 [==============================] - 0s 27ms/step - loss: 0.8742 - accuracy: 0.6382 - lr: 0.0060\n",
      "Epoch 36/50\n",
      "16/16 [==============================] - 0s 27ms/step - loss: 0.8692 - accuracy: 0.5976 - lr: 0.0050\n",
      "Epoch 37/50\n",
      "16/16 [==============================] - 0s 27ms/step - loss: 1.0350 - accuracy: 0.5976 - lr: 0.0041\n",
      "Epoch 38/50\n",
      "16/16 [==============================] - 0s 27ms/step - loss: 0.8290 - accuracy: 0.6016 - lr: 0.0031\n",
      "Epoch 39/50\n",
      "16/16 [==============================] - 0s 27ms/step - loss: 0.7940 - accuracy: 0.6240 - lr: 0.0021\n",
      "Epoch 40/50\n",
      "16/16 [==============================] - 0s 27ms/step - loss: 0.8341 - accuracy: 0.6321 - lr: 0.0011\n",
      "Epoch 41/50\n",
      "16/16 [==============================] - 0s 27ms/step - loss: 0.9948 - accuracy: 0.6118 - lr: 1.0000e-04\n",
      "Epoch 42/50\n",
      "16/16 [==============================] - 0s 27ms/step - loss: 0.9506 - accuracy: 0.6504 - lr: 0.0011\n",
      "Epoch 43/50\n",
      "16/16 [==============================] - 0s 27ms/step - loss: 0.9219 - accuracy: 0.5813 - lr: 0.0021\n",
      "Epoch 44/50\n",
      "16/16 [==============================] - 0s 27ms/step - loss: 0.8482 - accuracy: 0.6463 - lr: 0.0031\n",
      "Epoch 45/50\n",
      "16/16 [==============================] - 0s 27ms/step - loss: 0.8870 - accuracy: 0.5915 - lr: 0.0041\n",
      "Epoch 46/50\n",
      "16/16 [==============================] - 0s 27ms/step - loss: 0.8838 - accuracy: 0.6280 - lr: 0.0050\n",
      "Epoch 47/50\n",
      "16/16 [==============================] - 0s 27ms/step - loss: 0.8858 - accuracy: 0.6159 - lr: 0.0060\n",
      "Epoch 48/50\n",
      "16/16 [==============================] - 0s 27ms/step - loss: 0.9070 - accuracy: 0.5711 - lr: 0.0070\n",
      "Epoch 49/50\n",
      "16/16 [==============================] - 0s 27ms/step - loss: 0.8477 - accuracy: 0.6667 - lr: 0.0080\n",
      "Epoch 50/50\n",
      "16/16 [==============================] - 0s 26ms/step - loss: 0.8971 - accuracy: 0.5915 - lr: 0.0090\n"
     ]
    },
    {
     "data": {
      "text/plain": [
       "<keras.callbacks.History at 0x7f571c051720>"
      ]
     },
     "execution_count": 29,
     "metadata": {},
     "output_type": "execute_result"
    }
   ],
   "source": [
    "model.compile(\n",
    "    optimizer=optimizer, loss=\"sparse_categorical_crossentropy\", metrics=[\"accuracy\"]\n",
    ")\n",
    "\n",
    "print(\"Fitting the top layer of the model\")\n",
    "model.fit(\n",
    "    X_train,\n",
    "    y_train,\n",
    "    epochs=epochs,\n",
    "    batch_size=32,\n",
    "    class_weight=class_weight_dict,\n",
    "    callbacks=[lr_scheduler],\n",
    ")"
   ]
  },
  {
   "cell_type": "markdown",
   "metadata": {},
   "source": [
    "> Fine tuning: unfreeze all or part of the base model and retrain the whole model end-to-end with a very low learning rate."
   ]
  },
  {
   "cell_type": "code",
   "execution_count": 30,
   "metadata": {},
   "outputs": [
    {
     "name": "stdout",
     "output_type": "stream",
     "text": [
      "Model: \"model_1\"\n",
      "____________________________________________________________________________\n",
      " Layer (type)                Output Shape              Param #   Trainable  \n",
      "============================================================================\n",
      " input_4 (InputLayer)        [(None, 224, 224, 3)]     0         Y          \n",
      "                                                                            \n",
      " efficientnetb0 (Functional)  (None, 1280)             4049571   Y          \n",
      "                                                                            \n",
      " dropout_2 (Dropout)         (None, 1280)              0         Y          \n",
      "                                                                            \n",
      " dense_3 (Dense)             (None, 1000)              1281000   Y          \n",
      "                                                                            \n",
      " dropout_3 (Dropout)         (None, 1000)              0         Y          \n",
      "                                                                            \n",
      " dense_4 (Dense)             (None, 500)               500500    Y          \n",
      "                                                                            \n",
      " dense_5 (Dense)             (None, 4)                 2004      Y          \n",
      "                                                                            \n",
      "============================================================================\n",
      "Total params: 5,833,075\n",
      "Trainable params: 5,791,052\n",
      "Non-trainable params: 42,023\n",
      "____________________________________________________________________________\n",
      "Fitting the end-to-end model\n",
      "Epoch 1/50\n",
      "16/16 [==============================] - 15s 89ms/step - loss: 0.9230 - accuracy: 0.5955 - lr: 1.0000e-04\n",
      "Epoch 2/50\n",
      "16/16 [==============================] - 1s 89ms/step - loss: 0.9385 - accuracy: 0.5976 - lr: 0.0011\n",
      "Epoch 3/50\n",
      "16/16 [==============================] - 1s 89ms/step - loss: 1.1054 - accuracy: 0.4898 - lr: 0.0021\n",
      "Epoch 4/50\n",
      "16/16 [==============================] - 1s 89ms/step - loss: 1.1402 - accuracy: 0.5122 - lr: 0.0031\n",
      "Epoch 5/50\n",
      "16/16 [==============================] - 1s 89ms/step - loss: 1.0170 - accuracy: 0.5142 - lr: 0.0041\n",
      "Epoch 6/50\n",
      "16/16 [==============================] - 1s 89ms/step - loss: 0.9251 - accuracy: 0.5874 - lr: 0.0050\n",
      "Epoch 7/50\n",
      "16/16 [==============================] - 1s 90ms/step - loss: 1.0920 - accuracy: 0.4797 - lr: 0.0060\n",
      "Epoch 8/50\n",
      "16/16 [==============================] - 1s 89ms/step - loss: 1.2051 - accuracy: 0.5122 - lr: 0.0070\n",
      "Epoch 9/50\n",
      "16/16 [==============================] - 1s 89ms/step - loss: 1.1012 - accuracy: 0.5224 - lr: 0.0080\n",
      "Epoch 10/50\n",
      "16/16 [==============================] - 1s 89ms/step - loss: 1.0557 - accuracy: 0.4776 - lr: 0.0090\n",
      "Epoch 11/50\n",
      "16/16 [==============================] - 1s 90ms/step - loss: 1.0919 - accuracy: 0.4715 - lr: 0.0100\n",
      "Epoch 12/50\n",
      "16/16 [==============================] - 1s 89ms/step - loss: 0.9808 - accuracy: 0.5447 - lr: 0.0090\n",
      "Epoch 13/50\n",
      "16/16 [==============================] - 1s 89ms/step - loss: 0.9097 - accuracy: 0.5549 - lr: 0.0080\n",
      "Epoch 14/50\n",
      "16/16 [==============================] - 1s 90ms/step - loss: 1.0910 - accuracy: 0.4593 - lr: 0.0070\n",
      "Epoch 15/50\n",
      "16/16 [==============================] - 1s 89ms/step - loss: 0.9421 - accuracy: 0.6159 - lr: 0.0060\n",
      "Epoch 16/50\n",
      "16/16 [==============================] - 1s 89ms/step - loss: 0.8685 - accuracy: 0.5142 - lr: 0.0050\n",
      "Epoch 17/50\n",
      "16/16 [==============================] - 1s 89ms/step - loss: 0.9625 - accuracy: 0.6037 - lr: 0.0041\n",
      "Epoch 18/50\n",
      "16/16 [==============================] - 1s 89ms/step - loss: 0.7571 - accuracy: 0.6565 - lr: 0.0031\n",
      "Epoch 19/50\n",
      "16/16 [==============================] - 1s 89ms/step - loss: 0.5051 - accuracy: 0.7256 - lr: 0.0021\n",
      "Epoch 20/50\n",
      "16/16 [==============================] - 1s 89ms/step - loss: 0.4071 - accuracy: 0.7744 - lr: 0.0011\n",
      "Epoch 21/50\n",
      "16/16 [==============================] - 1s 89ms/step - loss: 0.3280 - accuracy: 0.7947 - lr: 1.0000e-04\n",
      "Epoch 22/50\n",
      "16/16 [==============================] - 1s 89ms/step - loss: 0.3548 - accuracy: 0.7785 - lr: 0.0011\n",
      "Epoch 23/50\n",
      "16/16 [==============================] - 1s 89ms/step - loss: 0.3223 - accuracy: 0.8110 - lr: 0.0021\n",
      "Epoch 24/50\n",
      "16/16 [==============================] - 1s 89ms/step - loss: 0.2910 - accuracy: 0.8252 - lr: 0.0031\n",
      "Epoch 25/50\n",
      "16/16 [==============================] - 1s 90ms/step - loss: 0.3299 - accuracy: 0.8435 - lr: 0.0041\n",
      "Epoch 26/50\n",
      "16/16 [==============================] - 1s 89ms/step - loss: 0.3140 - accuracy: 0.8394 - lr: 0.0050\n",
      "Epoch 27/50\n",
      "16/16 [==============================] - 1s 89ms/step - loss: 0.2419 - accuracy: 0.8659 - lr: 0.0060\n",
      "Epoch 28/50\n",
      "16/16 [==============================] - 1s 89ms/step - loss: 0.4747 - accuracy: 0.8333 - lr: 0.0070\n",
      "Epoch 29/50\n",
      "16/16 [==============================] - 1s 89ms/step - loss: 0.6430 - accuracy: 0.7215 - lr: 0.0080\n",
      "Epoch 30/50\n",
      "16/16 [==============================] - 1s 89ms/step - loss: 0.4284 - accuracy: 0.7927 - lr: 0.0090\n",
      "Epoch 31/50\n",
      "16/16 [==============================] - 1s 89ms/step - loss: 0.6916 - accuracy: 0.7297 - lr: 0.0100\n",
      "Epoch 32/50\n",
      "16/16 [==============================] - 1s 89ms/step - loss: 0.5366 - accuracy: 0.7805 - lr: 0.0090\n",
      "Epoch 33/50\n",
      "16/16 [==============================] - 1s 90ms/step - loss: 0.3919 - accuracy: 0.8211 - lr: 0.0080\n",
      "Epoch 34/50\n",
      "16/16 [==============================] - 1s 89ms/step - loss: 0.2665 - accuracy: 0.8699 - lr: 0.0070\n",
      "Epoch 35/50\n",
      "16/16 [==============================] - 1s 89ms/step - loss: 0.2909 - accuracy: 0.8679 - lr: 0.0060\n",
      "Epoch 36/50\n",
      "16/16 [==============================] - 1s 89ms/step - loss: 0.1285 - accuracy: 0.9390 - lr: 0.0050\n",
      "Epoch 37/50\n",
      "16/16 [==============================] - 1s 89ms/step - loss: 0.1039 - accuracy: 0.9451 - lr: 0.0041\n",
      "Epoch 38/50\n",
      "16/16 [==============================] - 1s 89ms/step - loss: 0.0771 - accuracy: 0.9553 - lr: 0.0031\n",
      "Epoch 39/50\n",
      "16/16 [==============================] - 1s 89ms/step - loss: 0.0659 - accuracy: 0.9654 - lr: 0.0021\n",
      "Epoch 40/50\n",
      "16/16 [==============================] - 1s 89ms/step - loss: 0.0416 - accuracy: 0.9837 - lr: 0.0011\n",
      "Epoch 41/50\n",
      "16/16 [==============================] - 1s 89ms/step - loss: 0.0339 - accuracy: 0.9878 - lr: 1.0000e-04\n",
      "Epoch 42/50\n",
      "16/16 [==============================] - 1s 89ms/step - loss: 0.0339 - accuracy: 0.9878 - lr: 0.0011\n",
      "Epoch 43/50\n",
      "16/16 [==============================] - 1s 89ms/step - loss: 0.0412 - accuracy: 0.9776 - lr: 0.0021\n",
      "Epoch 44/50\n",
      "16/16 [==============================] - 1s 89ms/step - loss: 0.0286 - accuracy: 0.9858 - lr: 0.0031\n",
      "Epoch 45/50\n",
      "16/16 [==============================] - 1s 89ms/step - loss: 0.0225 - accuracy: 0.9959 - lr: 0.0041\n",
      "Epoch 46/50\n",
      "16/16 [==============================] - 1s 89ms/step - loss: 0.0253 - accuracy: 0.9939 - lr: 0.0050\n",
      "Epoch 47/50\n",
      "16/16 [==============================] - 1s 89ms/step - loss: 0.1111 - accuracy: 0.9837 - lr: 0.0060\n",
      "Epoch 48/50\n",
      "16/16 [==============================] - 1s 89ms/step - loss: 0.0703 - accuracy: 0.9817 - lr: 0.0070\n",
      "Epoch 49/50\n",
      "16/16 [==============================] - 1s 90ms/step - loss: 0.0711 - accuracy: 0.9654 - lr: 0.0080\n",
      "Epoch 50/50\n",
      "16/16 [==============================] - 1s 90ms/step - loss: 0.0841 - accuracy: 0.9573 - lr: 0.0090\n"
     ]
    },
    {
     "data": {
      "text/plain": [
       "<keras.callbacks.History at 0x7f572dac84f0>"
      ]
     },
     "execution_count": 30,
     "metadata": {},
     "output_type": "execute_result"
    }
   ],
   "source": [
    "from tensorflow.keras.callbacks import EarlyStopping, ModelCheckpoint\n",
    "\n",
    "# Unfreeze the base model\n",
    "base_model.trainable = True\n",
    "model.summary(show_trainable=True)\n",
    "\n",
    "# Re-instantiate the optimizer\n",
    "optimizer = SGD(learning_rate=base_learning_rate, momentum=0.9, clipnorm=1.0)\n",
    "\n",
    "model.compile(\n",
    "    optimizer=optimizer, loss=\"sparse_categorical_crossentropy\", metrics=[\"accuracy\"]\n",
    ")\n",
    "\n",
    "print(\"Fitting the end-to-end model\")\n",
    "# Train end-to-end. Stop before overfit\n",
    "model.fit(\n",
    "    X_train,\n",
    "    y_train,\n",
    "    epochs=epochs,\n",
    "    batch_size=32,\n",
    "    class_weight=class_weight_dict,\n",
    "    callbacks=[lr_scheduler],\n",
    ")"
   ]
  },
  {
   "cell_type": "markdown",
   "metadata": {},
   "source": [
    "> Evaluate on test data"
   ]
  },
  {
   "cell_type": "code",
   "execution_count": 31,
   "metadata": {},
   "outputs": [],
   "source": [
    "# model.save(\"my_model.keras\")"
   ]
  },
  {
   "cell_type": "code",
   "execution_count": 32,
   "metadata": {},
   "outputs": [
    {
     "name": "stdout",
     "output_type": "stream",
     "text": [
      "Test dataset evaluation\n",
      "1/1 [==============================] - 2s 2s/step - loss: 3.0099 - accuracy: 0.5000\n"
     ]
    },
    {
     "data": {
      "text/plain": [
       "[3.009925127029419, 0.5]"
      ]
     },
     "execution_count": 32,
     "metadata": {},
     "output_type": "execute_result"
    }
   ],
   "source": [
    "print(\"Test dataset evaluation\")\n",
    "model.evaluate(X_test, y_test)"
   ]
  }
 ],
 "metadata": {
  "kernelspec": {
   "display_name": "Python 3",
   "language": "python",
   "name": "python3"
  },
  "language_info": {
   "codemirror_mode": {
    "name": "ipython",
    "version": 3
   },
   "file_extension": ".py",
   "mimetype": "text/x-python",
   "name": "python",
   "nbconvert_exporter": "python",
   "pygments_lexer": "ipython3",
   "version": "3.10.12"
  }
 },
 "nbformat": 4,
 "nbformat_minor": 2
}
