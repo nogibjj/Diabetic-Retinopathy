{
 "cells": [
  {
   "cell_type": "code",
   "execution_count": 12,
   "metadata": {},
   "outputs": [
    {
     "data": {
      "text/html": [
       "<script>Jupyter.notebook.kernel.restart()</script>"
      ]
     },
     "metadata": {},
     "output_type": "display_data"
    }
   ],
   "source": [
    "from IPython.display import display_html\n",
    "\n",
    "\n",
    "def restart_kernel():\n",
    "    display_html(\"<script>Jupyter.notebook.kernel.restart()</script>\", raw=True)\n",
    "\n",
    "\n",
    "restart_kernel()"
   ]
  },
  {
   "cell_type": "code",
   "execution_count": 13,
   "metadata": {},
   "outputs": [],
   "source": [
    "import os\n",
    "\n",
    "# Set environment variable for TensorFlow\n",
    "# os.environ[\"TF_GPU_ALLOCATOR\"] = \"cuda_malloc_async\"\n",
    "\n",
    "import tensorflow as tf\n",
    "\n",
    "# Configure GPU memory growth\n",
    "gpus = tf.config.experimental.list_physical_devices(\"GPU\")\n",
    "if gpus:\n",
    "    try:\n",
    "        # Set memory growth before initializing GPUs\n",
    "        for gpu in gpus:\n",
    "            tf.config.experimental.set_memory_growth(gpu, True)\n",
    "        logical_gpus = tf.config.experimental.list_logical_devices(\"GPU\")\n",
    "        print(len(gpus), \"Physical GPUs,\", len(logical_gpus), \"Logical GPUs\")\n",
    "    except RuntimeError as e:\n",
    "        # Handle potential errors here\n",
    "        print(e)"
   ]
  },
  {
   "cell_type": "code",
   "execution_count": 3,
   "metadata": {},
   "outputs": [],
   "source": [
    "from tensorflow.keras import layers\n",
    "from tensorflow.keras.callbacks import EarlyStopping, ModelCheckpoint\n",
    "\n",
    "import numpy as np\n",
    "import cv2\n",
    "import random\n",
    "import os\n",
    "\n",
    "import os\n",
    "import cv2\n",
    "import numpy as np\n",
    "import pandas as pd\n",
    "from PIL import Image\n",
    "\n",
    "import pandas as pd\n",
    "import numpy as np\n",
    "import cv2\n",
    "from skimage import exposure\n",
    "from scipy.ndimage import gaussian_filter\n",
    "from sklearn.model_selection import train_test_split\n",
    "from tensorflow.keras import layers\n",
    "from tensorflow.keras.models import Sequential\n",
    "from tensorflow.keras.optimizers import SGD\n",
    "from tensorflow.keras.preprocessing.image import ImageDataGenerator\n",
    "import os\n",
    "import tensorflow as tf\n",
    "from tensorflow import keras\n",
    "from tensorflow.keras import models, layers\n",
    "from tensorflow.keras.optimizers import SGD\n",
    "from tensorflow.keras.callbacks import LearningRateScheduler\n",
    "import math\n",
    "from sklearn.utils.class_weight import compute_class_weight\n",
    "import numpy as np\n",
    "import pandas as pd\n",
    "import cv2\n",
    "from skimage import exposure\n",
    "from scipy.ndimage import gaussian_filter\n",
    "from sklearn.model_selection import train_test_split\n",
    "from tensorflow.keras import layers\n",
    "from tensorflow.keras.models import Sequential\n",
    "from tensorflow.keras.optimizers import SGD\n",
    "from tensorflow.keras.preprocessing.image import ImageDataGenerator\n",
    "import os\n",
    "from tensorflow.keras.optimizers import SGD"
   ]
  },
  {
   "cell_type": "code",
   "execution_count": 4,
   "metadata": {},
   "outputs": [],
   "source": [
    "import numpy as np\n",
    "import random\n",
    "import tensorflow as tf\n",
    "import torch\n",
    "\n",
    "# Set seeds to ensure reproducibility\n",
    "np.random.seed(42)\n",
    "random.seed(42)\n",
    "tf.random.set_seed(42)\n",
    "\n",
    "torch.manual_seed(42)\n",
    "if torch.cuda.is_available():\n",
    "    torch.cuda.manual_seed(42)\n",
    "    torch.cuda.manual_seed_all(42)  # For multi-GPU setups"
   ]
  },
  {
   "cell_type": "markdown",
   "metadata": {},
   "source": [
    "## Model Below"
   ]
  },
  {
   "cell_type": "code",
   "execution_count": 5,
   "metadata": {},
   "outputs": [],
   "source": [
    "# load the data\n",
    "X_train = np.load(\"../../aws_s3/Idrid_224_Raw/X_train.npy\")\n",
    "y_train = np.load(\"../../aws_s3/Idrid_224_Raw/y_train.npy\")\n",
    "X_test = np.load(\"../../aws_s3/Idrid_224_Raw/X_test.npy\")\n",
    "y_test = np.load(\"../../aws_s3/Idrid_224_Raw/y_test.npy\")"
   ]
  },
  {
   "cell_type": "code",
   "execution_count": 6,
   "metadata": {},
   "outputs": [
    {
     "name": "stderr",
     "output_type": "stream",
     "text": [
      "2024-04-14 18:49:21.131668: I tensorflow/core/platform/cpu_feature_guard.cc:193] This TensorFlow binary is optimized with oneAPI Deep Neural Network Library (oneDNN) to use the following CPU instructions in performance-critical operations:  AVX2 FMA\n",
      "To enable them in other operations, rebuild TensorFlow with the appropriate compiler flags.\n"
     ]
    }
   ],
   "source": [
    "X_train = tf.convert_to_tensor(X_train, dtype=tf.float32)\n",
    "y_train = tf.convert_to_tensor(y_train, dtype=tf.float32)\n",
    "X_test = tf.convert_to_tensor(X_test, dtype=tf.float32)\n",
    "y_test = tf.convert_to_tensor(y_test, dtype=tf.float32)"
   ]
  },
  {
   "cell_type": "code",
   "execution_count": 7,
   "metadata": {},
   "outputs": [],
   "source": [
    "base_model = tf.keras.applications.EfficientNetB0(\n",
    "    include_top=False,\n",
    "    weights=\"imagenet\",  # Load weights pre-trained on ImageNet.\n",
    "    input_tensor=None,\n",
    "    input_shape=(224, 224, 3),\n",
    "    pooling=\"avg\",\n",
    ")"
   ]
  },
  {
   "cell_type": "markdown",
   "metadata": {},
   "source": [
    "> freeze the base model"
   ]
  },
  {
   "cell_type": "code",
   "execution_count": 8,
   "metadata": {},
   "outputs": [],
   "source": [
    "base_model.trainable = False"
   ]
  },
  {
   "cell_type": "markdown",
   "metadata": {},
   "source": [
    "> Create a new model on top with dropout"
   ]
  },
  {
   "cell_type": "code",
   "execution_count": 9,
   "metadata": {},
   "outputs": [
    {
     "name": "stdout",
     "output_type": "stream",
     "text": [
      "Model: \"model\"\n",
      "____________________________________________________________________________\n",
      " Layer (type)                Output Shape              Param #   Trainable  \n",
      "============================================================================\n",
      " input_2 (InputLayer)        [(None, 224, 224, 3)]     0         Y          \n",
      "                                                                            \n",
      " efficientnetb0 (Functional)  (None, 1280)             4049571   N          \n",
      "                                                                            \n",
      " dropout (Dropout)           (None, 1280)              0         Y          \n",
      "                                                                            \n",
      " dense (Dense)               (None, 1000)              1281000   Y          \n",
      "                                                                            \n",
      " dropout_1 (Dropout)         (None, 1000)              0         Y          \n",
      "                                                                            \n",
      " dense_1 (Dense)             (None, 500)               500500    Y          \n",
      "                                                                            \n",
      " dense_2 (Dense)             (None, 4)                 2004      Y          \n",
      "                                                                            \n",
      "============================================================================\n",
      "Total params: 5,833,075\n",
      "Trainable params: 1,783,504\n",
      "Non-trainable params: 4,049,571\n",
      "____________________________________________________________________________\n"
     ]
    }
   ],
   "source": [
    "num_classes = 4\n",
    "epochs = 50\n",
    "# Define the inputs\n",
    "inputs = tf.keras.Input(shape=(224, 224, 3))\n",
    "\n",
    "# Ensure the base_model is running in inference mode.\n",
    "x = base_model(inputs, training=False)\n",
    "\n",
    "x = layers.Dropout(0.5)(x)  # Dropout layer with 50% dropout rate\n",
    "# Adding FC (Fully Connected) layers\n",
    "x = layers.Dense(1000)(x)\n",
    "x = layers.Dropout(0.5)(x)  # Another Dropout layer with 50% dropout rate\n",
    "# Adding FC (Fully Connected) layers\n",
    "x = layers.Dense(500)(x)\n",
    "\n",
    "# Adding a final layer with SoftMax activation for classification\n",
    "outputs = layers.Dense(num_classes, activation=\"softmax\")(x)\n",
    "\n",
    "# Creating the model\n",
    "model = tf.keras.Model(inputs=inputs, outputs=outputs)\n",
    "\n",
    "model.summary(show_trainable=True)"
   ]
  },
  {
   "cell_type": "markdown",
   "metadata": {},
   "source": [
    "> Train the model on new data"
   ]
  },
  {
   "cell_type": "code",
   "execution_count": 10,
   "metadata": {},
   "outputs": [],
   "source": [
    "# base learning rate\n",
    "base_learning_rate = 1e-4\n",
    "# maximum learning rate\n",
    "max_learning_rate = 1e-2\n",
    "\n",
    "# Create an instance of SGD optimizer with initial learning rate\n",
    "optimizer = SGD(learning_rate=base_learning_rate, momentum=0.9, clipnorm=1.0)\n",
    "\n",
    "\n",
    "# Function to compute class weights using TensorFlow\n",
    "def compute_class_weights(labels):\n",
    "    # Convert labels to a 1D tensor if not already\n",
    "    labels = tf.reshape(labels, [-1])\n",
    "\n",
    "    # Get unique classes and their indices and counts\n",
    "    unique_classes, _, class_counts = tf.unique_with_counts(labels)\n",
    "\n",
    "    # Compute total number of samples\n",
    "    total_samples = tf.reduce_sum(class_counts)\n",
    "\n",
    "    # Compute class weights\n",
    "    class_weights = total_samples / (len(unique_classes) * class_counts)\n",
    "\n",
    "    # Create a class weights dictionary mapping class indices to their respective weights\n",
    "    class_weight_dict = dict(zip(unique_classes.numpy(), class_weights.numpy()))\n",
    "\n",
    "    return class_weight_dict\n",
    "\n",
    "\n",
    "class_weight_dict = compute_class_weights(y_train)\n",
    "\n",
    "\n",
    "# Create triangular learning rate scheduler\n",
    "def triangular_schedule(epoch):\n",
    "    \"\"\"Triangular learning rate scheduler.\"\"\"\n",
    "    cycle_length = 10  # Define the length of a cycle\n",
    "    cycle = math.floor(1 + epoch / (2 * cycle_length))\n",
    "    x = abs(epoch / cycle_length - 2 * cycle + 1)\n",
    "    lr = base_learning_rate + (max_learning_rate - base_learning_rate) * max(0, (1 - x))\n",
    "    return lr\n",
    "\n",
    "\n",
    "# When fitting the model, include the learning rate scheduler callback\n",
    "lr_scheduler = LearningRateScheduler(triangular_schedule)"
   ]
  },
  {
   "cell_type": "code",
   "execution_count": 11,
   "metadata": {},
   "outputs": [
    {
     "data": {
      "text/plain": [
       "(TensorShape([492, 224, 224, 3]),\n",
       " TensorShape([492]),\n",
       " TensorShape([24, 224, 224, 3]),\n",
       " TensorShape([24]))"
      ]
     },
     "execution_count": 11,
     "metadata": {},
     "output_type": "execute_result"
    }
   ],
   "source": [
    "X_train.shape, y_train.shape, X_test.shape, y_test.shape"
   ]
  },
  {
   "cell_type": "code",
   "execution_count": 19,
   "metadata": {},
   "outputs": [
    {
     "name": "stdout",
     "output_type": "stream",
     "text": [
      "Num GPUs Available:  0\n"
     ]
    }
   ],
   "source": [
    "print(\"Num GPUs Available: \", len(tf.config.list_physical_devices(\"GPU\")))"
   ]
  },
  {
   "cell_type": "code",
   "execution_count": 13,
   "metadata": {},
   "outputs": [
    {
     "name": "stdout",
     "output_type": "stream",
     "text": [
      "Fitting the top layer of the model\n",
      "Epoch 1/50\n"
     ]
    },
    {
     "name": "stderr",
     "output_type": "stream",
     "text": [
      "2024-04-14 04:26:55.479941: I tensorflow/stream_executor/cuda/cuda_dnn.cc:384] Loaded cuDNN version 8600\n",
      "2024-04-14 04:26:55.591578: I tensorflow/core/platform/default/subprocess.cc:304] Start cannot spawn child process: No such file or directory\n"
     ]
    },
    {
     "name": "stdout",
     "output_type": "stream",
     "text": [
      "37/37 [==============================] - 8s 31ms/step - loss: 1.7840 - accuracy: 0.2769 - lr: 1.0000e-04\n",
      "Epoch 2/50\n",
      "37/37 [==============================] - 1s 26ms/step - loss: 1.7323 - accuracy: 0.2623 - lr: 0.0011\n",
      "Epoch 3/50\n",
      "37/37 [==============================] - 1s 26ms/step - loss: 1.6493 - accuracy: 0.3018 - lr: 0.0021\n",
      "Epoch 4/50\n",
      "37/37 [==============================] - 1s 26ms/step - loss: 1.5223 - accuracy: 0.3233 - lr: 0.0031\n",
      "Epoch 5/50\n",
      "37/37 [==============================] - 1s 26ms/step - loss: 1.4524 - accuracy: 0.3482 - lr: 0.0041\n",
      "Epoch 6/50\n",
      "37/37 [==============================] - 1s 26ms/step - loss: 1.4326 - accuracy: 0.3543 - lr: 0.0050\n",
      "Epoch 7/50\n",
      "37/37 [==============================] - 1s 26ms/step - loss: 1.3792 - accuracy: 0.3568 - lr: 0.0060\n",
      "Epoch 8/50\n",
      "37/37 [==============================] - 1s 26ms/step - loss: 1.3253 - accuracy: 0.4050 - lr: 0.0070\n",
      "Epoch 9/50\n",
      "37/37 [==============================] - 1s 26ms/step - loss: 1.3668 - accuracy: 0.3749 - lr: 0.0080\n",
      "Epoch 10/50\n",
      "37/37 [==============================] - 1s 26ms/step - loss: 1.3671 - accuracy: 0.3878 - lr: 0.0090\n",
      "Epoch 11/50\n",
      "37/37 [==============================] - 1s 26ms/step - loss: 1.3324 - accuracy: 0.3758 - lr: 0.0100\n",
      "Epoch 12/50\n",
      "37/37 [==============================] - 1s 26ms/step - loss: 1.3474 - accuracy: 0.3818 - lr: 0.0090\n",
      "Epoch 13/50\n",
      "37/37 [==============================] - 1s 26ms/step - loss: 1.3198 - accuracy: 0.4007 - lr: 0.0080\n",
      "Epoch 14/50\n",
      "37/37 [==============================] - 1s 25ms/step - loss: 1.2930 - accuracy: 0.3852 - lr: 0.0070\n",
      "Epoch 15/50\n",
      "37/37 [==============================] - 1s 26ms/step - loss: 1.2678 - accuracy: 0.4127 - lr: 0.0060\n",
      "Epoch 16/50\n",
      "37/37 [==============================] - 1s 26ms/step - loss: 1.2712 - accuracy: 0.4196 - lr: 0.0050\n",
      "Epoch 17/50\n",
      "37/37 [==============================] - 1s 26ms/step - loss: 1.2304 - accuracy: 0.4213 - lr: 0.0041\n",
      "Epoch 18/50\n",
      "37/37 [==============================] - 1s 25ms/step - loss: 1.2229 - accuracy: 0.4222 - lr: 0.0031\n",
      "Epoch 19/50\n",
      "37/37 [==============================] - 1s 26ms/step - loss: 1.1942 - accuracy: 0.4824 - lr: 0.0021\n",
      "Epoch 20/50\n",
      "37/37 [==============================] - 1s 26ms/step - loss: 1.2019 - accuracy: 0.4609 - lr: 0.0011\n",
      "Epoch 21/50\n",
      "37/37 [==============================] - 1s 26ms/step - loss: 1.1909 - accuracy: 0.4402 - lr: 1.0000e-04\n",
      "Epoch 22/50\n",
      "37/37 [==============================] - 1s 26ms/step - loss: 1.1769 - accuracy: 0.4445 - lr: 0.0011\n",
      "Epoch 23/50\n",
      "37/37 [==============================] - 1s 25ms/step - loss: 1.1831 - accuracy: 0.4600 - lr: 0.0021\n",
      "Epoch 24/50\n",
      "37/37 [==============================] - 1s 26ms/step - loss: 1.1921 - accuracy: 0.4643 - lr: 0.0031\n",
      "Epoch 25/50\n",
      "37/37 [==============================] - 1s 25ms/step - loss: 1.1996 - accuracy: 0.4540 - lr: 0.0041\n",
      "Epoch 26/50\n",
      "37/37 [==============================] - 1s 26ms/step - loss: 1.1775 - accuracy: 0.4815 - lr: 0.0050\n",
      "Epoch 27/50\n",
      "37/37 [==============================] - 1s 26ms/step - loss: 1.1923 - accuracy: 0.4617 - lr: 0.0060\n",
      "Epoch 28/50\n",
      "37/37 [==============================] - 1s 26ms/step - loss: 1.2175 - accuracy: 0.4273 - lr: 0.0070\n",
      "Epoch 29/50\n",
      "37/37 [==============================] - 1s 26ms/step - loss: 1.2344 - accuracy: 0.4506 - lr: 0.0080\n",
      "Epoch 30/50\n",
      "37/37 [==============================] - 1s 26ms/step - loss: 1.2261 - accuracy: 0.4411 - lr: 0.0090\n",
      "Epoch 31/50\n",
      "37/37 [==============================] - 1s 25ms/step - loss: 1.2864 - accuracy: 0.4127 - lr: 0.0100\n",
      "Epoch 32/50\n",
      "37/37 [==============================] - 1s 26ms/step - loss: 1.2362 - accuracy: 0.4566 - lr: 0.0090\n",
      "Epoch 33/50\n",
      "37/37 [==============================] - 1s 26ms/step - loss: 1.2099 - accuracy: 0.4557 - lr: 0.0080\n",
      "Epoch 34/50\n",
      "37/37 [==============================] - 1s 27ms/step - loss: 1.2296 - accuracy: 0.4368 - lr: 0.0070\n",
      "Epoch 35/50\n",
      "37/37 [==============================] - 1s 26ms/step - loss: 1.2103 - accuracy: 0.4523 - lr: 0.0060\n",
      "Epoch 36/50\n",
      "37/37 [==============================] - 1s 26ms/step - loss: 1.1882 - accuracy: 0.4617 - lr: 0.0050\n",
      "Epoch 37/50\n",
      "37/37 [==============================] - 1s 26ms/step - loss: 1.1859 - accuracy: 0.4660 - lr: 0.0041\n",
      "Epoch 38/50\n",
      "37/37 [==============================] - 1s 26ms/step - loss: 1.1691 - accuracy: 0.4789 - lr: 0.0031\n",
      "Epoch 39/50\n",
      "37/37 [==============================] - 1s 26ms/step - loss: 1.1736 - accuracy: 0.4660 - lr: 0.0021\n",
      "Epoch 40/50\n",
      "37/37 [==============================] - 1s 26ms/step - loss: 1.1374 - accuracy: 0.4901 - lr: 0.0011\n",
      "Epoch 41/50\n",
      "37/37 [==============================] - 1s 26ms/step - loss: 1.1501 - accuracy: 0.4755 - lr: 1.0000e-04\n",
      "Epoch 42/50\n",
      "37/37 [==============================] - 1s 25ms/step - loss: 1.1399 - accuracy: 0.4996 - lr: 0.0011\n",
      "Epoch 43/50\n",
      "37/37 [==============================] - 1s 26ms/step - loss: 1.1436 - accuracy: 0.4807 - lr: 0.0021\n",
      "Epoch 44/50\n",
      "37/37 [==============================] - 1s 25ms/step - loss: 1.1294 - accuracy: 0.4832 - lr: 0.0031\n",
      "Epoch 45/50\n",
      "37/37 [==============================] - 1s 26ms/step - loss: 1.1625 - accuracy: 0.4824 - lr: 0.0041\n",
      "Epoch 46/50\n",
      "37/37 [==============================] - 1s 26ms/step - loss: 1.1791 - accuracy: 0.4738 - lr: 0.0050\n",
      "Epoch 47/50\n",
      "37/37 [==============================] - 1s 26ms/step - loss: 1.1708 - accuracy: 0.4617 - lr: 0.0060\n",
      "Epoch 48/50\n",
      "37/37 [==============================] - 1s 26ms/step - loss: 1.1842 - accuracy: 0.4480 - lr: 0.0070\n",
      "Epoch 49/50\n",
      "37/37 [==============================] - 1s 26ms/step - loss: 1.1477 - accuracy: 0.4772 - lr: 0.0080\n",
      "Epoch 50/50\n",
      "37/37 [==============================] - 1s 26ms/step - loss: 1.2160 - accuracy: 0.4540 - lr: 0.0090\n"
     ]
    },
    {
     "data": {
      "text/plain": [
       "<keras.callbacks.History at 0x7f45a283d960>"
      ]
     },
     "execution_count": 13,
     "metadata": {},
     "output_type": "execute_result"
    }
   ],
   "source": [
    "model.compile(\n",
    "    optimizer=optimizer, loss=\"sparse_categorical_crossentropy\", metrics=[\"accuracy\"]\n",
    ")\n",
    "\n",
    "print(\"Fitting the top layer of the model\")\n",
    "model.fit(\n",
    "    X_train,\n",
    "    y_train,\n",
    "    epochs=epochs,\n",
    "    batch_size=32,\n",
    "    class_weight=class_weight_dict,\n",
    "    callbacks=[lr_scheduler],\n",
    ")"
   ]
  },
  {
   "cell_type": "markdown",
   "metadata": {},
   "source": [
    "> Fine tuning: unfreeze all or part of the base model and retrain the whole model end-to-end with a very low learning rate."
   ]
  },
  {
   "cell_type": "code",
   "execution_count": 14,
   "metadata": {},
   "outputs": [
    {
     "name": "stdout",
     "output_type": "stream",
     "text": [
      "Model: \"model\"\n",
      "____________________________________________________________________________\n",
      " Layer (type)                Output Shape              Param #   Trainable  \n",
      "============================================================================\n",
      " input_2 (InputLayer)        [(None, 224, 224, 3)]     0         Y          \n",
      "                                                                            \n",
      " efficientnetb0 (Functional)  (None, 1280)             4049571   Y          \n",
      "                                                                            \n",
      " dropout (Dropout)           (None, 1280)              0         Y          \n",
      "                                                                            \n",
      " dense (Dense)               (None, 1000)              1281000   Y          \n",
      "                                                                            \n",
      " dropout_1 (Dropout)         (None, 1000)              0         Y          \n",
      "                                                                            \n",
      " dense_1 (Dense)             (None, 500)               500500    Y          \n",
      "                                                                            \n",
      " dense_2 (Dense)             (None, 4)                 2004      Y          \n",
      "                                                                            \n",
      "============================================================================\n",
      "Total params: 5,833,075\n",
      "Trainable params: 5,791,052\n",
      "Non-trainable params: 42,023\n",
      "____________________________________________________________________________\n",
      "Fitting the end-to-end model\n",
      "Epoch 1/50\n",
      "37/37 [==============================] - 18s 96ms/step - loss: 1.1924 - accuracy: 0.4213 - lr: 1.0000e-04\n",
      "Epoch 2/50\n",
      "37/37 [==============================] - 3s 89ms/step - loss: 1.1783 - accuracy: 0.4798 - lr: 0.0011\n",
      "Epoch 3/50\n",
      "37/37 [==============================] - 3s 89ms/step - loss: 1.1570 - accuracy: 0.4798 - lr: 0.0021\n",
      "Epoch 4/50\n",
      "37/37 [==============================] - 3s 89ms/step - loss: 1.1438 - accuracy: 0.4652 - lr: 0.0031\n",
      "Epoch 5/50\n",
      "37/37 [==============================] - 3s 89ms/step - loss: 1.1559 - accuracy: 0.4549 - lr: 0.0041\n",
      "Epoch 6/50\n",
      "37/37 [==============================] - 3s 89ms/step - loss: 1.1087 - accuracy: 0.4953 - lr: 0.0050\n",
      "Epoch 7/50\n",
      "37/37 [==============================] - 3s 90ms/step - loss: 1.0976 - accuracy: 0.4721 - lr: 0.0060\n",
      "Epoch 8/50\n",
      "37/37 [==============================] - 3s 89ms/step - loss: 1.1122 - accuracy: 0.4798 - lr: 0.0070\n",
      "Epoch 9/50\n",
      "37/37 [==============================] - 3s 89ms/step - loss: 1.0133 - accuracy: 0.5202 - lr: 0.0080\n",
      "Epoch 10/50\n",
      "37/37 [==============================] - 3s 89ms/step - loss: 1.1093 - accuracy: 0.5082 - lr: 0.0090\n",
      "Epoch 11/50\n",
      "37/37 [==============================] - 3s 89ms/step - loss: 1.1928 - accuracy: 0.3955 - lr: 0.0100\n",
      "Epoch 12/50\n",
      "37/37 [==============================] - 3s 90ms/step - loss: 1.0959 - accuracy: 0.4858 - lr: 0.0090\n",
      "Epoch 13/50\n",
      "37/37 [==============================] - 3s 89ms/step - loss: 1.0335 - accuracy: 0.5219 - lr: 0.0080\n",
      "Epoch 14/50\n",
      "37/37 [==============================] - 3s 89ms/step - loss: 0.9334 - accuracy: 0.5881 - lr: 0.0070\n",
      "Epoch 15/50\n",
      "37/37 [==============================] - 3s 90ms/step - loss: 0.8681 - accuracy: 0.6320 - lr: 0.0060\n",
      "Epoch 16/50\n",
      "37/37 [==============================] - 3s 88ms/step - loss: 0.7606 - accuracy: 0.6655 - lr: 0.0050\n",
      "Epoch 17/50\n",
      "37/37 [==============================] - 3s 89ms/step - loss: 0.6677 - accuracy: 0.6844 - lr: 0.0041\n",
      "Epoch 18/50\n",
      "37/37 [==============================] - 3s 88ms/step - loss: 0.5699 - accuracy: 0.7610 - lr: 0.0031\n",
      "Epoch 19/50\n",
      "37/37 [==============================] - 3s 89ms/step - loss: 0.4762 - accuracy: 0.8057 - lr: 0.0021\n",
      "Epoch 20/50\n",
      "37/37 [==============================] - 3s 89ms/step - loss: 0.3373 - accuracy: 0.8710 - lr: 0.0011\n",
      "Epoch 21/50\n",
      "37/37 [==============================] - 3s 89ms/step - loss: 0.2424 - accuracy: 0.9183 - lr: 1.0000e-04\n",
      "Epoch 22/50\n",
      "37/37 [==============================] - 3s 89ms/step - loss: 0.2305 - accuracy: 0.9106 - lr: 0.0011\n",
      "Epoch 23/50\n",
      "37/37 [==============================] - 3s 89ms/step - loss: 0.2136 - accuracy: 0.9252 - lr: 0.0021\n",
      "Epoch 24/50\n",
      "37/37 [==============================] - 3s 89ms/step - loss: 0.2043 - accuracy: 0.9295 - lr: 0.0031\n",
      "Epoch 25/50\n",
      "37/37 [==============================] - 3s 89ms/step - loss: 0.2370 - accuracy: 0.9097 - lr: 0.0041\n",
      "Epoch 26/50\n",
      "37/37 [==============================] - 3s 89ms/step - loss: 0.5087 - accuracy: 0.7885 - lr: 0.0050\n",
      "Epoch 27/50\n",
      "37/37 [==============================] - 3s 89ms/step - loss: 0.4449 - accuracy: 0.8246 - lr: 0.0060\n",
      "Epoch 28/50\n",
      "37/37 [==============================] - 3s 88ms/step - loss: 0.3620 - accuracy: 0.8702 - lr: 0.0070\n",
      "Epoch 29/50\n",
      "37/37 [==============================] - 3s 90ms/step - loss: 0.5866 - accuracy: 0.7369 - lr: 0.0080\n",
      "Epoch 30/50\n",
      "37/37 [==============================] - 3s 89ms/step - loss: 0.4864 - accuracy: 0.8100 - lr: 0.0090\n",
      "Epoch 31/50\n",
      "37/37 [==============================] - 3s 88ms/step - loss: 0.5669 - accuracy: 0.7997 - lr: 0.0100\n",
      "Epoch 32/50\n",
      "37/37 [==============================] - 3s 88ms/step - loss: 0.4791 - accuracy: 0.8117 - lr: 0.0090\n",
      "Epoch 33/50\n",
      "37/37 [==============================] - 3s 90ms/step - loss: 0.3517 - accuracy: 0.8607 - lr: 0.0080\n",
      "Epoch 34/50\n",
      "37/37 [==============================] - 3s 89ms/step - loss: 0.3775 - accuracy: 0.8564 - lr: 0.0070\n",
      "Epoch 35/50\n",
      "37/37 [==============================] - 3s 89ms/step - loss: 0.1496 - accuracy: 0.9484 - lr: 0.0060\n",
      "Epoch 36/50\n",
      "37/37 [==============================] - 3s 89ms/step - loss: 0.0786 - accuracy: 0.9802 - lr: 0.0050\n",
      "Epoch 37/50\n",
      "37/37 [==============================] - 3s 88ms/step - loss: 0.0425 - accuracy: 0.9871 - lr: 0.0041\n",
      "Epoch 38/50\n",
      "37/37 [==============================] - 3s 89ms/step - loss: 0.0186 - accuracy: 0.9957 - lr: 0.0031\n",
      "Epoch 39/50\n",
      "37/37 [==============================] - 3s 89ms/step - loss: 0.0067 - accuracy: 0.9974 - lr: 0.0021\n",
      "Epoch 40/50\n",
      "37/37 [==============================] - 3s 89ms/step - loss: 0.0023 - accuracy: 1.0000 - lr: 0.0011\n",
      "Epoch 41/50\n",
      "37/37 [==============================] - 3s 89ms/step - loss: 0.0014 - accuracy: 1.0000 - lr: 1.0000e-04\n",
      "Epoch 42/50\n",
      "37/37 [==============================] - 3s 89ms/step - loss: 9.6466e-04 - accuracy: 1.0000 - lr: 0.0011\n",
      "Epoch 43/50\n",
      "37/37 [==============================] - 3s 89ms/step - loss: 0.0017 - accuracy: 1.0000 - lr: 0.0021\n",
      "Epoch 44/50\n",
      "37/37 [==============================] - 3s 90ms/step - loss: 8.3238e-04 - accuracy: 1.0000 - lr: 0.0031\n",
      "Epoch 45/50\n",
      "37/37 [==============================] - 3s 89ms/step - loss: 4.7567e-04 - accuracy: 1.0000 - lr: 0.0041\n",
      "Epoch 46/50\n",
      "37/37 [==============================] - 3s 92ms/step - loss: 4.6105e-04 - accuracy: 1.0000 - lr: 0.0050\n",
      "Epoch 47/50\n",
      "37/37 [==============================] - 3s 89ms/step - loss: 4.3377e-04 - accuracy: 1.0000 - lr: 0.0060\n",
      "Epoch 48/50\n",
      "37/37 [==============================] - 3s 89ms/step - loss: 3.0058e-04 - accuracy: 1.0000 - lr: 0.0070\n",
      "Epoch 49/50\n",
      "37/37 [==============================] - 3s 88ms/step - loss: 1.8611e-04 - accuracy: 1.0000 - lr: 0.0080\n",
      "Epoch 50/50\n",
      "37/37 [==============================] - 3s 88ms/step - loss: 1.5393e-04 - accuracy: 1.0000 - lr: 0.0090\n"
     ]
    },
    {
     "data": {
      "text/plain": [
       "<keras.callbacks.History at 0x7f45754aa1d0>"
      ]
     },
     "execution_count": 14,
     "metadata": {},
     "output_type": "execute_result"
    }
   ],
   "source": [
    "from tensorflow.keras.callbacks import EarlyStopping, ModelCheckpoint\n",
    "\n",
    "# Unfreeze the base model\n",
    "base_model.trainable = True\n",
    "model.summary(show_trainable=True)\n",
    "\n",
    "# Re-instantiate the optimizer\n",
    "optimizer = SGD(learning_rate=base_learning_rate, momentum=0.9, clipnorm=1.0)\n",
    "\n",
    "model.compile(\n",
    "    optimizer=optimizer, loss=\"sparse_categorical_crossentropy\", metrics=[\"accuracy\"]\n",
    ")\n",
    "\n",
    "print(\"Fitting the end-to-end model\")\n",
    "# Train end-to-end. Stop before overfit\n",
    "model.fit(\n",
    "    X_train,\n",
    "    y_train,\n",
    "    epochs=epochs,\n",
    "    batch_size=32,\n",
    "    class_weight=class_weight_dict,\n",
    "    callbacks=[lr_scheduler],\n",
    ")"
   ]
  },
  {
   "cell_type": "markdown",
   "metadata": {},
   "source": [
    "> Evaluate on test data"
   ]
  },
  {
   "cell_type": "code",
   "execution_count": 15,
   "metadata": {},
   "outputs": [],
   "source": [
    "# model.save(\"my_model.keras\")"
   ]
  },
  {
   "cell_type": "code",
   "execution_count": 16,
   "metadata": {},
   "outputs": [
    {
     "name": "stdout",
     "output_type": "stream",
     "text": [
      "Test dataset evaluation\n"
     ]
    },
    {
     "name": "stdout",
     "output_type": "stream",
     "text": [
      "1/1 [==============================] - 2s 2s/step - loss: 2.9535 - accuracy: 0.6250\n"
     ]
    },
    {
     "data": {
      "text/plain": [
       "[2.953517198562622, 0.625]"
      ]
     },
     "execution_count": 16,
     "metadata": {},
     "output_type": "execute_result"
    }
   ],
   "source": [
    "print(\"Test dataset evaluation\")\n",
    "model.evaluate(X_test, y_test)"
   ]
  }
 ],
 "metadata": {
  "kernelspec": {
   "display_name": "Python 3",
   "language": "python",
   "name": "python3"
  },
  "language_info": {
   "codemirror_mode": {
    "name": "ipython",
    "version": 3
   },
   "file_extension": ".py",
   "mimetype": "text/x-python",
   "name": "python",
   "nbconvert_exporter": "python",
   "pygments_lexer": "ipython3",
   "version": "3.10.12"
  }
 },
 "nbformat": 4,
 "nbformat_minor": 2
}
