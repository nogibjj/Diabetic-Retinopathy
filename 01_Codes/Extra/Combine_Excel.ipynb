{
 "cells": [
  {
   "cell_type": "markdown",
   "metadata": {},
   "source": [
    "To Combine the Different Excel Files into a Single DataFrame for easier analysis in later stages"
   ]
  },
  {
   "cell_type": "code",
   "execution_count": 1,
   "metadata": {},
   "outputs": [],
   "source": [
    "# Importing the necessary libraries\n",
    "import pandas as pd\n",
    "import os"
   ]
  },
  {
   "cell_type": "markdown",
   "metadata": {},
   "source": [
    "### Identifying the Files"
   ]
  },
  {
   "cell_type": "code",
   "execution_count": 2,
   "metadata": {},
   "outputs": [],
   "source": [
    "# Setting the Path to the Excel Files\n",
    "path = \"/Users/revanth/Downloads/Messidor/\""
   ]
  },
  {
   "cell_type": "code",
   "execution_count": 3,
   "metadata": {},
   "outputs": [
    {
     "data": {
      "text/plain": [
       "['Annotation_Base33.xls',\n",
       " 'Annotation_Base32.xls',\n",
       " 'Annotation_Base24.xls',\n",
       " 'Annotation_Base31.xls',\n",
       " 'Annotation_Base21.xls',\n",
       " '.DS_Store',\n",
       " 'Annotation_Base34.xls',\n",
       " 'Annotation_Base22.xls',\n",
       " 'Annotation_Base23.xls',\n",
       " 'Base31',\n",
       " 'Base11.zip',\n",
       " 'Base12.zip',\n",
       " 'Base13.zip',\n",
       " 'Base14.zip',\n",
       " 'Base24.zip',\n",
       " 'Base31.zip',\n",
       " 'Base33.zip',\n",
       " 'Base32.zip',\n",
       " 'Base11',\n",
       " 'Base22.zip',\n",
       " 'Base23.zip',\n",
       " 'Base21',\n",
       " 'Base21.zip',\n",
       " 'Base34.zip',\n",
       " 'Annotation_Base12.xls',\n",
       " 'Annotation_Base13.xls',\n",
       " 'Annotation_Base11.xls',\n",
       " 'Annotation_Base14.xls']"
      ]
     },
     "execution_count": 3,
     "metadata": {},
     "output_type": "execute_result"
    }
   ],
   "source": [
    "# View all the files in the directory\n",
    "files = os.listdir(path)\n",
    "files"
   ]
  },
  {
   "cell_type": "code",
   "execution_count": 4,
   "metadata": {},
   "outputs": [],
   "source": [
    "# Keeping only the Excel Files\n",
    "files = [f for f in files if f.startswith(\"Annotation\") and f.endswith(\".xls\")]\n",
    "\n",
    "# verify that we have 12 files\n",
    "assert len(files) == 12"
   ]
  },
  {
   "cell_type": "markdown",
   "metadata": {},
   "source": [
    "### Reading Files"
   ]
  },
  {
   "cell_type": "code",
   "execution_count": 5,
   "metadata": {},
   "outputs": [],
   "source": [
    "# We will now read the Excel Files\n",
    "dfs = []\n",
    "for f in files:\n",
    "    data = pd.read_excel(path + f)\n",
    "    dfs.append(data)\n",
    "\n",
    "# Concatenate all the DataFrames\n",
    "df = pd.concat(dfs, ignore_index=True)"
   ]
  },
  {
   "cell_type": "code",
   "execution_count": 6,
   "metadata": {},
   "outputs": [
    {
     "data": {
      "text/html": [
       "<div>\n",
       "<style scoped>\n",
       "    .dataframe tbody tr th:only-of-type {\n",
       "        vertical-align: middle;\n",
       "    }\n",
       "\n",
       "    .dataframe tbody tr th {\n",
       "        vertical-align: top;\n",
       "    }\n",
       "\n",
       "    .dataframe thead th {\n",
       "        text-align: right;\n",
       "    }\n",
       "</style>\n",
       "<table border=\"1\" class=\"dataframe\">\n",
       "  <thead>\n",
       "    <tr style=\"text-align: right;\">\n",
       "      <th></th>\n",
       "      <th>Image name</th>\n",
       "      <th>Ophthalmologic department</th>\n",
       "      <th>Retinopathy grade</th>\n",
       "      <th>Risk of macular edema</th>\n",
       "    </tr>\n",
       "  </thead>\n",
       "  <tbody>\n",
       "    <tr>\n",
       "      <th>645</th>\n",
       "      <td>20060410_40381_0200_PP.tif</td>\n",
       "      <td>CHU de St Etienne</td>\n",
       "      <td>0</td>\n",
       "      <td>0</td>\n",
       "    </tr>\n",
       "    <tr>\n",
       "      <th>476</th>\n",
       "      <td>20060407_42308_0200_PP.tif</td>\n",
       "      <td>CHU de St Etienne</td>\n",
       "      <td>0</td>\n",
       "      <td>0</td>\n",
       "    </tr>\n",
       "    <tr>\n",
       "      <th>983</th>\n",
       "      <td>20060523_49191_0100_PP.tif</td>\n",
       "      <td>Service Ophtalmologie Lariboisière</td>\n",
       "      <td>0</td>\n",
       "      <td>0</td>\n",
       "    </tr>\n",
       "    <tr>\n",
       "      <th>1039</th>\n",
       "      <td>20051020_57844_0100_PP.tif</td>\n",
       "      <td>Service Ophtalmologie Lariboisière</td>\n",
       "      <td>3</td>\n",
       "      <td>1</td>\n",
       "    </tr>\n",
       "    <tr>\n",
       "      <th>482</th>\n",
       "      <td>20060407_43618_0200_PP.tif</td>\n",
       "      <td>CHU de St Etienne</td>\n",
       "      <td>0</td>\n",
       "      <td>0</td>\n",
       "    </tr>\n",
       "  </tbody>\n",
       "</table>\n",
       "</div>"
      ],
      "text/plain": [
       "                      Image name           Ophthalmologic department  \\\n",
       "645   20060410_40381_0200_PP.tif                   CHU de St Etienne   \n",
       "476   20060407_42308_0200_PP.tif                   CHU de St Etienne   \n",
       "983   20060523_49191_0100_PP.tif  Service Ophtalmologie Lariboisière   \n",
       "1039  20051020_57844_0100_PP.tif  Service Ophtalmologie Lariboisière   \n",
       "482   20060407_43618_0200_PP.tif                   CHU de St Etienne   \n",
       "\n",
       "      Retinopathy grade  Risk of macular edema   \n",
       "645                   0                       0  \n",
       "476                   0                       0  \n",
       "983                   0                       0  \n",
       "1039                  3                       1  \n",
       "482                   0                       0  "
      ]
     },
     "execution_count": 6,
     "metadata": {},
     "output_type": "execute_result"
    }
   ],
   "source": [
    "df.reset_index(drop=True, inplace=True)\n",
    "df.sample(5)"
   ]
  },
  {
   "cell_type": "markdown",
   "metadata": {},
   "source": [
    "## Sanity Checks"
   ]
  },
  {
   "cell_type": "code",
   "execution_count": 7,
   "metadata": {},
   "outputs": [],
   "source": [
    "# We should have 1200 rows\n",
    "assert df.shape[0] == 1200"
   ]
  },
  {
   "cell_type": "code",
   "execution_count": 8,
   "metadata": {},
   "outputs": [],
   "source": [
    "# Ophthlmologic Department Should have 3 unique values\n",
    "assert df[\"Ophthalmologic department\"].nunique() == 3"
   ]
  },
  {
   "cell_type": "code",
   "execution_count": 9,
   "metadata": {},
   "outputs": [],
   "source": [
    "# Image name should have no duplicates\n",
    "assert df[\"Image name\"].nunique() == df.shape[0]"
   ]
  },
  {
   "cell_type": "markdown",
   "metadata": {},
   "source": [
    "### Modifications"
   ]
  },
  {
   "cell_type": "code",
   "execution_count": 10,
   "metadata": {},
   "outputs": [],
   "source": [
    "# renaming the columns\n",
    "df.columns = [\"Image_ID\", \"Department\", \"Retinopathy_Grade\", \"Risk_of_Macular_Edema\"]"
   ]
  },
  {
   "cell_type": "code",
   "execution_count": 11,
   "metadata": {},
   "outputs": [],
   "source": [
    "# adding column to specify the data source\n",
    "df[\"Data_Source\"] = \"Messidor\""
   ]
  },
  {
   "cell_type": "markdown",
   "metadata": {},
   "source": [
    "### Saving"
   ]
  },
  {
   "cell_type": "code",
   "execution_count": 12,
   "metadata": {},
   "outputs": [],
   "source": [
    "# saving df as parquet file\n",
    "df.to_parquet(\"../../02_Data/Extra/messidor_mapping.parquet\", index=False)"
   ]
  }
 ],
 "metadata": {
  "kernelspec": {
   "display_name": "base",
   "language": "python",
   "name": "python3"
  },
  "language_info": {
   "codemirror_mode": {
    "name": "ipython",
    "version": 3
   },
   "file_extension": ".py",
   "mimetype": "text/x-python",
   "name": "python",
   "nbconvert_exporter": "python",
   "pygments_lexer": "ipython3",
   "version": "3.11.5"
  }
 },
 "nbformat": 4,
 "nbformat_minor": 2
}
