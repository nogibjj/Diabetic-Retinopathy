{
 "cells": [
  {
   "cell_type": "markdown",
   "metadata": {},
   "source": [
    "To Combine the Different Excel Files into a Single DataFrame for easier analysis in later stages"
   ]
  },
  {
   "cell_type": "code",
   "execution_count": 1,
   "metadata": {},
   "outputs": [],
   "source": [
    "# Importing the necessary libraries\n",
    "import pandas as pd\n",
    "import os\n",
    "import matplotlib.pyplot as plt\n",
    "import random"
   ]
  },
  {
   "cell_type": "code",
   "execution_count": 2,
   "metadata": {},
   "outputs": [],
   "source": [
    "# setting default configuration options\n",
    "pd.set_option(\"mode.copy_on_write\", True)\n",
    "random.seed(10)"
   ]
  },
  {
   "cell_type": "markdown",
   "metadata": {},
   "source": [
    "### Identifying the Files"
   ]
  },
  {
   "cell_type": "code",
   "execution_count": 3,
   "metadata": {},
   "outputs": [],
   "source": [
    "# Setting the Path to the Excel Files\n",
    "path = \"/Users/revanth/Downloads/Messidor/\""
   ]
  },
  {
   "cell_type": "code",
   "execution_count": 4,
   "metadata": {},
   "outputs": [
    {
     "data": {
      "text/plain": [
       "['Annotation_Base33.xls',\n",
       " 'Annotation_Base32.xls',\n",
       " 'Annotation_Base24.xls',\n",
       " 'Annotation_Base31.xls',\n",
       " 'Annotation_Base21.xls',\n",
       " '.DS_Store',\n",
       " 'Annotation_Base34.xls',\n",
       " 'Annotation_Base22.xls',\n",
       " 'Annotation_Base23.xls',\n",
       " 'Base11.zip',\n",
       " 'Base12.zip',\n",
       " 'Base13.zip',\n",
       " 'Base14.zip',\n",
       " 'Base24.zip',\n",
       " 'Base31.zip',\n",
       " 'Base33.zip',\n",
       " 'Base32.zip',\n",
       " 'Base22.zip',\n",
       " 'Base23.zip',\n",
       " 'Base21.zip',\n",
       " 'Base34.zip',\n",
       " 'Annotation_Base12.xls',\n",
       " 'Annotation_Base13.xls',\n",
       " 'Annotation_Base11.xls',\n",
       " 'Annotation_Base14.xls',\n",
       " 'temp_dir']"
      ]
     },
     "execution_count": 4,
     "metadata": {},
     "output_type": "execute_result"
    }
   ],
   "source": [
    "# View all the files in the directory\n",
    "files = os.listdir(path)\n",
    "files"
   ]
  },
  {
   "cell_type": "code",
   "execution_count": 5,
   "metadata": {},
   "outputs": [],
   "source": [
    "# Keeping only the Excel Files\n",
    "files = [f for f in files if f.startswith(\"Annotation\") and f.endswith(\".xls\")]\n",
    "\n",
    "# verify that we have 12 files\n",
    "assert len(files) == 12"
   ]
  },
  {
   "cell_type": "markdown",
   "metadata": {},
   "source": [
    "### Reading Files"
   ]
  },
  {
   "cell_type": "code",
   "execution_count": 6,
   "metadata": {},
   "outputs": [],
   "source": [
    "# We will now read the Excel Files\n",
    "dfs = []\n",
    "for f in files:\n",
    "    data = pd.read_excel(path + f)\n",
    "    dfs.append(data)\n",
    "\n",
    "# Concatenate all the DataFrames\n",
    "df = pd.concat(dfs, ignore_index=True)"
   ]
  },
  {
   "cell_type": "code",
   "execution_count": 7,
   "metadata": {},
   "outputs": [
    {
     "data": {
      "text/html": [
       "<div>\n",
       "<style scoped>\n",
       "    .dataframe tbody tr th:only-of-type {\n",
       "        vertical-align: middle;\n",
       "    }\n",
       "\n",
       "    .dataframe tbody tr th {\n",
       "        vertical-align: top;\n",
       "    }\n",
       "\n",
       "    .dataframe thead th {\n",
       "        text-align: right;\n",
       "    }\n",
       "</style>\n",
       "<table border=\"1\" class=\"dataframe\">\n",
       "  <thead>\n",
       "    <tr style=\"text-align: right;\">\n",
       "      <th></th>\n",
       "      <th>Image name</th>\n",
       "      <th>Ophthalmologic department</th>\n",
       "      <th>Retinopathy grade</th>\n",
       "      <th>Risk of macular edema</th>\n",
       "    </tr>\n",
       "  </thead>\n",
       "  <tbody>\n",
       "    <tr>\n",
       "      <th>399</th>\n",
       "      <td>20051130_54121_0400_PP.tif</td>\n",
       "      <td>LaTIM - CHU de BREST</td>\n",
       "      <td>0</td>\n",
       "      <td>0</td>\n",
       "    </tr>\n",
       "    <tr>\n",
       "      <th>844</th>\n",
       "      <td>20051214_40994_0100_PP.tif</td>\n",
       "      <td>Service Ophtalmologie Lariboisière</td>\n",
       "      <td>0</td>\n",
       "      <td>0</td>\n",
       "    </tr>\n",
       "    <tr>\n",
       "      <th>835</th>\n",
       "      <td>20051213_62705_0100_PP.tif</td>\n",
       "      <td>Service Ophtalmologie Lariboisière</td>\n",
       "      <td>3</td>\n",
       "      <td>0</td>\n",
       "    </tr>\n",
       "    <tr>\n",
       "      <th>1132</th>\n",
       "      <td>20060529_56948_0100_PP.tif</td>\n",
       "      <td>Service Ophtalmologie Lariboisière</td>\n",
       "      <td>0</td>\n",
       "      <td>0</td>\n",
       "    </tr>\n",
       "    <tr>\n",
       "      <th>122</th>\n",
       "      <td>20051130_55160_0400_PP.tif</td>\n",
       "      <td>LaTIM - CHU de BREST</td>\n",
       "      <td>0</td>\n",
       "      <td>0</td>\n",
       "    </tr>\n",
       "  </tbody>\n",
       "</table>\n",
       "</div>"
      ],
      "text/plain": [
       "                      Image name           Ophthalmologic department  \\\n",
       "399   20051130_54121_0400_PP.tif                LaTIM - CHU de BREST   \n",
       "844   20051214_40994_0100_PP.tif  Service Ophtalmologie Lariboisière   \n",
       "835   20051213_62705_0100_PP.tif  Service Ophtalmologie Lariboisière   \n",
       "1132  20060529_56948_0100_PP.tif  Service Ophtalmologie Lariboisière   \n",
       "122   20051130_55160_0400_PP.tif                LaTIM - CHU de BREST   \n",
       "\n",
       "      Retinopathy grade  Risk of macular edema   \n",
       "399                   0                       0  \n",
       "844                   0                       0  \n",
       "835                   3                       0  \n",
       "1132                  0                       0  \n",
       "122                   0                       0  "
      ]
     },
     "execution_count": 7,
     "metadata": {},
     "output_type": "execute_result"
    }
   ],
   "source": [
    "df.reset_index(drop=True, inplace=True)\n",
    "df.sample(5)"
   ]
  },
  {
   "cell_type": "markdown",
   "metadata": {},
   "source": [
    "## Sanity Checks"
   ]
  },
  {
   "cell_type": "code",
   "execution_count": 8,
   "metadata": {},
   "outputs": [],
   "source": [
    "# We should have 1200 rows\n",
    "assert df.shape[0] == 1200"
   ]
  },
  {
   "cell_type": "code",
   "execution_count": 9,
   "metadata": {},
   "outputs": [],
   "source": [
    "# Ophthlmologic Department Should have 3 unique values\n",
    "assert df[\"Ophthalmologic department\"].nunique() == 3"
   ]
  },
  {
   "cell_type": "code",
   "execution_count": 10,
   "metadata": {},
   "outputs": [],
   "source": [
    "# Image name should have no duplicates\n",
    "assert df[\"Image name\"].nunique() == df.shape[0]"
   ]
  },
  {
   "cell_type": "markdown",
   "metadata": {},
   "source": [
    "### Modifications"
   ]
  },
  {
   "cell_type": "code",
   "execution_count": 11,
   "metadata": {},
   "outputs": [],
   "source": [
    "# renaming the columns\n",
    "df.columns = [\"Image_ID\", \"Department\", \"Retinopathy_Grade\", \"Risk_of_Macular_Edema\"]"
   ]
  },
  {
   "cell_type": "code",
   "execution_count": 12,
   "metadata": {},
   "outputs": [],
   "source": [
    "# adding column to specify the data source\n",
    "df[\"Data_Source\"] = \"Messidor\""
   ]
  },
  {
   "cell_type": "code",
   "execution_count": 13,
   "metadata": {},
   "outputs": [
    {
     "data": {
      "text/html": [
       "<div>\n",
       "<style scoped>\n",
       "    .dataframe tbody tr th:only-of-type {\n",
       "        vertical-align: middle;\n",
       "    }\n",
       "\n",
       "    .dataframe tbody tr th {\n",
       "        vertical-align: top;\n",
       "    }\n",
       "\n",
       "    .dataframe thead th {\n",
       "        text-align: right;\n",
       "    }\n",
       "</style>\n",
       "<table border=\"1\" class=\"dataframe\">\n",
       "  <thead>\n",
       "    <tr style=\"text-align: right;\">\n",
       "      <th></th>\n",
       "      <th>Image_ID</th>\n",
       "      <th>Department</th>\n",
       "      <th>Retinopathy_Grade</th>\n",
       "      <th>Risk_of_Macular_Edema</th>\n",
       "      <th>Data_Source</th>\n",
       "    </tr>\n",
       "  </thead>\n",
       "  <tbody>\n",
       "    <tr>\n",
       "      <th>60</th>\n",
       "      <td>20051202_55742_0400_PP.tif</td>\n",
       "      <td>LaTIM - CHU de BREST</td>\n",
       "      <td>2</td>\n",
       "      <td>0</td>\n",
       "      <td>Messidor</td>\n",
       "    </tr>\n",
       "    <tr>\n",
       "      <th>195</th>\n",
       "      <td>20051201_38291_0400_PP.tif</td>\n",
       "      <td>LaTIM - CHU de BREST</td>\n",
       "      <td>0</td>\n",
       "      <td>0</td>\n",
       "      <td>Messidor</td>\n",
       "    </tr>\n",
       "    <tr>\n",
       "      <th>1068</th>\n",
       "      <td>20051020_64388_0100_PP.tif</td>\n",
       "      <td>Service Ophtalmologie Lariboisière</td>\n",
       "      <td>0</td>\n",
       "      <td>0</td>\n",
       "      <td>Messidor</td>\n",
       "    </tr>\n",
       "    <tr>\n",
       "      <th>80</th>\n",
       "      <td>20051205_31949_0400_PP.tif</td>\n",
       "      <td>LaTIM - CHU de BREST</td>\n",
       "      <td>3</td>\n",
       "      <td>0</td>\n",
       "      <td>Messidor</td>\n",
       "    </tr>\n",
       "    <tr>\n",
       "      <th>326</th>\n",
       "      <td>20051110_38442_0400_PP.tif</td>\n",
       "      <td>LaTIM - CHU de BREST</td>\n",
       "      <td>0</td>\n",
       "      <td>0</td>\n",
       "      <td>Messidor</td>\n",
       "    </tr>\n",
       "  </tbody>\n",
       "</table>\n",
       "</div>"
      ],
      "text/plain": [
       "                        Image_ID                          Department  \\\n",
       "60    20051202_55742_0400_PP.tif                LaTIM - CHU de BREST   \n",
       "195   20051201_38291_0400_PP.tif                LaTIM - CHU de BREST   \n",
       "1068  20051020_64388_0100_PP.tif  Service Ophtalmologie Lariboisière   \n",
       "80    20051205_31949_0400_PP.tif                LaTIM - CHU de BREST   \n",
       "326   20051110_38442_0400_PP.tif                LaTIM - CHU de BREST   \n",
       "\n",
       "      Retinopathy_Grade  Risk_of_Macular_Edema Data_Source  \n",
       "60                    2                      0    Messidor  \n",
       "195                   0                      0    Messidor  \n",
       "1068                  0                      0    Messidor  \n",
       "80                    3                      0    Messidor  \n",
       "326                   0                      0    Messidor  "
      ]
     },
     "execution_count": 13,
     "metadata": {},
     "output_type": "execute_result"
    }
   ],
   "source": [
    "# viewing the data\n",
    "df.sample(5)"
   ]
  },
  {
   "cell_type": "markdown",
   "metadata": {},
   "source": [
    "### Analysis"
   ]
  },
  {
   "cell_type": "code",
   "execution_count": 14,
   "metadata": {},
   "outputs": [
    {
     "data": {
      "image/png": "[encoded data removed]",
      "text/plain": [
       "<Figure size 500x300 with 1 Axes>"
      ]
     },
     "metadata": {},
     "output_type": "display_data"
    }
   ],
   "source": [
    "# plotting distribution of the target variable\n",
    "plt.figure(figsize=(5, 3))\n",
    "df[\"Retinopathy_Grade\"].value_counts().plot(kind=\"bar\")\n",
    "plt.title(\"Distribution of Retinopathy Grade\")\n",
    "plt.xlabel(\"Retinopathy Grade\")\n",
    "plt.ylabel(\"Frequency\")\n",
    "plt.show()"
   ]
  },
  {
   "cell_type": "code",
   "execution_count": 15,
   "metadata": {},
   "outputs": [
    {
     "data": {
      "text/plain": [
       "<Figure size 500x300 with 0 Axes>"
      ]
     },
     "metadata": {},
     "output_type": "display_data"
    },
    {
     "data": {
      "image/png": "[encoded data removed]",
      "text/plain": [
       "<Figure size 640x480 with 1 Axes>"
      ]
     },
     "metadata": {},
     "output_type": "display_data"
    }
   ],
   "source": [
    "# plotting distribution of the target variable w.r.t the department\n",
    "plt.figure(figsize=(5, 3))\n",
    "df.groupby([\"Department\", \"Retinopathy_Grade\"]).size().unstack().plot(\n",
    "    kind=\"bar\", stacked=True\n",
    ")\n",
    "plt.title(\"Distribution of Retinopathy Grade by Department\")\n",
    "plt.xlabel(\"Department\")\n",
    "plt.ylabel(\"Frequency\")\n",
    "plt.show()"
   ]
  },
  {
   "cell_type": "code",
   "execution_count": 16,
   "metadata": {},
   "outputs": [
    {
     "data": {
      "text/html": [
       "<div>\n",
       "<style scoped>\n",
       "    .dataframe tbody tr th:only-of-type {\n",
       "        vertical-align: middle;\n",
       "    }\n",
       "\n",
       "    .dataframe tbody tr th {\n",
       "        vertical-align: top;\n",
       "    }\n",
       "\n",
       "    .dataframe thead th {\n",
       "        text-align: right;\n",
       "    }\n",
       "</style>\n",
       "<table border=\"1\" class=\"dataframe\">\n",
       "  <thead>\n",
       "    <tr style=\"text-align: right;\">\n",
       "      <th></th>\n",
       "      <th>Department</th>\n",
       "      <th>Retinopathy_Grade</th>\n",
       "      <th>count</th>\n",
       "    </tr>\n",
       "  </thead>\n",
       "  <tbody>\n",
       "    <tr>\n",
       "      <th>0</th>\n",
       "      <td>CHU de St Etienne</td>\n",
       "      <td>0</td>\n",
       "      <td>186</td>\n",
       "    </tr>\n",
       "    <tr>\n",
       "      <th>1</th>\n",
       "      <td>CHU de St Etienne</td>\n",
       "      <td>1</td>\n",
       "      <td>71</td>\n",
       "    </tr>\n",
       "    <tr>\n",
       "      <th>2</th>\n",
       "      <td>CHU de St Etienne</td>\n",
       "      <td>2</td>\n",
       "      <td>91</td>\n",
       "    </tr>\n",
       "    <tr>\n",
       "      <th>3</th>\n",
       "      <td>CHU de St Etienne</td>\n",
       "      <td>3</td>\n",
       "      <td>52</td>\n",
       "    </tr>\n",
       "    <tr>\n",
       "      <th>4</th>\n",
       "      <td>LaTIM - CHU de BREST</td>\n",
       "      <td>0</td>\n",
       "      <td>209</td>\n",
       "    </tr>\n",
       "    <tr>\n",
       "      <th>5</th>\n",
       "      <td>LaTIM - CHU de BREST</td>\n",
       "      <td>1</td>\n",
       "      <td>52</td>\n",
       "    </tr>\n",
       "    <tr>\n",
       "      <th>6</th>\n",
       "      <td>LaTIM - CHU de BREST</td>\n",
       "      <td>2</td>\n",
       "      <td>86</td>\n",
       "    </tr>\n",
       "    <tr>\n",
       "      <th>7</th>\n",
       "      <td>LaTIM - CHU de BREST</td>\n",
       "      <td>3</td>\n",
       "      <td>53</td>\n",
       "    </tr>\n",
       "    <tr>\n",
       "      <th>8</th>\n",
       "      <td>Service Ophtalmologie Lariboisière</td>\n",
       "      <td>0</td>\n",
       "      <td>151</td>\n",
       "    </tr>\n",
       "    <tr>\n",
       "      <th>9</th>\n",
       "      <td>Service Ophtalmologie Lariboisière</td>\n",
       "      <td>1</td>\n",
       "      <td>30</td>\n",
       "    </tr>\n",
       "    <tr>\n",
       "      <th>10</th>\n",
       "      <td>Service Ophtalmologie Lariboisière</td>\n",
       "      <td>2</td>\n",
       "      <td>70</td>\n",
       "    </tr>\n",
       "    <tr>\n",
       "      <th>11</th>\n",
       "      <td>Service Ophtalmologie Lariboisière</td>\n",
       "      <td>3</td>\n",
       "      <td>149</td>\n",
       "    </tr>\n",
       "  </tbody>\n",
       "</table>\n",
       "</div>"
      ],
      "text/plain": [
       "                            Department  Retinopathy_Grade  count\n",
       "0                    CHU de St Etienne                  0    186\n",
       "1                    CHU de St Etienne                  1     71\n",
       "2                    CHU de St Etienne                  2     91\n",
       "3                    CHU de St Etienne                  3     52\n",
       "4                 LaTIM - CHU de BREST                  0    209\n",
       "5                 LaTIM - CHU de BREST                  1     52\n",
       "6                 LaTIM - CHU de BREST                  2     86\n",
       "7                 LaTIM - CHU de BREST                  3     53\n",
       "8   Service Ophtalmologie Lariboisière                  0    151\n",
       "9   Service Ophtalmologie Lariboisière                  1     30\n",
       "10  Service Ophtalmologie Lariboisière                  2     70\n",
       "11  Service Ophtalmologie Lariboisière                  3    149"
      ]
     },
     "execution_count": 16,
     "metadata": {},
     "output_type": "execute_result"
    }
   ],
   "source": [
    "# viewing split of Department and Retinopathy grade in Test Dataset\n",
    "df.groupby([\"Department\", \"Retinopathy_Grade\"])[\n",
    "    [\"Department\", \"Retinopathy_Grade\"]\n",
    "].value_counts().reset_index()"
   ]
  },
  {
   "cell_type": "markdown",
   "metadata": {},
   "source": [
    "### Splitting the Data"
   ]
  },
  {
   "cell_type": "markdown",
   "metadata": {},
   "source": [
    "Classess have imbalance in them, for the test dataset we will be sampling same number of samples from each class to make the tests consistent"
   ]
  },
  {
   "cell_type": "code",
   "execution_count": 17,
   "metadata": {},
   "outputs": [],
   "source": [
    "# shuffling the data\n",
    "df = df.sample(frac=1, random_state=10).reset_index(drop=True)"
   ]
  },
  {
   "cell_type": "code",
   "execution_count": 18,
   "metadata": {},
   "outputs": [],
   "source": [
    "# getting unique values from the target variable\n",
    "lst = df[\"Retinopathy_Grade\"].unique()\n",
    "lst1 = df[\"Department\"].unique()\n",
    "\n",
    "test_indexes = []\n",
    "\n",
    "req_samples = 2  # <- number of samples to be taken from each unique combination\n",
    "\n",
    "# randomly sample X sample indexes from each unique value\n",
    "for i in lst:\n",
    "    for j in lst1:\n",
    "        test_indexes.extend(\n",
    "            df[(df[\"Retinopathy_Grade\"] == i) & (df[\"Department\"] == j)]\n",
    "            .sample(req_samples)\n",
    "            .index\n",
    "        )\n",
    "\n",
    "# train indexes\n",
    "train_indexes = df.index.difference(test_indexes)"
   ]
  },
  {
   "cell_type": "code",
   "execution_count": 19,
   "metadata": {},
   "outputs": [],
   "source": [
    "# verifying that there is no overlap between the train and test indexes\n",
    "assert len(set(train_indexes).intersection(set(test_indexes))) == 0"
   ]
  },
  {
   "cell_type": "code",
   "execution_count": 20,
   "metadata": {},
   "outputs": [],
   "source": [
    "# verifying that the train and test indexes sum up to the total number of samples\n",
    "assert len(train_indexes) + len(test_indexes) == df.shape[0]"
   ]
  },
  {
   "cell_type": "code",
   "execution_count": 21,
   "metadata": {},
   "outputs": [],
   "source": [
    "# adding the split column based on the indexes\n",
    "df[\"Split\"] = \"Train\"\n",
    "df.loc[test_indexes, \"Split\"] = \"Test\""
   ]
  },
  {
   "cell_type": "markdown",
   "metadata": {},
   "source": [
    "### Visual Verification"
   ]
  },
  {
   "cell_type": "code",
   "execution_count": 22,
   "metadata": {},
   "outputs": [
    {
     "data": {
      "image/png": "[encoded data removed]",
      "text/plain": [
       "<Figure size 500x300 with 1 Axes>"
      ]
     },
     "metadata": {},
     "output_type": "display_data"
    }
   ],
   "source": [
    "# plotting distribution of the target variable in  Train Set\n",
    "plt.figure(figsize=(5, 3))\n",
    "df[df[\"Split\"] == \"Train\"][\"Retinopathy_Grade\"].value_counts().plot(kind=\"bar\")\n",
    "plt.title(\"Distribution of Retinopathy Grade in Train Set\")\n",
    "plt.xlabel(\"Retinopathy Grade\")\n",
    "plt.ylabel(\"Frequency\")\n",
    "plt.show()"
   ]
  },
  {
   "cell_type": "code",
   "execution_count": 23,
   "metadata": {},
   "outputs": [
    {
     "data": {
      "image/png": "[encoded data removed]",
      "text/plain": [
       "<Figure size 500x300 with 1 Axes>"
      ]
     },
     "metadata": {},
     "output_type": "display_data"
    }
   ],
   "source": [
    "# plotting distribution of the target variable in Test Set\n",
    "plt.figure(figsize=(5, 3))\n",
    "df[df[\"Split\"] == \"Test\"][\"Retinopathy_Grade\"].value_counts().plot(kind=\"bar\")\n",
    "plt.title(\"Distribution of Retinopathy Grade in Test Set\")\n",
    "plt.xlabel(\"Retinopathy Grade\")\n",
    "plt.ylabel(\"Frequency\")\n",
    "plt.show()"
   ]
  },
  {
   "cell_type": "code",
   "execution_count": 24,
   "metadata": {},
   "outputs": [
    {
     "data": {
      "text/plain": [
       "<Figure size 500x300 with 0 Axes>"
      ]
     },
     "metadata": {},
     "output_type": "display_data"
    },
    {
     "data": {
      "image/png": "[encoded data removed]",
      "text/plain": [
       "<Figure size 640x480 with 1 Axes>"
      ]
     },
     "metadata": {},
     "output_type": "display_data"
    }
   ],
   "source": [
    "# plotting distribution of the target variable w.r.t the department\n",
    "plt.figure(figsize=(5, 3))\n",
    "df[df[\"Split\"] == \"Test\"].groupby(\n",
    "    [\"Department\", \"Retinopathy_Grade\"]\n",
    ").size().unstack().plot(kind=\"bar\", stacked=True)\n",
    "plt.title(\"Distribution of Retinopathy Grade by Department\")\n",
    "plt.xlabel(\"Department\")\n",
    "plt.ylabel(\"Frequency\")\n",
    "plt.show()"
   ]
  },
  {
   "cell_type": "code",
   "execution_count": 25,
   "metadata": {},
   "outputs": [
    {
     "data": {
      "text/html": [
       "<div>\n",
       "<style scoped>\n",
       "    .dataframe tbody tr th:only-of-type {\n",
       "        vertical-align: middle;\n",
       "    }\n",
       "\n",
       "    .dataframe tbody tr th {\n",
       "        vertical-align: top;\n",
       "    }\n",
       "\n",
       "    .dataframe thead th {\n",
       "        text-align: right;\n",
       "    }\n",
       "</style>\n",
       "<table border=\"1\" class=\"dataframe\">\n",
       "  <thead>\n",
       "    <tr style=\"text-align: right;\">\n",
       "      <th></th>\n",
       "      <th>Department</th>\n",
       "      <th>Retinopathy_Grade</th>\n",
       "      <th>count</th>\n",
       "    </tr>\n",
       "  </thead>\n",
       "  <tbody>\n",
       "    <tr>\n",
       "      <th>0</th>\n",
       "      <td>CHU de St Etienne</td>\n",
       "      <td>0</td>\n",
       "      <td>2</td>\n",
       "    </tr>\n",
       "    <tr>\n",
       "      <th>1</th>\n",
       "      <td>CHU de St Etienne</td>\n",
       "      <td>1</td>\n",
       "      <td>2</td>\n",
       "    </tr>\n",
       "    <tr>\n",
       "      <th>2</th>\n",
       "      <td>CHU de St Etienne</td>\n",
       "      <td>2</td>\n",
       "      <td>2</td>\n",
       "    </tr>\n",
       "    <tr>\n",
       "      <th>3</th>\n",
       "      <td>CHU de St Etienne</td>\n",
       "      <td>3</td>\n",
       "      <td>2</td>\n",
       "    </tr>\n",
       "    <tr>\n",
       "      <th>4</th>\n",
       "      <td>LaTIM - CHU de BREST</td>\n",
       "      <td>0</td>\n",
       "      <td>2</td>\n",
       "    </tr>\n",
       "    <tr>\n",
       "      <th>5</th>\n",
       "      <td>LaTIM - CHU de BREST</td>\n",
       "      <td>1</td>\n",
       "      <td>2</td>\n",
       "    </tr>\n",
       "    <tr>\n",
       "      <th>6</th>\n",
       "      <td>LaTIM - CHU de BREST</td>\n",
       "      <td>2</td>\n",
       "      <td>2</td>\n",
       "    </tr>\n",
       "    <tr>\n",
       "      <th>7</th>\n",
       "      <td>LaTIM - CHU de BREST</td>\n",
       "      <td>3</td>\n",
       "      <td>2</td>\n",
       "    </tr>\n",
       "    <tr>\n",
       "      <th>8</th>\n",
       "      <td>Service Ophtalmologie Lariboisière</td>\n",
       "      <td>0</td>\n",
       "      <td>2</td>\n",
       "    </tr>\n",
       "    <tr>\n",
       "      <th>9</th>\n",
       "      <td>Service Ophtalmologie Lariboisière</td>\n",
       "      <td>1</td>\n",
       "      <td>2</td>\n",
       "    </tr>\n",
       "    <tr>\n",
       "      <th>10</th>\n",
       "      <td>Service Ophtalmologie Lariboisière</td>\n",
       "      <td>2</td>\n",
       "      <td>2</td>\n",
       "    </tr>\n",
       "    <tr>\n",
       "      <th>11</th>\n",
       "      <td>Service Ophtalmologie Lariboisière</td>\n",
       "      <td>3</td>\n",
       "      <td>2</td>\n",
       "    </tr>\n",
       "  </tbody>\n",
       "</table>\n",
       "</div>"
      ],
      "text/plain": [
       "                            Department  Retinopathy_Grade  count\n",
       "0                    CHU de St Etienne                  0      2\n",
       "1                    CHU de St Etienne                  1      2\n",
       "2                    CHU de St Etienne                  2      2\n",
       "3                    CHU de St Etienne                  3      2\n",
       "4                 LaTIM - CHU de BREST                  0      2\n",
       "5                 LaTIM - CHU de BREST                  1      2\n",
       "6                 LaTIM - CHU de BREST                  2      2\n",
       "7                 LaTIM - CHU de BREST                  3      2\n",
       "8   Service Ophtalmologie Lariboisière                  0      2\n",
       "9   Service Ophtalmologie Lariboisière                  1      2\n",
       "10  Service Ophtalmologie Lariboisière                  2      2\n",
       "11  Service Ophtalmologie Lariboisière                  3      2"
      ]
     },
     "execution_count": 25,
     "metadata": {},
     "output_type": "execute_result"
    }
   ],
   "source": [
    "# viewing split of Department and Retinopathy grade in Test Dataset\n",
    "df[df[\"Split\"] == \"Test\"].groupby([\"Department\", \"Retinopathy_Grade\"])[\n",
    "    [\"Department\", \"Retinopathy_Grade\"]\n",
    "].value_counts().reset_index()"
   ]
  },
  {
   "cell_type": "code",
   "execution_count": 26,
   "metadata": {},
   "outputs": [
    {
     "data": {
      "text/html": [
       "<div>\n",
       "<style scoped>\n",
       "    .dataframe tbody tr th:only-of-type {\n",
       "        vertical-align: middle;\n",
       "    }\n",
       "\n",
       "    .dataframe tbody tr th {\n",
       "        vertical-align: top;\n",
       "    }\n",
       "\n",
       "    .dataframe thead th {\n",
       "        text-align: right;\n",
       "    }\n",
       "</style>\n",
       "<table border=\"1\" class=\"dataframe\">\n",
       "  <thead>\n",
       "    <tr style=\"text-align: right;\">\n",
       "      <th></th>\n",
       "      <th>Image_ID</th>\n",
       "      <th>Department</th>\n",
       "      <th>Retinopathy_Grade</th>\n",
       "      <th>Risk_of_Macular_Edema</th>\n",
       "      <th>Data_Source</th>\n",
       "      <th>Split</th>\n",
       "    </tr>\n",
       "  </thead>\n",
       "  <tbody>\n",
       "    <tr>\n",
       "      <th>419</th>\n",
       "      <td>20060412_52520_0200_PP.tif</td>\n",
       "      <td>CHU de St Etienne</td>\n",
       "      <td>3</td>\n",
       "      <td>0</td>\n",
       "      <td>Messidor</td>\n",
       "      <td>Train</td>\n",
       "    </tr>\n",
       "    <tr>\n",
       "      <th>988</th>\n",
       "      <td>20060412_51932_0200_PP.tif</td>\n",
       "      <td>CHU de St Etienne</td>\n",
       "      <td>2</td>\n",
       "      <td>0</td>\n",
       "      <td>Messidor</td>\n",
       "      <td>Train</td>\n",
       "    </tr>\n",
       "    <tr>\n",
       "      <th>296</th>\n",
       "      <td>20060523_45389_0100_PP.tif</td>\n",
       "      <td>Service Ophtalmologie Lariboisière</td>\n",
       "      <td>2</td>\n",
       "      <td>2</td>\n",
       "      <td>Messidor</td>\n",
       "      <td>Train</td>\n",
       "    </tr>\n",
       "    <tr>\n",
       "      <th>687</th>\n",
       "      <td>20051021_39914_0100_PP.tif</td>\n",
       "      <td>Service Ophtalmologie Lariboisière</td>\n",
       "      <td>0</td>\n",
       "      <td>0</td>\n",
       "      <td>Messidor</td>\n",
       "      <td>Test</td>\n",
       "    </tr>\n",
       "    <tr>\n",
       "      <th>86</th>\n",
       "      <td>20060412_51952_0200_PP.tif</td>\n",
       "      <td>CHU de St Etienne</td>\n",
       "      <td>3</td>\n",
       "      <td>2</td>\n",
       "      <td>Messidor</td>\n",
       "      <td>Train</td>\n",
       "    </tr>\n",
       "  </tbody>\n",
       "</table>\n",
       "</div>"
      ],
      "text/plain": [
       "                       Image_ID                          Department  \\\n",
       "419  20060412_52520_0200_PP.tif                   CHU de St Etienne   \n",
       "988  20060412_51932_0200_PP.tif                   CHU de St Etienne   \n",
       "296  20060523_45389_0100_PP.tif  Service Ophtalmologie Lariboisière   \n",
       "687  20051021_39914_0100_PP.tif  Service Ophtalmologie Lariboisière   \n",
       "86   20060412_51952_0200_PP.tif                   CHU de St Etienne   \n",
       "\n",
       "     Retinopathy_Grade  Risk_of_Macular_Edema Data_Source  Split  \n",
       "419                  3                      0    Messidor  Train  \n",
       "988                  2                      0    Messidor  Train  \n",
       "296                  2                      2    Messidor  Train  \n",
       "687                  0                      0    Messidor   Test  \n",
       "86                   3                      2    Messidor  Train  "
      ]
     },
     "execution_count": 26,
     "metadata": {},
     "output_type": "execute_result"
    }
   ],
   "source": [
    "# viewing the data\n",
    "df.sample(5)"
   ]
  },
  {
   "cell_type": "markdown",
   "metadata": {},
   "source": [
    "### Saving"
   ]
  },
  {
   "cell_type": "code",
   "execution_count": 27,
   "metadata": {},
   "outputs": [],
   "source": [
    "# saving df as parquet file\n",
    "\n",
    "df.to_parquet(\"../02_Data/Extra/messidor_combine.parquet\", index=False)"
   ]
  }
 ],
 "metadata": {
  "kernelspec": {
   "display_name": "base",
   "language": "python",
   "name": "python3"
  },
  "language_info": {
   "codemirror_mode": {
    "name": "ipython",
    "version": 3
   },
   "file_extension": ".py",
   "mimetype": "text/x-python",
   "name": "python",
   "nbconvert_exporter": "python",
   "pygments_lexer": "ipython3",
   "version": "3.11.5"
  }
 },
 "nbformat": 4,
 "nbformat_minor": 2
}
